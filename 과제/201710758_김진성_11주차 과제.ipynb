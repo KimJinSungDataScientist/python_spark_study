{
 "cells": [
  {
   "cell_type": "code",
   "execution_count": 1,
   "id": "874bf986",
   "metadata": {},
   "outputs": [],
   "source": [
    "from sklearn.datasets import make_blobs\n",
    "\n",
    "X, y = make_blobs(n_samples=100, centers=4, cluster_std=0.60, random_state=0)"
   ]
  },
  {
   "cell_type": "code",
   "execution_count": 2,
   "id": "bf5e028c",
   "metadata": {},
   "outputs": [],
   "source": [
    "def normDist(x1, x2):\n",
    "    #dist=np.sqrt(sum(np.power(x1 - x2, 2))) #36.406001444695193\n",
    "    dist = np.linalg.norm(x1 - x2) #36.406001444695193\n",
    "    return dist"
   ]
  },
  {
   "cell_type": "markdown",
   "id": "3d25c235",
   "metadata": {},
   "source": [
    "## 3번째 라인의 clusterAssigned = np.zeros(shape=(row, k), dtype=float)를 k->2로 수정해 주었습니다.\n",
    "## 저희가 넣는 데이터는 클러스터의 개수는 4개지만, 데이터의 형태는 row x 2이기 때문입니다."
   ]
  },
  {
   "cell_type": "code",
   "execution_count": 3,
   "id": "b972bf74",
   "metadata": {},
   "outputs": [],
   "source": [
    "def cluster(x, k, centroids):\n",
    "    row, col = x.shape\n",
    "    clusterAssigned = np.zeros(shape=(row, 2), dtype=float)\n",
    "    # print (clusterAssigned)\n",
    "    clusterUpdated=True\n",
    "    iter = 1\n",
    "    while(clusterUpdated):\n",
    "        print (\"\\n\\n====== Iteration {} ======\".format(iter))\n",
    "        # STEP 1: assign to closer cluster\n",
    "        for i in range(row):\n",
    "            minDist = np.inf   # set arbitray max to minDist\n",
    "            minIndex = -1      # set arbitray index to minIndex\n",
    "            # compute distance and assign to closer cluster\n",
    "            for j in range(k):\n",
    "                # distance from centroids[j] to x[0]\n",
    "                distJI = normDist(centroids[j], x[i])\n",
    "                # print (\"Distance {:.3f} between {} and {}\".format(distJI, centroids[j], x[i]))\n",
    "                # pick the closest centroid\n",
    "                if distJI < minDist:\n",
    "                    minDist = distJI\n",
    "                    minIndex = j\n",
    "            clusterAssigned[i] = [minIndex, minDist]   #-----changed\n",
    "        # STEP 2: update centroids\n",
    "        _centroids=np.zeros(shape = (k, x.shape[1]), dtype=float)\n",
    "        for cent in range(k):\n",
    "            # read data by index and average them\n",
    "            _centroids[cent] = np.mean(x[clusterAssigned[:,0]==cent],axis=0)\n",
    "        # print (\"Centroids updated: \\n\", _centroids)\n",
    "        # STEP 3: see if centroids is updated. STOP if NOT updated\n",
    "        comparison = np.equal(centroids, _centroids) # np.isclose() in case some tolerence is required\n",
    "        if(comparison.all() == True):\n",
    "            print (\"\\n.....NOT Updating Centroids\\n {} => \\n{}\".format(centroids, _centroids))\n",
    "            clusterUpdated = False\n",
    "            return centroids, clusterAssigned\n",
    "        else:\n",
    "            print (\"\\n.....Updating Centroids\\n {} => \\n{}\".format(centroids, _centroids))\n",
    "            centroids = _centroids\n",
    "            iter += 1"
   ]
  },
  {
   "cell_type": "markdown",
   "id": "f0430577",
   "metadata": {},
   "source": [
    "# 문제 1. 클러스터의 중심점을 몇 회만에 찾는지, 매 반복 중심값만을 출력한다."
   ]
  },
  {
   "cell_type": "code",
   "execution_count": 4,
   "id": "94e6a427",
   "metadata": {},
   "outputs": [
    {
     "name": "stdout",
     "output_type": "stream",
     "text": [
      "\n",
      "\n",
      "====== Iteration 1 ======\n",
      "\n",
      ".....Updating Centroids\n",
      " [[-0.40636864  3.46150906]\n",
      " [-1.12352716  3.16235936]\n",
      " [-1.15845639  3.47120626]\n",
      " [ 1.5108885   0.9288309 ]] => \n",
      "[[ 0.53840563  4.88597535]\n",
      " [-1.49596635  2.62892519]\n",
      " [-1.57315207  6.19951877]\n",
      " [ 1.99299447  1.07350657]]\n",
      "\n",
      "\n",
      "====== Iteration 2 ======\n",
      "\n",
      ".....Updating Centroids\n",
      " [[ 0.53840563  4.88597535]\n",
      " [-1.49596635  2.62892519]\n",
      " [-1.57315207  6.19951877]\n",
      " [ 1.99299447  1.07350657]] => \n",
      "[[ 0.83044547  4.27831711]\n",
      " [-1.5772186   3.11456071]\n",
      " [-1.27208964  7.74944718]\n",
      " [ 1.97918933  0.97920012]]\n",
      "\n",
      "\n",
      "====== Iteration 3 ======\n",
      "\n",
      ".....NOT Updating Centroids\n",
      " [[ 0.83044547  4.27831711]\n",
      " [-1.5772186   3.11456071]\n",
      " [-1.27208964  7.74944718]\n",
      " [ 1.97918933  0.97920012]] => \n",
      "[[ 0.83044547  4.27831711]\n",
      " [-1.5772186   3.11456071]\n",
      " [-1.27208964  7.74944718]\n",
      " [ 1.97918933  0.97920012]]\n"
     ]
    }
   ],
   "source": [
    "import numpy as np\n",
    "ind = np.random.choice(len(X),4)\n",
    "centroids = X[ind,:]\n",
    "centroids, clusterAssigned = cluster(X,4,centroids)"
   ]
  },
  {
   "cell_type": "markdown",
   "id": "d2e7563c",
   "metadata": {},
   "source": [
    "## 3회만에 중심값을 찾는 모습을 볼 수 있었습니다."
   ]
  },
  {
   "cell_type": "code",
   "execution_count": 5,
   "id": "6ca06f14",
   "metadata": {},
   "outputs": [],
   "source": [
    "def draw(x, centroids):\n",
    "    import matplotlib.pyplot as plt\n",
    "    #plt.subplot(5,2,iter)\n",
    "    plt.scatter(x[:,0], x[:,1], color='blue')\n",
    "    plt.scatter(centroids[:,0], centroids[:,1], color='red')"
   ]
  },
  {
   "cell_type": "code",
   "execution_count": 6,
   "id": "b02e137e",
   "metadata": {
    "scrolled": true
   },
   "outputs": [
    {
     "data": {
      "image/png": "[encoded data removed]",
      "text/plain": [
       "<Figure size 432x288 with 1 Axes>"
      ]
     },
     "metadata": {
      "needs_background": "light"
     },
     "output_type": "display_data"
    }
   ],
   "source": [
    "draw(X, centroids)"
   ]
  },
  {
   "cell_type": "markdown",
   "id": "d8cf2107",
   "metadata": {},
   "source": [
    "# 문제 2. 배정된 클러스터가 맞는지 비교하여 동일한지 확인하세요."
   ]
  },
  {
   "cell_type": "code",
   "execution_count": 7,
   "id": "c2fa984e",
   "metadata": {},
   "outputs": [],
   "source": [
    "def draw2(x,y):\n",
    "    import matplotlib.pyplot as plt\n",
    "    #plt.subplot(5,2,iter)\n",
    "    color = {0:'blue',1:'red',2:'green',3:'black'}\n",
    "    \n",
    "    for i in color.keys():\n",
    "        ix = np.where(y==i)\n",
    "        plt.scatter(x[ix,0], x[ix,1], color=color[i])"
   ]
  },
  {
   "cell_type": "markdown",
   "id": "8e1365d6",
   "metadata": {},
   "source": [
    "## 원본 데이터의 라벨별 색을 주어서 출력했습니다."
   ]
  },
  {
   "cell_type": "code",
   "execution_count": 8,
   "id": "7447e8c6",
   "metadata": {},
   "outputs": [
    {
     "data": {
      "image/png": "[encoded data removed]",
      "text/plain": [
       "<Figure size 432x288 with 1 Axes>"
      ]
     },
     "metadata": {
      "needs_background": "light"
     },
     "output_type": "display_data"
    }
   ],
   "source": [
    "draw2(X, y)"
   ]
  },
  {
   "cell_type": "markdown",
   "id": "d57f1538",
   "metadata": {},
   "source": [
    "## k-means를 통해 얻은 라벨별 색상을 입혀 출력을 한 결과 입니다.\n",
    "## 색상이 다른 이유는 k-means자체가 어떤 라벨로 분류될지 모르기 때문입니다.(즉 라벨 1,2,3,4 에 큰 의미가 없다)"
   ]
  },
  {
   "cell_type": "code",
   "execution_count": 9,
   "id": "f95bf68e",
   "metadata": {
    "scrolled": true
   },
   "outputs": [
    {
     "data": {
      "image/png": "[encoded data removed]",
      "text/plain": [
       "<Figure size 432x288 with 1 Axes>"
      ]
     },
     "metadata": {
      "needs_background": "light"
     },
     "output_type": "display_data"
    }
   ],
   "source": [
    "draw2(X, clusterAssigned[:,0])"
   ]
  },
  {
   "cell_type": "markdown",
   "id": "26573ae8",
   "metadata": {},
   "source": [
    "## 가운데 파란색 label좌측 2개의 데이터를 제외하고는 잘 분류된 모습을 보여주었습니다!"
   ]
  }
 ],
 "metadata": {
  "kernelspec": {
   "display_name": "Python 3",
   "language": "python",
   "name": "python3"
  },
  "language_info": {
   "codemirror_mode": {
    "name": "ipython",
    "version": 3
   },
   "file_extension": ".py",
   "mimetype": "text/x-python",
   "name": "python",
   "nbconvert_exporter": "python",
   "pygments_lexer": "ipython3",
   "version": "3.8.8"
  }
 },
 "nbformat": 4,
 "nbformat_minor": 5
}
