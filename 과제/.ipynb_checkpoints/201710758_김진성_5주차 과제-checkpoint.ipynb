{
 "cells": [
  {
   "cell_type": "code",
   "execution_count": 1,
   "id": "bbce0344",
   "metadata": {
    "ExecuteTime": {
     "end_time": "2021-10-21T10:27:37.647683Z",
     "start_time": "2021-10-21T10:27:33.062979Z"
    }
   },
   "outputs": [],
   "source": [
    "import pyspark\n",
    "import os\n",
    "\n",
    "myConf=pyspark.SparkConf()\n",
    "spark = pyspark.sql.SparkSession.builder.master('local').appName('myApp').config(conf=myConf).getOrCreate()"
   ]
  },
  {
   "cell_type": "code",
   "execution_count": 23,
   "id": "71b3a4cd",
   "metadata": {
    "ExecuteTime": {
     "end_time": "2021-10-21T10:40:05.547844Z",
     "start_time": "2021-10-21T10:40:05.540774Z"
    }
   },
   "outputs": [],
   "source": [
    "_data = [\"'김하나','English',100\",\n",
    "         \"'김하나','Math',80\",\n",
    "         \"'임하나','English',70\",\n",
    "         \"'임하나','Math',100\",\n",
    "        \"'김갑돌','English',82.3\",\n",
    "         \"'김갑돌','Math',98.5\"]\n",
    "\n",
    "_dataRdd=spark.sparkContext.parallelize(_data)"
   ]
  },
  {
   "cell_type": "markdown",
   "id": "67b643fc",
   "metadata": {},
   "source": [
    "# * 문제 3-1: 이름으로 합계를 구해보자."
   ]
  },
  {
   "cell_type": "code",
   "execution_count": 26,
   "id": "92ee6b96",
   "metadata": {
    "ExecuteTime": {
     "end_time": "2021-10-21T10:40:32.057663Z",
     "start_time": "2021-10-21T10:40:31.927574Z"
    }
   },
   "outputs": [],
   "source": [
    "_dataRdd = _dataRdd.map(lambda x:x.split(',')).map(lambda x: (x[0],float(x[2]))).reduceByKey(lambda x,y: x+y).collect()"
   ]
  },
  {
   "cell_type": "code",
   "execution_count": 27,
   "id": "9698f37f",
   "metadata": {
    "ExecuteTime": {
     "end_time": "2021-10-21T10:40:59.168570Z",
     "start_time": "2021-10-21T10:40:59.165361Z"
    }
   },
   "outputs": [
    {
     "name": "stdout",
     "output_type": "stream",
     "text": [
      "'김하나' 180.0\n",
      "'임하나' 170.0\n",
      "'김갑돌' 180.8\n"
     ]
    }
   ],
   "source": [
    "for i in _dataRdd:\n",
    "    print(i[0],i[1])"
   ]
  },
  {
   "cell_type": "markdown",
   "id": "00ff2114",
   "metadata": {},
   "source": [
    "## 문제 3-1 : 정답"
   ]
  },
  {
   "cell_type": "code",
   "execution_count": 237,
   "id": "49c9d884",
   "metadata": {
    "ExecuteTime": {
     "end_time": "2021-09-29T10:48:44.001556Z",
     "start_time": "2021-09-29T10:48:43.938102Z"
    }
   },
   "outputs": [
    {
     "name": "stdout",
     "output_type": "stream",
     "text": [
      "임하나 170\n",
      "김하나 180\n",
      "김갑돌 180.8\n"
     ]
    }
   ],
   "source": [
    "for i,j in sorted(avebyname.collect(),reverse=True):\n",
    "    print(i,j)"
   ]
  },
  {
   "cell_type": "code",
   "execution_count": null,
   "id": "b181432e",
   "metadata": {},
   "outputs": [],
   "source": []
  },
  {
   "cell_type": "markdown",
   "id": "7c0cba81",
   "metadata": {},
   "source": [
    "# * 문제 3-2: 과목으로 합계를 구해보자."
   ]
  },
  {
   "cell_type": "code",
   "execution_count": 29,
   "id": "8a76c0bb",
   "metadata": {
    "ExecuteTime": {
     "end_time": "2021-10-21T10:44:57.105796Z",
     "start_time": "2021-10-21T10:44:57.099684Z"
    }
   },
   "outputs": [],
   "source": [
    "_dataRdd=spark.sparkContext.parallelize(_data)"
   ]
  },
  {
   "cell_type": "code",
   "execution_count": 32,
   "id": "6f34a7b5",
   "metadata": {
    "ExecuteTime": {
     "end_time": "2021-10-21T10:46:37.380236Z",
     "start_time": "2021-10-21T10:46:37.207861Z"
    }
   },
   "outputs": [],
   "source": [
    "_dataRdd = _dataRdd.map(lambda x: x.split(',')).map(lambda x : (x[1],float(x[2]))).reduceByKey(lambda x,y : x+y).collect()"
   ]
  },
  {
   "cell_type": "markdown",
   "id": "86e8149b",
   "metadata": {},
   "source": [
    "## 문제 3-2 : 정답"
   ]
  },
  {
   "cell_type": "code",
   "execution_count": 38,
   "id": "c2cd6646",
   "metadata": {
    "ExecuteTime": {
     "end_time": "2021-10-21T10:47:32.024787Z",
     "start_time": "2021-10-21T10:47:32.022082Z"
    }
   },
   "outputs": [
    {
     "name": "stdout",
     "output_type": "stream",
     "text": [
      "'English' 252.3\n",
      "'Math' 278.5\n"
     ]
    }
   ],
   "source": [
    "for i in _dataRdd:\n",
    "    print(i[0],i[1])"
   ]
  },
  {
   "cell_type": "code",
   "execution_count": null,
   "id": "fc2c879a",
   "metadata": {},
   "outputs": [],
   "source": []
  },
  {
   "cell_type": "markdown",
   "id": "1d591a2a",
   "metadata": {},
   "source": [
    "# * 문제 3-3: 이름으로 합계와 개수를 구해보자."
   ]
  },
  {
   "cell_type": "code",
   "execution_count": 45,
   "id": "dfb2ec9f",
   "metadata": {
    "ExecuteTime": {
     "end_time": "2021-10-21T10:50:29.738553Z",
     "start_time": "2021-10-21T10:50:29.726111Z"
    }
   },
   "outputs": [],
   "source": [
    "_dataRdd=spark.sparkContext.parallelize(_data)\n",
    "quest3 = _dataRdd.map(lambda x : x.split(',')).map(lambda x: (x[0], float(x[2])))"
   ]
  },
  {
   "cell_type": "code",
   "execution_count": 46,
   "id": "f4d30fa3",
   "metadata": {
    "ExecuteTime": {
     "end_time": "2021-10-21T10:50:30.915799Z",
     "start_time": "2021-10-21T10:50:30.886973Z"
    }
   },
   "outputs": [],
   "source": [
    "sumbyave = quest3.combineByKey(lambda value: (value,1),\n",
    "                             lambda x,value: (x[0]+value, x[1]+1),\n",
    "                             lambda x,y: (x[0]+y[0], x[1]+y[1]))"
   ]
  },
  {
   "cell_type": "markdown",
   "id": "1f79c206",
   "metadata": {},
   "source": [
    "## 문제 3-3 : 정답"
   ]
  },
  {
   "cell_type": "code",
   "execution_count": 49,
   "id": "911ac649",
   "metadata": {
    "ExecuteTime": {
     "end_time": "2021-10-21T10:51:23.135509Z",
     "start_time": "2021-10-21T10:51:23.096258Z"
    }
   },
   "outputs": [
    {
     "name": "stdout",
     "output_type": "stream",
     "text": [
      "'임하나' (170.0, 2)\n",
      "'김하나' (180.0, 2)\n",
      "'김갑돌' (180.8, 2)\n"
     ]
    }
   ],
   "source": [
    "for i,j in sorted(sumbyave.collect(),reverse=True):\n",
    "    print(i,j)"
   ]
  },
  {
   "cell_type": "code",
   "execution_count": null,
   "id": "a9b4d175",
   "metadata": {},
   "outputs": [],
   "source": []
  },
  {
   "cell_type": "markdown",
   "id": "e59498a5",
   "metadata": {},
   "source": [
    "# * 문제 3-4: 이름으로 평균을 구해보자."
   ]
  },
  {
   "cell_type": "code",
   "execution_count": 50,
   "id": "749c664e",
   "metadata": {
    "ExecuteTime": {
     "end_time": "2021-10-21T10:53:08.852865Z",
     "start_time": "2021-10-21T10:53:08.850139Z"
    }
   },
   "outputs": [],
   "source": [
    "quest4 = sumbyave.map(lambda x: (x[0],x[1][0]/x[1][1]))"
   ]
  },
  {
   "cell_type": "markdown",
   "id": "9b8d927d",
   "metadata": {},
   "source": [
    "## 문제 3-4 : 정답"
   ]
  },
  {
   "cell_type": "code",
   "execution_count": 51,
   "id": "d98349d9",
   "metadata": {
    "ExecuteTime": {
     "end_time": "2021-10-21T10:53:10.595911Z",
     "start_time": "2021-10-21T10:53:10.523033Z"
    }
   },
   "outputs": [
    {
     "name": "stdout",
     "output_type": "stream",
     "text": [
      "'임하나' 85.0\n",
      "'김하나' 90.0\n",
      "'김갑돌' 90.4\n"
     ]
    }
   ],
   "source": [
    "for i,j in sorted(quest4.collect(),reverse=True):\n",
    "    print(i,j)"
   ]
  }
 ],
 "metadata": {
  "kernelspec": {
   "display_name": "Python 3",
   "language": "python",
   "name": "python3"
  },
  "language_info": {
   "codemirror_mode": {
    "name": "ipython",
    "version": 3
   },
   "file_extension": ".py",
   "mimetype": "text/x-python",
   "name": "python",
   "nbconvert_exporter": "python",
   "pygments_lexer": "ipython3",
   "version": "3.8.8"
  }
 },
 "nbformat": 4,
 "nbformat_minor": 5
}
