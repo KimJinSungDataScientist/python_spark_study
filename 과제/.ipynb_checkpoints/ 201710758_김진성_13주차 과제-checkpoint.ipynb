{
 "cells": [
  {
   "cell_type": "markdown",
   "id": "9752a5ca",
   "metadata": {},
   "source": [
    "# 201710758 김진성 13주차 과제"
   ]
  },
  {
   "cell_type": "code",
   "execution_count": 12,
   "id": "b06df8d9",
   "metadata": {
    "ExecuteTime": {
     "end_time": "2021-11-28T15:25:08.502542Z",
     "start_time": "2021-11-28T15:25:07.824258Z"
    }
   },
   "outputs": [],
   "source": [
    "import pandas as pd\n",
    "file_name = \"https://archive.ics.uci.edu/ml/machine-learning-databases/iris/iris.data\"\n",
    "iris = pd.read_csv(file_name, names=[\"sepal_length\",\"sepal_width\",\"petal_length\", \"petal_width\",\"species\"])"
   ]
  },
  {
   "cell_type": "markdown",
   "id": "ba9987bf",
   "metadata": {},
   "source": [
    "# (1) DataFrame 생성 "
   ]
  },
  {
   "cell_type": "code",
   "execution_count": 5,
   "id": "819938f8",
   "metadata": {
    "ExecuteTime": {
     "end_time": "2021-11-28T15:15:26.158814Z",
     "start_time": "2021-11-28T15:15:18.301332Z"
    }
   },
   "outputs": [],
   "source": [
    "import pyspark\n",
    "myConf=pyspark.SparkConf()\n",
    "spark = pyspark.sql.SparkSession.builder\\\n",
    "    .master(\"local\")\\\n",
    "    .appName(\"myApp\")\\\n",
    "    .config(conf=myConf)\\\n",
    "    .getOrCreate()"
   ]
  },
  {
   "cell_type": "code",
   "execution_count": 46,
   "id": "3559b1ef",
   "metadata": {
    "ExecuteTime": {
     "end_time": "2021-11-28T15:47:20.287660Z",
     "start_time": "2021-11-28T15:47:20.235404Z"
    }
   },
   "outputs": [],
   "source": [
    "iris_df = spark.createDataFrame(iris)"
   ]
  },
  {
   "cell_type": "code",
   "execution_count": 47,
   "id": "a22fd298",
   "metadata": {
    "ExecuteTime": {
     "end_time": "2021-11-28T15:47:20.485519Z",
     "start_time": "2021-11-28T15:47:20.481390Z"
    }
   },
   "outputs": [
    {
     "name": "stdout",
     "output_type": "stream",
     "text": [
      "root\n",
      " |-- sepal_length: double (nullable = true)\n",
      " |-- sepal_width: double (nullable = true)\n",
      " |-- petal_length: double (nullable = true)\n",
      " |-- petal_width: double (nullable = true)\n",
      " |-- species: string (nullable = true)\n",
      "\n"
     ]
    }
   ],
   "source": [
    "iris_df.printSchema()"
   ]
  },
  {
   "cell_type": "markdown",
   "id": "0e9322e5",
   "metadata": {},
   "source": [
    "# (2) 회귀선 그래프"
   ]
  },
  {
   "cell_type": "code",
   "execution_count": 48,
   "id": "2cfe5aae",
   "metadata": {
    "ExecuteTime": {
     "end_time": "2021-11-28T15:47:23.108408Z",
     "start_time": "2021-11-28T15:47:22.819696Z"
    }
   },
   "outputs": [
    {
     "data": {
      "text/plain": [
       "<seaborn.axisgrid.FacetGrid at 0x7fac9b50ed30>"
      ]
     },
     "execution_count": 48,
     "metadata": {},
     "output_type": "execute_result"
    },
    {
     "data": {
      "image/png": "[encoded data removed]",
      "text/plain": [
       "<Figure size 360x360 with 1 Axes>"
      ]
     },
     "metadata": {
      "needs_background": "light"
     },
     "output_type": "display_data"
    }
   ],
   "source": [
    "import seaborn as sns\n",
    "\n",
    "sns.lmplot(x=\"petal_length\", y=\"petal_width\", data=iris)"
   ]
  },
  {
   "cell_type": "markdown",
   "id": "bcaa2cc7",
   "metadata": {},
   "source": [
    "# (3) Spark를 사용하여 회귀분석하고 계수 출력 "
   ]
  },
  {
   "cell_type": "code",
   "execution_count": 57,
   "id": "80b5878a",
   "metadata": {
    "ExecuteTime": {
     "end_time": "2021-11-28T15:57:21.711065Z",
     "start_time": "2021-11-28T15:57:21.696514Z"
    }
   },
   "outputs": [],
   "source": [
    "trainDf, testDf = iris_df.randomSplit([0.7, 0.3])"
   ]
  },
  {
   "cell_type": "code",
   "execution_count": 58,
   "id": "7066765a",
   "metadata": {
    "ExecuteTime": {
     "end_time": "2021-11-28T15:57:25.651624Z",
     "start_time": "2021-11-28T15:57:25.605499Z"
    }
   },
   "outputs": [],
   "source": [
    "from pyspark.ml.feature import VectorAssembler\n",
    "\n",
    "vector = VectorAssembler(inputCols=[\"petal_length\"], outputCol=\"features\")\n",
    "vaDf = vector.transform(trainDf)"
   ]
  },
  {
   "cell_type": "code",
   "execution_count": 56,
   "id": "d66b800a",
   "metadata": {
    "ExecuteTime": {
     "end_time": "2021-11-28T15:56:06.770535Z",
     "start_time": "2021-11-28T15:56:06.754537Z"
    }
   },
   "outputs": [],
   "source": [
    "from pyspark.ml.regression import LinearRegression\n",
    "\n",
    "lr = LinearRegression(featuresCol = \"features\", labelCol=\"petal_width\")"
   ]
  },
  {
   "cell_type": "code",
   "execution_count": 59,
   "id": "6f7cbf72",
   "metadata": {
    "ExecuteTime": {
     "end_time": "2021-11-28T15:58:04.333660Z",
     "start_time": "2021-11-28T15:58:03.329947Z"
    }
   },
   "outputs": [],
   "source": [
    "lr_model = lr.fit(vaDf)"
   ]
  },
  {
   "cell_type": "code",
   "execution_count": 63,
   "id": "51a5d3db",
   "metadata": {
    "ExecuteTime": {
     "end_time": "2021-11-28T15:59:04.294216Z",
     "start_time": "2021-11-28T15:59:04.285784Z"
    }
   },
   "outputs": [
    {
     "name": "stdout",
     "output_type": "stream",
     "text": [
      "Coefficients: [0.4147822082699956]\n",
      "Intercept: -0.36992753349364094\n"
     ]
    }
   ],
   "source": [
    "print(\"Coefficients: {}\".format(lr_model.coefficients))\n",
    "print(\"Intercept: {}\".format(lr_model.intercept))"
   ]
  },
  {
   "cell_type": "markdown",
   "id": "eee46539",
   "metadata": {},
   "source": [
    "# (4) 실제와 예측 출력"
   ]
  },
  {
   "cell_type": "code",
   "execution_count": 65,
   "id": "a7431367",
   "metadata": {
    "ExecuteTime": {
     "end_time": "2021-11-28T16:02:55.295883Z",
     "start_time": "2021-11-28T16:02:55.211080Z"
    }
   },
   "outputs": [],
   "source": [
    "teDf = vector.transform(testDf)\n",
    "\n",
    "predictions = lr_model.transform(teDf)"
   ]
  },
  {
   "cell_type": "code",
   "execution_count": 66,
   "id": "77adbd07",
   "metadata": {
    "ExecuteTime": {
     "end_time": "2021-11-28T16:03:17.028751Z",
     "start_time": "2021-11-28T16:03:16.815535Z"
    }
   },
   "outputs": [
    {
     "name": "stdout",
     "output_type": "stream",
     "text": [
      "+------------+-----------+------------+-----------+---------------+--------+--------------------+\n",
      "|sepal_length|sepal_width|petal_length|petal_width|        species|features|          prediction|\n",
      "+------------+-----------+------------+-----------+---------------+--------+--------------------+\n",
      "|         4.6|        3.1|         1.5|        0.2|    Iris-setosa|   [1.5]| 0.25224577891135247|\n",
      "|         4.6|        3.6|         1.0|        0.2|    Iris-setosa|   [1.0]|0.044854674776354686|\n",
      "|         4.8|        3.0|         1.4|        0.1|    Iris-setosa|   [1.4]| 0.21076755808435288|\n",
      "|         4.9|        3.1|         1.5|        0.1|    Iris-setosa|   [1.5]| 0.25224577891135247|\n",
      "|         5.0|        3.0|         1.6|        0.2|    Iris-setosa|   [1.6]| 0.29372399973835206|\n",
      "|         5.0|        3.2|         1.2|        0.2|    Iris-setosa|   [1.2]|  0.1278111164303538|\n",
      "|         5.0|        3.6|         1.4|        0.2|    Iris-setosa|   [1.4]| 0.21076755808435288|\n",
      "|         5.1|        2.5|         3.0|        1.1|Iris-versicolor|   [3.0]|  0.8744190913163459|\n",
      "|         5.1|        3.5|         1.4|        0.3|    Iris-setosa|   [1.4]| 0.21076755808435288|\n",
      "|         5.1|        3.8|         1.5|        0.3|    Iris-setosa|   [1.5]| 0.25224577891135247|\n",
      "|         5.2|        3.5|         1.5|        0.2|    Iris-setosa|   [1.5]| 0.25224577891135247|\n",
      "|         5.3|        3.7|         1.5|        0.2|    Iris-setosa|   [1.5]| 0.25224577891135247|\n",
      "|         5.4|        3.4|         1.5|        0.4|    Iris-setosa|   [1.5]| 0.25224577891135247|\n",
      "|         5.5|        2.3|         4.0|        1.3|Iris-versicolor|   [4.0]|  1.2892012995863416|\n",
      "|         5.5|        3.5|         1.3|        0.2|    Iris-setosa|   [1.3]|  0.1692893372573534|\n",
      "|         5.5|        4.2|         1.4|        0.2|    Iris-setosa|   [1.4]| 0.21076755808435288|\n",
      "|         5.6|        2.9|         3.6|        1.3|Iris-versicolor|   [3.6]|  1.1232884162783434|\n",
      "|         6.0|        2.2|         5.0|        1.5| Iris-virginica|   [5.0]|   1.703983507856337|\n",
      "|         6.0|        2.7|         5.1|        1.6|Iris-versicolor|   [5.1]|  1.7454617286833365|\n",
      "|         6.1|        2.8|         4.0|        1.3|Iris-versicolor|   [4.0]|  1.2892012995863416|\n",
      "+------------+-----------+------------+-----------+---------------+--------+--------------------+\n",
      "only showing top 20 rows\n",
      "\n"
     ]
    }
   ],
   "source": [
    "predictions.show()"
   ]
  },
  {
   "cell_type": "code",
   "execution_count": 67,
   "id": "c5754322",
   "metadata": {
    "ExecuteTime": {
     "end_time": "2021-11-28T16:04:02.386860Z",
     "start_time": "2021-11-28T16:04:02.374139Z"
    }
   },
   "outputs": [],
   "source": [
    "from pyspark.ml.evaluation import RegressionEvaluator\n",
    "\n",
    "evaluator=RegressionEvaluator(labelCol=\"petal_width\", predictionCol=\"prediction\", metricName=\"rmse\")"
   ]
  },
  {
   "cell_type": "code",
   "execution_count": 68,
   "id": "6340e436",
   "metadata": {
    "ExecuteTime": {
     "end_time": "2021-11-28T16:04:09.302631Z",
     "start_time": "2021-11-28T16:04:09.147023Z"
    }
   },
   "outputs": [],
   "source": [
    "rmse=evaluator.evaluate(predictions)"
   ]
  },
  {
   "cell_type": "code",
   "execution_count": 69,
   "id": "ce548428",
   "metadata": {
    "ExecuteTime": {
     "end_time": "2021-11-28T16:04:39.655092Z",
     "start_time": "2021-11-28T16:04:39.650161Z"
    }
   },
   "outputs": [
    {
     "data": {
      "text/plain": [
       "0.2080342109354934"
      ]
     },
     "execution_count": 69,
     "metadata": {},
     "output_type": "execute_result"
    }
   ],
   "source": [
    "rmse"
   ]
  },
  {
   "cell_type": "markdown",
   "id": "f9174463",
   "metadata": {},
   "source": [
    "# 0.2 정도의 rmse를 가지는 것으로 보아, 잘 예측 한 것을 확인 할 수 있었습니다!"
   ]
  }
 ],
 "metadata": {
  "kernelspec": {
   "display_name": "Python 3",
   "language": "python",
   "name": "python3"
  },
  "language_info": {
   "codemirror_mode": {
    "name": "ipython",
    "version": 3
   },
   "file_extension": ".py",
   "mimetype": "text/x-python",
   "name": "python",
   "nbconvert_exporter": "python",
   "pygments_lexer": "ipython3",
   "version": "3.8.8"
  }
 },
 "nbformat": 4,
 "nbformat_minor": 5
}
