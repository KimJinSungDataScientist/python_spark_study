{
 "cells": [
  {
   "cell_type": "markdown",
   "id": "df7a9027",
   "metadata": {},
   "source": [
    "# 9-1 문제설정"
   ]
  },
  {
   "cell_type": "markdown",
   "id": "83e57f6b",
   "metadata": {},
   "source": [
    "## 문제 1. 통합대기 환경 수치는 오전 시간대가 오후 시간대 보다 더 좋은지? "
   ]
  },
  {
   "cell_type": "markdown",
   "id": "1b457af4",
   "metadata": {},
   "source": [
    "## 문제 2. 강동구가 강서구보다 환경수치가 좋은지?"
   ]
  },
  {
   "cell_type": "markdown",
   "id": "6c1945c6",
   "metadata": {},
   "source": []
  },
  {
   "cell_type": "markdown",
   "id": "9e1ae8eb",
   "metadata": {},
   "source": [
    "# 9-2 문제의 답 "
   ]
  },
  {
   "cell_type": "code",
   "execution_count": 1,
   "id": "76e6d6d5",
   "metadata": {
    "ExecuteTime": {
     "end_time": "2021-11-02T17:25:04.175843Z",
     "start_time": "2021-11-02T17:25:04.173096Z"
    }
   },
   "outputs": [],
   "source": [
    "station_name = ['강남구','강동구','강북구','강서구','관악구','광진구','구로구','금천구','노원구','도봉구']"
   ]
  },
  {
   "cell_type": "code",
   "execution_count": 2,
   "id": "89333a84",
   "metadata": {
    "ExecuteTime": {
     "end_time": "2021-11-02T17:25:04.343921Z",
     "start_time": "2021-11-02T17:25:04.178571Z"
    }
   },
   "outputs": [],
   "source": [
    "import lxml\n",
    "import lxml.etree\n",
    "import os\n",
    "\n",
    "ls1 = []\n",
    "ls2 = []\n",
    "ls3 = []\n",
    "\n",
    "for i in station_name:\n",
    "    data = open(os.path.join(\"../bigdata\", i+\"_500_row_xml.txt\"),'r',encoding='euc-kr')\n",
    "    data2 = data.read()\n",
    "    data.close()\n",
    "    tree=lxml.etree.fromstring(data2.encode('utf-8'))\n",
    "\n",
    "    for node, node2 in zip(tree.xpath('//khaiValue'),tree.xpath('//dataTime')):\n",
    "        ls1.append(i)\n",
    "        ls2.append(node2.text[-5:-3])\n",
    "        if node.text=='-':\n",
    "            if len(ls3)!=0:\n",
    "                ls3.append(ls3[-1])\n",
    "            else:\n",
    "                ls3.append(0)\n",
    "        else:\n",
    "            ls3.append(node.text)"
   ]
  },
  {
   "cell_type": "code",
   "execution_count": 3,
   "id": "fb420d48",
   "metadata": {
    "ExecuteTime": {
     "end_time": "2021-11-02T17:25:04.350445Z",
     "start_time": "2021-11-02T17:25:04.346670Z"
    }
   },
   "outputs": [],
   "source": [
    "ls = list(zip(ls1, ls2, ls3))"
   ]
  },
  {
   "cell_type": "code",
   "execution_count": 4,
   "id": "06b12f8b",
   "metadata": {
    "ExecuteTime": {
     "end_time": "2021-11-02T17:25:08.958049Z",
     "start_time": "2021-11-02T17:25:04.352515Z"
    }
   },
   "outputs": [],
   "source": [
    "import pyspark\n",
    "\n",
    "myConf=pyspark.SparkConf()\n",
    "spark = pyspark.sql.SparkSession\\\n",
    "    .builder\\\n",
    "    .master(\"local\")\\\n",
    "    .appName(\"myApp\")\\\n",
    "    .config(conf=myConf)\\\n",
    "    .getOrCreate()"
   ]
  },
  {
   "cell_type": "code",
   "execution_count": 5,
   "id": "01832462",
   "metadata": {
    "ExecuteTime": {
     "end_time": "2021-11-02T17:25:13.275329Z",
     "start_time": "2021-11-02T17:25:08.960538Z"
    },
    "scrolled": true
   },
   "outputs": [
    {
     "name": "stdout",
     "output_type": "stream",
     "text": [
      "+-------+----+-----+\n",
      "|station|date|value|\n",
      "+-------+----+-----+\n",
      "| 강남구|  24|   28|\n",
      "| 강남구|  23|   40|\n",
      "| 강남구|  22|   58|\n",
      "| 강남구|  21|   70|\n",
      "| 강남구|  20|   59|\n",
      "| 강남구|  19|   47|\n",
      "| 강남구|  18|   54|\n",
      "| 강남구|  17|   56|\n",
      "| 강남구|  16|   58|\n",
      "| 강남구|  15|   59|\n",
      "| 강남구|  14|   60|\n",
      "| 강남구|  13|   58|\n",
      "| 강남구|  12|   56|\n",
      "| 강남구|  11|   52|\n",
      "| 강남구|  10|   43|\n",
      "| 강남구|   9|   43|\n",
      "| 강남구|   8|   40|\n",
      "| 강남구|   7|   37|\n",
      "| 강남구|   6|   47|\n",
      "| 강남구|   5|   52|\n",
      "+-------+----+-----+\n",
      "only showing top 20 rows\n",
      "\n"
     ]
    }
   ],
   "source": [
    "from pyspark.sql.types import IntegerType\n",
    "\n",
    "rdd = spark.sparkContext.parallelize(ls)\n",
    "\n",
    "df = spark.createDataFrame(rdd)\n",
    "df = df.withColumnRenamed('_1','station').withColumnRenamed('_2','date').withColumnRenamed('_3','value')\n",
    "df = df.withColumn('value',df['value'].cast(IntegerType()))\n",
    "df = df.withColumn('date',df['date'].cast(IntegerType()))\n",
    "\n",
    "df.show()"
   ]
  },
  {
   "cell_type": "code",
   "execution_count": 6,
   "id": "c6a0c7b8",
   "metadata": {
    "ExecuteTime": {
     "end_time": "2021-11-02T17:25:13.338706Z",
     "start_time": "2021-11-02T17:25:13.277608Z"
    }
   },
   "outputs": [],
   "source": [
    "from pyspark.sql.types import StringType\n",
    "from pyspark.sql.functions import udf\n",
    "am=[*range(1,13)]\n",
    "\n",
    "filter_udf = udf(lambda x: \"am\" if x in am else \"pm\", StringType())\n",
    "df = df.withColumn(\"ampm\", filter_udf(df.date))"
   ]
  },
  {
   "cell_type": "markdown",
   "id": "5f141340",
   "metadata": {},
   "source": [
    "### 문제 1. 통합대기 환경 수치는 오전 시간대가 오후 시간대 보다 더 좋은지?"
   ]
  },
  {
   "cell_type": "code",
   "execution_count": 7,
   "id": "f9ab7141",
   "metadata": {
    "ExecuteTime": {
     "end_time": "2021-11-02T17:25:15.560629Z",
     "start_time": "2021-11-02T17:25:13.341990Z"
    }
   },
   "outputs": [
    {
     "name": "stdout",
     "output_type": "stream",
     "text": [
      "+----+---------+----------+\n",
      "|ampm|sum(date)|sum(value)|\n",
      "+----+---------+----------+\n",
      "|  pm|    46620|    155037|\n",
      "|  am|    16280|    133105|\n",
      "+----+---------+----------+\n",
      "\n"
     ]
    }
   ],
   "source": [
    "df.groupBy('ampm').sum().show()"
   ]
  },
  {
   "cell_type": "markdown",
   "id": "0de46a23",
   "metadata": {},
   "source": [
    "### 답 : am의 통합대기 환경 수치의 총 합이 pm보다 낮은 모습을 볼 수 있습니다."
   ]
  },
  {
   "cell_type": "markdown",
   "id": "86482917",
   "metadata": {},
   "source": [
    "### 문제 2. 강동구가 강서구보다 환경수치가 좋은지?"
   ]
  },
  {
   "cell_type": "code",
   "execution_count": 12,
   "id": "b292cff8",
   "metadata": {
    "ExecuteTime": {
     "end_time": "2021-11-02T17:31:57.870315Z",
     "start_time": "2021-11-02T17:31:57.847084Z"
    }
   },
   "outputs": [],
   "source": [
    "df_east = df.where(df.station=='강동구')\n",
    "df_west = df.where(df.station=='강서구')"
   ]
  },
  {
   "cell_type": "code",
   "execution_count": 16,
   "id": "0874e12a",
   "metadata": {
    "ExecuteTime": {
     "end_time": "2021-11-02T17:33:04.008285Z",
     "start_time": "2021-11-02T17:33:03.000714Z"
    }
   },
   "outputs": [
    {
     "name": "stdout",
     "output_type": "stream",
     "text": [
      "+-------+---------+----------+\n",
      "|station|sum(date)|sum(value)|\n",
      "+-------+---------+----------+\n",
      "| 강동구|     6290|     28370|\n",
      "+-------+---------+----------+\n",
      "\n"
     ]
    }
   ],
   "source": [
    "df_east.groupBy('station').sum().show()"
   ]
  },
  {
   "cell_type": "code",
   "execution_count": 17,
   "id": "cffe1b10",
   "metadata": {
    "ExecuteTime": {
     "end_time": "2021-11-02T17:33:15.170031Z",
     "start_time": "2021-11-02T17:33:14.255258Z"
    }
   },
   "outputs": [
    {
     "name": "stdout",
     "output_type": "stream",
     "text": [
      "+-------+---------+----------+\n",
      "|station|sum(date)|sum(value)|\n",
      "+-------+---------+----------+\n",
      "| 강서구|     6290|     29148|\n",
      "+-------+---------+----------+\n",
      "\n"
     ]
    }
   ],
   "source": [
    "df_west.groupBy('station').sum().show()"
   ]
  },
  {
   "cell_type": "markdown",
   "id": "eb128752",
   "metadata": {},
   "source": [
    "### 답. 강동구가 강서구보다 환경수치가 낮았다."
   ]
  }
 ],
 "metadata": {
  "kernelspec": {
   "display_name": "Python 3",
   "language": "python",
   "name": "python3"
  },
  "language_info": {
   "codemirror_mode": {
    "name": "ipython",
    "version": 3
   },
   "file_extension": ".py",
   "mimetype": "text/x-python",
   "name": "python",
   "nbconvert_exporter": "python",
   "pygments_lexer": "ipython3",
   "version": "3.8.8"
  }
 },
 "nbformat": 4,
 "nbformat_minor": 5
}
