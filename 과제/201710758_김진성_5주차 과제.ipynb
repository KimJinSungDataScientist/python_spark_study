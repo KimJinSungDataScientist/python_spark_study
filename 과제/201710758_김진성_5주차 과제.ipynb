{
 "cells": [
  {
   "cell_type": "code",
   "execution_count": 233,
   "id": "bbce0344",
   "metadata": {
    "ExecuteTime": {
     "end_time": "2021-09-29T10:48:43.810666Z",
     "start_time": "2021-09-29T10:48:43.795564Z"
    }
   },
   "outputs": [],
   "source": [
    "import pyspark\n",
    "import os\n",
    "\n",
    "myConf=pyspark.SparkConf()\n",
    "spark = pyspark.sql.SparkSession.builder.master('local').appName('myApp').config(conf=myConf).getOrCreate()"
   ]
  },
  {
   "cell_type": "code",
   "execution_count": 234,
   "id": "71b3a4cd",
   "metadata": {
    "ExecuteTime": {
     "end_time": "2021-09-29T10:48:43.820849Z",
     "start_time": "2021-09-29T10:48:43.813222Z"
    }
   },
   "outputs": [],
   "source": [
    "_data = [('김하나','English',100),('김하나','Math',80),\n",
    "         ('임하나','English',70),('임하나','Math',100),\n",
    "        ('김갑돌','English',82.3),('김갑돌','Math',98.5)]\n",
    "\n",
    "_dataRdd=spark.sparkContext.parallelize(_data)"
   ]
  },
  {
   "cell_type": "markdown",
   "id": "67b643fc",
   "metadata": {},
   "source": [
    "# * 문제 3-1: 이름으로 합계를 구해보자."
   ]
  },
  {
   "cell_type": "code",
   "execution_count": 235,
   "id": "20c255c2",
   "metadata": {
    "ExecuteTime": {
     "end_time": "2021-09-29T10:48:43.826635Z",
     "start_time": "2021-09-29T10:48:43.823146Z"
    }
   },
   "outputs": [],
   "source": [
    "quest1 = _dataRdd.map(lambda x: (x[0], x[2]))"
   ]
  },
  {
   "cell_type": "code",
   "execution_count": 236,
   "id": "24c98d29",
   "metadata": {
    "ExecuteTime": {
     "end_time": "2021-09-29T10:48:43.842992Z",
     "start_time": "2021-09-29T10:48:43.829009Z"
    }
   },
   "outputs": [],
   "source": [
    "avebyname = quest1.combineByKey(lambda value: value,\n",
    "                             lambda x,value: x+value,\n",
    "                             lambda x: x)"
   ]
  },
  {
   "cell_type": "markdown",
   "id": "00ff2114",
   "metadata": {},
   "source": [
    "## 문제 3-1 : 정답"
   ]
  },
  {
   "cell_type": "code",
   "execution_count": null,
   "id": "20b5dc03",
   "metadata": {
    "ExecuteTime": {
     "end_time": "2021-09-29T10:45:38.640012Z",
     "start_time": "2021-09-29T10:45:38.606445Z"
    }
   },
   "outputs": [],
   "source": []
  },
  {
   "cell_type": "code",
   "execution_count": null,
   "id": "c1f08561",
   "metadata": {},
   "outputs": [],
   "source": []
  },
  {
   "cell_type": "code",
   "execution_count": 237,
   "id": "49c9d884",
   "metadata": {
    "ExecuteTime": {
     "end_time": "2021-09-29T10:48:44.001556Z",
     "start_time": "2021-09-29T10:48:43.938102Z"
    }
   },
   "outputs": [
    {
     "name": "stdout",
     "output_type": "stream",
     "text": [
      "임하나 170\n",
      "김하나 180\n",
      "김갑돌 180.8\n"
     ]
    }
   ],
   "source": [
    "for i,j in sorted(avebyname.collect(),reverse=True):\n",
    "    print(i,j)"
   ]
  },
  {
   "cell_type": "code",
   "execution_count": null,
   "id": "b181432e",
   "metadata": {},
   "outputs": [],
   "source": []
  },
  {
   "cell_type": "markdown",
   "id": "7c0cba81",
   "metadata": {},
   "source": [
    "# * 문제 3-2: 과목으로 합계를 구해보자."
   ]
  },
  {
   "cell_type": "code",
   "execution_count": 238,
   "id": "8a76c0bb",
   "metadata": {
    "ExecuteTime": {
     "end_time": "2021-09-29T10:48:43.914405Z",
     "start_time": "2021-09-29T10:48:43.908393Z"
    }
   },
   "outputs": [],
   "source": [
    "quest2 = _dataRdd.map(lambda x: (x[1], x[2]))"
   ]
  },
  {
   "cell_type": "code",
   "execution_count": 239,
   "id": "943da780",
   "metadata": {
    "ExecuteTime": {
     "end_time": "2021-09-29T10:48:43.934635Z",
     "start_time": "2021-09-29T10:48:43.916799Z"
    }
   },
   "outputs": [],
   "source": [
    "avebysub = quest2.combineByKey(lambda value: value,\n",
    "                             lambda x,value: x+value,\n",
    "                             lambda x: x)"
   ]
  },
  {
   "cell_type": "markdown",
   "id": "86e8149b",
   "metadata": {},
   "source": [
    "## 문제 3-2 : 정답"
   ]
  },
  {
   "cell_type": "code",
   "execution_count": 240,
   "id": "c2cd6646",
   "metadata": {
    "ExecuteTime": {
     "end_time": "2021-09-29T10:48:44.001556Z",
     "start_time": "2021-09-29T10:48:43.938102Z"
    }
   },
   "outputs": [
    {
     "name": "stdout",
     "output_type": "stream",
     "text": [
      "English 252.3\n",
      "Math 278.5\n"
     ]
    }
   ],
   "source": [
    "for i,j in avebysub.collect():\n",
    "    print(i,j)"
   ]
  },
  {
   "cell_type": "code",
   "execution_count": null,
   "id": "fc2c879a",
   "metadata": {},
   "outputs": [],
   "source": []
  },
  {
   "cell_type": "markdown",
   "id": "1d591a2a",
   "metadata": {},
   "source": [
    "# * 문제 3-3: 이름으로 합계와 개수를 구해보자."
   ]
  },
  {
   "cell_type": "code",
   "execution_count": 241,
   "id": "dfb2ec9f",
   "metadata": {
    "ExecuteTime": {
     "end_time": "2021-09-29T10:48:44.008062Z",
     "start_time": "2021-09-29T10:48:44.004226Z"
    }
   },
   "outputs": [],
   "source": [
    "quest3 = _dataRdd.map(lambda x: (x[0], x[2]))"
   ]
  },
  {
   "cell_type": "code",
   "execution_count": 242,
   "id": "f4d30fa3",
   "metadata": {
    "ExecuteTime": {
     "end_time": "2021-09-29T10:48:44.030062Z",
     "start_time": "2021-09-29T10:48:44.009874Z"
    }
   },
   "outputs": [],
   "source": [
    "sumbyave = quest3.combineByKey(lambda value: (value,1),\n",
    "                             lambda x,value: (x[0]+value, x[1]+1),\n",
    "                             lambda x,y: (x[0]+y[0], x[1]+y[1]))"
   ]
  },
  {
   "cell_type": "markdown",
   "id": "1f79c206",
   "metadata": {},
   "source": [
    "## 문제 3-3 : 정답"
   ]
  },
  {
   "cell_type": "code",
   "execution_count": 243,
   "id": "911ac649",
   "metadata": {
    "ExecuteTime": {
     "end_time": "2021-09-29T10:48:44.073626Z",
     "start_time": "2021-09-29T10:48:44.032288Z"
    }
   },
   "outputs": [
    {
     "name": "stdout",
     "output_type": "stream",
     "text": [
      "임하나 (170, 2)\n",
      "김하나 (180, 2)\n",
      "김갑돌 (180.8, 2)\n"
     ]
    }
   ],
   "source": [
    "for i,j in sorted(sumbyave.collect(),reverse=True):\n",
    "    print(i,j)"
   ]
  },
  {
   "cell_type": "code",
   "execution_count": null,
   "id": "a9b4d175",
   "metadata": {},
   "outputs": [],
   "source": []
  },
  {
   "cell_type": "markdown",
   "id": "e59498a5",
   "metadata": {},
   "source": [
    "# * 문제 3-4: 이름으로 평균을 구해보자."
   ]
  },
  {
   "cell_type": "code",
   "execution_count": 244,
   "id": "749c664e",
   "metadata": {
    "ExecuteTime": {
     "end_time": "2021-09-29T10:48:44.078845Z",
     "start_time": "2021-09-29T10:48:44.075649Z"
    }
   },
   "outputs": [],
   "source": [
    "quest4 = sumbyave.map(lambda x: (x[0],x[1][0]/x[1][1]))"
   ]
  },
  {
   "cell_type": "markdown",
   "id": "9b8d927d",
   "metadata": {},
   "source": [
    "## 문제 3-4 : 정답"
   ]
  },
  {
   "cell_type": "code",
   "execution_count": 245,
   "id": "d98349d9",
   "metadata": {
    "ExecuteTime": {
     "end_time": "2021-09-29T10:48:44.112180Z",
     "start_time": "2021-09-29T10:48:44.081514Z"
    }
   },
   "outputs": [
    {
     "name": "stdout",
     "output_type": "stream",
     "text": [
      "임하나 85.0\n",
      "김하나 90.0\n",
      "김갑돌 90.4\n"
     ]
    }
   ],
   "source": [
    "for i,j in sorted(quest4.collectAsMap().items(),reverse=True):\n",
    "    print(i,j)"
   ]
  }
 ],
 "metadata": {
  "kernelspec": {
   "display_name": "Python 3",
   "language": "python",
   "name": "python3"
  },
  "language_info": {
   "codemirror_mode": {
    "name": "ipython",
    "version": 3
   },
   "file_extension": ".py",
   "mimetype": "text/x-python",
   "name": "python",
   "nbconvert_exporter": "python",
   "pygments_lexer": "ipython3",
   "version": "3.8.8"
  }
 },
 "nbformat": 4,
 "nbformat_minor": 5
}
