{
 "cells": [
  {
   "cell_type": "markdown",
   "id": "896286ac",
   "metadata": {},
   "source": [
    "# 문제 1번 : 오픈API를 통해 데이터를 5천 ~ 1만 건 정도 수집해서 파일로 저장한다"
   ]
  },
  {
   "cell_type": "code",
   "execution_count": 1,
   "id": "cdee105d",
   "metadata": {
    "ExecuteTime": {
     "end_time": "2021-09-16T15:42:33.442186Z",
     "start_time": "2021-09-16T15:42:33.439352Z"
    }
   },
   "outputs": [],
   "source": [
    "params1='http://apis.data.go.kr/B552584/ArpltnInforInqireSvc/getMsrstnAcctoRltmMesureDnsty'\n",
    "\n",
    "data = \"\"\n",
    "\n",
    "KEY = 'dGY2NJcKXALDuB%2BmUmz6sO6ZNMq438cZaRF%2Bmg%2BwO8sOjmLRfYKx2NPywVvcoSEoc1k3mUllHnQ2wy3Oak7UHg%3D%3D'"
   ]
  },
  {
   "cell_type": "code",
   "execution_count": 2,
   "id": "d9efb033",
   "metadata": {
    "ExecuteTime": {
     "end_time": "2021-09-16T15:42:33.449280Z",
     "start_time": "2021-09-16T15:42:33.445589Z"
    }
   },
   "outputs": [],
   "source": [
    "station_name = ['강남구'\n",
    "                ,'강동구'\n",
    "                ,'강북구'\n",
    "                ,'강서구'\n",
    "                ,'관악구'\n",
    "                ,'광진구'\n",
    "                ,'구로구'\n",
    "                ,'금천구'\n",
    "                ,'노원구'\n",
    "                ,'도봉구'\n",
    "                ,'동대문구'\n",
    "                ,'동작구'\n",
    "                ,'마포구'\n",
    "                ,'서대문구'\n",
    "                ,'서초구'\n",
    "                ,'성동구'\n",
    "                ,'성북구'\n",
    "                ,'송파구'\n",
    "                ,'양천구'\n",
    "                ,'영등포구'\n",
    "                ,'용산구'\n",
    "                ,'은평구'\n",
    "                ,'종로구'\n",
    "                ,'중구'\n",
    "]"
   ]
  },
  {
   "cell_type": "code",
   "execution_count": 3,
   "id": "d5f63fec",
   "metadata": {
    "ExecuteTime": {
     "end_time": "2021-09-16T15:42:33.460667Z",
     "start_time": "2021-09-16T15:42:33.451921Z"
    }
   },
   "outputs": [
    {
     "data": {
      "text/plain": [
       "24"
      ]
     },
     "execution_count": 3,
     "metadata": {},
     "output_type": "execute_result"
    }
   ],
   "source": [
    "len(station_name)"
   ]
  },
  {
   "cell_type": "code",
   "execution_count": 4,
   "id": "0e70340f",
   "metadata": {
    "ExecuteTime": {
     "end_time": "2021-09-16T15:43:28.886277Z",
     "start_time": "2021-09-16T15:42:33.463495Z"
    }
   },
   "outputs": [
    {
     "name": "stdout",
     "output_type": "stream",
     "text": [
      "강남구\n",
      "강동구\n",
      "강북구\n",
      "강서구\n",
      "관악구\n",
      "광진구\n",
      "구로구\n",
      "금천구\n",
      "노원구\n",
      "도봉구\n",
      "동대문구\n",
      "동작구\n",
      "마포구\n",
      "서대문구\n",
      "서초구\n",
      "성동구\n",
      "성북구\n",
      "송파구\n",
      "양천구\n",
      "영등포구\n",
      "용산구\n",
      "은평구\n",
      "종로구\n",
      "중구\n"
     ]
    }
   ],
   "source": [
    "import urllib\n",
    "import requests\n",
    "\n",
    "data = {}\n",
    "stationName = []\n",
    "\n",
    "for i in station_name:\n",
    "\n",
    "    _d = dict()\n",
    "    _d['returnType']='json'\n",
    "    _d['numOfRows']='500'\n",
    "    _d['pageNo']=1\n",
    "    _d['stationName']=i\n",
    "    _d['dataTerm']='3MONTH'\n",
    "    params2=urllib.parse.urlencode(_d)\n",
    "\n",
    "    params=params1+'?'+'serviceKey='+KEY+'&'+params2\n",
    "#   print(params)\n",
    "    print(i)\n",
    "    data[i]=requests.get(params).text"
   ]
  },
  {
   "cell_type": "code",
   "execution_count": 5,
   "id": "942b8641",
   "metadata": {
    "ExecuteTime": {
     "end_time": "2021-09-16T15:43:28.893701Z",
     "start_time": "2021-09-16T15:43:28.888648Z"
    },
    "scrolled": true
   },
   "outputs": [
    {
     "data": {
      "text/plain": [
       "'  </items>\\n    <numOfRows>500</numOfRows>\\n    <pageNo>1</pageNo>\\n    <totalCount>2202</totalCount>\\n  </body>\\n</response>'"
      ]
     },
     "execution_count": 5,
     "metadata": {},
     "output_type": "execute_result"
    }
   ],
   "source": [
    "data['강남구'][-120:]"
   ]
  },
  {
   "cell_type": "markdown",
   "id": "3f5c8bdd",
   "metadata": {},
   "source": [
    "## 2200건의 데이터중 500건의 데이터를 읽었습니다.\n",
    "## 총 24개 구 * 500 == 12,000건의 데이터를 저장했습니다."
   ]
  },
  {
   "cell_type": "code",
   "execution_count": 6,
   "id": "4bdfe5aa",
   "metadata": {
    "ExecuteTime": {
     "end_time": "2021-09-16T15:43:28.939689Z",
     "start_time": "2021-09-16T15:43:28.896538Z"
    }
   },
   "outputs": [],
   "source": [
    "for i in station_name:\n",
    "    \n",
    "    f = open('./bigdata/'+i+'_500_row_xml.json', 'w')\n",
    "    f.write(data[i])\n",
    "    f.close()"
   ]
  },
  {
   "cell_type": "code",
   "execution_count": 7,
   "id": "82d768ed",
   "metadata": {
    "ExecuteTime": {
     "end_time": "2021-09-16T15:43:29.127981Z",
     "start_time": "2021-09-16T15:43:28.961160Z"
    },
    "scrolled": true
   },
   "outputs": [
    {
     "name": "stdout",
     "output_type": "stream",
     "text": [
      "./bigdata/강남구_500_row_xml.txt       ./bigdata/마포구_500_row_xml.txt\r\n",
      "./bigdata/강동구_500_row_xml.txt       ./bigdata/서대문구_500_row_xml.txt\r\n",
      "./bigdata/강북구_500_row_xml.txt       ./bigdata/서초구_500_row_xml.txt\r\n",
      "./bigdata/강서구_500_row_xml.txt       ./bigdata/성동구_500_row_xml.txt\r\n",
      "./bigdata/관악구_500_row_xml.txt       ./bigdata/성북구_500_row_xml.txt\r\n",
      "./bigdata/광진구_500_row_xml.txt       ./bigdata/송파구_500_row_xml.txt\r\n",
      "./bigdata/구로구_500_row_xml.txt       ./bigdata/양천구_500_row_xml.txt\r\n",
      "./bigdata/금천구_500_row_xml.txt       ./bigdata/영등포구_500_row_xml.txt\r\n",
      "./bigdata/노원구_500_row_xml.txt       ./bigdata/용산구_500_row_xml.txt\r\n",
      "./bigdata/도봉구_500_row_xml.txt       ./bigdata/은평구_500_row_xml.txt\r\n",
      "./bigdata/동대문구_500_row_xml.txt     ./bigdata/종로구_500_row_xml.txt\r\n",
      "./bigdata/동작구_500_row_xml.txt       ./bigdata/중구_500_row_xml.txt\r\n"
     ]
    }
   ],
   "source": [
    "!ls ./bigdata/*_500_row_xml.txt"
   ]
  },
  {
   "cell_type": "markdown",
   "id": "13fab330",
   "metadata": {},
   "source": [
    "# 문제 2번 : 주피터 노트북을 실행한 후, 셀에서 아래 명령어를 실행하여 spark를 생성하고, 그 버전을 출력하세요."
   ]
  },
  {
   "cell_type": "code",
   "execution_count": 8,
   "id": "cca9cffb",
   "metadata": {
    "ExecuteTime": {
     "end_time": "2021-09-16T15:43:29.309726Z",
     "start_time": "2021-09-16T15:43:29.135180Z"
    }
   },
   "outputs": [],
   "source": [
    "import pyspark"
   ]
  },
  {
   "cell_type": "code",
   "execution_count": 9,
   "id": "1352826e",
   "metadata": {
    "ExecuteTime": {
     "end_time": "2021-09-16T15:43:43.000649Z",
     "start_time": "2021-09-16T15:43:29.311621Z"
    },
    "application/vnd.databricks.v1+cell": {
     "inputWidgets": {},
     "nuid": "5d44d117-d629-45f1-b7a5-c064ff1e87cf",
     "showTitle": false,
     "title": ""
    }
   },
   "outputs": [
    {
     "name": "stdout",
     "output_type": "stream",
     "text": [
      "Python 3.8.8 (default, Apr 13 2021, 12:59:45) \n",
      "[Clang 10.0.0 ] :: Anaconda, Inc. on darwin\n",
      "Type \"help\", \"copyright\", \"credits\" or \"license\" for more information.\n",
      "21/09/17 00:43:31 WARN Utils: Your hostname, Jinsungui-MacBookPro.local resolves to a loopback address: 127.0.0.1; using 172.30.1.25 instead (on interface en0)\n",
      "21/09/17 00:43:31 WARN Utils: Set SPARK_LOCAL_IP if you need to bind to another address\n",
      "21/09/17 00:43:31 WARN NativeCodeLoader: Unable to load native-hadoop library for your platform... using builtin-java classes where applicable\n",
      "Using Spark's default log4j profile: org/apache/spark/log4j-defaults.properties\n",
      "Setting default log level to \"WARN\".\n",
      "To adjust logging level use sc.setLogLevel(newLevel). For SparkR, use setLogLevel(newLevel).\n",
      "21/09/17 00:43:32 WARN Utils: Service 'SparkUI' could not bind on port 4040. Attempting port 4041.\n",
      "21/09/17 00:43:32 WARN Utils: Service 'SparkUI' could not bind on port 4041. Attempting port 4042.\n",
      "Welcome to\n",
      "      ____              __\n",
      "     / __/__  ___ _____/ /__\n",
      "    _\\ \\/ _ \\/ _ `/ __/  '_/\n",
      "   /__ / .__/\\_,_/_/ /_/\\_\\   version 3.1.2\n",
      "      /_/\n",
      "\n",
      "Using Python version 3.8.8 (default, Apr 13 2021 12:59:45)\n",
      "Spark context Web UI available at http://172.30.1.25:4042\n",
      "Spark context available as 'sc' (master = local[*], app id = local-1631807012914).\n",
      "SparkSession available as 'spark'.\n",
      ">>> \n",
      "Traceback (most recent call last):\n",
      "  File \"/opt/anaconda3/lib/python3.8/site-packages/pyspark/context.py\", line 285, in signal_handler\n",
      "    raise KeyboardInterrupt()\n",
      "KeyboardInterrupt\n",
      ">>> \n",
      ">>> "
     ]
    }
   ],
   "source": [
    "!pyspark"
   ]
  },
  {
   "cell_type": "code",
   "execution_count": 10,
   "id": "62a3fdad",
   "metadata": {
    "ExecuteTime": {
     "end_time": "2021-09-16T15:43:43.219084Z",
     "start_time": "2021-09-16T15:43:43.003755Z"
    },
    "application/vnd.databricks.v1+cell": {
     "inputWidgets": {},
     "nuid": "3ba13acb-4459-4802-9ada-c8aaf1b95de8",
     "showTitle": false,
     "title": ""
    }
   },
   "outputs": [
    {
     "name": "stdout",
     "output_type": "stream",
     "text": [
      "java version \"1.8.0_301\"\r\n",
      "Java(TM) SE Runtime Environment (build 1.8.0_301-b09)\r\n",
      "Java HotSpot(TM) 64-Bit Server VM (build 25.301-b09, mixed mode)\r\n"
     ]
    }
   ],
   "source": [
    "!java -version"
   ]
  },
  {
   "cell_type": "code",
   "execution_count": 11,
   "id": "8d78a3f8",
   "metadata": {
    "ExecuteTime": {
     "end_time": "2021-09-16T15:43:43.526198Z",
     "start_time": "2021-09-16T15:43:43.221505Z"
    },
    "application/vnd.databricks.v1+cell": {
     "inputWidgets": {},
     "nuid": "a2600231-f91a-4d2c-9a47-0b413fa54223",
     "showTitle": false,
     "title": ""
    }
   },
   "outputs": [
    {
     "name": "stdout",
     "output_type": "stream",
     "text": [
      "javac 1.8.0_301\r\n"
     ]
    }
   ],
   "source": [
    "!javac -version"
   ]
  },
  {
   "cell_type": "code",
   "execution_count": 12,
   "id": "31479d75",
   "metadata": {
    "ExecuteTime": {
     "end_time": "2021-09-16T15:43:43.536470Z",
     "start_time": "2021-09-16T15:43:43.530384Z"
    },
    "application/vnd.databricks.v1+cell": {
     "inputWidgets": {},
     "nuid": "531dc033-ae49-4a6c-a76a-8c9b0cdeca95",
     "showTitle": false,
     "title": ""
    }
   },
   "outputs": [
    {
     "data": {
      "text/plain": [
       "'3.8.8 (default, Apr 13 2021, 12:59:45) \\n[Clang 10.0.0 ]'"
      ]
     },
     "execution_count": 12,
     "metadata": {},
     "output_type": "execute_result"
    }
   ],
   "source": [
    "import sys\n",
    "\n",
    "sys.version"
   ]
  },
  {
   "cell_type": "markdown",
   "id": "76f66c9e",
   "metadata": {},
   "source": [
    "# 문제 3번 : 다음 파일을 읽어서 RDD를 생성하고, 5줄을 화면출력하세요."
   ]
  },
  {
   "cell_type": "code",
   "execution_count": 1,
   "id": "c6076e30",
   "metadata": {
    "ExecuteTime": {
     "end_time": "2021-09-22T13:44:02.739003Z",
     "start_time": "2021-09-22T13:43:55.622417Z"
    }
   },
   "outputs": [],
   "source": [
    "import pyspark\n",
    "\n",
    "myConf=pyspark.SparkConf()\n",
    "spark = pyspark.sql.SparkSession.builder.master('local').appName('myApp').config(conf=myConf).getOrCreate()"
   ]
  },
  {
   "cell_type": "code",
   "execution_count": 4,
   "id": "1d82a5e9",
   "metadata": {
    "ExecuteTime": {
     "end_time": "2021-09-22T13:44:41.315044Z",
     "start_time": "2021-09-22T13:44:40.092258Z"
    }
   },
   "outputs": [
    {
     "name": "stdout",
     "output_type": "stream",
     "text": [
      "['�������,�α���(��),�α���(��),�α���(��),������(��),������(��),������(��),����,�����,������α�,���������,�����μ���,�μ���ȭ��ȣ,�����ͱ�������', '������1��,32292,16538,15754,6.97,3.57,3.4,104.98,19998,1.61,�����ν�,�ο����ǰ�,031-828-2466,2021-09-10', '������2��,31380,15608,15772,6.77,3.37,3.4,98.96,16410,1.91,�����ν�,�ο����ǰ�,031-828-2466,2021-09-10', 'ȣ��1��,36124,17595,18529,7.8,3.8,4,94.96,15653,2.31,�����ν�,�ο����ǰ�,031-828-2466,2021-09-10', 'ȣ��2��,34957,16923,18034,7.54,3.65,3.89,93.84,13683,2.55,�����ν�,�ο����ǰ�,031-828-2466,2021-09-10']\n"
     ]
    }
   ],
   "source": [
    "import os\n",
    "\n",
    "myDf = spark.sparkContext.textFile(os.path.join('../data','경기도 의정부시_인구현황_20210910.csv'))\n",
    "\n",
    "print(myDf.take(5))"
   ]
  },
  {
   "cell_type": "code",
   "execution_count": 16,
   "id": "9e13cf8c",
   "metadata": {
    "ExecuteTime": {
     "end_time": "2021-09-16T15:47:37.813168Z",
     "start_time": "2021-09-16T15:47:37.665574Z"
    }
   },
   "outputs": [
    {
     "name": "stdout",
     "output_type": "stream",
     "text": [
      "[Row(value='������,�������� �α���,65���̻� �α��� ,14������ �α���,���ȭ����,���ȭ����,�����ͱ�������'), Row(value='2012,154057,25826,22861,16.76,112.97,2021-08-31'), Row(value='2013,155641,26936,22393,17.31,120.29,2021-08-31'), Row(value='2014,158512,27877,22058,17.59,126.38,2021-08-31'), Row(value='2015,164519,28979,22362,17.61,129.59,2021-08-31')]\n"
     ]
    }
   ],
   "source": [
    "myDf2 = spark.sparkContext.textFile(os.path.join('../data','제주특별자치도 서귀포시_고령화비율및노령화지수현황_20210831.csv'))\n",
    "\n",
    "print(myDf2.take(5))"
   ]
  },
  {
   "cell_type": "markdown",
   "id": "2decd757",
   "metadata": {},
   "source": [
    "## 한글이 깨지는 이유는 인코딩이 맞지 않기 때문입니다. utf-8 or cp949등으로 인코딩을 맞춰줘야 합니다."
   ]
  },
  {
   "cell_type": "code",
   "execution_count": null,
   "id": "223ec5e9",
   "metadata": {},
   "outputs": [],
   "source": []
  },
  {
   "cell_type": "code",
   "execution_count": 5,
   "id": "d5964361",
   "metadata": {
    "ExecuteTime": {
     "end_time": "2021-09-22T13:46:57.919516Z",
     "start_time": "2021-09-22T13:46:57.845266Z"
    }
   },
   "outputs": [],
   "source": [
    "myDf = spark.sparkContext.binaryFiles(os.path.join('../data','제주특별자치도 서귀포시_고령화비율및노령화지수현황_20210831.csv'))\n",
    "\n",
    "_my = myDf.map(lambda x: x[1].decode('euc-kr'))"
   ]
  },
  {
   "cell_type": "code",
   "execution_count": 7,
   "id": "5f5b96c8",
   "metadata": {
    "ExecuteTime": {
     "end_time": "2021-09-22T13:47:08.236519Z",
     "start_time": "2021-09-22T13:47:08.013682Z"
    }
   },
   "outputs": [
    {
     "data": {
      "text/plain": [
       "['연도별,서귀포시 인구수,65세이상 인구수 ,14세이하 인구수,고령화비율,노령화지수,데이터기준일자\\r\\n2012,154057,25826,22861,16.76,112.97,2021-08-31\\r\\n2013,155641,26936,22393,17.31,120.29,2021-08-31\\r\\n2014,158512,27877,22058,17.59,126.38,2021-08-31\\r\\n2015,164519,28979,22362,17.61,129.59,2021-08-31\\r\\n2016,170932,30030,23044,17.57,130.32,2021-08-31\\r\\n2017,173302,30545,23300,17.63,131.09,2021-08-31\\r\\n2018,181245,32394,24013,17.87,134.9,2021-08-31\\r\\n2019,181584,33707,23707,18.56,142.18,2021-08-31\\r\\n2020,181059,34456,23579,19.03,146.13,2021-08-31\\r\\n2021,183015,36353,23759,19.86,141.12,2021-08-31\\r\\n']"
      ]
     },
     "execution_count": 7,
     "metadata": {},
     "output_type": "execute_result"
    }
   ],
   "source": [
    "_my.take(1)"
   ]
  }
 ],
 "metadata": {
  "kernelspec": {
   "display_name": "Python 3",
   "language": "python",
   "name": "python3"
  },
  "language_info": {
   "codemirror_mode": {
    "name": "ipython",
    "version": 3
   },
   "file_extension": ".py",
   "mimetype": "text/x-python",
   "name": "python",
   "nbconvert_exporter": "python",
   "pygments_lexer": "ipython3",
   "version": "3.8.8"
  }
 },
 "nbformat": 4,
 "nbformat_minor": 5
}
