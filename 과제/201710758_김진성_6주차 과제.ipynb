{
 "cells": [
  {
   "cell_type": "code",
   "execution_count": 1,
   "id": "24d79ae0",
   "metadata": {
    "ExecuteTime": {
     "end_time": "2021-10-06T13:07:22.305678Z",
     "start_time": "2021-10-06T13:07:18.013749Z"
    }
   },
   "outputs": [],
   "source": [
    "import pyspark\n",
    "import os\n",
    "\n",
    "myConf=pyspark.SparkConf()\n",
    "spark = pyspark.sql.SparkSession.builder.master('local').appName('myApp').config(conf=myConf).getOrCreate()"
   ]
  },
  {
   "cell_type": "code",
   "execution_count": 2,
   "id": "7962caa9",
   "metadata": {
    "ExecuteTime": {
     "end_time": "2021-10-06T13:07:26.027665Z",
     "start_time": "2021-10-06T13:07:22.310903Z"
    }
   },
   "outputs": [],
   "source": [
    "mydf = spark.read.option('charset','euc-kr').option('header','true').csv(os.path.join('../data','서울특별시_공공자전거 일별 대여건수_(2018_2019.03).csv'))"
   ]
  },
  {
   "cell_type": "code",
   "execution_count": 3,
   "id": "a3adc43d",
   "metadata": {
    "ExecuteTime": {
     "end_time": "2021-10-06T13:07:26.049004Z",
     "start_time": "2021-10-06T13:07:26.032936Z"
    }
   },
   "outputs": [],
   "source": [
    "mydf = mydf.withColumnRenamed('대여일자','date')\n",
    "mydf = mydf.withColumnRenamed('대여건수','count')"
   ]
  },
  {
   "cell_type": "markdown",
   "id": "d2376ee2",
   "metadata": {},
   "source": [
    "## 문제 1-1 : 년도별 대여건수 합계"
   ]
  },
  {
   "cell_type": "code",
   "execution_count": 5,
   "id": "43f8a7ed",
   "metadata": {
    "ExecuteTime": {
     "end_time": "2021-10-06T13:07:26.296578Z",
     "start_time": "2021-10-06T13:07:26.228734Z"
    }
   },
   "outputs": [],
   "source": [
    "from pyspark.sql.functions import udf\n",
    "from pyspark.sql.types import StringType\n",
    "\n",
    "getyear = udf(lambda x : '2018' if x[:4]=='2018' else '2019',StringType())\n",
    "mydf = mydf.withColumn('year',getyear(mydf['date']))"
   ]
  },
  {
   "cell_type": "code",
   "execution_count": 10,
   "id": "b8a7032f",
   "metadata": {
    "ExecuteTime": {
     "end_time": "2021-10-06T13:09:56.670279Z",
     "start_time": "2021-10-06T13:09:55.732687Z"
    }
   },
   "outputs": [
    {
     "name": "stdout",
     "output_type": "stream",
     "text": [
      "+----+-----------+\n",
      "|year| sum(count)|\n",
      "+----+-----------+\n",
      "|2019|  1871935.0|\n",
      "|2018|1.0124874E7|\n",
      "+----+-----------+\n",
      "\n"
     ]
    }
   ],
   "source": [
    "mydf.groupby('year').agg({'count':'sum'}).show()"
   ]
  },
  {
   "cell_type": "markdown",
   "id": "e8af2902",
   "metadata": {
    "ExecuteTime": {
     "end_time": "2021-10-06T12:58:13.991858Z",
     "start_time": "2021-10-06T12:58:13.962852Z"
    }
   },
   "source": [
    "## 문제 1-2 : 년도별, 월별 대여건수 합계 "
   ]
  },
  {
   "cell_type": "code",
   "execution_count": 14,
   "id": "5f2554a6",
   "metadata": {
    "ExecuteTime": {
     "end_time": "2021-10-06T13:14:57.588106Z",
     "start_time": "2021-10-06T13:14:57.558680Z"
    }
   },
   "outputs": [],
   "source": [
    "getmonth = udf(lambda x : x[5:7],StringType())\n",
    "mydf = mydf.withColumn('month',getmonth(mydf['date']))"
   ]
  },
  {
   "cell_type": "code",
   "execution_count": 17,
   "id": "bb838237",
   "metadata": {
    "ExecuteTime": {
     "end_time": "2021-10-06T13:16:55.973172Z",
     "start_time": "2021-10-06T13:16:53.230893Z"
    }
   },
   "outputs": [
    {
     "name": "stdout",
     "output_type": "stream",
     "text": [
      "+----+--------+--------+--------+--------+--------+---------+---------+---------+---------+---------+--------+--------+\n",
      "|year|      01|      02|      03|      04|      05|       06|       07|       08|       09|       10|      11|      12|\n",
      "+----+--------+--------+--------+--------+--------+---------+---------+---------+---------+---------+--------+--------+\n",
      "|2019|495573.0|471543.0|904819.0|    null|    null|     null|     null|     null|     null|     null|    null|    null|\n",
      "|2018|164367.0|168741.0|462661.0|687885.0|965609.0|1207123.0|1100015.0|1037505.0|1447993.0|1420621.0|961532.0|500822.0|\n",
      "+----+--------+--------+--------+--------+--------+---------+---------+---------+---------+---------+--------+--------+\n",
      "\n"
     ]
    }
   ],
   "source": [
    "mydf.groupby('year').pivot('month').agg({'count':'sum'}).show()"
   ]
  },
  {
   "cell_type": "markdown",
   "id": "89309722",
   "metadata": {},
   "source": [
    "## 문제 1-3 : 년도별, 월별 대여건수 그래프 "
   ]
  },
  {
   "cell_type": "code",
   "execution_count": 22,
   "id": "d2b853e6",
   "metadata": {
    "ExecuteTime": {
     "end_time": "2021-10-06T13:22:22.202436Z",
     "start_time": "2021-10-06T13:22:19.925301Z"
    }
   },
   "outputs": [],
   "source": [
    "mypddf = mydf.groupby('year').pivot('month').agg({'count':'sum'}).toPandas()"
   ]
  },
  {
   "cell_type": "code",
   "execution_count": 24,
   "id": "1b6a6f3d",
   "metadata": {
    "ExecuteTime": {
     "end_time": "2021-10-06T13:23:09.797297Z",
     "start_time": "2021-10-06T13:23:09.792812Z"
    }
   },
   "outputs": [],
   "source": [
    "mypddf.set_index('year',inplace=True)"
   ]
  },
  {
   "cell_type": "code",
   "execution_count": 32,
   "id": "a213768f",
   "metadata": {
    "ExecuteTime": {
     "end_time": "2021-10-06T13:24:32.520053Z",
     "start_time": "2021-10-06T13:24:32.345418Z"
    }
   },
   "outputs": [
    {
     "data": {
      "image/png": "[encoded data removed]",
      "text/plain": [
       "<Figure size 432x288 with 1 Axes>"
      ]
     },
     "metadata": {
      "needs_background": "light"
     },
     "output_type": "display_data"
    }
   ],
   "source": [
    "import matplotlib.pyplot as plt\n",
    "\n",
    "plt.plot(mypddf.columns,mypddf.loc['2018'])\n",
    "plt.plot(mypddf.columns,mypddf.loc['2019'])\n",
    "\n",
    "plt.show()"
   ]
  }
 ],
 "metadata": {
  "kernelspec": {
   "display_name": "Python 3",
   "language": "python",
   "name": "python3"
  },
  "language_info": {
   "codemirror_mode": {
    "name": "ipython",
    "version": 3
   },
   "file_extension": ".py",
   "mimetype": "text/x-python",
   "name": "python",
   "nbconvert_exporter": "python",
   "pygments_lexer": "ipython3",
   "version": "3.8.8"
  }
 },
 "nbformat": 4,
 "nbformat_minor": 5
}
