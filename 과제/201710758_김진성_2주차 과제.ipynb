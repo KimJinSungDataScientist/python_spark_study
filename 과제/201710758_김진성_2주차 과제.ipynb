{
 "cells": [
  {
   "cell_type": "code",
   "execution_count": 1,
   "id": "f083a4f6",
   "metadata": {},
   "outputs": [
    {
     "name": "stdout",
     "output_type": "stream",
     "text": [
      "Overwriting src/key2.properties\n"
     ]
    }
   ],
   "source": [
    "%%writefile src/key2.properties\n",
    "Encoding=8Bx4C1%2Bbogiu3i0M5k7aqOf%2BTA5yCWK%2BFDI7nTSJ0oAhDj1NC5CtbI1TMgFmnpuZxJ9LBoCScqBhuw5sul2tmQ%3D%3D"
   ]
  },
  {
   "cell_type": "code",
   "execution_count": 2,
   "id": "06aa9ca4",
   "metadata": {},
   "outputs": [],
   "source": [
    "import os\n",
    "import requests\n",
    "import src.mylib\n",
    "\n",
    "keyPath=os.path.join(os.getcwd(), 'src', 'key2.properties')\n",
    "key=src.mylib.getKey(keyPath)\n",
    "serviceKey = 'serviceKey='+str(key['Encoding'])"
   ]
  },
  {
   "cell_type": "code",
   "execution_count": 3,
   "id": "823f8411",
   "metadata": {},
   "outputs": [],
   "source": [
    "title = 'title=파이썬'\n",
    "manageCd = 'manageCd=MA'\n",
    "numOfRows = 'numOfRows=20'\n",
    "pageNo = 'pageNo=1'"
   ]
  },
  {
   "cell_type": "code",
   "execution_count": 4,
   "id": "89de7211",
   "metadata": {},
   "outputs": [],
   "source": [
    "url = 'http://openapi-lib.sen.go.kr/openapi/service/lib/openApi'\n",
    "params='&'.join([serviceKey,title,manageCd,numOfRows,pageNo])\n",
    "url='?'.join([url,params])"
   ]
  },
  {
   "cell_type": "code",
   "execution_count": 5,
   "id": "48a7110d",
   "metadata": {},
   "outputs": [
    {
     "data": {
      "text/plain": [
       "'http://openapi-lib.sen.go.kr/openapi/service/lib/openApi?serviceKey=8Bx4C1%2Bbogiu3i0M5k7aqOf%2BTA5yCWK%2BFDI7nTSJ0oAhDj1NC5CtbI1TMgFmnpuZxJ9LBoCScqBhuw5sul2tmQ%3D%3D&title=파이썬&manageCd=MA&numOfRows=20&pageNo=1'"
      ]
     },
     "execution_count": 5,
     "metadata": {},
     "output_type": "execute_result"
    }
   ],
   "source": [
    "url"
   ]
  },
  {
   "cell_type": "code",
   "execution_count": 6,
   "id": "b46831fa",
   "metadata": {
    "scrolled": true
   },
   "outputs": [],
   "source": [
    "import lxml\n",
    "import lxml.etree\n",
    "\n",
    "data = requests.get(url).text\n",
    "tree=lxml.etree.fromstring(data.encode('utf-8'))"
   ]
  },
  {
   "cell_type": "code",
   "execution_count": 7,
   "id": "5ab20ceb",
   "metadata": {},
   "outputs": [
    {
     "data": {
      "text/plain": [
       "'<?xml version=\"1.0\" encoding=\"UTF-8\" standalone=\"yes\"?><response><header><resultCode>00</resultCode><resultMsg>NORMAL SERVICE.</resultMsg></header><body><items><item><appendixYn>N</appendixYn><author>사우랍 카푸 지음 ;김정중 옮김</author><bookKey>5387993273</bookKey><callNo>005.133-ㅋ334ㅍ</callNo><controlNo>KMO201800317</controlNo><isbn>9791161751061</isbn><libName>강남도서관</libName><manageCode>MA</manageCode><pubYear>2018</pubYear><publisher>에이콘출판</publisher><regNo>EMA000257311</regNo><rnum>1</rnum><shelfLocName>[강남]4층 종합자료실</shelfLocName><speciesKey>5387993271</speciesKey><title>파이썬 3로 컴퓨터 비전 다루기  : 이미지 인식, 추적, 기계 학습, 비디오 처리, 컴퓨터 비전 웹서비스</title></item><item><appendixYn>N</appendixYn><author>파루크 사커 지음 ;박영훈 옮김</author><bookKey>5414169695</bookKey><callNo>005.133-ㅅ166ㅍ</callNo><controlNo>KMO201803657</controlNo><isbn>9788960776432</isbn><libName>강남도서관</libName><manageCode>MA</manageCode><pubYear>2015</pubYear><publisher>에이콘</publisher><regNo>EMA000260741</regNo><rnum>2</rnum><shelfLocName>[강남]4층 종합자료실</shelfLocName><speciesKey>5414169693</speciesKey><title>파이썬을 활용한 네트워크 프로그래밍  : 개발자와 관리자를 위한 효율적인 네트워크 애플리케이션 개발</title></item><item><appendixYn>N</appendixYn><author>줄리안 단주 지음;김현욱 옮김</author><bookKey>5414169716</bookKey><callNo>005.135-ㄷ48ㅅ</callNo><controlNo>KMO201803665</controlNo><isbn>9788966262267</isbn><libName>강남도서관</libName><manageCode>MA</manageCode><pubYear>2018</pubYear><publisher>인사이트</publisher><regNo>EMA000260749</regNo><rnum>3</rnum><shelfLocName>[강남]4층 종합자료실</shelfLocName><speciesKey>5414169714</speciesKey><title>실전 스케일링 파이썬 프로그래밍  : 오픈 소스 개발자들에게 배우는 대규모 파이썬 개발 노하우</title></item><item><appendixYn>N</appendixYn><author>김용재 지음</author><bookKey>5399704440</bookKey><callNo>005.133-ㄱ855ㄱ</callNo><controlNo>KMO201801780</controlNo><isbn>9791186697559</isbn><libName>강남도서관</libName><manageCode>MA</manageCode><pubYear>2018</pubYear><publisher>BJpublic :비제이퍼블릭</publisher><regNo>EMA000258898</regNo><rnum>4</rnum><shelfLocName>[강남]4층 종합자료실</shelfLocName><speciesKey>5399704438</speciesKey><title>구글로 공부하는 파이썬  : 구글에서 찾는 파이썬 실전 예제 분석</title></item><item><appendixYn>N</appendixYn><author>마크 러츠 지음 ;강성용 ;조인중 옮김</author><bookKey>5399704462</bookKey><callNo>005.115-ㄹ782ㅍ-2</callNo><controlNo>KMO201801784</controlNo><isbn>9791188621163</isbn><libName>강남도서관</libName><manageCode>MA</manageCode><pubYear>2018</pubYear><publisher>제이펍</publisher><regNo>EMA000258902</regNo><rnum>5</rnum><shelfLocName>[강남]4층 종합자료실</shelfLocName><speciesKey>5399704459</speciesKey><title>러닝 파이썬  = Learning Python, 5th Edition. 하  : 파이썬에 관한 것, 그 무엇이든!</title><vol>2</vol></item><item><appendixYn>N</appendixYn><author>마크 러츠 지음;강성용,조인중 옮김</author><bookKey>5399704227</bookKey><callNo>005.115-ㄹ782ㅍ-1</callNo><controlNo>KMO201801729</controlNo><isbn>9791188621071</isbn><libName>강남도서관</libName><manageCode>MA</manageCode><pubYear>2018</pubYear><publisher>제이펍</publisher><regNo>EMA000258847</regNo><rnum>6</rnum><shelfLocName>[강남]4층 종합자료실</shelfLocName><speciesKey>5399704225</speciesKey><title>러닝 파이썬 = Learning Python, 5th Edition. 상 : 파이썬에 관한 것, 그 무엇이든!</title><vol>1</vol></item><item><appendixYn>N</appendixYn><author>가스통 힐라 지음 ;이승준 옮김</author><bookKey>5399704263</bookKey><callNo>005.118-ㅎ997ㄹ</callNo><controlNo>KMO201801737</controlNo><isbn>9791161750248</isbn><libName>강남도서관</libName><manageCode>MA</manageCode><pubYear>2017</pubYear><publisher>에이콘</publisher><regNo>EMA000258855</regNo><rnum>7</rnum><shelfLocName>[강남]4층 종합자료실</shelfLocName><speciesKey>5399704261</speciesKey><title>RESTful 파이썬 웹 서비스 제작  : 장고, 플라스크, 토네이도와 함께 하는 RESTful 웹 서비스</title></item><item><appendixYn>N</appendixYn><author>조민호 지음</author><bookKey>5414989880</bookKey><callNo>005.1-ㅈ614ㅇ</callNo><controlNo>KMO201803721</controlNo><isbn>9788956747880</isbn><libName>강남도서관</libName><manageCode>MA</manageCode><pubYear>2018</pubYear><publisher>정보문화사</publisher><regNo>EMA000261301</regNo><rnum>8</rnum><shelfLocName>[강남]4층 종합자료실</shelfLocName><speciesKey>5414989878</speciesKey><title>(그림으로 정리한) 알고리즘과 자료구조  : 자바+파이썬</title></item><item><appendixYn>N</appendixYn><author>유씽 얀 지음 ;이병욱 옮김</author><bookKey>5402411007</bookKey><callNo>005.133-ㅇ279ㄱ</callNo><controlNo>KMO201801990</controlNo><isbn>9791161750750</isbn><libName>강남도서관</libName><manageCode>MA</manageCode><pubYear>2018</pubYear><publisher>에이콘</publisher><regNo>EMA000259657</regNo><rnum>9</rnum><shelfLocName>[강남]4층 종합자료실</shelfLocName><speciesKey>5402411005</speciesKey><title>(파이썬으로 배우는) 금융 분석  : 금융의 기초 개념 이해부터 예제를 통한 계산 활용까지</title></item><item><appendixYn>N</appendixYn><author>앨런 비소첵 지음;김창엽,강병호 옮김</author><bookKey>5401705385</bookKey><callNo>005.133-ㅂ972ㄷ</callNo><controlNo>KMO201801981</controlNo><isbn>9791161751580</isbn><libName>강남도서관</libName><manageCode>MA</manageCode><pubYear>2018</pubYear><publisher>에이콘</publisher><regNo>EMA000259637</regNo><rnum>10</rnum><shelfLocName>[강남]4층 종합자료실</shelfLocName><speciesKey>5401705383</speciesKey><title>딥러닝 데이터 전처리 입문  : 파이썬과 R로 배우는 데이터 다루기</title></item><item><appendixYn>N</appendixYn><author>마크 서머필드 지음 ;서형국,오현석 [공]옮김</author><bookKey>5401705154</bookKey><callNo>005.135-ㅅ232ㅍ</callNo><controlNo>KMO201801933</controlNo><isbn>9788998139650</isbn><libName>강남도서관</libName><manageCode>MA</manageCode><pubYear>2014</pubYear><publisher>위키북스</publisher><regNo>EMA000259589</regNo><rnum>11</rnum><shelfLocName>[강남]4층 종합자료실</shelfLocName><speciesKey>5401705152</speciesKey><title>파이썬 인 프랙티스  : 디자인 패턴, 동시성, 네트워킹, 성능 최적화, GUI 제작 기법</title></item><item><appendixYn>N</appendixYn><author>이태화 지음</author><bookKey>5401705170</bookKey><callNo>005.133-ㅇ933ㅇ</callNo><controlNo>KMO201801935</controlNo><isbn>9788965402145</isbn><libName>강남도서관</libName><manageCode>MA</manageCode><pubYear>2018</pubYear><publisher>프리렉</publisher><regNo>EMA000259591</regNo><rnum>12</rnum><shelfLocName>[강남]4층 종합자료실</shelfLocName><speciesKey>5401705168</speciesKey><title>일 잘하는 평사원의 업무 자동화  : 업무에 날개를 달아주는 파이썬</title></item><item><appendixYn>N</appendixYn><author>박정태 지음</author><bookKey>5386413036</bookKey><callNo>005.133-ㅂ482ㅍ</callNo><controlNo>KMO201800205</controlNo><isbn>9788956747750</isbn><libName>강남도서관</libName><manageCode>MA</manageCode><pubYear>2018</pubYear><publisher>정보문화사</publisher><regNo>EMA000257252</regNo><rnum>13</rnum><shelfLocName>[강남]4층 종합자료실</shelfLocName><speciesKey>5386413033</speciesKey><title>파이썬으로 배우는 웹 크롤러  = Python web crawler  : 파이썬 코드 조각으로 데이터 모으기</title></item><item><appendixYn>N</appendixYn><author>브라이언 칼링,말리 아데어 지음 ;민지현 옮김</author><bookKey>5490912243</bookKey><callNo>005.133-ㅋ372ㅍ</callNo><controlNo>KMO202000361</controlNo><isbn>9788928643929</isbn><libName>강남도서관</libName><manageCode>MA</manageCode><pubYear>2018</pubYear><publisher>코딩타임</publisher><regNo>EMA000269116</regNo><rnum>14</rnum><shelfLocName>[강남]4층 종합자료실</shelfLocName><speciesKey>5490912238</speciesKey><title>파이썬으로 시작하는 코딩  : 나만의 게임을 만들어 보자!</title></item><item><appendixYn>N</appendixYn><author>김문권 지음</author><bookKey>5407266252</bookKey><callNo>004.73-ㄱ733ㄷ</callNo><controlNo>KMO201802871</controlNo><isbn>9791158391065</isbn><libName>강남도서관</libName><manageCode>MA</manageCode><pubYear>2018</pubYear><publisher>위키북스</publisher><regNo>EMA000259953</regNo><rnum>15</rnum><shelfLocName>[강남]4층 종합자료실</shelfLocName><speciesKey>5407266250</speciesKey><title>(파이썬과 케라스를 이용한) 딥러닝/강화학습 주식투자  : 퀀트 투자, 알고리즘 트레이딩을 위한 최첨단 해법 입문</title></item><item><appendixYn>N</appendixYn><author>부르크하르트 메이어 지음 ;김동호 옮김</author><bookKey>5407266267</bookKey><callNo>005.133-ㅁ444ㅍ</callNo><controlNo>KMO201802874</controlNo><isbn>9791161751474</isbn><libName>강남도서관</libName><manageCode>MA</manageCode><pubYear>2018</pubYear><publisher>에이콘</publisher><regNo>EMA000259956</regNo><rnum>16</rnum><shelfLocName>[강남]4층 종합자료실</shelfLocName><speciesKey>5407266263</speciesKey><title>파이썬 GUI 프로그래밍 쿡북 2/e  : 파이썬 3로 쉽고 빠르게 GUI 개발하기</title></item><item><appendixYn>N</appendixYn><author>최은석 지음</author><bookKey>5412785101</bookKey><callNo>005.133-ㅊ594ㅍ</callNo><controlNo>KMO201803205</controlNo><isbn>9791158391126</isbn><libName>강남도서관</libName><manageCode>MA</manageCode><pubYear>2018</pubYear><publisher>위키북스</publisher><regNo>EMA000260646</regNo><rnum>17</rnum><shelfLocName>[강남]4층 종합자료실</shelfLocName><speciesKey>5412785099</speciesKey><title>(데이터 분석을 위한) 파이썬 철저 입문  : 기초 문법부터 실무에 필요한 데이터 분석 기술까지 한 번에 배우는</title></item><item><appendixYn>N</appendixYn><author>클린턴 브라운리 지음 ;한창진,이병욱 옮김</author><bookKey>5400251623</bookKey><callNo>005.133-ㅂ956ㅍ</callNo><controlNo>KMO201801794</controlNo><isbn>9791162240144</isbn><libName>강남도서관</libName><manageCode>MA</manageCode><pubYear>2017</pubYear><publisher>한빛미디어</publisher><regNo>EMA000258914</regNo><rnum>18</rnum><shelfLocName>[강남]4층 종합자료실</shelfLocName><speciesKey>5400251621</speciesKey><title>파이썬 데이터 분석 입문</title></item><item><appendixYn>N</appendixYn><author>신호철,최동진,우상정 지음</author><bookKey>5358289885</bookKey><callNo>005.133-ㅅ948ㅍ</callNo><controlNo>KMO201707609</controlNo><isbn>9791158390716</isbn><libName>강남도서관</libName><manageCode>MA</manageCode><pubYear>2017</pubYear><publisher>위키북스</publisher><regNo>EMA000256245</regNo><rnum>19</rnum><shelfLocName>[강남]4층 종합자료실</shelfLocName><speciesKey>5358289883</speciesKey><title>(빠르게 활용하는) 파이썬 3.6 프로그래밍  : 기초 예제부터 라즈베리 파이, 알렉사, 텔레그램 봇까지 만들면서 배우는</title></item><item><appendixYn>N</appendixYn><author>제이크 밴더플래스 지음 ;김정인 옮김</author><bookKey>5368865336</bookKey><callNo>005.133-ㅂ744ㅍ</callNo><controlNo>KMO201705550</controlNo><isbn>9791158390730</isbn><libName>강남도서관</libName><manageCode>MA</manageCode><pubYear>2017</pubYear><publisher>위키북스</publisher><regNo>EMA000256085</regNo><rnum>20</rnum><shelfLocName>[강남]4층 종합자료실</shelfLocName><speciesKey>5368865333</speciesKey><title>파이썬 데이터 사이언스 핸드북  : IPython, Jupyter, NumPy, Pandas, Matplotlib, Scikit-learn 라이브러리를 활용한 데이터 과학과 머신러닝</title></item></items><numOfRows>20</numOfRows><pageNo>1</pageNo><totalCount>160</totalCount></body></response>'"
      ]
     },
     "execution_count": 7,
     "metadata": {},
     "output_type": "execute_result"
    }
   ],
   "source": [
    "data"
   ]
  },
  {
   "cell_type": "code",
   "execution_count": 8,
   "id": "d09ce489",
   "metadata": {},
   "outputs": [],
   "source": [
    "f = open('./data/public_lib.xml', 'w')\n",
    "f.write(data)\n",
    "f.close()"
   ]
  },
  {
   "cell_type": "code",
   "execution_count": 9,
   "id": "2556b266",
   "metadata": {},
   "outputs": [
    {
     "name": "stdout",
     "output_type": "stream",
     "text": [
      "<?xml version=\"1.0\" encoding=\"UTF-8\" standalone=\"yes\"?><response><header><resultCode>00</resultCode><resultMsg>NORMAL SERVICE.</resultMsg></header><body><items><item><appendixYn>N</appendixYn><author>사우랍 카푸 지음 ;김정중 옮김</author><bookKey>5387993273</bookKey><callNo>005.133-ㅋ334ㅍ</callNo><controlNo>KMO201800317</controlNo><isbn>9791161751061</isbn><libName>강남도서관</libName><manageCode>MA</manageCode><pubYear>2018</pubYear><publisher>에이콘출판</publisher><regNo>EMA000257311</regNo><rnum>1</rnum><shelfLocName>[강남]4층 종합자료실</shelfLocName><speciesKey>5387993271</speciesKey><title>파이썬 3로 컴퓨터 비전 다루기  : 이미지 인식, 추적, 기계 학습, 비디오 처리, 컴퓨터 비전 웹서비스</title></item><item><appendixYn>N</appendixYn><author>파루크 사커 지음 ;박영훈 옮김</author><bookKey>5414169695</bookKey><callNo>005.133-ㅅ166ㅍ</callNo><controlNo>KMO201803657</controlNo><isbn>9788960776432</isbn><libName>강남도서관</libName><manageCode>MA</manageCode><pubYear>2015</pubYear><publisher>에이콘</publisher><regNo>EMA000260741</regNo><rnum>2</rnum><shelfLocName>[강남]4층 종합자료실</shelfLocName><speciesKey>5414169693</speciesKey><title>파이썬을 활용한 네트워크 프로그래밍  : 개발자와 관리자를 위한 효율적인 네트워크 애플리케이션 개발</title></item><item><appendixYn>N</appendixYn><author>줄리안 단주 지음;김현욱 옮김</author><bookKey>5414169716</bookKey><callNo>005.135-ㄷ48ㅅ</callNo><controlNo>KMO201803665</controlNo><isbn>9788966262267</isbn><libName>강남도서관</libName><manageCode>MA</manageCode><pubYear>2018</pubYear><publisher>인사이트</publisher><regNo>EMA000260749</regNo><rnum>3</rnum><shelfLocName>[강남]4층 종합자료실</shelfLocName><speciesKey>5414169714</speciesKey><title>실전 스케일링 파이썬 프로그래밍  : 오픈 소스 개발자들에게 배우는 대규모 파이썬 개발 노하우</title></item><item><appendixYn>N</appendixYn><author>김용재 지음</author><bookKey>5399704440</bookKey><callNo>005.133-ㄱ855ㄱ</callNo><controlNo>KMO201801780</controlNo><isbn>9791186697559</isbn><libName>강남도서관</libName><manageCode>MA</manageCode><pubYear>2018</pubYear><publisher>BJpublic :비제이퍼블릭</publisher><regNo>EMA000258898</regNo><rnum>4</rnum><shelfLocName>[강남]4층 종합자료실</shelfLocName><speciesKey>5399704438</speciesKey><title>구글로 공부하는 파이썬  : 구글에서 찾는 파이썬 실전 예제 분석</title></item><item><appendixYn>N</appendixYn><author>마크 러츠 지음 ;강성용 ;조인중 옮김</author><bookKey>5399704462</bookKey><callNo>005.115-ㄹ782ㅍ-2</callNo><controlNo>KMO201801784</controlNo><isbn>9791188621163</isbn><libName>강남도서관</libName><manageCode>MA</manageCode><pubYear>2018</pubYear><publisher>제이펍</publisher><regNo>EMA000258902</regNo><rnum>5</rnum><shelfLocName>[강남]4층 종합자료실</shelfLocName><speciesKey>5399704459</speciesKey><title>러닝 파이썬  = Learning Python, 5th Edition. 하  : 파이썬에 관한 것, 그 무엇이든!</title><vol>2</vol></item><item><appendixYn>N</appendixYn><author>마크 러츠 지음;강성용,조인중 옮김</author><bookKey>5399704227</bookKey><callNo>005.115-ㄹ782ㅍ-1</callNo><controlNo>KMO201801729</controlNo><isbn>9791188621071</isbn><libName>강남도서관</libName><manageCode>MA</manageCode><pubYear>2018</pubYear><publisher>제이펍</publisher><regNo>EMA000258847</regNo><rnum>6</rnum><shelfLocName>[강남]4층 종합자료실</shelfLocName><speciesKey>5399704225</speciesKey><title>러닝 파이썬 = Learning Python, 5th Edition. 상 : 파이썬에 관한 것, 그 무엇이든!</title><vol>1</vol></item><item><appendixYn>N</appendixYn><author>가스통 힐라 지음 ;이승준 옮김</author><bookKey>5399704263</bookKey><callNo>005.118-ㅎ997ㄹ</callNo><controlNo>KMO201801737</controlNo><isbn>9791161750248</isbn><libName>강남도서관</libName><manageCode>MA</manageCode><pubYear>2017</pubYear><publisher>에이콘</publisher><regNo>EMA000258855</regNo><rnum>7</rnum><shelfLocName>[강남]4층 종합자료실</shelfLocName><speciesKey>5399704261</speciesKey><title>RESTful 파이썬 웹 서비스 제작  : 장고, 플라스크, 토네이도와 함께 하는 RESTful 웹 서비스</title></item><item><appendixYn>N</appendixYn><author>조민호 지음</author><bookKey>5414989880</bookKey><callNo>005.1-ㅈ614ㅇ</callNo><controlNo>KMO201803721</controlNo><isbn>9788956747880</isbn><libName>강남도서관</libName><manageCode>MA</manageCode><pubYear>2018</pubYear><publisher>정보문화사</publisher><regNo>EMA000261301</regNo><rnum>8</rnum><shelfLocName>[강남]4층 종합자료실</shelfLocName><speciesKey>5414989878</speciesKey><title>(그림으로 정리한) 알고리즘과 자료구조  : 자바+파이썬</title></item><item><appendixYn>N</appendixYn><author>유씽 얀 지음 ;이병욱 옮김</author><bookKey>5402411007</bookKey><callNo>005.133-ㅇ279ㄱ</callNo><controlNo>KMO201801990</controlNo><isbn>9791161750750</isbn><libName>강남도서관</libName><manageCode>MA</manageCode><pubYear>2018</pubYear><publisher>에이콘</publisher><regNo>EMA000259657</regNo><rnum>9</rnum><shelfLocName>[강남]4층 종합자료실</shelfLocName><speciesKey>5402411005</speciesKey><title>(파이썬으로 배우는) 금융 분석  : 금융의 기초 개념 이해부터 예제를 통한 계산 활용까지</title></item><item><appendixYn>N</appendixYn><author>앨런 비소첵 지음;김창엽,강병호 옮김</author><bookKey>5401705385</bookKey><callNo>005.133-ㅂ972ㄷ</callNo><controlNo>KMO201801981</controlNo><isbn>9791161751580</isbn><libName>강남도서관</libName><manageCode>MA</manageCode><pubYear>2018</pubYear><publisher>에이콘</publisher><regNo>EMA000259637</regNo><rnum>10</rnum><shelfLocName>[강남]4층 종합자료실</shelfLocName><speciesKey>5401705383</speciesKey><title>딥러닝 데이터 전처리 입문  : 파이썬과 R로 배우는 데이터 다루기</title></item><item><appendixYn>N</appendixYn><author>마크 서머필드 지음 ;서형국,오현석 [공]옮김</author><bookKey>5401705154</bookKey><callNo>005.135-ㅅ232ㅍ</callNo><controlNo>KMO201801933</controlNo><isbn>9788998139650</isbn><libName>강남도서관</libName><manageCode>MA</manageCode><pubYear>2014</pubYear><publisher>위키북스</publisher><regNo>EMA000259589</regNo><rnum>11</rnum><shelfLocName>[강남]4층 종합자료실</shelfLocName><speciesKey>5401705152</speciesKey><title>파이썬 인 프랙티스  : 디자인 패턴, 동시성, 네트워킹, 성능 최적화, GUI 제작 기법</title></item><item><appendixYn>N</appendixYn><author>이태화 지음</author><bookKey>5401705170</bookKey><callNo>005.133-ㅇ933ㅇ</callNo><controlNo>KMO201801935</controlNo><isbn>9788965402145</isbn><libName>강남도서관</libName><manageCode>MA</manageCode><pubYear>2018</pubYear><publisher>프리렉</publisher><regNo>EMA000259591</regNo><rnum>12</rnum><shelfLocName>[강남]4층 종합자료실</shelfLocName><speciesKey>5401705168</speciesKey><title>일 잘하는 평사원의 업무 자동화  : 업무에 날개를 달아주는 파이썬</title></item><item><appendixYn>N</appendixYn><author>박정태 지음</author><bookKey>5386413036</bookKey><callNo>005.133-ㅂ482ㅍ</callNo><controlNo>KMO201800205</controlNo><isbn>9788956747750</isbn><libName>강남도서관</libName><manageCode>MA</manageCode><pubYear>2018</pubYear><publisher>정보문화사</publisher><regNo>EMA000257252</regNo><rnum>13</rnum><shelfLocName>[강남]4층 종합자료실</shelfLocName><speciesKey>5386413033</speciesKey><title>파이썬으로 배우는 웹 크롤러  = Python web crawler  : 파이썬 코드 조각으로 데이터 모으기</title></item><item><appendixYn>N</appendixYn><author>브라이언 칼링,말리 아데어 지음 ;민지현 옮김</author><bookKey>5490912243</bookKey><callNo>005.133-ㅋ372ㅍ</callNo><controlNo>KMO202000361</controlNo><isbn>9788928643929</isbn><libName>강남도서관</libName><manageCode>MA</manageCode><pubYear>2018</pubYear><publisher>코딩타임</publisher><regNo>EMA000269116</regNo><rnum>14</rnum><shelfLocName>[강남]4층 종합자료실</shelfLocName><speciesKey>5490912238</speciesKey><title>파이썬으로 시작하는 코딩  : 나만의 게임을 만들어 보자!</title></item><item><appendixYn>N</appendixYn><author>김문권 지음</author><bookKey>5407266252</bookKey><callNo>004.73-ㄱ733ㄷ</callNo><controlNo>KMO201802871</controlNo><isbn>9791158391065</isbn><libName>강남도서관</libName><manageCode>MA</manageCode><pubYear>2018</pubYear><publisher>위키북스</publisher><regNo>EMA000259953</regNo><rnum>15</rnum><shelfLocName>[강남]4층 종합자료실</shelfLocName><speciesKey>5407266250</speciesKey><title>(파이썬과 케라스를 이용한) 딥러닝/강화학습 주식투자  : 퀀트 투자, 알고리즘 트레이딩을 위한 최첨단 해법 입문</title></item><item><appendixYn>N</appendixYn><author>부르크하르트 메이어 지음 ;김동호 옮김</author><bookKey>5407266267</bookKey><callNo>005.133-ㅁ444ㅍ</callNo><controlNo>KMO201802874</controlNo><isbn>9791161751474</isbn><libName>강남도서관</libName><manageCode>MA</manageCode><pubYear>2018</pubYear><publisher>에이콘</publisher><regNo>EMA000259956</regNo><rnum>16</rnum><shelfLocName>[강남]4층 종합자료실</shelfLocName><speciesKey>5407266263</speciesKey><title>파이썬 GUI 프로그래밍 쿡북 2/e  : 파이썬 3로 쉽고 빠르게 GUI 개발하기</title></item><item><appendixYn>N</appendixYn><author>최은석 지음</author><bookKey>5412785101</bookKey><callNo>005.133-ㅊ594ㅍ</callNo><controlNo>KMO201803205</controlNo><isbn>9791158391126</isbn><libName>강남도서관</libName><manageCode>MA</manageCode><pubYear>2018</pubYear><publisher>위키북스</publisher><regNo>EMA000260646</regNo><rnum>17</rnum><shelfLocName>[강남]4층 종합자료실</shelfLocName><speciesKey>5412785099</speciesKey><title>(데이터 분석을 위한) 파이썬 철저 입문  : 기초 문법부터 실무에 필요한 데이터 분석 기술까지 한 번에 배우는</title></item><item><appendixYn>N</appendixYn><author>클린턴 브라운리 지음 ;한창진,이병욱 옮김</author><bookKey>5400251623</bookKey><callNo>005.133-ㅂ956ㅍ</callNo><controlNo>KMO201801794</controlNo><isbn>9791162240144</isbn><libName>강남도서관</libName><manageCode>MA</manageCode><pubYear>2017</pubYear><publisher>한빛미디어</publisher><regNo>EMA000258914</regNo><rnum>18</rnum><shelfLocName>[강남]4층 종합자료실</shelfLocName><speciesKey>5400251621</speciesKey><title>파이썬 데이터 분석 입문</title></item><item><appendixYn>N</appendixYn><author>신호철,최동진,우상정 지음</author><bookKey>5358289885</bookKey><callNo>005.133-ㅅ948ㅍ</callNo><controlNo>KMO201707609</controlNo><isbn>9791158390716</isbn><libName>강남도서관</libName><manageCode>MA</manageCode><pubYear>2017</pubYear><publisher>위키북스</publisher><regNo>EMA000256245</regNo><rnum>19</rnum><shelfLocName>[강남]4층 종합자료실</shelfLocName><speciesKey>5358289883</speciesKey><title>(빠르게 활용하는) 파이썬 3.6 프로그래밍  : 기초 예제부터 라즈베리 파이, 알렉사, 텔레그램 봇까지 만들면서 배우는</title></item><item><appendixYn>N</appendixYn><author>제이크 밴더플래스 지음 ;김정인 옮김</author><bookKey>5368865336</bookKey><callNo>005.133-ㅂ744ㅍ</callNo><controlNo>KMO201705550</controlNo><isbn>9791158390730</isbn><libName>강남도서관</libName><manageCode>MA</manageCode><pubYear>2017</pubYear><publisher>위키북스</publisher><regNo>EMA000256085</regNo><rnum>20</rnum><shelfLocName>[강남]4층 종합자료실</shelfLocName><speciesKey>5368865333</speciesKey><title>파이썬 데이터 사이언스 핸드북  : IPython, Jupyter, NumPy, Pandas, Matplotlib, Scikit-learn 라이브러리를 활용한 데이터 과학과 머신러닝</title></item></items><numOfRows>20</numOfRows><pageNo>1</pageNo><totalCount>160</totalCount></body></response>\n"
     ]
    }
   ],
   "source": [
    "!type src\\public_lib.xml"
   ]
  },
  {
   "cell_type": "code",
   "execution_count": 10,
   "id": "d4a39bb4",
   "metadata": {},
   "outputs": [],
   "source": [
    "import pymongo\n",
    "\n",
    "Client = pymongo.MongoClient('mongodb://localhost')\n",
    "_db=Client['ds_public_lib']\n",
    "_col = _db['books']"
   ]
  },
  {
   "cell_type": "code",
   "execution_count": 11,
   "id": "dc14428d",
   "metadata": {},
   "outputs": [
    {
     "name": "stdout",
     "output_type": "stream",
     "text": [
      "{'_id': ObjectId('613db1d8dc1c4d5c5c816027'), 'appendixYn': 'N', 'author': '사우랍 카푸 지음 ;김정중 옮김', 'bookKey': '5387993273', 'callNo': '005.133-ㅋ334ㅍ', 'controlNo': 'KMO201800317', 'isbn': '9791161751061', 'libName': '강남도서관', 'manageCode': 'MA', 'pubYear': '2018', 'publisher': '에이콘출판', 'regNo': 'EMA000257311', 'rnum': '1', 'shelfLocName': '[강남]4층 종합자료실', 'speciesKey': '5387993271', 'title': '파이썬 3로 컴퓨터 비전 다루기  : 이미지 인식, 추적, 기계 학습, 비디오 처리, 컴퓨터 비전 웹서비스'}\n",
      "{'_id': ObjectId('613db1d8dc1c4d5c5c816028'), 'appendixYn': 'N', 'author': '파루크 사커 지음 ;박영훈 옮김', 'bookKey': '5414169695', 'callNo': '005.133-ㅅ166ㅍ', 'controlNo': 'KMO201803657', 'isbn': '9788960776432', 'libName': '강남도서관', 'manageCode': 'MA', 'pubYear': '2015', 'publisher': '에이콘', 'regNo': 'EMA000260741', 'rnum': '2', 'shelfLocName': '[강남]4층 종합자료실', 'speciesKey': '5414169693', 'title': '파이썬을 활용한 네트워크 프로그래밍  : 개발자와 관리자를 위한 효율적인 네트워크 애플리케이션 개발'}\n",
      "{'_id': ObjectId('613db1d8dc1c4d5c5c816029'), 'appendixYn': 'N', 'author': '줄리안 단주 지음;김현욱 옮김', 'bookKey': '5414169716', 'callNo': '005.135-ㄷ48ㅅ', 'controlNo': 'KMO201803665', 'isbn': '9788966262267', 'libName': '강남도서관', 'manageCode': 'MA', 'pubYear': '2018', 'publisher': '인사이트', 'regNo': 'EMA000260749', 'rnum': '3', 'shelfLocName': '[강남]4층 종합자료실', 'speciesKey': '5414169714', 'title': '실전 스케일링 파이썬 프로그래밍  : 오픈 소스 개발자들에게 배우는 대규모 파이썬 개발 노하우'}\n",
      "{'_id': ObjectId('613db1d8dc1c4d5c5c81602a'), 'appendixYn': 'N', 'author': '김용재 지음', 'bookKey': '5399704440', 'callNo': '005.133-ㄱ855ㄱ', 'controlNo': 'KMO201801780', 'isbn': '9791186697559', 'libName': '강남도서관', 'manageCode': 'MA', 'pubYear': '2018', 'publisher': 'BJpublic :비제이퍼블릭', 'regNo': 'EMA000258898', 'rnum': '4', 'shelfLocName': '[강남]4층 종합자료실', 'speciesKey': '5399704438', 'title': '구글로 공부하는 파이썬  : 구글에서 찾는 파이썬 실전 예제 분석'}\n",
      "{'_id': ObjectId('613db1d8dc1c4d5c5c81602b'), 'appendixYn': 'N', 'author': '마크 러츠 지음 ;강성용 ;조인중 옮김', 'bookKey': '5399704462', 'callNo': '005.115-ㄹ782ㅍ-2', 'controlNo': 'KMO201801784', 'isbn': '9791188621163', 'libName': '강남도서관', 'manageCode': 'MA', 'pubYear': '2018', 'publisher': '제이펍', 'regNo': 'EMA000258902', 'rnum': '5', 'shelfLocName': '[강남]4층 종합자료실', 'speciesKey': '5399704459', 'title': '러닝 파이썬  = Learning Python, 5th Edition. 하  : 파이썬에 관한 것, 그 무엇이든!'}\n",
      "{'_id': ObjectId('613db1d8dc1c4d5c5c81602c'), 'appendixYn': 'N', 'author': '마크 러츠 지음;강성용,조인중 옮김', 'bookKey': '5399704227', 'callNo': '005.115-ㄹ782ㅍ-1', 'controlNo': 'KMO201801729', 'isbn': '9791188621071', 'libName': '강남도서관', 'manageCode': 'MA', 'pubYear': '2018', 'publisher': '제이펍', 'regNo': 'EMA000258847', 'rnum': '6', 'shelfLocName': '[강남]4층 종합자료실', 'speciesKey': '5399704225', 'title': '러닝 파이썬 = Learning Python, 5th Edition. 상 : 파이썬에 관한 것, 그 무엇이든!'}\n",
      "{'_id': ObjectId('613db1d8dc1c4d5c5c81602d'), 'appendixYn': 'N', 'author': '가스통 힐라 지음 ;이승준 옮김', 'bookKey': '5399704263', 'callNo': '005.118-ㅎ997ㄹ', 'controlNo': 'KMO201801737', 'isbn': '9791161750248', 'libName': '강남도서관', 'manageCode': 'MA', 'pubYear': '2017', 'publisher': '에이콘', 'regNo': 'EMA000258855', 'rnum': '7', 'shelfLocName': '[강남]4층 종합자료실', 'speciesKey': '5399704261', 'title': 'RESTful 파이썬 웹 서비스 제작  : 장고, 플라스크, 토네이도와 함께 하는 RESTful 웹 서비스'}\n",
      "{'_id': ObjectId('613db1d8dc1c4d5c5c81602e'), 'appendixYn': 'N', 'author': '조민호 지음', 'bookKey': '5414989880', 'callNo': '005.1-ㅈ614ㅇ', 'controlNo': 'KMO201803721', 'isbn': '9788956747880', 'libName': '강남도서관', 'manageCode': 'MA', 'pubYear': '2018', 'publisher': '정보문화사', 'regNo': 'EMA000261301', 'rnum': '8', 'shelfLocName': '[강남]4층 종합자료실', 'speciesKey': '5414989878', 'title': '(그림으로 정리한) 알고리즘과 자료구조  : 자바+파이썬'}\n",
      "{'_id': ObjectId('613db1d8dc1c4d5c5c81602f'), 'appendixYn': 'N', 'author': '유씽 얀 지음 ;이병욱 옮김', 'bookKey': '5402411007', 'callNo': '005.133-ㅇ279ㄱ', 'controlNo': 'KMO201801990', 'isbn': '9791161750750', 'libName': '강남도서관', 'manageCode': 'MA', 'pubYear': '2018', 'publisher': '에이콘', 'regNo': 'EMA000259657', 'rnum': '9', 'shelfLocName': '[강남]4층 종합자료실', 'speciesKey': '5402411005', 'title': '(파이썬으로 배우는) 금융 분석  : 금융의 기초 개념 이해부터 예제를 통한 계산 활용까지'}\n",
      "{'_id': ObjectId('613db1d8dc1c4d5c5c816030'), 'appendixYn': 'N', 'author': '앨런 비소첵 지음;김창엽,강병호 옮김', 'bookKey': '5401705385', 'callNo': '005.133-ㅂ972ㄷ', 'controlNo': 'KMO201801981', 'isbn': '9791161751580', 'libName': '강남도서관', 'manageCode': 'MA', 'pubYear': '2018', 'publisher': '에이콘', 'regNo': 'EMA000259637', 'rnum': '10', 'shelfLocName': '[강남]4층 종합자료실', 'speciesKey': '5401705383', 'title': '딥러닝 데이터 전처리 입문  : 파이썬과 R로 배우는 데이터 다루기'}\n",
      "{'_id': ObjectId('613db1d8dc1c4d5c5c816031'), 'appendixYn': 'N', 'author': '마크 서머필드 지음 ;서형국,오현석 [공]옮김', 'bookKey': '5401705154', 'callNo': '005.135-ㅅ232ㅍ', 'controlNo': 'KMO201801933', 'isbn': '9788998139650', 'libName': '강남도서관', 'manageCode': 'MA', 'pubYear': '2014', 'publisher': '위키북스', 'regNo': 'EMA000259589', 'rnum': '11', 'shelfLocName': '[강남]4층 종합자료실', 'speciesKey': '5401705152', 'title': '파이썬 인 프랙티스  : 디자인 패턴, 동시성, 네트워킹, 성능 최적화, GUI 제작 기법'}\n",
      "{'_id': ObjectId('613db1d8dc1c4d5c5c816032'), 'appendixYn': 'N', 'author': '이태화 지음', 'bookKey': '5401705170', 'callNo': '005.133-ㅇ933ㅇ', 'controlNo': 'KMO201801935', 'isbn': '9788965402145', 'libName': '강남도서관', 'manageCode': 'MA', 'pubYear': '2018', 'publisher': '프리렉', 'regNo': 'EMA000259591', 'rnum': '12', 'shelfLocName': '[강남]4층 종합자료실', 'speciesKey': '5401705168', 'title': '일 잘하는 평사원의 업무 자동화  : 업무에 날개를 달아주는 파이썬'}\n",
      "{'_id': ObjectId('613db1d8dc1c4d5c5c816033'), 'appendixYn': 'N', 'author': '박정태 지음', 'bookKey': '5386413036', 'callNo': '005.133-ㅂ482ㅍ', 'controlNo': 'KMO201800205', 'isbn': '9788956747750', 'libName': '강남도서관', 'manageCode': 'MA', 'pubYear': '2018', 'publisher': '정보문화사', 'regNo': 'EMA000257252', 'rnum': '13', 'shelfLocName': '[강남]4층 종합자료실', 'speciesKey': '5386413033', 'title': '파이썬으로 배우는 웹 크롤러  = Python web crawler  : 파이썬 코드 조각으로 데이터 모으기'}\n",
      "{'_id': ObjectId('613db1d8dc1c4d5c5c816034'), 'appendixYn': 'N', 'author': '브라이언 칼링,말리 아데어 지음 ;민지현 옮김', 'bookKey': '5490912243', 'callNo': '005.133-ㅋ372ㅍ', 'controlNo': 'KMO202000361', 'isbn': '9788928643929', 'libName': '강남도서관', 'manageCode': 'MA', 'pubYear': '2018', 'publisher': '코딩타임', 'regNo': 'EMA000269116', 'rnum': '14', 'shelfLocName': '[강남]4층 종합자료실', 'speciesKey': '5490912238', 'title': '파이썬으로 시작하는 코딩  : 나만의 게임을 만들어 보자!'}\n",
      "{'_id': ObjectId('613db1d8dc1c4d5c5c816035'), 'appendixYn': 'N', 'author': '김문권 지음', 'bookKey': '5407266252', 'callNo': '004.73-ㄱ733ㄷ', 'controlNo': 'KMO201802871', 'isbn': '9791158391065', 'libName': '강남도서관', 'manageCode': 'MA', 'pubYear': '2018', 'publisher': '위키북스', 'regNo': 'EMA000259953', 'rnum': '15', 'shelfLocName': '[강남]4층 종합자료실', 'speciesKey': '5407266250', 'title': '(파이썬과 케라스를 이용한) 딥러닝/강화학습 주식투자  : 퀀트 투자, 알고리즘 트레이딩을 위한 최첨단 해법 입문'}\n",
      "{'_id': ObjectId('613db1d8dc1c4d5c5c816036'), 'appendixYn': 'N', 'author': '부르크하르트 메이어 지음 ;김동호 옮김', 'bookKey': '5407266267', 'callNo': '005.133-ㅁ444ㅍ', 'controlNo': 'KMO201802874', 'isbn': '9791161751474', 'libName': '강남도서관', 'manageCode': 'MA', 'pubYear': '2018', 'publisher': '에이콘', 'regNo': 'EMA000259956', 'rnum': '16', 'shelfLocName': '[강남]4층 종합자료실', 'speciesKey': '5407266263', 'title': '파이썬 GUI 프로그래밍 쿡북 2/e  : 파이썬 3로 쉽고 빠르게 GUI 개발하기'}\n",
      "{'_id': ObjectId('613db1d8dc1c4d5c5c816037'), 'appendixYn': 'N', 'author': '최은석 지음', 'bookKey': '5412785101', 'callNo': '005.133-ㅊ594ㅍ', 'controlNo': 'KMO201803205', 'isbn': '9791158391126', 'libName': '강남도서관', 'manageCode': 'MA', 'pubYear': '2018', 'publisher': '위키북스', 'regNo': 'EMA000260646', 'rnum': '17', 'shelfLocName': '[강남]4층 종합자료실', 'speciesKey': '5412785099', 'title': '(데이터 분석을 위한) 파이썬 철저 입문  : 기초 문법부터 실무에 필요한 데이터 분석 기술까지 한 번에 배우는'}\n",
      "{'_id': ObjectId('613db1d8dc1c4d5c5c816038'), 'appendixYn': 'N', 'author': '클린턴 브라운리 지음 ;한창진,이병욱 옮김', 'bookKey': '5400251623', 'callNo': '005.133-ㅂ956ㅍ', 'controlNo': 'KMO201801794', 'isbn': '9791162240144', 'libName': '강남도서관', 'manageCode': 'MA', 'pubYear': '2017', 'publisher': '한빛미디어', 'regNo': 'EMA000258914', 'rnum': '18', 'shelfLocName': '[강남]4층 종합자료실', 'speciesKey': '5400251621', 'title': '파이썬 데이터 분석 입문'}\n",
      "{'_id': ObjectId('613db1d8dc1c4d5c5c816039'), 'appendixYn': 'N', 'author': '신호철,최동진,우상정 지음', 'bookKey': '5358289885', 'callNo': '005.133-ㅅ948ㅍ', 'controlNo': 'KMO201707609', 'isbn': '9791158390716', 'libName': '강남도서관', 'manageCode': 'MA', 'pubYear': '2017', 'publisher': '위키북스', 'regNo': 'EMA000256245', 'rnum': '19', 'shelfLocName': '[강남]4층 종합자료실', 'speciesKey': '5358289883', 'title': '(빠르게 활용하는) 파이썬 3.6 프로그래밍  : 기초 예제부터 라즈베리 파이, 알렉사, 텔레그램 봇까지 만들면서 배우는'}\n",
      "{'_id': ObjectId('613db1d8dc1c4d5c5c81603a'), 'appendixYn': 'N', 'author': '제이크 밴더플래스 지음 ;김정인 옮김', 'bookKey': '5368865336', 'callNo': '005.133-ㅂ744ㅍ', 'controlNo': 'KMO201705550', 'isbn': '9791158390730', 'libName': '강남도서관', 'manageCode': 'MA', 'pubYear': '2017', 'publisher': '위키북스', 'regNo': 'EMA000256085', 'rnum': '20', 'shelfLocName': '[강남]4층 종합자료실', 'speciesKey': '5368865333', 'title': '파이썬 데이터 사이언스 핸드북  : IPython, Jupyter, NumPy, Pandas, Matplotlib, Scikit-learn 라이브러리를 활용한 데이터 과학과 머신러닝'}\n",
      "{'_id': ObjectId('613dc2023c9556f52522913b'), 'appendixYn': 'N', 'author': '사우랍 카푸 지음 ;김정중 옮김', 'bookKey': '5387993273', 'callNo': '005.133-ㅋ334ㅍ', 'controlNo': 'KMO201800317', 'isbn': '9791161751061', 'libName': '강남도서관', 'manageCode': 'MA', 'pubYear': '2018', 'publisher': '에이콘출판', 'regNo': 'EMA000257311', 'rnum': '1', 'shelfLocName': '[강남]4층 종합자료실', 'speciesKey': '5387993271', 'title': '파이썬 3로 컴퓨터 비전 다루기  : 이미지 인식, 추적, 기계 학습, 비디오 처리, 컴퓨터 비전 웹서비스'}\n",
      "{'_id': ObjectId('613dc2023c9556f52522913c'), 'appendixYn': 'N', 'author': '파루크 사커 지음 ;박영훈 옮김', 'bookKey': '5414169695', 'callNo': '005.133-ㅅ166ㅍ', 'controlNo': 'KMO201803657', 'isbn': '9788960776432', 'libName': '강남도서관', 'manageCode': 'MA', 'pubYear': '2015', 'publisher': '에이콘', 'regNo': 'EMA000260741', 'rnum': '2', 'shelfLocName': '[강남]4층 종합자료실', 'speciesKey': '5414169693', 'title': '파이썬을 활용한 네트워크 프로그래밍  : 개발자와 관리자를 위한 효율적인 네트워크 애플리케이션 개발'}\n",
      "{'_id': ObjectId('613dc2023c9556f52522913d'), 'appendixYn': 'N', 'author': '줄리안 단주 지음;김현욱 옮김', 'bookKey': '5414169716', 'callNo': '005.135-ㄷ48ㅅ', 'controlNo': 'KMO201803665', 'isbn': '9788966262267', 'libName': '강남도서관', 'manageCode': 'MA', 'pubYear': '2018', 'publisher': '인사이트', 'regNo': 'EMA000260749', 'rnum': '3', 'shelfLocName': '[강남]4층 종합자료실', 'speciesKey': '5414169714', 'title': '실전 스케일링 파이썬 프로그래밍  : 오픈 소스 개발자들에게 배우는 대규모 파이썬 개발 노하우'}\n",
      "{'_id': ObjectId('613dc2023c9556f52522913e'), 'appendixYn': 'N', 'author': '김용재 지음', 'bookKey': '5399704440', 'callNo': '005.133-ㄱ855ㄱ', 'controlNo': 'KMO201801780', 'isbn': '9791186697559', 'libName': '강남도서관', 'manageCode': 'MA', 'pubYear': '2018', 'publisher': 'BJpublic :비제이퍼블릭', 'regNo': 'EMA000258898', 'rnum': '4', 'shelfLocName': '[강남]4층 종합자료실', 'speciesKey': '5399704438', 'title': '구글로 공부하는 파이썬  : 구글에서 찾는 파이썬 실전 예제 분석'}\n",
      "{'_id': ObjectId('613dc2023c9556f52522913f'), 'appendixYn': 'N', 'author': '마크 러츠 지음 ;강성용 ;조인중 옮김', 'bookKey': '5399704462', 'callNo': '005.115-ㄹ782ㅍ-2', 'controlNo': 'KMO201801784', 'isbn': '9791188621163', 'libName': '강남도서관', 'manageCode': 'MA', 'pubYear': '2018', 'publisher': '제이펍', 'regNo': 'EMA000258902', 'rnum': '5', 'shelfLocName': '[강남]4층 종합자료실', 'speciesKey': '5399704459', 'title': '러닝 파이썬  = Learning Python, 5th Edition. 하  : 파이썬에 관한 것, 그 무엇이든!'}\n",
      "{'_id': ObjectId('613dc2023c9556f525229140'), 'appendixYn': 'N', 'author': '마크 러츠 지음;강성용,조인중 옮김', 'bookKey': '5399704227', 'callNo': '005.115-ㄹ782ㅍ-1', 'controlNo': 'KMO201801729', 'isbn': '9791188621071', 'libName': '강남도서관', 'manageCode': 'MA', 'pubYear': '2018', 'publisher': '제이펍', 'regNo': 'EMA000258847', 'rnum': '6', 'shelfLocName': '[강남]4층 종합자료실', 'speciesKey': '5399704225', 'title': '러닝 파이썬 = Learning Python, 5th Edition. 상 : 파이썬에 관한 것, 그 무엇이든!'}\n",
      "{'_id': ObjectId('613dc2023c9556f525229141'), 'appendixYn': 'N', 'author': '가스통 힐라 지음 ;이승준 옮김', 'bookKey': '5399704263', 'callNo': '005.118-ㅎ997ㄹ', 'controlNo': 'KMO201801737', 'isbn': '9791161750248', 'libName': '강남도서관', 'manageCode': 'MA', 'pubYear': '2017', 'publisher': '에이콘', 'regNo': 'EMA000258855', 'rnum': '7', 'shelfLocName': '[강남]4층 종합자료실', 'speciesKey': '5399704261', 'title': 'RESTful 파이썬 웹 서비스 제작  : 장고, 플라스크, 토네이도와 함께 하는 RESTful 웹 서비스'}\n",
      "{'_id': ObjectId('613dc2023c9556f525229142'), 'appendixYn': 'N', 'author': '조민호 지음', 'bookKey': '5414989880', 'callNo': '005.1-ㅈ614ㅇ', 'controlNo': 'KMO201803721', 'isbn': '9788956747880', 'libName': '강남도서관', 'manageCode': 'MA', 'pubYear': '2018', 'publisher': '정보문화사', 'regNo': 'EMA000261301', 'rnum': '8', 'shelfLocName': '[강남]4층 종합자료실', 'speciesKey': '5414989878', 'title': '(그림으로 정리한) 알고리즘과 자료구조  : 자바+파이썬'}\n",
      "{'_id': ObjectId('613dc2023c9556f525229143'), 'appendixYn': 'N', 'author': '유씽 얀 지음 ;이병욱 옮김', 'bookKey': '5402411007', 'callNo': '005.133-ㅇ279ㄱ', 'controlNo': 'KMO201801990', 'isbn': '9791161750750', 'libName': '강남도서관', 'manageCode': 'MA', 'pubYear': '2018', 'publisher': '에이콘', 'regNo': 'EMA000259657', 'rnum': '9', 'shelfLocName': '[강남]4층 종합자료실', 'speciesKey': '5402411005', 'title': '(파이썬으로 배우는) 금융 분석  : 금융의 기초 개념 이해부터 예제를 통한 계산 활용까지'}\n",
      "{'_id': ObjectId('613dc2023c9556f525229144'), 'appendixYn': 'N', 'author': '앨런 비소첵 지음;김창엽,강병호 옮김', 'bookKey': '5401705385', 'callNo': '005.133-ㅂ972ㄷ', 'controlNo': 'KMO201801981', 'isbn': '9791161751580', 'libName': '강남도서관', 'manageCode': 'MA', 'pubYear': '2018', 'publisher': '에이콘', 'regNo': 'EMA000259637', 'rnum': '10', 'shelfLocName': '[강남]4층 종합자료실', 'speciesKey': '5401705383', 'title': '딥러닝 데이터 전처리 입문  : 파이썬과 R로 배우는 데이터 다루기'}\n",
      "{'_id': ObjectId('613dc2023c9556f525229145'), 'appendixYn': 'N', 'author': '마크 서머필드 지음 ;서형국,오현석 [공]옮김', 'bookKey': '5401705154', 'callNo': '005.135-ㅅ232ㅍ', 'controlNo': 'KMO201801933', 'isbn': '9788998139650', 'libName': '강남도서관', 'manageCode': 'MA', 'pubYear': '2014', 'publisher': '위키북스', 'regNo': 'EMA000259589', 'rnum': '11', 'shelfLocName': '[강남]4층 종합자료실', 'speciesKey': '5401705152', 'title': '파이썬 인 프랙티스  : 디자인 패턴, 동시성, 네트워킹, 성능 최적화, GUI 제작 기법'}\n",
      "{'_id': ObjectId('613dc2023c9556f525229146'), 'appendixYn': 'N', 'author': '이태화 지음', 'bookKey': '5401705170', 'callNo': '005.133-ㅇ933ㅇ', 'controlNo': 'KMO201801935', 'isbn': '9788965402145', 'libName': '강남도서관', 'manageCode': 'MA', 'pubYear': '2018', 'publisher': '프리렉', 'regNo': 'EMA000259591', 'rnum': '12', 'shelfLocName': '[강남]4층 종합자료실', 'speciesKey': '5401705168', 'title': '일 잘하는 평사원의 업무 자동화  : 업무에 날개를 달아주는 파이썬'}\n",
      "{'_id': ObjectId('613dc2023c9556f525229147'), 'appendixYn': 'N', 'author': '박정태 지음', 'bookKey': '5386413036', 'callNo': '005.133-ㅂ482ㅍ', 'controlNo': 'KMO201800205', 'isbn': '9788956747750', 'libName': '강남도서관', 'manageCode': 'MA', 'pubYear': '2018', 'publisher': '정보문화사', 'regNo': 'EMA000257252', 'rnum': '13', 'shelfLocName': '[강남]4층 종합자료실', 'speciesKey': '5386413033', 'title': '파이썬으로 배우는 웹 크롤러  = Python web crawler  : 파이썬 코드 조각으로 데이터 모으기'}\n",
      "{'_id': ObjectId('613dc2023c9556f525229148'), 'appendixYn': 'N', 'author': '브라이언 칼링,말리 아데어 지음 ;민지현 옮김', 'bookKey': '5490912243', 'callNo': '005.133-ㅋ372ㅍ', 'controlNo': 'KMO202000361', 'isbn': '9788928643929', 'libName': '강남도서관', 'manageCode': 'MA', 'pubYear': '2018', 'publisher': '코딩타임', 'regNo': 'EMA000269116', 'rnum': '14', 'shelfLocName': '[강남]4층 종합자료실', 'speciesKey': '5490912238', 'title': '파이썬으로 시작하는 코딩  : 나만의 게임을 만들어 보자!'}\n",
      "{'_id': ObjectId('613dc2023c9556f525229149'), 'appendixYn': 'N', 'author': '김문권 지음', 'bookKey': '5407266252', 'callNo': '004.73-ㄱ733ㄷ', 'controlNo': 'KMO201802871', 'isbn': '9791158391065', 'libName': '강남도서관', 'manageCode': 'MA', 'pubYear': '2018', 'publisher': '위키북스', 'regNo': 'EMA000259953', 'rnum': '15', 'shelfLocName': '[강남]4층 종합자료실', 'speciesKey': '5407266250', 'title': '(파이썬과 케라스를 이용한) 딥러닝/강화학습 주식투자  : 퀀트 투자, 알고리즘 트레이딩을 위한 최첨단 해법 입문'}\n",
      "{'_id': ObjectId('613dc2023c9556f52522914a'), 'appendixYn': 'N', 'author': '부르크하르트 메이어 지음 ;김동호 옮김', 'bookKey': '5407266267', 'callNo': '005.133-ㅁ444ㅍ', 'controlNo': 'KMO201802874', 'isbn': '9791161751474', 'libName': '강남도서관', 'manageCode': 'MA', 'pubYear': '2018', 'publisher': '에이콘', 'regNo': 'EMA000259956', 'rnum': '16', 'shelfLocName': '[강남]4층 종합자료실', 'speciesKey': '5407266263', 'title': '파이썬 GUI 프로그래밍 쿡북 2/e  : 파이썬 3로 쉽고 빠르게 GUI 개발하기'}\n",
      "{'_id': ObjectId('613dc2023c9556f52522914b'), 'appendixYn': 'N', 'author': '최은석 지음', 'bookKey': '5412785101', 'callNo': '005.133-ㅊ594ㅍ', 'controlNo': 'KMO201803205', 'isbn': '9791158391126', 'libName': '강남도서관', 'manageCode': 'MA', 'pubYear': '2018', 'publisher': '위키북스', 'regNo': 'EMA000260646', 'rnum': '17', 'shelfLocName': '[강남]4층 종합자료실', 'speciesKey': '5412785099', 'title': '(데이터 분석을 위한) 파이썬 철저 입문  : 기초 문법부터 실무에 필요한 데이터 분석 기술까지 한 번에 배우는'}\n",
      "{'_id': ObjectId('613dc2023c9556f52522914c'), 'appendixYn': 'N', 'author': '클린턴 브라운리 지음 ;한창진,이병욱 옮김', 'bookKey': '5400251623', 'callNo': '005.133-ㅂ956ㅍ', 'controlNo': 'KMO201801794', 'isbn': '9791162240144', 'libName': '강남도서관', 'manageCode': 'MA', 'pubYear': '2017', 'publisher': '한빛미디어', 'regNo': 'EMA000258914', 'rnum': '18', 'shelfLocName': '[강남]4층 종합자료실', 'speciesKey': '5400251621', 'title': '파이썬 데이터 분석 입문'}\n",
      "{'_id': ObjectId('613dc2023c9556f52522914d'), 'appendixYn': 'N', 'author': '신호철,최동진,우상정 지음', 'bookKey': '5358289885', 'callNo': '005.133-ㅅ948ㅍ', 'controlNo': 'KMO201707609', 'isbn': '9791158390716', 'libName': '강남도서관', 'manageCode': 'MA', 'pubYear': '2017', 'publisher': '위키북스', 'regNo': 'EMA000256245', 'rnum': '19', 'shelfLocName': '[강남]4층 종합자료실', 'speciesKey': '5358289883', 'title': '(빠르게 활용하는) 파이썬 3.6 프로그래밍  : 기초 예제부터 라즈베리 파이, 알렉사, 텔레그램 봇까지 만들면서 배우는'}\n",
      "{'_id': ObjectId('613dc2023c9556f52522914e'), 'appendixYn': 'N', 'author': '제이크 밴더플래스 지음 ;김정인 옮김', 'bookKey': '5368865336', 'callNo': '005.133-ㅂ744ㅍ', 'controlNo': 'KMO201705550', 'isbn': '9791158390730', 'libName': '강남도서관', 'manageCode': 'MA', 'pubYear': '2017', 'publisher': '위키북스', 'regNo': 'EMA000256085', 'rnum': '20', 'shelfLocName': '[강남]4층 종합자료실', 'speciesKey': '5368865333', 'title': '파이썬 데이터 사이언스 핸드북  : IPython, Jupyter, NumPy, Pandas, Matplotlib, Scikit-learn 라이브러리를 활용한 데이터 과학과 머신러닝'}\n"
     ]
    },
    {
     "name": "stderr",
     "output_type": "stream",
     "text": [
      "<ipython-input-11-e1fd89abc11d>:38: DeprecationWarning: insert is deprecated. Use insert_one or insert_many instead.\n",
      "  x = _col.insert(lib_dict)\n"
     ]
    }
   ],
   "source": [
    "for node in tree.xpath('//item'):\n",
    "    appendixYn = node.find('appendixYn').text\n",
    "    author = node.find('author').text\n",
    "    bookKey = node.find('bookKey').text\n",
    "    callNo = node.find('callNo').text\n",
    "    controlNo = node.find('controlNo').text\n",
    "    isbn = node.find('isbn').text\n",
    "    libName = node.find('libName').text\n",
    "    manageCode = node.find('manageCode').text\n",
    "    pubYear = node.find('pubYear').text\n",
    "    publisher = node.find('publisher').text\n",
    "    regNo = node.find('regNo').text\n",
    "    rnum = node.find('rnum').text\n",
    "    shelfLocName = node.find('shelfLocName').text\n",
    "    speciesKey = node.find('speciesKey').text\n",
    "    title = node.find('title').text\n",
    "    \n",
    "    lib_dict = [\n",
    "        {\n",
    "            'appendixYn' : appendixYn,\n",
    "            'author' : author,\n",
    "            'bookKey' : bookKey,\n",
    "            'callNo' : callNo,\n",
    "            'controlNo' : controlNo,\n",
    "            'isbn' : isbn,\n",
    "            'libName' : libName,\n",
    "            'manageCode' : manageCode,\n",
    "            'pubYear' : pubYear,\n",
    "            'publisher' : publisher,\n",
    "            'regNo' : regNo,\n",
    "            'rnum' : rnum,\n",
    "            'shelfLocName' : shelfLocName,\n",
    "            'speciesKey' : speciesKey,\n",
    "            'title' : title\n",
    "        }\n",
    "    ]\n",
    "    \n",
    "    x = _col.insert(lib_dict)\n",
    "    \n",
    "for i in _col.find():\n",
    "    print(i)"
   ]
  },
  {
   "cell_type": "code",
   "execution_count": 12,
   "id": "7d58b630",
   "metadata": {},
   "outputs": [
    {
     "name": "stdout",
     "output_type": "stream",
     "text": [
      "['admin', 'config', 'ds_open_subwayPassengersDb', 'ds_public_lib', 'local', 'myDB']\n"
     ]
    }
   ],
   "source": [
    "print(Client.list_database_names())"
   ]
  },
  {
   "cell_type": "code",
   "execution_count": 13,
   "id": "4a55108b",
   "metadata": {},
   "outputs": [
    {
     "data": {
      "text/plain": [
       "['books']"
      ]
     },
     "execution_count": 13,
     "metadata": {},
     "output_type": "execute_result"
    }
   ],
   "source": [
    "_db.list_collection_names()"
   ]
  },
  {
   "cell_type": "code",
   "execution_count": 14,
   "id": "c3220ae6",
   "metadata": {},
   "outputs": [
    {
     "data": {
      "text/plain": [
       "40"
      ]
     },
     "execution_count": 14,
     "metadata": {},
     "output_type": "execute_result"
    }
   ],
   "source": [
    "#두 번 돌려서, 중첩되어서 40개가 되었습니다.\n",
    "\n",
    "_db.books.count_documents({})"
   ]
  },
  {
   "cell_type": "code",
   "execution_count": 15,
   "id": "c2948c1e",
   "metadata": {},
   "outputs": [
    {
     "data": {
      "text/plain": [
       "{'_id': ObjectId('613db1d8dc1c4d5c5c816027'),\n",
       " 'appendixYn': 'N',\n",
       " 'author': '사우랍 카푸 지음 ;김정중 옮김',\n",
       " 'bookKey': '5387993273',\n",
       " 'callNo': '005.133-ㅋ334ㅍ',\n",
       " 'controlNo': 'KMO201800317',\n",
       " 'isbn': '9791161751061',\n",
       " 'libName': '강남도서관',\n",
       " 'manageCode': 'MA',\n",
       " 'pubYear': '2018',\n",
       " 'publisher': '에이콘출판',\n",
       " 'regNo': 'EMA000257311',\n",
       " 'rnum': '1',\n",
       " 'shelfLocName': '[강남]4층 종합자료실',\n",
       " 'speciesKey': '5387993271',\n",
       " 'title': '파이썬 3로 컴퓨터 비전 다루기  : 이미지 인식, 추적, 기계 학습, 비디오 처리, 컴퓨터 비전 웹서비스'}"
      ]
     },
     "execution_count": 15,
     "metadata": {},
     "output_type": "execute_result"
    }
   ],
   "source": [
    "_db.books.find_one()"
   ]
  },
  {
   "cell_type": "code",
   "execution_count": 16,
   "id": "4f9807f7",
   "metadata": {},
   "outputs": [
    {
     "name": "stdout",
     "output_type": "stream",
     "text": [
      "Overwriting src/ds_public_lib.js\n"
     ]
    }
   ],
   "source": [
    "%%writefile src/ds_public_lib.js\n",
    "show dbs\n",
    "use ds_public_lib\n",
    "show collections\n",
    "db.books.find()"
   ]
  },
  {
   "cell_type": "code",
   "execution_count": 17,
   "id": "503b2ebc",
   "metadata": {},
   "outputs": [
    {
     "name": "stdout",
     "output_type": "stream",
     "text": [
      "MongoDB shell version v5.0.2\n",
      "connecting to: mongodb://127.0.0.1:27017/?compressors=disabled&gssapiServiceName=mongodb\n",
      "Implicit session: session { \"id\" : UUID(\"e20c8c70-6590-4982-9e98-f941559f792c\") }\n",
      "MongoDB server version: 5.0.2\n",
      "================\n",
      "Warning: the \"mongo\" shell has been superseded by \"mongosh\",\n",
      "which delivers improved usability and compatibility.The \"mongo\" shell has been deprecated and will be removed in\n",
      "an upcoming release.\n",
      "We recommend you begin using \"mongosh\".\n",
      "For installation instructions, see\n",
      "https://docs.mongodb.com/mongodb-shell/install/\n",
      "================\n",
      "admin                       0.000GB\n",
      "config                      0.000GB\n",
      "ds_open_subwayPassengersDb  0.000GB\n",
      "ds_public_lib               0.000GB\n",
      "local                       0.000GB\n",
      "myDB                        0.000GB\n",
      "switched to db ds_public_lib\n",
      "books\n",
      "{ \"_id\" : ObjectId(\"613db1d8dc1c4d5c5c816027\"), \"appendixYn\" : \"N\", \"author\" : \"�궗�슦�엻 移댄뫖 吏��쓬 ;源��젙以� �삷源�\", \"bookKey\" : \"5387993273\", \"callNo\" : \"005.133-�뀑334�뀓\", \"controlNo\" : \"KMO201800317\", \"isbn\" : \"9791161751061\", \"libName\" : \"媛뺣궓�룄�꽌愿�\", \"manageCode\" : \"MA\", \"pubYear\" : \"2018\", \"publisher\" : \"�뿉�씠肄섏텧�뙋\", \"regNo\" : \"EMA000257311\", \"rnum\" : \"1\", \"shelfLocName\" : \"[媛뺣궓]4痢� 醫낇빀�옄猷뚯떎\", \"speciesKey\" : \"5387993271\", \"title\" : \"�뙆�씠�뜫 3濡� 而댄벂�꽣 鍮꾩쟾 �떎猷④린  : �씠誘몄�� �씤�떇, 異붿쟻, 湲곌퀎 �븰�뒿, 鍮꾨뵒�삤 泥섎━, 而댄벂�꽣 鍮꾩쟾 �쎒�꽌鍮꾩뒪\" }\n",
      "{ \"_id\" : ObjectId(\"613db1d8dc1c4d5c5c816028\"), \"appendixYn\" : \"N\", \"author\" : \"�뙆猷⑦겕 �궗而� 吏��쓬 ;諛뺤쁺�썕 �삷源�\", \"bookKey\" : \"5414169695\", \"callNo\" : \"005.133-�뀉166�뀓\", \"controlNo\" : \"KMO201803657\", \"isbn\" : \"9788960776432\", \"libName\" : \"媛뺣궓�룄�꽌愿�\", \"manageCode\" : \"MA\", \"pubYear\" : \"2015\", \"publisher\" : \"�뿉�씠肄�\", \"regNo\" : \"EMA000260741\", \"rnum\" : \"2\", \"shelfLocName\" : \"[媛뺣궓]4痢� 醫낇빀�옄猷뚯떎\", \"speciesKey\" : \"5414169693\", \"title\" : \"�뙆�씠�뜫�쓣 �솢�슜�븳 �꽕�듃�썙�겕 �봽濡쒓렇�옒諛�  : 媛쒕컻�옄��� 愿�由ъ옄瑜� �쐞�븳 �슚�쑉�쟻�씤 �꽕�듃�썙�겕 �븷�뵆由ъ���씠�뀡 媛쒕컻\" }\n",
      "{ \"_id\" : ObjectId(\"613db1d8dc1c4d5c5c816029\"), \"appendixYn\" : \"N\", \"author\" : \"以꾨━�븞 �떒二� 吏��쓬;源��쁽�슧 �삷源�\", \"bookKey\" : \"5414169716\", \"callNo\" : \"005.135-�꽬48�뀉\", \"controlNo\" : \"KMO201803665\", \"isbn\" : \"9788966262267\", \"libName\" : \"媛뺣궓�룄�꽌愿�\", \"manageCode\" : \"MA\", \"pubYear\" : \"2018\", \"publisher\" : \"�씤�궗�씠�듃\", \"regNo\" : \"EMA000260749\", \"rnum\" : \"3\", \"shelfLocName\" : \"[媛뺣궓]4痢� 醫낇빀�옄猷뚯떎\", \"speciesKey\" : \"5414169714\", \"title\" : \"�떎�쟾 �뒪耳��씪留� �뙆�씠�뜫 �봽濡쒓렇�옒諛�  : �삤�뵂 �냼�뒪 媛쒕컻�옄�뱾�뿉寃� 諛곗슦�뒗 ���洹쒕え �뙆�씠�뜫 媛쒕컻 �끂�븯�슦\" }\n",
      "{ \"_id\" : ObjectId(\"613db1d8dc1c4d5c5c81602a\"), \"appendixYn\" : \"N\", \"author\" : \"源��슜�옱 吏��쓬\", \"bookKey\" : \"5399704440\", \"callNo\" : \"005.133-�꽦855�꽦\", \"controlNo\" : \"KMO201801780\", \"isbn\" : \"9791186697559\", \"libName\" : \"媛뺣궓�룄�꽌愿�\", \"manageCode\" : \"MA\", \"pubYear\" : \"2018\", \"publisher\" : \"BJpublic :鍮꾩젣�씠�띁釉붾┃\", \"regNo\" : \"EMA000258898\", \"rnum\" : \"4\", \"shelfLocName\" : \"[媛뺣궓]4痢� 醫낇빀�옄猷뚯떎\", \"speciesKey\" : \"5399704438\", \"title\" : \"援ш��濡� 怨듬���븯�뒗 �뙆�씠�뜫  : 援ш���뿉�꽌 李얜뒗 �뙆�씠�뜫 �떎�쟾 �삁�젣 遺꾩꽍\" }\n",
      "{ \"_id\" : ObjectId(\"613db1d8dc1c4d5c5c81602b\"), \"appendixYn\" : \"N\", \"author\" : \"留덊겕 �윭痢� 吏��쓬 ;媛뺤꽦�슜 ;議곗씤以� �삷源�\", \"bookKey\" : \"5399704462\", \"callNo\" : \"005.115-�꽮782�뀓-2\", \"controlNo\" : \"KMO201801784\", \"isbn\" : \"9791188621163\", \"libName\" : \"媛뺣궓�룄�꽌愿�\", \"manageCode\" : \"MA\", \"pubYear\" : \"2018\", \"publisher\" : \"�젣�씠�럪\", \"regNo\" : \"EMA000258902\", \"rnum\" : \"5\", \"shelfLocName\" : \"[媛뺣궓]4痢� 醫낇빀�옄猷뚯떎\", \"speciesKey\" : \"5399704459\", \"title\" : \"�윭�떇 �뙆�씠�뜫  = Learning Python, 5th Edition. �븯  : �뙆�씠�뜫�뿉 愿��븳 寃�, 洹� 臾댁뾿�씠�뱺!\" }\n",
      "{ \"_id\" : ObjectId(\"613db1d8dc1c4d5c5c81602c\"), \"appendixYn\" : \"N\", \"author\" : \"留덊겕 �윭痢� 吏��쓬;媛뺤꽦�슜,議곗씤以� �삷源�\", \"bookKey\" : \"5399704227\", \"callNo\" : \"005.115-�꽮782�뀓-1\", \"controlNo\" : \"KMO201801729\", \"isbn\" : \"9791188621071\", \"libName\" : \"媛뺣궓�룄�꽌愿�\", \"manageCode\" : \"MA\", \"pubYear\" : \"2018\", \"publisher\" : \"�젣�씠�럪\", \"regNo\" : \"EMA000258847\", \"rnum\" : \"6\", \"shelfLocName\" : \"[媛뺣궓]4痢� 醫낇빀�옄猷뚯떎\", \"speciesKey\" : \"5399704225\", \"title\" : \"�윭�떇 �뙆�씠�뜫 = Learning Python, 5th Edition. �긽 : �뙆�씠�뜫�뿉 愿��븳 寃�, 洹� 臾댁뾿�씠�뱺!\" }\n",
      "{ \"_id\" : ObjectId(\"613db1d8dc1c4d5c5c81602d\"), \"appendixYn\" : \"N\", \"author\" : \"媛��뒪�넻 �옄�씪 吏��쓬 ;�씠�듅以� �삷源�\", \"bookKey\" : \"5399704263\", \"callNo\" : \"005.118-�뀕997�꽮\", \"controlNo\" : \"KMO201801737\", \"isbn\" : \"9791161750248\", \"libName\" : \"媛뺣궓�룄�꽌愿�\", \"manageCode\" : \"MA\", \"pubYear\" : \"2017\", \"publisher\" : \"�뿉�씠肄�\", \"regNo\" : \"EMA000258855\", \"rnum\" : \"7\", \"shelfLocName\" : \"[媛뺣궓]4痢� 醫낇빀�옄猷뚯떎\", \"speciesKey\" : \"5399704261\", \"title\" : \"RESTful �뙆�씠�뜫 �쎒 �꽌鍮꾩뒪 �젣�옉  : �옣怨�, �뵆�씪�뒪�겕, �넗�꽕�씠�룄��� �븿猿� �븯�뒗 RESTful �쎒 �꽌鍮꾩뒪\" }\n",
      "{ \"_id\" : ObjectId(\"613db1d8dc1c4d5c5c81602e\"), \"appendixYn\" : \"N\", \"author\" : \"議곕�쇳샇 吏��쓬\", \"bookKey\" : \"5414989880\", \"callNo\" : \"005.1-�뀍614�뀋\", \"controlNo\" : \"KMO201803721\", \"isbn\" : \"9788956747880\", \"libName\" : \"媛뺣궓�룄�꽌愿�\", \"manageCode\" : \"MA\", \"pubYear\" : \"2018\", \"publisher\" : \"�젙蹂대Ц�솕�궗\", \"regNo\" : \"EMA000261301\", \"rnum\" : \"8\", \"shelfLocName\" : \"[媛뺣궓]4痢� 醫낇빀�옄猷뚯떎\", \"speciesKey\" : \"5414989878\", \"title\" : \"(洹몃┝�쑝濡� �젙由ы븳) �븣怨좊━利섍낵 �옄猷뚭뎄議�  : �옄諛�+�뙆�씠�뜫\" }\n",
      "{ \"_id\" : ObjectId(\"613db1d8dc1c4d5c5c81602f\"), \"appendixYn\" : \"N\", \"author\" : \"�쑀�뵿 ��� 吏��쓬 ;�씠蹂묒슧 �삷源�\", \"bookKey\" : \"5402411007\", \"callNo\" : \"005.133-�뀋279�꽦\", \"controlNo\" : \"KMO201801990\", \"isbn\" : \"9791161750750\", \"libName\" : \"媛뺣궓�룄�꽌愿�\", \"manageCode\" : \"MA\", \"pubYear\" : \"2018\", \"publisher\" : \"�뿉�씠肄�\", \"regNo\" : \"EMA000259657\", \"rnum\" : \"9\", \"shelfLocName\" : \"[媛뺣궓]4痢� 醫낇빀�옄猷뚯떎\", \"speciesKey\" : \"5402411005\", \"title\" : \"(�뙆�씠�뜫�쑝濡� 諛곗슦�뒗) 湲덉쑖 遺꾩꽍  : 湲덉쑖�쓽 湲곗큹 媛쒕뀗 �씠�빐遺��꽣 �삁�젣瑜� �넻�븳 怨꾩궛 �솢�슜源뚯��\" }\n",
      "{ \"_id\" : ObjectId(\"613db1d8dc1c4d5c5c816030\"), \"appendixYn\" : \"N\", \"author\" : \"�븿�윴 鍮꾩냼泥� 吏��쓬;源�李쎌뿽,媛뺣퀝�샇 �삷源�\", \"bookKey\" : \"5401705385\", \"callNo\" : \"005.133-�뀆972�꽬\", \"controlNo\" : \"KMO201801981\", \"isbn\" : \"9791161751580\", \"libName\" : \"媛뺣궓�룄�꽌愿�\", \"manageCode\" : \"MA\", \"pubYear\" : \"2018\", \"publisher\" : \"�뿉�씠肄�\", \"regNo\" : \"EMA000259637\", \"rnum\" : \"10\", \"shelfLocName\" : \"[媛뺣궓]4痢� 醫낇빀�옄猷뚯떎\", \"speciesKey\" : \"5401705383\", \"title\" : \"�뵦�윭�떇 �뜲�씠�꽣 �쟾泥섎━ �엯臾�  : �뙆�씠�뜫怨� R濡� 諛곗슦�뒗 �뜲�씠�꽣 �떎猷④린\" }\n",
      "{ \"_id\" : ObjectId(\"613db1d8dc1c4d5c5c816031\"), \"appendixYn\" : \"N\", \"author\" : \"留덊겕 �꽌癒명븘�뱶 吏��쓬 ;�꽌�삎援�,�삤�쁽�꽍 [怨�]�삷源�\", \"bookKey\" : \"5401705154\", \"callNo\" : \"005.135-�뀉232�뀓\", \"controlNo\" : \"KMO201801933\", \"isbn\" : \"9788998139650\", \"libName\" : \"媛뺣궓�룄�꽌愿�\", \"manageCode\" : \"MA\", \"pubYear\" : \"2014\", \"publisher\" : \"�쐞�궎遺곸뒪\", \"regNo\" : \"EMA000259589\", \"rnum\" : \"11\", \"shelfLocName\" : \"[媛뺣궓]4痢� 醫낇빀�옄猷뚯떎\", \"speciesKey\" : \"5401705152\", \"title\" : \"�뙆�씠�뜫 �씤 �봽�옓�떚�뒪  : �뵒�옄�씤 �뙣�꽩, �룞�떆�꽦, �꽕�듃�썙�궧, �꽦�뒫 理쒖쟻�솕, GUI �젣�옉 湲곕쾿\" }\n",
      "{ \"_id\" : ObjectId(\"613db1d8dc1c4d5c5c816032\"), \"appendixYn\" : \"N\", \"author\" : \"�씠�깭�솕 吏��쓬\", \"bookKey\" : \"5401705170\", \"callNo\" : \"005.133-�뀋933�뀋\", \"controlNo\" : \"KMO201801935\", \"isbn\" : \"9788965402145\", \"libName\" : \"媛뺣궓�룄�꽌愿�\", \"manageCode\" : \"MA\", \"pubYear\" : \"2018\", \"publisher\" : \"�봽由щ젆\", \"regNo\" : \"EMA000259591\", \"rnum\" : \"12\", \"shelfLocName\" : \"[媛뺣궓]4痢� 醫낇빀�옄猷뚯떎\", \"speciesKey\" : \"5401705168\", \"title\" : \"�씪 �옒�븯�뒗 �룊�궗�썝�쓽 �뾽臾� �옄�룞�솕  : �뾽臾댁뿉 �궇媛쒕�� �떖�븘二쇰뒗 �뙆�씠�뜫\" }\n",
      "{ \"_id\" : ObjectId(\"613db1d8dc1c4d5c5c816033\"), \"appendixYn\" : \"N\", \"author\" : \"諛뺤젙�깭 吏��쓬\", \"bookKey\" : \"5386413036\", \"callNo\" : \"005.133-�뀆482�뀓\", \"controlNo\" : \"KMO201800205\", \"isbn\" : \"9788956747750\", \"libName\" : \"媛뺣궓�룄�꽌愿�\", \"manageCode\" : \"MA\", \"pubYear\" : \"2018\", \"publisher\" : \"�젙蹂대Ц�솕�궗\", \"regNo\" : \"EMA000257252\", \"rnum\" : \"13\", \"shelfLocName\" : \"[媛뺣궓]4痢� 醫낇빀�옄猷뚯떎\", \"speciesKey\" : \"5386413033\", \"title\" : \"�뙆�씠�뜫�쑝濡� 諛곗슦�뒗 �쎒 �겕濡ㅻ윭  = Python web crawler  : �뙆�씠�뜫 肄붾뱶 議곌컖�쑝濡� �뜲�씠�꽣 紐⑥쑝湲�\" }\n",
      "{ \"_id\" : ObjectId(\"613db1d8dc1c4d5c5c816034\"), \"appendixYn\" : \"N\", \"author\" : \"釉뚮씪�씠�뼵 移쇰쭅,留먮━ �븘�뜲�뼱 吏��쓬 ;誘쇱���쁽 �삷源�\", \"bookKey\" : \"5490912243\", \"callNo\" : \"005.133-�뀑372�뀓\", \"controlNo\" : \"KMO202000361\", \"isbn\" : \"9788928643929\", \"libName\" : \"媛뺣궓�룄�꽌愿�\", \"manageCode\" : \"MA\", \"pubYear\" : \"2018\", \"publisher\" : \"肄붾뵫����엫\", \"regNo\" : \"EMA000269116\", \"rnum\" : \"14\", \"shelfLocName\" : \"[媛뺣궓]4痢� 醫낇빀�옄猷뚯떎\", \"speciesKey\" : \"5490912238\", \"title\" : \"�뙆�씠�뜫�쑝濡� �떆�옉�븯�뒗 肄붾뵫  : �굹留뚯쓽 寃뚯엫�쓣 留뚮뱾�뼱 蹂댁옄!\" }\n",
      "{ \"_id\" : ObjectId(\"613db1d8dc1c4d5c5c816035\"), \"appendixYn\" : \"N\", \"author\" : \"源�臾멸텒 吏��쓬\", \"bookKey\" : \"5407266252\", \"callNo\" : \"004.73-�꽦733�꽬\", \"controlNo\" : \"KMO201802871\", \"isbn\" : \"9791158391065\", \"libName\" : \"媛뺣궓�룄�꽌愿�\", \"manageCode\" : \"MA\", \"pubYear\" : \"2018\", \"publisher\" : \"�쐞�궎遺곸뒪\", \"regNo\" : \"EMA000259953\", \"rnum\" : \"15\", \"shelfLocName\" : \"[媛뺣궓]4痢� 醫낇빀�옄猷뚯떎\", \"speciesKey\" : \"5407266250\", \"title\" : \"(�뙆�씠�뜫怨� 耳��씪�뒪瑜� �씠�슜�븳) �뵦�윭�떇/媛뺥솕�븰�뒿 二쇱떇�닾�옄  : ����듃 �닾�옄, �븣怨좊━利� �듃�젅�씠�뵫�쓣 �쐞�븳 理쒖꺼�떒 �빐踰� �엯臾�\" }\n",
      "{ \"_id\" : ObjectId(\"613db1d8dc1c4d5c5c816036\"), \"appendixYn\" : \"N\", \"author\" : \"遺�瑜댄겕�븯瑜댄듃 硫붿씠�뼱 吏��쓬 ;源��룞�샇 �삷源�\", \"bookKey\" : \"5407266267\", \"callNo\" : \"005.133-�뀅444�뀓\", \"controlNo\" : \"KMO201802874\", \"isbn\" : \"9791161751474\", \"libName\" : \"媛뺣궓�룄�꽌愿�\", \"manageCode\" : \"MA\", \"pubYear\" : \"2018\", \"publisher\" : \"�뿉�씠肄�\", \"regNo\" : \"EMA000259956\", \"rnum\" : \"16\", \"shelfLocName\" : \"[媛뺣궓]4痢� 醫낇빀�옄猷뚯떎\", \"speciesKey\" : \"5407266263\", \"title\" : \"�뙆�씠�뜫 GUI �봽濡쒓렇�옒諛� 荑〓턿 2/e  : �뙆�씠�뜫 3濡� �돺怨� 鍮좊Ⅴ寃� GUI 媛쒕컻�븯湲�\" }\n",
      "{ \"_id\" : ObjectId(\"613db1d8dc1c4d5c5c816037\"), \"appendixYn\" : \"N\", \"author\" : \"理쒖���꽍 吏��쓬\", \"bookKey\" : \"5412785101\", \"callNo\" : \"005.133-�뀏594�뀓\", \"controlNo\" : \"KMO201803205\", \"isbn\" : \"9791158391126\", \"libName\" : \"媛뺣궓�룄�꽌愿�\", \"manageCode\" : \"MA\", \"pubYear\" : \"2018\", \"publisher\" : \"�쐞�궎遺곸뒪\", \"regNo\" : \"EMA000260646\", \"rnum\" : \"17\", \"shelfLocName\" : \"[媛뺣궓]4痢� 醫낇빀�옄猷뚯떎\", \"speciesKey\" : \"5412785099\", \"title\" : \"(�뜲�씠�꽣 遺꾩꽍�쓣 �쐞�븳) �뙆�씠�뜫 泥좎�� �엯臾�  : 湲곗큹 臾몃쾿遺��꽣 �떎臾댁뿉 �븘�슂�븳 �뜲�씠�꽣 遺꾩꽍 湲곗닠源뚯�� �븳 踰덉뿉 諛곗슦�뒗\" }\n",
      "{ \"_id\" : ObjectId(\"613db1d8dc1c4d5c5c816038\"), \"appendixYn\" : \"N\", \"author\" : \"�겢由고꽩 釉뚮씪�슫由� 吏��쓬 ;�븳李쎌쭊,�씠蹂묒슧 �삷源�\", \"bookKey\" : \"5400251623\", \"callNo\" : \"005.133-�뀆956�뀓\", \"controlNo\" : \"KMO201801794\", \"isbn\" : \"9791162240144\", \"libName\" : \"媛뺣궓�룄�꽌愿�\", \"manageCode\" : \"MA\", \"pubYear\" : \"2017\", \"publisher\" : \"�븳鍮쏅�몃뵒�뼱\", \"regNo\" : \"EMA000258914\", \"rnum\" : \"18\", \"shelfLocName\" : \"[媛뺣궓]4痢� 醫낇빀�옄猷뚯떎\", \"speciesKey\" : \"5400251621\", \"title\" : \"�뙆�씠�뜫 �뜲�씠�꽣 遺꾩꽍 �엯臾�\" }\n",
      "{ \"_id\" : ObjectId(\"613db1d8dc1c4d5c5c816039\"), \"appendixYn\" : \"N\", \"author\" : \"�떊�샇泥�,理쒕룞吏�,�슦�긽�젙 吏��쓬\", \"bookKey\" : \"5358289885\", \"callNo\" : \"005.133-�뀉948�뀓\", \"controlNo\" : \"KMO201707609\", \"isbn\" : \"9791158390716\", \"libName\" : \"媛뺣궓�룄�꽌愿�\", \"manageCode\" : \"MA\", \"pubYear\" : \"2017\", \"publisher\" : \"�쐞�궎遺곸뒪\", \"regNo\" : \"EMA000256245\", \"rnum\" : \"19\", \"shelfLocName\" : \"[媛뺣궓]4痢� 醫낇빀�옄猷뚯떎\", \"speciesKey\" : \"5358289883\", \"title\" : \"(鍮좊Ⅴ寃� �솢�슜�븯�뒗) �뙆�씠�뜫 3.6 �봽濡쒓렇�옒諛�  : 湲곗큹 �삁�젣遺��꽣 �씪利덈쿋由� �뙆�씠, �븣�젆�궗, �뀛�젅洹몃옩 遊뉕퉴吏� 留뚮뱾硫댁꽌 諛곗슦�뒗\" }\n",
      "{ \"_id\" : ObjectId(\"613db1d8dc1c4d5c5c81603a\"), \"appendixYn\" : \"N\", \"author\" : \"�젣�씠�겕 諛대뜑�뵆�옒�뒪 吏��쓬 ;源��젙�씤 �삷源�\", \"bookKey\" : \"5368865336\", \"callNo\" : \"005.133-�뀆744�뀓\", \"controlNo\" : \"KMO201705550\", \"isbn\" : \"9791158390730\", \"libName\" : \"媛뺣궓�룄�꽌愿�\", \"manageCode\" : \"MA\", \"pubYear\" : \"2017\", \"publisher\" : \"�쐞�궎遺곸뒪\", \"regNo\" : \"EMA000256085\", \"rnum\" : \"20\", \"shelfLocName\" : \"[媛뺣궓]4痢� 醫낇빀�옄猷뚯떎\", \"speciesKey\" : \"5368865333\", \"title\" : \"�뙆�씠�뜫 �뜲�씠�꽣 �궗�씠�뼵�뒪 �빖�뱶遺�  : IPython, Jupyter, NumPy, Pandas, Matplotlib, Scikit-learn �씪�씠釉뚮윭由щ�� �솢�슜�븳 �뜲�씠�꽣 怨쇳븰怨� 癒몄떊�윭�떇\" }\n",
      "Type \"it\" for more\n",
      "bye\n"
     ]
    }
   ],
   "source": [
    "!mongo < src/ds_public_lib.js"
   ]
  },
  {
   "cell_type": "code",
   "execution_count": 18,
   "id": "797bad32",
   "metadata": {},
   "outputs": [
    {
     "name": "stdout",
     "output_type": "stream",
     "text": [
      "show dbs\n",
      "use ds_public_lib\n",
      "show collections\n",
      "db.books.find()\n"
     ]
    }
   ],
   "source": [
    "!type src\\ds_public_lib.js"
   ]
  }
 ],
 "metadata": {
  "kernelspec": {
   "display_name": "Python 3",
   "language": "python",
   "name": "python3"
  },
  "language_info": {
   "codemirror_mode": {
    "name": "ipython",
    "version": 3
   },
   "file_extension": ".py",
   "mimetype": "text/x-python",
   "name": "python",
   "nbconvert_exporter": "python",
   "pygments_lexer": "ipython3",
   "version": "3.8.8"
  }
 },
 "nbformat": 4,
 "nbformat_minor": 5
}
