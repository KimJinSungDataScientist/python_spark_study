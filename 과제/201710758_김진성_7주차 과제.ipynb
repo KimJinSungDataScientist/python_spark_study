{
 "cells": [
  {
   "cell_type": "code",
   "execution_count": 1,
   "id": "3665befd",
   "metadata": {
    "ExecuteTime": {
     "end_time": "2021-10-14T08:20:43.267576Z",
     "start_time": "2021-10-14T08:20:38.785375Z"
    }
   },
   "outputs": [],
   "source": [
    "import pyspark\n",
    "import os\n",
    "\n",
    "myConf=pyspark.SparkConf()\n",
    "spark = pyspark.sql.SparkSession.builder.master('local').appName('myApp').config(conf=myConf).getOrCreate()"
   ]
  },
  {
   "cell_type": "code",
   "execution_count": 2,
   "id": "e7333700",
   "metadata": {
    "ExecuteTime": {
     "end_time": "2021-10-14T08:20:43.276335Z",
     "start_time": "2021-10-14T08:20:43.273378Z"
    }
   },
   "outputs": [],
   "source": [
    "marks = ['김하나, Engilsh, 100',\n",
    "        '김하나, Math, 80',\n",
    "        '임하나, English, 70',\n",
    "        '임하나, Math, 100',\n",
    "        '김갑돌, English, 82.3',\n",
    "        '김갑돌, Math, 98.5']"
   ]
  },
  {
   "cell_type": "markdown",
   "id": "146103de",
   "metadata": {},
   "source": [
    "# 문제 1-1 성적데이터로 DataFrame을 생성"
   ]
  },
  {
   "cell_type": "code",
   "execution_count": 3,
   "id": "3f0b1fd0",
   "metadata": {
    "ExecuteTime": {
     "end_time": "2021-10-14T08:20:43.572730Z",
     "start_time": "2021-10-14T08:20:43.279146Z"
    }
   },
   "outputs": [],
   "source": [
    "myrdd = spark.sparkContext.parallelize(marks).map(lambda x : x.split(','))"
   ]
  },
  {
   "cell_type": "code",
   "execution_count": 4,
   "id": "368daceb",
   "metadata": {
    "ExecuteTime": {
     "end_time": "2021-10-14T08:20:46.589466Z",
     "start_time": "2021-10-14T08:20:43.575002Z"
    }
   },
   "outputs": [],
   "source": [
    "mydf = spark.createDataFrame(myrdd, schema=['name','subject','score'])"
   ]
  },
  {
   "cell_type": "code",
   "execution_count": 5,
   "id": "82fcd2dd",
   "metadata": {
    "ExecuteTime": {
     "end_time": "2021-10-14T08:20:47.468578Z",
     "start_time": "2021-10-14T08:20:46.591427Z"
    }
   },
   "outputs": [
    {
     "name": "stdout",
     "output_type": "stream",
     "text": [
      "+------+--------+-----+\n",
      "|  name| subject|score|\n",
      "+------+--------+-----+\n",
      "|김하나| Engilsh|  100|\n",
      "|김하나|    Math|   80|\n",
      "|임하나| English|   70|\n",
      "|임하나|    Math|  100|\n",
      "|김갑돌| English| 82.3|\n",
      "|김갑돌|    Math| 98.5|\n",
      "+------+--------+-----+\n",
      "\n"
     ]
    }
   ],
   "source": [
    "mydf.show()"
   ]
  },
  {
   "cell_type": "markdown",
   "id": "d935692a",
   "metadata": {},
   "source": [
    "# 문제 1-2 zscore 컬럼을 생성 "
   ]
  },
  {
   "cell_type": "code",
   "execution_count": 6,
   "id": "c99fc8b8",
   "metadata": {
    "ExecuteTime": {
     "end_time": "2021-10-14T08:20:47.776442Z",
     "start_time": "2021-10-14T08:20:47.472448Z"
    }
   },
   "outputs": [],
   "source": [
    "import numpy as np\n",
    "\n",
    "X = mydf.select('score').rdd.map(lambda x: float(x[0])).collect()\n",
    "xbar = float(np.mean(X))\n",
    "sx = float(np.std(X,ddof=1))"
   ]
  },
  {
   "cell_type": "code",
   "execution_count": 7,
   "id": "6d9cb3de",
   "metadata": {
    "ExecuteTime": {
     "end_time": "2021-10-14T08:20:47.790452Z",
     "start_time": "2021-10-14T08:20:47.780908Z"
    }
   },
   "outputs": [],
   "source": [
    "from pyspark.sql.functions import udf\n",
    "from pyspark.sql.types import FloatType\n",
    "\n",
    "get_zscore = udf(lambda x : (float(x)-xbar)/sx,FloatType())"
   ]
  },
  {
   "cell_type": "code",
   "execution_count": 8,
   "id": "02759569",
   "metadata": {
    "ExecuteTime": {
     "end_time": "2021-10-14T08:20:47.834732Z",
     "start_time": "2021-10-14T08:20:47.793144Z"
    }
   },
   "outputs": [],
   "source": [
    "mydf = mydf.withColumn('zscore',get_zscore(mydf['score']))"
   ]
  },
  {
   "cell_type": "code",
   "execution_count": 9,
   "id": "5eec0a9d",
   "metadata": {
    "ExecuteTime": {
     "end_time": "2021-10-14T08:20:48.067031Z",
     "start_time": "2021-10-14T08:20:47.836714Z"
    }
   },
   "outputs": [
    {
     "name": "stdout",
     "output_type": "stream",
     "text": [
      "+------+--------+-----+-----------+\n",
      "|  name| subject|score|     zscore|\n",
      "+------+--------+-----+-----------+\n",
      "|김하나| Engilsh|  100| 0.90201485|\n",
      "|김하나|    Math|   80|-0.66217273|\n",
      "|임하나| English|   70| -1.4442666|\n",
      "|임하나|    Math|  100| 0.90201485|\n",
      "|김갑돌| English| 82.3|-0.48229116|\n",
      "|김갑돌|    Math| 98.5| 0.78470075|\n",
      "+------+--------+-----+-----------+\n",
      "\n"
     ]
    }
   ],
   "source": [
    "mydf.show()"
   ]
  },
  {
   "cell_type": "markdown",
   "id": "a59e045b",
   "metadata": {},
   "source": [
    "# 1-3 cdf 컬럼을 생성"
   ]
  },
  {
   "cell_type": "code",
   "execution_count": 10,
   "id": "a7b44e59",
   "metadata": {
    "ExecuteTime": {
     "end_time": "2021-10-14T08:20:48.358332Z",
     "start_time": "2021-10-14T08:20:48.069712Z"
    }
   },
   "outputs": [],
   "source": [
    "from scipy.stats import norm\n",
    "\n",
    "get_cdf = udf(lambda x : float(norm.cdf(x)),FloatType())\n",
    "mydf = mydf.withColumn('cdf',get_cdf(mydf['zscore']))"
   ]
  },
  {
   "cell_type": "code",
   "execution_count": 11,
   "id": "9a0fa3c7",
   "metadata": {
    "ExecuteTime": {
     "end_time": "2021-10-14T08:20:48.825019Z",
     "start_time": "2021-10-14T08:20:48.360017Z"
    }
   },
   "outputs": [
    {
     "name": "stdout",
     "output_type": "stream",
     "text": [
      "+------+--------+-----+-----------+-----------+\n",
      "|  name| subject|score|     zscore|        cdf|\n",
      "+------+--------+-----+-----------+-----------+\n",
      "|김하나| Engilsh|  100| 0.90201485|  0.8164755|\n",
      "|김하나|    Math|   80|-0.66217273| 0.25393027|\n",
      "|임하나| English|   70| -1.4442666|0.074332014|\n",
      "|임하나|    Math|  100| 0.90201485|  0.8164755|\n",
      "|김갑돌| English| 82.3|-0.48229116| 0.31479958|\n",
      "|김갑돌|    Math| 98.5| 0.78470075|  0.7836855|\n",
      "+------+--------+-----+-----------+-----------+\n",
      "\n"
     ]
    }
   ],
   "source": [
    "mydf.show()"
   ]
  }
 ],
 "metadata": {
  "kernelspec": {
   "display_name": "Python 3",
   "language": "python",
   "name": "python3"
  },
  "language_info": {
   "codemirror_mode": {
    "name": "ipython",
    "version": 3
   },
   "file_extension": ".py",
   "mimetype": "text/x-python",
   "name": "python",
   "nbconvert_exporter": "python",
   "pygments_lexer": "ipython3",
   "version": "3.8.8"
  }
 },
 "nbformat": 4,
 "nbformat_minor": 5
}
