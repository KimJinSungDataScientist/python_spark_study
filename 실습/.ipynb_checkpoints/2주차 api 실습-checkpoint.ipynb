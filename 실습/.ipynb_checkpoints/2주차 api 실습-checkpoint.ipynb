{
 "cells": [
  {
   "cell_type": "code",
   "execution_count": 2,
   "id": "7b02926d",
   "metadata": {
    "ExecuteTime": {
     "end_time": "2021-10-21T00:53:29.307434Z",
     "start_time": "2021-10-21T00:53:29.303369Z"
    }
   },
   "outputs": [
    {
     "name": "stdout",
     "output_type": "stream",
     "text": [
      "Overwriting ../예제/src/key.properties\n"
     ]
    }
   ],
   "source": [
    "%%writefile ../예제/src/key.properties\n",
    "dataseoul=6b6e556f436a696e38375369716645\n",
    "gokr=dGY2NJcKXALDuB%2BmUmz6sO6ZNMq438cZaRF%2Bmg%2BwO8sOjmLRfYKx2NPywVvcoSEoc1k3mUllHnQ2wy3Oak7UHg%3D%3D"
   ]
  },
  {
   "cell_type": "code",
   "execution_count": 17,
   "id": "0a8c6685",
   "metadata": {},
   "outputs": [
    {
     "name": "stdout",
     "output_type": "stream",
     "text": [
      "Overwriting src/mylib.py\n"
     ]
    }
   ],
   "source": [
    "%%writefile src/mylib.py\n",
    "\n",
    "def sayHello():\n",
    "    print('hello')\n",
    "    \n",
    "def getKey(keypath):\n",
    "    d=dict()\n",
    "    f=open(keypath,'r')\n",
    "    for line in f.readlines():\n",
    "        row=line.split('=')\n",
    "        row0=row[0]\n",
    "        d[row0]=row[1].strip()\n",
    "    return d"
   ]
  },
  {
   "cell_type": "code",
   "execution_count": 8,
   "id": "947fb412",
   "metadata": {},
   "outputs": [
    {
     "name": "stdout",
     "output_type": "stream",
     "text": [
      "hello\n",
      "None\n"
     ]
    }
   ],
   "source": [
    "# import src.mylib\n",
    "from src import mylib\n",
    "\n",
    "# print(src.mylib.sayHello())\n",
    "print(mylib.sayHello())"
   ]
  },
  {
   "cell_type": "code",
   "execution_count": 28,
   "id": "05c2a125",
   "metadata": {},
   "outputs": [],
   "source": [
    "import os\n",
    "import src.mylib\n",
    "\n",
    "keyPath=os.path.join(os.getcwd(), 'src', 'key.properties')\n",
    "key=src.mylib.getKey(keyPath)"
   ]
  },
  {
   "cell_type": "code",
   "execution_count": 29,
   "id": "071473b1",
   "metadata": {},
   "outputs": [
    {
     "name": "stdout",
     "output_type": "stream",
     "text": [
      "123asdad1312\n"
     ]
    }
   ],
   "source": [
    "print(key['dataseoul'])"
   ]
  },
  {
   "cell_type": "code",
   "execution_count": 30,
   "id": "6de68b5d",
   "metadata": {
    "scrolled": true
   },
   "outputs": [
    {
     "name": "stdout",
     "output_type": "stream",
     "text": [
      "fsdasd213213\n"
     ]
    }
   ],
   "source": [
    "print(key['gokr'])"
   ]
  },
  {
   "cell_type": "code",
   "execution_count": null,
   "id": "04ba86d2",
   "metadata": {},
   "outputs": [],
   "source": []
  },
  {
   "cell_type": "markdown",
   "id": "4651e17f",
   "metadata": {},
   "source": [
    "# 2번째 영상 지하철 api"
   ]
  },
  {
   "cell_type": "code",
   "execution_count": 32,
   "id": "46b45a55",
   "metadata": {},
   "outputs": [],
   "source": [
    "import os\n",
    "import src.mylib\n",
    "\n",
    "keyPath=os.path.join(os.getcwd(), 'src', 'key.properties')\n",
    "key=src.mylib.getKey(keyPath)\n",
    "KEY = str(key['dataseoul'])"
   ]
  },
  {
   "cell_type": "code",
   "execution_count": 34,
   "id": "e76c9528",
   "metadata": {},
   "outputs": [],
   "source": [
    "#api\n",
    "TYPE='json'\n",
    "SERVICE = 'SearchSTNBySubwayLineInfo'\n",
    "START_INDEX=str(1)\n",
    "END_INDEX=str(10)\n",
    "LINE_NUM=str(2)"
   ]
  },
  {
   "cell_type": "code",
   "execution_count": 35,
   "id": "95797159",
   "metadata": {},
   "outputs": [],
   "source": [
    "params='/'.join([KEY,TYPE,SERVICE,START_INDEX,END_INDEX,'','',LINE_NUM])"
   ]
  },
  {
   "cell_type": "code",
   "execution_count": 36,
   "id": "0d163473",
   "metadata": {},
   "outputs": [
    {
     "name": "stdout",
     "output_type": "stream",
     "text": [
      "/json/SearchSTNBySubwayLineInfo/1/10///2\n"
     ]
    }
   ],
   "source": [
    "print(params[30:])"
   ]
  },
  {
   "cell_type": "code",
   "execution_count": 38,
   "id": "f3207f2a",
   "metadata": {},
   "outputs": [
    {
     "name": "stdout",
     "output_type": "stream",
     "text": [
      "http://openAPI.seoul.go.kr:8088/42624975666a696e3535727172614a/json/SearchSTNBySubwayLineInfo/1/10/2\n"
     ]
    }
   ],
   "source": [
    "import urllib\n",
    "# _url = 'http://openAPI.seoul.go.kr:8088/'\n",
    "# url = urllib.parse.urljoin(_url,params)\n",
    "# print(url)"
   ]
  },
  {
   "cell_type": "code",
   "execution_count": 42,
   "id": "3a9a0a0f",
   "metadata": {},
   "outputs": [],
   "source": [
    "_url = 'http://openAPI.seoul.go.kr:8088'\n",
    "url='/'.join([_url,params])"
   ]
  },
  {
   "cell_type": "code",
   "execution_count": 43,
   "id": "86eedae2",
   "metadata": {},
   "outputs": [
    {
     "name": "stdout",
     "output_type": "stream",
     "text": [
      "http://openAPI.seoul.go.kr:8088/42624975666a696e3535727172614a/json/SearchSTNBySubwayLineInfo/1/10///2\n"
     ]
    }
   ],
   "source": [
    "print(url)"
   ]
  },
  {
   "cell_type": "code",
   "execution_count": 44,
   "id": "dbbc6e32",
   "metadata": {},
   "outputs": [],
   "source": [
    "import requests\n",
    "\n",
    "r = requests.get(url)"
   ]
  },
  {
   "cell_type": "code",
   "execution_count": 45,
   "id": "dea53415",
   "metadata": {},
   "outputs": [],
   "source": [
    "stations=r.json()"
   ]
  },
  {
   "cell_type": "code",
   "execution_count": 46,
   "id": "c714c14c",
   "metadata": {},
   "outputs": [
    {
     "data": {
      "text/plain": [
       "dict"
      ]
     },
     "execution_count": 46,
     "metadata": {},
     "output_type": "execute_result"
    }
   ],
   "source": [
    "type(stations)"
   ]
  },
  {
   "cell_type": "code",
   "execution_count": 47,
   "id": "d1efcf48",
   "metadata": {},
   "outputs": [
    {
     "name": "stdout",
     "output_type": "stream",
     "text": [
      "{'SearchSTNBySubwayLineInfo': {'list_total_count': 748, 'RESULT': {'CODE': 'INFO-000', 'MESSAGE': '정상 처리되었습니다'}, 'row': [{'STATION_CD': '0159', 'STATION_NM': '동묘앞', 'STATION_NM_ENG': 'Dongmyo', 'LINE_NUM': '01호선', 'FR_CODE': '127'}, {'STATION_CD': '0338', 'STATION_NM': '일원', 'STATION_NM_ENG': 'Irwon', 'LINE_NUM': '03호선', 'FR_CODE': '348'}, {'STATION_CD': '0339', 'STATION_NM': '수서', 'STATION_NM_ENG': 'Suseo', 'LINE_NUM': '03호선', 'FR_CODE': '349'}, {'STATION_CD': '0340', 'STATION_NM': '가락시장', 'STATION_NM_ENG': 'Garak Market', 'LINE_NUM': '03호선', 'FR_CODE': '350'}, {'STATION_CD': '0341', 'STATION_NM': '경찰병원', 'STATION_NM_ENG': 'National Police Hospital', 'LINE_NUM': '03호선', 'FR_CODE': '351'}, {'STATION_CD': '0342', 'STATION_NM': '오금', 'STATION_NM_ENG': 'Ogeum', 'LINE_NUM': '03호선', 'FR_CODE': '352'}, {'STATION_CD': '0409', 'STATION_NM': '당고개', 'STATION_NM_ENG': 'Danggogae', 'LINE_NUM': '04호선', 'FR_CODE': '409'}, {'STATION_CD': '0410', 'STATION_NM': '상계', 'STATION_NM_ENG': 'Sanggye', 'LINE_NUM': '04호선', 'FR_CODE': '410'}, {'STATION_CD': '0411', 'STATION_NM': '노원', 'STATION_NM_ENG': 'Nowon', 'LINE_NUM': '04호선', 'FR_CODE': '411'}, {'STATION_CD': '0412', 'STATION_NM': '창동', 'STATION_NM_ENG': 'Chang-dong', 'LINE_NUM': '04호선', 'FR_CODE': '412'}]}}\n"
     ]
    }
   ],
   "source": [
    "print(stations)"
   ]
  },
  {
   "cell_type": "code",
   "execution_count": null,
   "id": "b77c1310",
   "metadata": {},
   "outputs": [],
   "source": []
  },
  {
   "cell_type": "code",
   "execution_count": 48,
   "id": "0f1895f5",
   "metadata": {},
   "outputs": [
    {
     "data": {
      "text/plain": [
       "[{'STATION_CD': '0159',\n",
       "  'STATION_NM': '동묘앞',\n",
       "  'STATION_NM_ENG': 'Dongmyo',\n",
       "  'LINE_NUM': '01호선',\n",
       "  'FR_CODE': '127'},\n",
       " {'STATION_CD': '0338',\n",
       "  'STATION_NM': '일원',\n",
       "  'STATION_NM_ENG': 'Irwon',\n",
       "  'LINE_NUM': '03호선',\n",
       "  'FR_CODE': '348'},\n",
       " {'STATION_CD': '0339',\n",
       "  'STATION_NM': '수서',\n",
       "  'STATION_NM_ENG': 'Suseo',\n",
       "  'LINE_NUM': '03호선',\n",
       "  'FR_CODE': '349'},\n",
       " {'STATION_CD': '0340',\n",
       "  'STATION_NM': '가락시장',\n",
       "  'STATION_NM_ENG': 'Garak Market',\n",
       "  'LINE_NUM': '03호선',\n",
       "  'FR_CODE': '350'},\n",
       " {'STATION_CD': '0341',\n",
       "  'STATION_NM': '경찰병원',\n",
       "  'STATION_NM_ENG': 'National Police Hospital',\n",
       "  'LINE_NUM': '03호선',\n",
       "  'FR_CODE': '351'},\n",
       " {'STATION_CD': '0342',\n",
       "  'STATION_NM': '오금',\n",
       "  'STATION_NM_ENG': 'Ogeum',\n",
       "  'LINE_NUM': '03호선',\n",
       "  'FR_CODE': '352'},\n",
       " {'STATION_CD': '0409',\n",
       "  'STATION_NM': '당고개',\n",
       "  'STATION_NM_ENG': 'Danggogae',\n",
       "  'LINE_NUM': '04호선',\n",
       "  'FR_CODE': '409'},\n",
       " {'STATION_CD': '0410',\n",
       "  'STATION_NM': '상계',\n",
       "  'STATION_NM_ENG': 'Sanggye',\n",
       "  'LINE_NUM': '04호선',\n",
       "  'FR_CODE': '410'},\n",
       " {'STATION_CD': '0411',\n",
       "  'STATION_NM': '노원',\n",
       "  'STATION_NM_ENG': 'Nowon',\n",
       "  'LINE_NUM': '04호선',\n",
       "  'FR_CODE': '411'},\n",
       " {'STATION_CD': '0412',\n",
       "  'STATION_NM': '창동',\n",
       "  'STATION_NM_ENG': 'Chang-dong',\n",
       "  'LINE_NUM': '04호선',\n",
       "  'FR_CODE': '412'}]"
      ]
     },
     "execution_count": 48,
     "metadata": {},
     "output_type": "execute_result"
    }
   ],
   "source": [
    "stations['SearchSTNBySubwayLineInfo']['row']"
   ]
  },
  {
   "cell_type": "code",
   "execution_count": 49,
   "id": "7f309cac",
   "metadata": {},
   "outputs": [
    {
     "name": "stdout",
     "output_type": "stream",
     "text": [
      "0159\t동묘앞            \t127\t01호선\n",
      "0338\t일원             \t348\t03호선\n",
      "0339\t수서             \t349\t03호선\n",
      "0340\t가락시장           \t350\t03호선\n",
      "0341\t경찰병원           \t351\t03호선\n",
      "0342\t오금             \t352\t03호선\n",
      "0409\t당고개            \t409\t04호선\n",
      "0410\t상계             \t410\t04호선\n",
      "0411\t노원             \t411\t04호선\n",
      "0412\t창동             \t412\t04호선\n"
     ]
    }
   ],
   "source": [
    "for e in stations['SearchSTNBySubwayLineInfo']['row']:\n",
    "    print (\"{0:4s}\\t{1:15s}\\t{2:3s}\\t{3:2s}\".format(e['STATION_CD'], e['STATION_NM'], e['FR_CODE'], e['LINE_NUM']))"
   ]
  },
  {
   "cell_type": "code",
   "execution_count": 50,
   "id": "15a944d8",
   "metadata": {},
   "outputs": [
    {
     "name": "stdout",
     "output_type": "stream",
     "text": [
      "Writing src/ds_open_subway_json.py\n"
     ]
    }
   ],
   "source": [
    "%%writefile src/ds_open_subway_json.py\n",
    "#!/usr/bin/env python\n",
    "# coding: utf-8\n",
    "import os\n",
    "import requests\n",
    "import urllib\n",
    "import mylib # NO! src.mylib\n",
    "\n",
    "def doIt():\n",
    "    keyPath=os.path.join(os.getcwd(), 'src', 'key.properties')\n",
    "    key=mylib.getKey(keyPath)\n",
    "    # (1) make params with resource IDs\n",
    "    KEY=str(key['dataseoul'])\n",
    "    TYPE='json'\n",
    "    #OLD: SERVICE='SearchSTNBySubwayLineService'\n",
    "    SERVICE='SearchSTNBySubwayLineInfo'\n",
    "    LINE_NUM=str(2)\n",
    "    START_INDEX=str(1)\n",
    "    END_INDEX=str(10)\n",
    "    #params=os.path.join(KEY,TYPE,SERVICE,START_INDEX,END_INDEX,LINE_NUM)\n",
    "    params=\"/\".join([KEY,TYPE,SERVICE,START_INDEX,END_INDEX,'','',LINE_NUM])\n",
    "    # (2) make a full url\n",
    "    _url='http://openAPI.seoul.go.kr:8088' #NOTE slash: do not use 'http://openAPI.seoul.go.kr:8088/'\n",
    "    #url=urllib.parse.urljoin(_url,params)\n",
    "    url=\"/\".join([_url,params])\n",
    "    #print(url)\n",
    "    # (3) get data\n",
    "    r=requests.get(url)\n",
    "    #print(r)\n",
    "    stations=r.json()\n",
    "    #print(stations)\n",
    "    for e in stations['SearchSTNBySubwayLineInfo']['row']:\n",
    "        print (u\"{0:4s}\\t{1:15s}\\t{2:3s}\\t{3:2s}\".format(e['STATION_CD'], e['STATION_NM'], e['FR_CODE'], e['LINE_NUM']))\n",
    "\n",
    "if __name__ == \"__main__\":\n",
    "    doIt()"
   ]
  },
  {
   "cell_type": "code",
   "execution_count": 53,
   "id": "0324203f",
   "metadata": {},
   "outputs": [
    {
     "name": "stdout",
     "output_type": "stream",
     "text": [
      "Python 3.8.8\n"
     ]
    }
   ],
   "source": [
    "!python --version"
   ]
  },
  {
   "cell_type": "code",
   "execution_count": 54,
   "id": "ac060155",
   "metadata": {},
   "outputs": [
    {
     "name": "stdout",
     "output_type": "stream",
     "text": [
      "0159\t동묘앞            \t127\t01호선\n",
      "0338\t일원             \t348\t03호선\n",
      "0339\t수서             \t349\t03호선\n",
      "0340\t가락시장           \t350\t03호선\n",
      "0341\t경찰병원           \t351\t03호선\n",
      "0342\t오금             \t352\t03호선\n",
      "0409\t당고개            \t409\t04호선\n",
      "0410\t상계             \t410\t04호선\n",
      "0411\t노원             \t411\t04호선\n",
      "0412\t창동             \t412\t04호선\n"
     ]
    }
   ],
   "source": [
    "!python src/ds_open_subway_json.py"
   ]
  },
  {
   "cell_type": "code",
   "execution_count": 55,
   "id": "ff79e791",
   "metadata": {},
   "outputs": [
    {
     "data": {
      "text/plain": [
       "748"
      ]
     },
     "execution_count": 55,
     "metadata": {},
     "output_type": "execute_result"
    }
   ],
   "source": [
    "stations['SearchSTNBySubwayLineInfo']['list_total_count']"
   ]
  },
  {
   "cell_type": "code",
   "execution_count": 56,
   "id": "60e5b686",
   "metadata": {},
   "outputs": [
    {
     "name": "stdout",
     "output_type": "stream",
     "text": [
      "Writing src/ds_open_subway_iter_json.py\n"
     ]
    }
   ],
   "source": [
    "\n",
    "%%writefile src/ds_open_subway_iter_json.py\n",
    "#!/usr/bin/env python\n",
    "# coding: utf-8\n",
    "import os\n",
    "import requests\n",
    "import urllib\n",
    "import mylib # NO! src.mylib\n",
    "\n",
    "def doIt():\n",
    "    keyPath=os.path.join(os.getcwd(), 'src', 'key.properties')\n",
    "    key=mylib.getKey(keyPath)\n",
    "    # (1) make params with resource IDs\n",
    "    KEY=str(key['dataseoul'])\n",
    "    TYPE='json'\n",
    "    #OLD: SERVICE='SearchSTNBySubwayLineService'\n",
    "    SERVICE='SearchSTNBySubwayLineInfo'\n",
    "    LINE_NUM=str(2)\n",
    "    START_INDEX=str(1)\n",
    "    END_INDEX=str(10)\n",
    "    startIndex=1\n",
    "    endIndex=10\n",
    "    list_total_count=0    # set later\n",
    "    while True:\n",
    "        START_INDEX=str(startIndex)\n",
    "        END_INDEX=str(endIndex)\n",
    "        #params=os.path.join(KEY,TYPE,SERVICE,START_INDEX,END_INDEX,LINE_NUM)\n",
    "        params=\"/\".join([KEY,TYPE,SERVICE,START_INDEX,END_INDEX,'','',LINE_NUM])\n",
    "        # (2) make a full url\n",
    "        _url='http://openAPI.seoul.go.kr:8088' #NOTE slash: do not use 'http://openAPI.seoul.go.kr:8088/'\n",
    "        #url=urllib.parse.urljoin(_url,params)\n",
    "        url=\"/\".join([_url,params])\n",
    "        #print(url)\n",
    "        # (3) get data\n",
    "        r=requests.get(url)\n",
    "        #print(r)\n",
    "        stations=r.json()\n",
    "        #print(stations)\n",
    "        if(startIndex==1):\n",
    "            list_total_count=stations['SearchSTNBySubwayLineInfo']['list_total_count']\n",
    "            print(\"- Total Count: \", list_total_count)\n",
    "        for e in stations['SearchSTNBySubwayLineInfo']['row']:\n",
    "            print (u\"{0:4s}\\t{1:15s}\\t{2:3s}\\t{3:2s}\".format(e['STATION_CD'], e['STATION_NM'], e['FR_CODE'], e['LINE_NUM']))\n",
    "        startIndex+=10\n",
    "        endIndex+=10\n",
    "        if(endIndex > list_total_count):\n",
    "            print(\"----- Ending endIndex=\",endIndex)\n",
    "            break  # exit from the while loop\n",
    "\n",
    "if __name__ == \"__main__\":\n",
    "    doIt()"
   ]
  },
  {
   "cell_type": "code",
   "execution_count": 57,
   "id": "d70f517e",
   "metadata": {},
   "outputs": [
    {
     "name": "stdout",
     "output_type": "stream",
     "text": [
      "- Total Count:  748\n",
      "0159\t동묘앞            \t127\t01호선\n",
      "0338\t일원             \t348\t03호선\n",
      "0339\t수서             \t349\t03호선\n",
      "0340\t가락시장           \t350\t03호선\n",
      "0341\t경찰병원           \t351\t03호선\n",
      "0342\t오금             \t352\t03호선\n",
      "0409\t당고개            \t409\t04호선\n",
      "0410\t상계             \t410\t04호선\n",
      "0411\t노원             \t411\t04호선\n",
      "0412\t창동             \t412\t04호선\n",
      "0413\t쌍문             \t413\t04호선\n",
      "0414\t수유             \t414\t04호선\n",
      "0415\t미아             \t415\t04호선\n",
      "0416\t미아사거리          \t416\t04호선\n",
      "0417\t길음             \t417\t04호선\n",
      "0418\t성신여대입구         \t418\t04호선\n",
      "0419\t한성대입구          \t419\t04호선\n",
      "0420\t혜화             \t420\t04호선\n",
      "0421\t동대문            \t421\t04호선\n",
      "0422\t동대문역사문화공원      \t422\t04호선\n",
      "0423\t충무로            \t423\t04호선\n",
      "0424\t명동             \t424\t04호선\n",
      "0425\t회현             \t425\t04호선\n",
      "0426\t서울역            \t426\t04호선\n",
      "0427\t숙대입구           \t427\t04호선\n",
      "0429\t신용산            \t429\t04호선\n",
      "0430\t이촌             \t430\t04호선\n",
      "0431\t동작             \t431\t04호선\n",
      "0432\t총신대입구          \t432\t04호선\n",
      "0433\t사당             \t433\t04호선\n",
      "0434\t남태령            \t434\t04호선\n",
      "1002\t남영             \t134\t01호선\n",
      "1003\t용산             \t135\t01호선\n",
      "1004\t노량진            \t136\t01호선\n",
      "1005\t대방             \t137\t01호선\n",
      "1006\t영등포            \t139\t01호선\n",
      "0309\t지축             \t319\t03호선\n",
      "0321\t충무로            \t331\t03호선\n",
      "0333\t매봉             \t343\t03호선\n",
      "1007\t신도림            \t140\t01호선\n",
      "1008\t이촌             \tK111\t경의선\n",
      "1010\t한남             \tK113\t경의선\n",
      "1011\t옥수             \tK114\t경의선\n",
      "1012\t응봉             \tK115\t경의선\n",
      "1013\t왕십리            \tK116\t경의선\n",
      "1015\t회기             \t123\t01호선\n",
      "1016\t외대앞            \t122\t01호선\n",
      "1017\t신이문            \t121\t01호선\n",
      "1018\t석계             \t120\t01호선\n",
      "1019\t광운대            \t119\t01호선\n",
      "101C\t회기             \tK118\t경의선\n",
      "1020\t월계             \t118\t01호선\n",
      "1021\t녹천             \t117\t01호선\n",
      "1022\t창동             \t116\t01호선\n",
      "1023\t선릉             \tK215\t수인분당선\n",
      "1024\t한티             \tK216\t수인분당선\n",
      "1025\t도곡             \tK217\t수인분당선\n",
      "1026\t구룡             \tK218\t수인분당선\n",
      "1027\t개포동            \tK219\t수인분당선\n",
      "1028\t대모산입구          \tK220\t수인분당선\n",
      "102C\t왕십리            \tK210\t수인분당선\n",
      "1030\t수서             \tK221\t수인분당선\n",
      "1031\t복정             \tK222\t수인분당선\n",
      "1032\t신길             \t138\t01호선\n",
      "1201\t중랑             \tK119\t경의선\n",
      "1202\t상봉             \tK120\t경의선\n",
      "1203\t망우             \tK121\t경의선\n",
      "1204\t양원             \tK122\t경의선\n",
      "1205\t구리             \tK123\t경의선\n",
      "1206\t도농             \tK124\t경의선\n",
      "1207\t양정             \tK125\t경의선\n",
      "1208\t덕소             \tK126\t경의선\n",
      "0228\t서울대입구          \t228\t02호선\n",
      "0242\t아현             \t242\t02호선\n",
      "0310\t구파발            \t320\t03호선\n",
      "1209\t도심             \tK127\t경의선\n",
      "1210\t팔당             \tK128\t경의선\n",
      "1211\t운길산            \tK129\t경의선\n",
      "1212\t양수             \tK130\t경의선\n",
      "1213\t신원             \tK131\t경의선\n",
      "1214\t국수             \tK132\t경의선\n",
      "1215\t아신             \tK133\t경의선\n",
      "1216\t오빈             \tK134\t경의선\n",
      "1217\t양평             \tK135\t경의선\n",
      "1219\t용문             \tK137\t경의선\n",
      "1220\t지평             \tK138\t경의선\n",
      "1251\t서울역            \tP313\t경의선\n",
      "1252\t신촌             \tP312\t경의선\n",
      "1261\t효창공원앞          \tK826\t경의선\n",
      "1262\t공덕             \tK312\t경의선\n",
      "1263\t서강대            \tK313\t경의선\n",
      "1264\t홍대입구           \tK314\t경의선\n",
      "1265\t가좌             \tK315\t경의선\n",
      "1266\t디지털미디어시티       \tK316\t경의선\n",
      "1268\t화전             \tK318\t경의선\n",
      "1269\t강매             \tK319\t경의선\n",
      "1270\t행신             \tK320\t경의선\n",
      "1271\t능곡             \tK321\t경의선\n",
      "1272\t곡산             \tK323\t경의선\n",
      "1273\t백마             \tK324\t경의선\n",
      "1274\t풍산             \tK325\t경의선\n",
      "1275\t일산             \tK326\t경의선\n",
      "1276\t탄현             \tK327\t경의선\n",
      "1277\t야당             \tK328\t경의선\n",
      "1278\t운정             \tK329\t경의선\n",
      "1279\t금릉             \tK330\t경의선\n",
      "1280\t금촌             \tK331\t경의선\n",
      "1282\t월롱             \tK333\t경의선\n",
      "1283\t파주             \tK334\t경의선\n",
      "1284\t문산             \tK335\t경의선\n",
      "1306\t청량리            \tP117\t경춘선\n",
      "1308\t중랑             \tP119\t경춘선\n",
      "1309\t상봉             \tP120\t경춘선\n",
      "1310\t망우             \tP121\t경춘선\n",
      "1285\t임진강            \tK336\t경의선\n",
      "1311\t신내             \tP122\t경춘선\n",
      "1313\t별내             \tP124\t경춘선\n",
      "1314\t퇴계원            \tP125\t경춘선\n",
      "1315\t사릉             \tP126\t경춘선\n",
      "1316\t금곡             \tP127\t경춘선\n",
      "1317\t평내호평           \tP128\t경춘선\n",
      "1318\t천마산            \tP129\t경춘선\n",
      "1319\t마석             \tP130\t경춘선\n",
      "1320\t대성리            \tP131\t경춘선\n",
      "1321\t청평             \tP132\t경춘선\n",
      "1322\t상천             \tP133\t경춘선\n",
      "1324\t굴봉산            \tP135\t경춘선\n",
      "1325\t백양리            \tP136\t경춘선\n",
      "1326\t강촌             \tP137\t경춘선\n",
      "1327\t김유정            \tP138\t경춘선\n",
      "1328\t남춘천            \tP139\t경춘선\n",
      "1329\t춘천             \tP140\t경춘선\n",
      "1401\t봉명             \tP170\t01호선\n",
      "1402\t쌍용             \tP171\t01호선\n",
      "1403\t아산             \tP172\t01호선\n",
      "1405\t배방             \tP174\t01호선\n",
      "1407\t온양온천           \tP176\t01호선\n",
      "1408\t신창             \tP177\t01호선\n",
      "1450\t선바위            \t435\t04호선\n",
      "1451\t경마공원           \t436\t04호선\n",
      "1452\t대공원            \t437\t04호선\n",
      "1453\t과천             \t438\t04호선\n",
      "1454\t정부과천청사         \t439\t04호선\n",
      "1455\t인덕원            \t440\t04호선\n",
      "1456\t평촌             \t441\t04호선\n",
      "1457\t범계             \t442\t04호선\n",
      "1458\t금정             \t443\t04호선\n",
      "1501\t판교             \tK410\t경강선\n",
      "1502\t이매             \tK411\t경강선\n",
      "1503\t삼동             \tK412\t경강선\n",
      "1504\t경기광주           \tK413\t경강선\n",
      "1505\t초월             \tK414\t경강선\n",
      "1506\t곤지암            \tK415\t경강선\n",
      "1507\t신둔도예촌          \tK416\t경강선\n",
      "1509\t부발             \tK418\t경강선\n",
      "1701\t구로             \t141\t01호선\n",
      "1702\t가산디지털단지        \tP142\t01호선\n",
      "1703\t금천구청           \tP144\t01호선\n",
      "1704\t석수             \tP145\t01호선\n",
      "0229\t봉천             \t229\t02호선\n",
      "0328\t잠원             \t338\t03호선\n",
      "0335\t대치             \t345\t03호선\n",
      "1705\t관악             \tP146\t01호선\n",
      "1706\t안양             \tP147\t01호선\n",
      "1707\t명학             \tP148\t01호선\n",
      "1708\t금정             \tP149\t01호선\n",
      "1709\t군포             \tP150\t01호선\n",
      "1710\t의왕             \tP152\t01호선\n",
      "1711\t성균관대           \tP153\t01호선\n",
      "1712\t화서             \tP154\t01호선\n",
      "1713\t수원             \tP155\t01호선\n",
      "1714\t독산             \tP143\t01호선\n",
      "1715\t세류             \tP156\t01호선\n",
      "1716\t병점             \tP157\t01호선\n",
      "1717\t세마             \tP158\t01호선\n",
      "1718\t오산대            \tP159\t01호선\n",
      "1719\t오산             \tP160\t01호선\n",
      "1721\t송탄             \tP162\t01호선\n",
      "1722\t서정리            \tP163\t01호선\n",
      "1723\t평택지제           \tP164\t01호선\n",
      "1724\t평택             \tP165\t01호선\n",
      "1725\t성환             \tP166\t01호선\n",
      "1726\t직산             \tP167\t01호선\n",
      "1727\t두정             \tP168\t01호선\n",
      "1728\t천안             \tP169\t01호선\n",
      "1749\t서동탄            \tP157-1\t01호선\n",
      "1750\t광명             \tP144-1\t01호선\n",
      "1751\t산본             \t444\t04호선\n",
      "1752\t대야미            \t446\t04호선\n",
      "1753\t반월             \t447\t04호선\n",
      "1754\t상록수            \t448\t04호선\n",
      "1755\t한대앞            \t449\t04호선\n",
      "1756\t중앙             \t450\t04호선\n",
      "1757\t고잔             \t451\t04호선\n",
      "1758\t초지             \t452\t04호선\n",
      "1759\t안산             \t453\t04호선\n",
      "0230\t신림             \t230\t02호선\n",
      "0244\t용답             \t211-1\t02호선\n",
      "1729\t당정             \tP151\t01호선\n",
      "1760\t신길온천           \t454\t04호선\n",
      "1761\t정왕             \t455\t04호선\n",
      "1762\t오이도            \t456\t04호선\n",
      "1763\t수리산            \t445\t04호선\n",
      "1801\t개봉             \t143\t01호선\n",
      "1802\t오류동            \t144\t01호선\n",
      "1803\t역곡             \t146\t01호선\n",
      "1804\t부천             \t148\t01호선\n",
      "1805\t송내             \t150\t01호선\n",
      "1806\t부평             \t152\t01호선\n",
      "1807\t백운             \t153\t01호선\n",
      "1808\t동암             \t154\t01호선\n",
      "1809\t주안             \t156\t01호선\n",
      "1810\t제물포            \t158\t01호선\n",
      "1811\t동인천            \t160\t01호선\n",
      "1812\t인천             \t161\t01호선\n",
      "1813\t구일             \t142\t01호선\n",
      "1814\t소사             \t147\t01호선\n",
      "1815\t부개             \t151\t01호선\n",
      "1816\t간석             \t155\t01호선\n",
      "1817\t도원             \t159\t01호선\n",
      "1821\t온수             \t145\t01호선\n",
      "1822\t중동             \t149\t01호선\n",
      "1823\t도화             \t157\t01호선\n",
      "1830\t한대앞            \tK251\t수인분당선\n",
      "1831\t중앙             \tK252\t수인분당선\n",
      "1833\t초지             \tK254\t수인분당선\n",
      "1834\t안산             \tK255\t수인분당선\n",
      "1835\t신길온천           \tK256\t수인분당선\n",
      "1836\t정왕             \tK257\t수인분당선\n",
      "1845\t청량리            \tK209\t수인분당선\n",
      "1846\t수원             \tK245\t수인분당선\n",
      "1847\t서울숲            \tK211\t수인분당선\n",
      "1848\t압구정로데오         \tK212\t수인분당선\n",
      "1849\t강남구청           \tK213\t수인분당선\n",
      "1850\t선정릉            \tK214\t수인분당선\n",
      "0154\t종로5가           \t129\t01호선\n",
      "0231\t신대방            \t231\t02호선\n",
      "0247\t도림천            \t234-1\t02호선\n",
      "0314\t홍제             \t324\t03호선\n",
      "1851\t가천대            \tK223\t수인분당선\n",
      "1852\t태평             \tK224\t수인분당선\n",
      "1853\t모란             \tK225\t수인분당선\n",
      "1854\t야탑             \tK226\t수인분당선\n",
      "1855\t서현             \tK228\t수인분당선\n",
      "1856\t수내             \tK229\t수인분당선\n",
      "1857\t정자             \tK230\t수인분당선\n",
      "1858\t미금             \tK231\t수인분당선\n",
      "1859\t오리             \tK232\t수인분당선\n",
      "1860\t이매             \tK227\t수인분당선\n",
      "1861\t보정             \tK234\t수인분당선\n",
      "1863\t구성             \tK235\t수인분당선\n",
      "1865\t기흥             \tK237\t수인분당선\n",
      "1866\t상갈             \tK238\t수인분당선\n",
      "1868\t영통             \tK240\t수인분당선\n",
      "1869\t망포             \tK241\t수인분당선\n",
      "1870\t매탄권선           \tK242\t수인분당선\n",
      "1871\t수원시청           \tK243\t수인분당선\n",
      "1872\t매교             \tK244\t수인분당선\n",
      "1874\t오목천            \tK247\t수인분당선\n",
      "1875\t어천             \tK248\t수인분당선\n",
      "1876\t야목             \tK249\t수인분당선\n",
      "1878\t달월             \tK259\t수인분당선\n",
      "1879\t월곶             \tK260\t수인분당선\n",
      "1880\t소래포구           \tK261\t수인분당선\n",
      "1881\t인천논현           \tK262\t수인분당선\n",
      "1882\t호구포            \tK263\t수인분당선\n",
      "1883\t남동인더스파크        \tK264\t수인분당선\n",
      "1884\t원인재            \tK265\t수인분당선\n",
      "1885\t연수             \tK266\t수인분당선\n",
      "1886\t송도             \tK267\t수인분당선\n",
      "1888\t인하대            \tK269\t수인분당선\n",
      "1889\t숭의             \tK270\t수인분당선\n",
      "0206\t신당             \t206\t02호선\n",
      "0237\t당산             \t237\t02호선\n",
      "0316\t독립문            \t326\t03호선\n",
      "0322\t동대입구           \t332\t03호선\n",
      "0336\t학여울            \t346\t03호선\n",
      "1890\t신포             \tK271\t수인분당선\n",
      "1891\t인천             \tK272\t수인분당선\n",
      "1901\t방학             \t115\t01호선\n",
      "1902\t도봉             \t114\t01호선\n",
      "1903\t도봉산            \t113\t01호선\n",
      "1904\t망월사            \t112\t01호선\n",
      "1905\t회룡             \t111\t01호선\n",
      "1906\t의정부            \t110\t01호선\n",
      "1907\t가능             \t109\t01호선\n",
      "1908\t녹양             \t108\t01호선\n",
      "1909\t양주             \t107\t01호선\n",
      "1910\t덕계             \t106\t01호선\n",
      "1911\t덕정             \t105\t01호선\n",
      "1913\t동두천중앙          \t103\t01호선\n",
      "1914\t보산             \t102\t01호선\n",
      "1915\t동두천            \t101\t01호선\n",
      "1948\t원흥             \t317\t03호선\n",
      "1950\t삼송             \t318\t03호선\n",
      "1951\t원당             \t316\t03호선\n",
      "1952\t화정             \t315\t03호선\n",
      "1953\t대곡             \t314\t03호선\n",
      "1954\t백석             \t313\t03호선\n",
      "1955\t마두             \t312\t03호선\n",
      "1956\t정발산            \t311\t03호선\n",
      "1957\t주엽             \t310\t03호선\n",
      "1958\t대화             \t309\t03호선\n",
      "2511\t방화             \t510\t05호선\n",
      "2512\t개화산            \t511\t05호선\n",
      "0220\t선릉             \t220\t02호선\n",
      "0238\t합정             \t238\t02호선\n",
      "0248\t양천구청           \t234-2\t02호선\n",
      "0317\t경복궁            \t327\t03호선\n",
      "2513\t김포공항           \t512\t05호선\n",
      "2515\t마곡             \t514\t05호선\n",
      "2516\t발산             \t515\t05호선\n",
      "2517\t우장산            \t516\t05호선\n",
      "2518\t화곡             \t517\t05호선\n",
      "2519\t까치산            \t518\t05호선\n",
      "2520\t신정             \t519\t05호선\n",
      "2521\t목동             \t520\t05호선\n",
      "2522\t오목교            \t521\t05호선\n",
      "2523\t양평             \t522\t05호선\n",
      "2524\t영등포구청          \t523\t05호선\n",
      "2525\t영등포시장          \t524\t05호선\n",
      "2526\t신길             \t525\t05호선\n",
      "2527\t여의도            \t526\t05호선\n",
      "2528\t여의나루           \t527\t05호선\n",
      "2529\t마포             \t528\t05호선\n",
      "2530\t공덕             \t529\t05호선\n",
      "2531\t애오개            \t530\t05호선\n",
      "2532\t충정로            \t531\t05호선\n",
      "2533\t서대문            \t532\t05호선\n",
      "2534\t광화문            \t533\t05호선\n",
      "2535\t종로3가           \t534\t05호선\n",
      "2536\t을지로4가          \t535\t05호선\n",
      "2537\t동대문역사문화공원      \t536\t05호선\n",
      "2539\t신금호            \t538\t05호선\n",
      "2540\t행당             \t539\t05호선\n",
      "0334\t도곡             \t344\t03호선\n",
      "2541\t왕십리            \t540\t05호선\n",
      "2542\t마장             \t541\t05호선\n",
      "2543\t답십리            \t542\t05호선\n",
      "2544\t장한평            \t543\t05호선\n",
      "2545\t군자             \t544\t05호선\n",
      "2546\t아차산            \t545\t05호선\n",
      "2547\t광나루            \t546\t05호선\n",
      "2548\t천호             \t547\t05호선\n",
      "2549\t강동             \t548\t05호선\n",
      "2550\t길동             \t549\t05호선\n",
      "2551\t굽은다리           \t550\t05호선\n",
      "2552\t명일             \t551\t05호선\n",
      "2553\t고덕             \t552\t05호선\n",
      "2554\t상일동            \t553\t05호선\n",
      "2555\t둔촌동            \tP549\t05호선\n",
      "2556\t올림픽공원          \tP550\t05호선\n",
      "2557\t방이             \tP551\t05호선\n",
      "2558\t오금             \tP552\t05호선\n",
      "2559\t개롱             \tP553\t05호선\n",
      "2560\t거여             \tP554\t05호선\n",
      "2561\t마천             \tP555\t05호선\n",
      "2562\t강일             \t554\t05호선\n",
      "2563\t미사             \t555\t05호선\n",
      "2564\t하남풍산           \t556\t05호선\n",
      "2565\t하남시청           \t557\t05호선\n",
      "2611\t응암             \t610\t06호선\n",
      "2612\t역촌             \t611\t06호선\n",
      "2613\t불광             \t612\t06호선\n",
      "2614\t독바위            \t613\t06호선\n",
      "2615\t연신내            \t614\t06호선\n",
      "2616\t구산             \t615\t06호선\n",
      "2617\t새절             \t616\t06호선\n",
      "2618\t증산             \t617\t06호선\n",
      "2619\t디지털미디어시티       \t618\t06호선\n",
      "2620\t월드컵경기장         \t619\t06호선\n",
      "2621\t마포구청           \t620\t06호선\n",
      "2622\t망원             \t621\t06호선\n",
      "2623\t합정             \t622\t06호선\n",
      "2624\t상수             \t623\t06호선\n",
      "2625\t광흥창            \t624\t06호선\n",
      "2626\t대흥             \t625\t06호선\n",
      "2627\t공덕             \t626\t06호선\n",
      "2628\t효창공원앞          \t627\t06호선\n",
      "2629\t삼각지            \t628\t06호선\n",
      "2630\t녹사평            \t629\t06호선\n",
      "2631\t이태원            \t630\t06호선\n",
      "2632\t한강진            \t631\t06호선\n",
      "2633\t버티고개           \t632\t06호선\n",
      "2634\t약수             \t633\t06호선\n",
      "2635\t청구             \t634\t06호선\n",
      "2636\t신당             \t635\t06호선\n",
      "2637\t동묘앞            \t636\t06호선\n",
      "2638\t창신             \t637\t06호선\n",
      "2639\t보문             \t638\t06호선\n",
      "2640\t안암             \t639\t06호선\n",
      "2641\t고려대            \t640\t06호선\n",
      "2642\t월곡             \t641\t06호선\n",
      "2643\t상월곡            \t642\t06호선\n",
      "2644\t돌곶이            \t643\t06호선\n",
      "2645\t석계             \t644\t06호선\n",
      "2646\t태릉입구           \t645\t06호선\n",
      "2647\t화랑대            \t646\t06호선\n",
      "2648\t봉화산            \t647\t06호선\n",
      "2649\t신내             \t648\t06호선\n",
      "2711\t장암             \t709\t07호선\n",
      "2712\t도봉산            \t710\t07호선\n",
      "2713\t수락산            \t711\t07호선\n",
      "2714\t마들             \t712\t07호선\n",
      "0239\t홍대입구           \t239\t02호선\n",
      "0245\t신답             \t211-2\t02호선\n",
      "0311\t연신내            \t321\t03호선\n",
      "0331\t남부터미널          \t341\t03호선\n",
      "2715\t노원             \t713\t07호선\n",
      "2716\t중계             \t714\t07호선\n",
      "2717\t하계             \t7151\t07호선\n",
      "2718\t공릉             \t716\t07호선\n",
      "2719\t태릉입구           \t717\t07호선\n",
      "2720\t먹골             \t718\t07호선\n",
      "2721\t중화             \t719\t07호선\n",
      "2722\t상봉             \t720\t07호선\n",
      "2723\t면목             \t721\t07호선\n",
      "2724\t사가정            \t722\t07호선\n",
      "2725\t용마산            \t723\t07호선\n",
      "2726\t중곡             \t724\t07호선\n",
      "2727\t군자             \t725\t07호선\n",
      "2728\t어린이대공원         \t726\t07호선\n",
      "2730\t뚝섬유원지          \t728\t07호선\n",
      "2731\t청담             \t729\t07호선\n",
      "2732\t강남구청           \t730\t07호선\n",
      "2734\t논현             \t732\t07호선\n",
      "2735\t반포             \t733\t07호선\n",
      "2736\t고속터미널          \t734\t07호선\n",
      "2737\t내방             \t735\t07호선\n",
      "2738\t이수             \t736\t07호선\n",
      "2739\t남성             \t737\t07호선\n",
      "2740\t숭실대입구          \t738\t07호선\n",
      "2741\t상도             \t739\t07호선\n",
      "2742\t장승배기           \t740\t07호선\n",
      "2743\t신대방삼거리         \t741\t07호선\n",
      "2745\t신풍             \t743\t07호선\n",
      "2746\t대림             \t744\t07호선\n",
      "2747\t남구로            \t745\t07호선\n",
      "2748\t가산디지털단지        \t746\t07호선\n",
      "2749\t철산             \t747\t07호선\n",
      "2750\t광명사거리          \t748\t07호선\n",
      "2751\t천왕             \t749\t07호선\n",
      "2752\t온수             \t750\t07호선\n",
      "2753\t까치울            \t751\t07호선\n",
      "2754\t부천종합운동장        \t752\t07호선\n",
      "2755\t춘의             \t753\t07호선\n",
      "2756\t신중동            \t754\t07호선\n",
      "2757\t부천시청           \t755\t07호선\n",
      "2758\t상동             \t756\t07호선\n",
      "2759\t삼산체육관          \t757\t07호선\n",
      "2760\t굴포천            \t758\t07호선\n",
      "2761\t부평구청           \t759\t07호선\n",
      "2811\t암사             \t810\t08호선\n",
      "2812\t천호             \t811\t08호선\n",
      "2813\t강동구청           \t812\t08호선\n",
      "2815\t잠실             \t814\t08호선\n",
      "2816\t석촌             \t815\t08호선\n",
      "2817\t송파             \t816\t08호선\n",
      "2818\t가락시장           \t817\t08호선\n",
      "2819\t문정             \t818\t08호선\n",
      "2820\t장지             \t819\t08호선\n",
      "2821\t복정             \t820\t08호선\n",
      "2822\t산성             \t821\t08호선\n",
      "2823\t남한산성입구         \t822\t08호선\n",
      "2824\t단대오거리          \t823\t08호선\n",
      "2825\t신흥             \t824\t08호선\n",
      "2826\t수진             \t825\t08호선\n",
      "2827\t모란             \t826\t08호선\n",
      "3110\t계양             \tI110\t인천선\n",
      "3111\t귤현             \tI111\t인천선\n",
      "3112\t박촌             \tI112\t인천선\n",
      "3113\t임학             \tI113\t인천선\n",
      "3114\t계산             \tI114\t인천선\n",
      "3115\t경인교대입구         \tI115\t인천선\n",
      "3116\t작전             \tI116\t인천선\n",
      "3117\t갈산             \tI117\t인천선\n",
      "3118\t부평구청           \tI118\t인천선\n",
      "3119\t부평시장           \tI119\t인천선\n",
      "3120\t부평             \tI120\t인천선\n",
      "3121\t동수             \tI121\t인천선\n",
      "3122\t부평삼거리          \tI122\t인천선\n",
      "3123\t간석오거리          \tI123\t인천선\n",
      "3124\t인천시청           \tI124\t인천선\n",
      "3125\t예술회관           \tI125\t인천선\n",
      "3126\t인천터미널          \tI126\t인천선\n",
      "3127\t문학경기장          \tI127\t인천선\n",
      "3129\t신연수            \tI129\t인천선\n",
      "3130\t원인재            \tI130\t인천선\n",
      "3131\t동춘             \tI131\t인천선\n",
      "3132\t동막             \tI132\t인천선\n",
      "3133\t캠퍼스타운          \tI133\t인천선\n",
      "3134\t테크노파크          \tI134\t인천선\n",
      "3135\t지식정보단지         \tI135\t인천선\n",
      "3136\t인천대입구          \tI136\t인천선\n",
      "3137\t센트럴파크          \tI137\t인천선\n",
      "3138\t국제업무지구         \tI138\t인천선\n",
      "3139\t송도달빛축제공원       \tI139\t인천선\n",
      "3201\t검단오류           \tI201\t인천2호선\n",
      "3202\t왕길             \tI202\t인천2호선\n",
      "3203\t검단사거리          \tI203\t인천2호선\n",
      "3204\t마전             \tI204\t인천2호선\n",
      "3205\t완정             \tI205\t인천2호선\n",
      "3207\t검암             \tI207\t인천2호선\n",
      "3208\t검바위            \tI208\t인천2호선\n",
      "3209\t아시아드경기장        \tI209\t인천2호선\n",
      "3210\t서구청            \tI210\t인천2호선\n",
      "3211\t가정             \tI211\t인천2호선\n",
      "3213\t석남             \tI213\t인천2호선\n",
      "3214\t서부여성회관         \tI214\t인천2호선\n",
      "3215\t인천가좌           \tI215\t인천2호선\n",
      "3216\t가재울            \tI216\t인천2호선\n",
      "0232\t구로디지털단지        \t232\t02호선\n",
      "0318\t안국             \t328\t03호선\n",
      "0332\t양재             \t342\t03호선\n",
      "0337\t대청             \t347\t03호선\n",
      "3217\t주안국가산단         \tI217\t인천2호선\n",
      "3218\t주안             \tI218\t인천2호선\n",
      "3219\t시민공원           \tI219\t인천2호선\n",
      "3220\t석바위시장          \tI220\t인천2호선\n",
      "3221\t인천시청           \tI221\t인천2호선\n",
      "3222\t석천사거리          \tI222\t인천2호선\n",
      "3223\t모래내시장          \tI223\t인천2호선\n",
      "3224\t만수             \tI224\t인천2호선\n",
      "3225\t남동구청           \tI225\t인천2호선\n",
      "3226\t인천대공원          \tI226\t인천2호선\n",
      "3227\t운연             \tI227\t인천2호선\n",
      "3762\t산곡             \t760\t07호선\n",
      "3763\t석남             \t761\t07호선\n",
      "4101\t개화             \t901\t09호선\n",
      "4102\t김포공항           \t902\t09호선\n",
      "4103\t공항시장           \t903\t09호선\n",
      "4104\t신방화            \t904\t09호선\n",
      "4105\t마곡나루           \t905\t09호선\n",
      "4106\t양천향교           \t906\t09호선\n",
      "4107\t가양             \t907\t09호선\n",
      "4108\t증미             \t908\t09호선\n",
      "4109\t등촌             \t909\t09호선\n",
      "4110\t염창             \t910\t09호선\n",
      "4112\t선유도            \t912\t09호선\n",
      "4113\t당산             \t913\t09호선\n",
      "4114\t국회의사당          \t914\t09호선\n",
      "4115\t여의도            \t915\t09호선\n",
      "4116\t샛강             \t916\t09호선\n",
      "4117\t노량진            \t917\t09호선\n",
      "4119\t흑석             \t919\t09호선\n",
      "4120\t동작             \t920\t09호선\n",
      "4121\t구반포            \t921\t09호선\n",
      "0221\t역삼             \t221\t02호선\n",
      "0329\t고속터미널          \t339\t03호선\n",
      "0330\t교대             \t340\t03호선\n",
      "4124\t사평             \t924\t09호선\n",
      "4125\t신논현            \t925\t09호선\n",
      "4126\t언주             \t926\t09호선\n",
      "4127\t선정릉            \t927\t09호선\n",
      "4128\t삼성중앙           \t928\t09호선\n",
      "4129\t봉은사            \t929\t09호선\n",
      "4130\t종합운동장          \t930\t09호선\n",
      "4131\t삼전             \t931\t09호선\n",
      "4132\t석촌고분           \t932\t09호선\n",
      "4133\t석촌             \t933\t09호선\n",
      "4134\t송파나루           \t934\t09호선\n",
      "4135\t한성백제           \t935\t09호선\n",
      "4136\t올림픽공원          \t936\t09호선\n",
      "4137\t둔촌오륜           \t937\t09호선\n",
      "4138\t중앙보훈병원         \t938\t09호선\n",
      "4201\t서울역            \tA01\t공항철도\n",
      "4202\t공덕             \tA02\t공항철도\n",
      "4206\t마곡나루           \tA042\t공항철도\n",
      "4207\t김포공항           \tA05\t공항철도\n",
      "4210\t청라국제도시         \tA071\t공항철도\n",
      "4211\t운서             \tA08\t공항철도\n",
      "4212\t공항화물청사         \tA09\t공항철도\n",
      "4217\t영종             \tA072\t공항철도\n",
      "4307\t강남             \tD7 \t신분당선\n",
      "4308\t양재             \tD8 \t신분당선\n",
      "4313\t미금             \tD13\t신분당선\n",
      "4314\t동천             \tD14\t신분당선\n",
      "4503\t지석             \tY112\t용인경전철\n",
      "4509\t시청.용인대         \tY117\t용인경전철\n",
      "4510\t명지대            \tY118\t용인경전철\n",
      "4605\t의정부시청          \tU114\t의정부경전철\n",
      "4607\t의정부중앙          \tU117\t의정부경전철\n",
      "4608\t동오             \tU118\t의정부경전철\n",
      "4707\t삼양사거리          \t947\t우이신설경전철\n",
      "4708\t솔샘             \t948\t우이신설경전철\n",
      "4922\t마산             \t692\t김포도시철도\n",
      "4926\t사우             \t696\t김포도시철도\n",
      "0207\t상왕십리           \t207\t02호선\n",
      "0233\t대림             \t233\t02호선\n",
      "0234\t신도림            \t234\t02호선\n",
      "0235\t문래             \t235\t02호선\n",
      "0236\t영등포구청          \t236\t02호선\n",
      "0240\t신촌             \t240\t02호선\n",
      "0241\t이대             \t241\t02호선\n",
      "0249\t신정네거리          \t234-3\t02호선\n",
      "0250\t용두             \t211-3\t02호선\n",
      "0312\t불광             \t322\t03호선\n",
      "0313\t녹번             \t323\t03호선\n",
      "0315\t무악재            \t325\t03호선\n",
      "0319\t종로3가           \t329\t03호선\n",
      "0320\t을지로3가          \t330\t03호선\n",
      "0324\t금호             \t334\t03호선\n",
      "0325\t옥수             \t335\t03호선\n",
      "0326\t압구정            \t336\t03호선\n",
      "4927\t풍무             \t697\t김포도시철도\n",
      "0208\t왕십리            \t208\t02호선\n",
      "0209\t한양대            \t209\t02호선\n",
      "0210\t뚝섬             \t210\t02호선\n",
      "0211\t성수             \t211\t02호선\n",
      "0212\t건대입구           \t212\t02호선\n",
      "0213\t구의             \t213\t02호선\n",
      "0214\t강변             \t214\t02호선\n",
      "0215\t잠실나루           \t215\t02호선\n",
      "0216\t잠실             \t216\t02호선\n",
      "0217\t잠실새내           \t217\t02호선\n",
      "0218\t종합운동장          \t218\t02호선\n",
      "0219\t삼성             \t219\t02호선\n",
      "0222\t강남             \t222\t02호선\n",
      "0223\t교대             \t223\t02호선\n",
      "0224\t서초             \t224\t02호선\n",
      "0225\t방배             \t225\t02호선\n",
      "0226\t사당             \t226\t02호선\n",
      "0227\t낙성대            \t227\t02호선\n",
      "0155\t동대문            \t128\t01호선\n",
      "0156\t신설동            \t126\t01호선\n",
      "0157\t제기동            \t125\t01호선\n",
      "0158\t청량리            \t124\t01호선\n",
      "0200\t까치산            \t234-4\t02호선\n",
      "0201\t시청             \t201\t02호선\n",
      "0202\t을지로입구          \t202\t02호선\n",
      "0203\t을지로3가          \t203\t02호선\n",
      "0204\t을지로4가          \t204\t02호선\n",
      "0205\t동대문역사문화공원      \t205\t02호선\n",
      "0246\t신설동            \t211-4\t02호선\n",
      "0300\t대곡             \tK322\t경의선\n",
      "0323\t약수             \t333\t03호선\n",
      "0327\t신사             \t337\t03호선\n",
      "0243\t충정로            \t243\t02호선\n",
      "100C\t용산             \tK110\t경의선\n",
      "0428\t삼각지            \t428\t04호선\n",
      "1009\t서빙고            \tK112\t경의선\n",
      "1014\t청량리            \tK117\t경의선\n",
      "1218\t원덕             \tK136\t경의선\n",
      "1267\t수색             \tK317\t경의선\n",
      "1312\t갈매             \tP123\t경춘선\n",
      "1323\t가평             \tP134\t경춘선\n",
      "1307\t회기             \tP118\t경춘선\n",
      "1508\t이천             \tK417\t경강선\n",
      "1720\t진위             \tP161\t01호선\n",
      "1800\t오이도            \tK258\t수인분당선\n",
      "1305\t광운대            \tP116\t경춘선\n",
      "1832\t고잔             \tK253\t수인분당선\n",
      "1862\t죽전             \tK233\t수인분당선\n",
      "1864\t신갈             \tK236\t수인분당선\n",
      "1873\t고색             \tK246\t수인분당선\n",
      "1510\t세종대왕릉          \tK419\t경강선\n",
      "1867\t청명             \tK239\t수인분당선\n",
      "1877\t사리             \tK250\t수인분당선\n",
      "1912\t지행             \t104\t01호선\n",
      "1916\t소요산            \t100\t01호선\n",
      "2514\t송정             \t513\t05호선\n",
      "2538\t청구             \t5371\t05호선\n",
      "2566\t하남검단산          \t558\t05호선\n",
      "2733\t학동             \t731\t07호선\n",
      "2729\t건대입구           \t727\t07호선\n",
      "2744\t보라매            \t742\t07호선\n",
      "2814\t몽촌토성           \t813\t08호선\n",
      "3128\t선학             \tI128\t인천선\n",
      "3206\t독정             \tI206\t인천2호선\n",
      "4118\t노들             \t918\t09호선\n",
      "4122\t신반포            \t922\t09호선\n",
      "4123\t고속터미널          \t923\t09호선\n",
      "1511\t여주             \tK420\t경강선\n",
      "4111\t신목동            \t911\t09호선\n",
      "4203\t홍대입구           \tA03\t공항철도\n",
      "4204\t디지털미디어시티       \tA04\t공항철도\n",
      "4208\t계양             \tA06\t공항철도\n",
      "4209\t검암             \tA07\t공항철도\n",
      "4213\t인천공항1터미널       \tA10\t공항철도\n",
      "4215\t인천공항2터미널       \tA11\t공항철도\n",
      "4309\t양재시민의숲         \tD9 \t신분당선\n",
      "4310\t청계산입구          \tD10\t신분당선\n",
      "4311\t판교             \tD11\t신분당선\n",
      "4312\t정자             \tD12\t신분당선\n",
      "4511\t김량장            \tY119\t용인경전철\n",
      "4517\t전대.에버랜드        \tY126\t용인경전철\n",
      "4603\t범골             \tU112\t의정부경전철\n",
      "4604\t경전철의정부         \tU113\t의정부경전철\n",
      "4606\t흥선             \tU115\t의정부경전철\n",
      "4609\t새말             \tU119\t의정부경전철\n",
      "4705\t화계             \t945\t우이신설경전철\n",
      "4706\t삼양             \t946\t우이신설경전철\n",
      "4923\t장기             \t693\t김포도시철도\n",
      "4924\t운양             \t694\t김포도시철도\n",
      "4925\t걸포북변           \t695\t김포도시철도\n",
      "3212\t가정중앙시장         \tI212\t인천2호선\n",
      "4315\t수지구청           \tD15\t신분당선\n",
      "4316\t성복             \tD16\t신분당선\n",
      "4317\t상현             \tD17\t신분당선\n",
      "4318\t광교중앙           \tD18\t신분당선\n",
      "4319\t광교             \tD19\t신분당선\n",
      "4501\t기흥             \tY110\t용인경전철\n",
      "4502\t강남대            \tY111\t용인경전철\n",
      "4504\t어정             \tY113\t용인경전철\n",
      "4505\t동백             \tY114\t용인경전철\n",
      "4506\t초당             \tY115\t용인경전철\n",
      "4508\t삼가             \tY116\t용인경전철\n",
      "4602\t회룡             \tU111\t의정부경전철\n",
      "4610\t경기도청북부청사       \tU120\t의정부경전철\n",
      "4611\t효자             \tU121\t의정부경전철\n",
      "4612\t곤제             \tU122\t의정부경전철\n",
      "4613\t어룡             \tU123\t의정부경전철\n",
      "4614\t송산             \tU124\t의정부경전철\n",
      "4615\t탑석             \tU125\t의정부경전철\n",
      "4701\t북한산우이          \t941\t우이신설경전철\n",
      "4702\t솔밭공원           \t942\t우이신설경전철\n",
      "4703\t4·19민주묘지       \t943\t우이신설경전철\n",
      "4704\t가오리            \t944\t우이신설경전철\n",
      "4928\t고촌             \t698\t김포도시철도\n",
      "4929\t김포공항           \t699\t김포도시철도\n",
      "0150\t서울역            \t133\t01호선\n",
      "0151\t시청             \t132\t01호선\n",
      "0152\t종각             \t131\t01호선\n",
      "0153\t종로3가           \t130\t01호선\n",
      "4709\t북한산보국문         \t949\t우이신설경전철\n",
      "4710\t정릉             \t950\t우이신설경전철\n",
      "4711\t성신여대입구         \t951\t우이신설경전철\n",
      "4712\t보문             \t952\t우이신설경전철\n",
      "4713\t신설동            \t953\t우이신설경전철\n",
      "4804\t소사             \t841\t서해선\n",
      "4805\t소새울            \t842\t서해선\n",
      "4806\t시흥대야           \t843\t서해선\n",
      "4807\t신천             \t844\t서해선\n",
      "4808\t신현             \t845\t서해선\n",
      "4809\t시흥시청           \t846\t서해선\n",
      "4810\t시흥능곡           \t847\t서해선\n",
      "4811\t달미             \t848\t서해선\n",
      "4812\t선부             \t849\t서해선\n",
      "4813\t초지             \t850\t서해선\n",
      "4814\t시우             \t701\t서해선\n",
      "----- Ending endIndex= 750\n"
     ]
    }
   ],
   "source": [
    "!python src/ds_open_subway_iter_json.py"
   ]
  },
  {
   "cell_type": "code",
   "execution_count": 63,
   "id": "12dd53bc",
   "metadata": {},
   "outputs": [],
   "source": [
    "import lxml\n",
    "import lxml.etree\n",
    "import requests\n",
    "\n",
    "#json -> xml\n",
    "url='http://openAPI.seoul.go.kr:8088/42624975666a696e3535727172614a/xml/SearchSTNBySubwayLineInfo/1/10///2'\n",
    "\n",
    "data=requests.get(url).text\n",
    "#tree=lxml.etree.parse(StringIO(data.encode('utf-8')))\n",
    "tree=lxml.etree.fromstring(data.encode('utf-8'))"
   ]
  },
  {
   "cell_type": "code",
   "execution_count": 64,
   "id": "ddef17c4",
   "metadata": {},
   "outputs": [
    {
     "name": "stdout",
     "output_type": "stream",
     "text": [
      "동묘앞\n",
      "일원\n",
      "수서\n",
      "가락시장\n",
      "경찰병원\n",
      "오금\n",
      "당고개\n",
      "상계\n",
      "노원\n",
      "창동\n"
     ]
    }
   ],
   "source": [
    "for node in tree.xpath('//STATION_NM'):\n",
    "    print(node.text)"
   ]
  },
  {
   "cell_type": "code",
   "execution_count": 65,
   "id": "d6c0c332",
   "metadata": {},
   "outputs": [
    {
     "name": "stdout",
     "output_type": "stream",
     "text": [
      "total_count= 748 748\n"
     ]
    }
   ],
   "source": [
    "for node in tree.xpath('//list_total_count'):\n",
    "    list_total_count=int(node.text)\n",
    "    print (\"total_count=\",list_total_count, node.text)"
   ]
  },
  {
   "cell_type": "code",
   "execution_count": 66,
   "id": "9db748a1",
   "metadata": {},
   "outputs": [
    {
     "data": {
      "text/plain": [
       "748"
      ]
     },
     "execution_count": 66,
     "metadata": {},
     "output_type": "execute_result"
    }
   ],
   "source": [
    "int(list_total_count)"
   ]
  },
  {
   "cell_type": "code",
   "execution_count": 67,
   "id": "ff8bc5e6",
   "metadata": {},
   "outputs": [
    {
     "name": "stdout",
     "output_type": "stream",
     "text": [
      "Writing src/ds_open_subway_xml.py\n"
     ]
    }
   ],
   "source": [
    "%%writefile src/ds_open_subway_xml.py\n",
    "#!/usr/bin/env python\n",
    "# coding: utf-8\n",
    "import os\n",
    "import requests\n",
    "import urllib\n",
    "import mylib # NO! src.mylib\n",
    "import lxml\n",
    "import lxml.etree\n",
    "from io import StringIO\n",
    "\n",
    "def doIt():\n",
    "    keyPath=os.path.join(os.getcwd(), 'src', 'key.properties')\n",
    "    key=mylib.getKey(keyPath)\n",
    "    # (1) make params with resource IDs\n",
    "    KEY=str(key['dataseoul'])\n",
    "    TYPE='xml'\n",
    "    #OLD: SERVICE='SearchSTNBySubwayLineService'\n",
    "    SERVICE='SearchSTNBySubwayLineInfo'\n",
    "    LINE_NUM=str(2)\n",
    "    START_INDEX=str(1)\n",
    "    END_INDEX=str(10)\n",
    "    startIndex=1\n",
    "    endIndex=10\n",
    "    list_total_count=0    # set later\n",
    "    while True:\n",
    "        START_INDEX=str(startIndex)\n",
    "        END_INDEX=str(endIndex)\n",
    "        #params=os.path.join(KEY,TYPE,SERVICE,START_INDEX,END_INDEX,LINE_NUM)\n",
    "        params=\"/\".join([KEY,TYPE,SERVICE,START_INDEX,END_INDEX,'','',LINE_NUM])\n",
    "        # (2) make a full url\n",
    "        _url='http://openAPI.seoul.go.kr:8088' #NOTE slash: do not use 'http://openAPI.seoul.go.kr:8088/'\n",
    "        #url=urllib.parse.urljoin(_url,params)\n",
    "        url=\"/\".join([_url,params])\n",
    "        #print(url)\n",
    "        # (3) get data\n",
    "        data=requests.get(url).text\n",
    "        #tree=lxml.etree.parse(StringIO(data.encode('utf-8')))\n",
    "        tree=lxml.etree.fromstring(data.encode('utf-8'))\n",
    "        if(startIndex==1):\n",
    "            for node in tree.xpath('//list_total_count'):\n",
    "                list_total_count=int(node.text)\n",
    "                print (\"- Total_count=\",list_total_count)\n",
    "        for node in tree.xpath('//STATION_NM'):\n",
    "            print (node.text, end=\", \")\n",
    "        startIndex+=10\n",
    "        endIndex+=10\n",
    "        if(endIndex > list_total_count):\n",
    "            print(\"----- Ending endIndex=\", endIndex)\n",
    "            break\n",
    "\n",
    "if __name__ == \"__main__\":\n",
    "    doIt()"
   ]
  },
  {
   "cell_type": "code",
   "execution_count": 69,
   "id": "52f9babc",
   "metadata": {},
   "outputs": [
    {
     "name": "stdout",
     "output_type": "stream",
     "text": [
      "- Total_count= 748\n",
      "동묘앞, 일원, 수서, 가락시장, 경찰병원, 오금, 당고개, 상계, 노원, 창동, 쌍문, 수유, 미아, 미아사거리, 길음, 성신여대입구, 한성대입구, 혜화, 동대문, 동대문역사문화공원, 충무로, 명동, 회현, 서울역, 숙대입구, 신용산, 이촌, 동작, 총신대입구, 사당, 남태령, 남영, 용산, 노량진, 대방, 영등포, 지축, 충무로, 매봉, 신도림, 이촌, 한남, 옥수, 응봉, 왕십리, 회기, 외대앞, 신이문, 석계, 광운대, 회기, 월계, 녹천, 창동, 선릉, 한티, 도곡, 구룡, 개포동, 대모산입구, 왕십리, 수서, 복정, 신길, 중랑, 상봉, 망우, 양원, 구리, 도농, 양정, 덕소, 서울대입구, 아현, 구파발, 도심, 팔당, 운길산, 양수, 신원, 국수, 아신, 오빈, 양평, 용문, 지평, 서울역, 신촌, 효창공원앞, 공덕, 서강대, 홍대입구, 가좌, 디지털미디어시티, 화전, 강매, 행신, 능곡, 곡산, 백마, 풍산, 일산, 탄현, 야당, 운정, 금릉, 금촌, 월롱, 파주, 문산, 청량리, 중랑, 상봉, 망우, 임진강, 신내, 별내, 퇴계원, 사릉, 금곡, 평내호평, 천마산, 마석, 대성리, 청평, 상천, 굴봉산, 백양리, 강촌, 김유정, 남춘천, 춘천, 봉명, 쌍용, 아산, 배방, 온양온천, 신창, 선바위, 경마공원, 대공원, 과천, 정부과천청사, 인덕원, 평촌, 범계, 금정, 판교, 이매, 삼동, 경기광주, 초월, 곤지암, 신둔도예촌, 부발, 구로, 가산디지털단지, 금천구청, 석수, 봉천, 잠원, 대치, 관악, 안양, 명학, 금정, 군포, 의왕, 성균관대, 화서, 수원, 독산, 세류, 병점, 세마, 오산대, 오산, 송탄, 서정리, 평택지제, 평택, 성환, 직산, 두정, 천안, 서동탄, 광명, 산본, 대야미, 반월, 상록수, 한대앞, 중앙, 고잔, 초지, 안산, 신림, 용답, 당정, 신길온천, 정왕, 오이도, 수리산, 개봉, 오류동, 역곡, 부천, 송내, 부평, 백운, 동암, 주안, 제물포, 동인천, 인천, 구일, 소사, 부개, 간석, 도원, 온수, 중동, 도화, 한대앞, 중앙, 초지, 안산, 신길온천, 정왕, 청량리, 수원, 서울숲, 압구정로데오, 강남구청, 선정릉, 종로5가, 신대방, 도림천, 홍제, 가천대, 태평, 모란, 야탑, 서현, 수내, 정자, 미금, 오리, 이매, 보정, 구성, 기흥, 상갈, 영통, 망포, 매탄권선, 수원시청, 매교, 오목천, 어천, 야목, 달월, 월곶, 소래포구, 인천논현, 호구포, 남동인더스파크, 원인재, 연수, 송도, 인하대, 숭의, 신당, 당산, 독립문, 동대입구, 학여울, 신포, 인천, 방학, 도봉, 도봉산, 망월사, 회룡, 의정부, 가능, 녹양, 양주, 덕계, 덕정, 동두천중앙, 보산, 동두천, 원흥, 삼송, 원당, 화정, 대곡, 백석, 마두, 정발산, 주엽, 대화, 방화, 개화산, 선릉, 합정, 양천구청, 경복궁, 김포공항, 마곡, 발산, 우장산, 화곡, 까치산, 신정, 목동, 오목교, 양평, 영등포구청, 영등포시장, 신길, 여의도, 여의나루, 마포, 공덕, 애오개, 충정로, 서대문, 광화문, 종로3가, 을지로4가, 동대문역사문화공원, 신금호, 행당, 도곡, 왕십리, 마장, 답십리, 장한평, 군자, 아차산, 광나루, 천호, 강동, 길동, 굽은다리, 명일, 고덕, 상일동, 둔촌동, 올림픽공원, 방이, 오금, 개롱, 거여, 마천, 강일, 미사, 하남풍산, 하남시청, 응암, 역촌, 불광, 독바위, 연신내, 구산, 새절, 증산, 디지털미디어시티, 월드컵경기장, 마포구청, 망원, 합정, 상수, 광흥창, 대흥, 공덕, 효창공원앞, 삼각지, 녹사평, 이태원, 한강진, 버티고개, 약수, 청구, 신당, 동묘앞, 창신, 보문, 안암, 고려대, 월곡, 상월곡, 돌곶이, 석계, 태릉입구, 화랑대, 봉화산, 신내, 장암, 도봉산, 수락산, 마들, 홍대입구, 신답, 연신내, 남부터미널, 노원, 중계, 하계, 공릉, 태릉입구, 먹골, 중화, 상봉, 면목, 사가정, 용마산, 중곡, 군자, 어린이대공원, 뚝섬유원지, 청담, 강남구청, 논현, 반포, 고속터미널, 내방, 이수, 남성, 숭실대입구, 상도, 장승배기, 신대방삼거리, 신풍, 대림, 남구로, 가산디지털단지, 철산, 광명사거리, 천왕, 온수, 까치울, 부천종합운동장, 춘의, 신중동, 부천시청, 상동, 삼산체육관, 굴포천, 부평구청, 암사, 천호, 강동구청, 잠실, 석촌, 송파, 가락시장, 문정, 장지, 복정, 산성, 남한산성입구, 단대오거리, 신흥, 수진, 모란, 계양, 귤현, 박촌, 임학, 계산, 경인교대입구, 작전, 갈산, 부평구청, 부평시장, 부평, 동수, 부평삼거리, 간석오거리, 인천시청, 예술회관, 인천터미널, 문학경기장, 신연수, 원인재, 동춘, 동막, 캠퍼스타운, 테크노파크, 지식정보단지, 인천대입구, 센트럴파크, 국제업무지구, 송도달빛축제공원, 검단오류, 왕길, 검단사거리, 마전, 완정, 검암, 검바위, 아시아드경기장, 서구청, 가정, 석남, 서부여성회관, 인천가좌, 가재울, 구로디지털단지, 안국, 양재, 대청, 주안국가산단, 주안, 시민공원, 석바위시장, 인천시청, 석천사거리, 모래내시장, 만수, 남동구청, 인천대공원, 운연, 산곡, 석남, 개화, 김포공항, 공항시장, 신방화, 마곡나루, 양천향교, 가양, 증미, 등촌, 염창, 선유도, 당산, 국회의사당, 여의도, 샛강, 노량진, 흑석, 동작, 구반포, 역삼, 고속터미널, 교대, 사평, 신논현, 언주, 선정릉, 삼성중앙, 봉은사, 종합운동장, 삼전, 석촌고분, 석촌, 송파나루, 한성백제, 올림픽공원, 둔촌오륜, 중앙보훈병원, 서울역, 공덕, 마곡나루, 김포공항, 청라국제도시, 운서, 공항화물청사, 영종, 강남, 양재, 미금, 동천, 지석, 시청.용인대, 명지대, 의정부시청, 의정부중앙, 동오, 삼양사거리, 솔샘, 마산, 사우, 상왕십리, 대림, 신도림, 문래, 영등포구청, 신촌, 이대, 신정네거리, 용두, 불광, 녹번, 무악재, 종로3가, 을지로3가, 금호, 옥수, 압구정, 풍무, 왕십리, 한양대, 뚝섬, 성수, 건대입구, 구의, 강변, 잠실나루, 잠실, 잠실새내, 종합운동장, 삼성, 강남, 교대, 서초, 방배, 사당, 낙성대, 동대문, 신설동, 제기동, 청량리, 까치산, 시청, 을지로입구, 을지로3가, 을지로4가, 동대문역사문화공원, 신설동, 대곡, 약수, 신사, 충정로, 용산, 삼각지, 서빙고, 청량리, 원덕, 수색, 갈매, 가평, 회기, 이천, 진위, 오이도, 광운대, 고잔, 죽전, 신갈, 고색, 세종대왕릉, 청명, 사리, 지행, 소요산, 송정, 청구, 하남검단산, 학동, 건대입구, 보라매, 몽촌토성, 선학, 독정, 노들, 신반포, 고속터미널, 여주, 신목동, 홍대입구, 디지털미디어시티, 계양, 검암, 인천공항1터미널, 인천공항2터미널, 양재시민의숲, 청계산입구, 판교, 정자, 김량장, 전대.에버랜드, 범골, 경전철의정부, 흥선, 새말, 화계, 삼양, 장기, 운양, 걸포북변, 가정중앙시장, 수지구청, 성복, 상현, 광교중앙, 광교, 기흥, 강남대, 어정, 동백, 초당, 삼가, 회룡, 경기도청북부청사, 효자, 곤제, 어룡, 송산, 탑석, 북한산우이, 솔밭공원, 4·19민주묘지, 가오리, 고촌, 김포공항, 서울역, 시청, 종각, 종로3가, 북한산보국문, 정릉, 성신여대입구, 보문, 신설동, 소사, 소새울, 시흥대야, 신천, 신현, 시흥시청, 시흥능곡, 달미, 선부, 초지, 시우, ----- Ending endIndex= 750\n"
     ]
    }
   ],
   "source": [
    "!python src/ds_open_subway_xml.py"
   ]
  },
  {
   "cell_type": "code",
   "execution_count": null,
   "id": "c1700f44",
   "metadata": {},
   "outputs": [],
   "source": []
  },
  {
   "cell_type": "markdown",
   "id": "47493bae",
   "metadata": {},
   "source": [
    "# 3번째 동영상 외국인"
   ]
  },
  {
   "cell_type": "code",
   "execution_count": 76,
   "id": "dc2c4ad0",
   "metadata": {},
   "outputs": [],
   "source": [
    "import os\n",
    "import src.mylib\n",
    "keyPath=os.path.join(os.getcwd(), 'src', 'key.properties')\n",
    "key=src.mylib.getKey(keyPath)\n",
    "KEY=str(key['dataseoul'])"
   ]
  },
  {
   "cell_type": "code",
   "execution_count": 77,
   "id": "c55c533c",
   "metadata": {},
   "outputs": [
    {
     "name": "stdout",
     "output_type": "stream",
     "text": [
      "/xml/SPOP_FORN_TEMP_RESD_DONG/1/5/20200617\n"
     ]
    }
   ],
   "source": [
    "TYPE='xml'\n",
    "SERVICE='SPOP_FORN_TEMP_RESD_DONG'\n",
    "START_INDEX=str(1)\n",
    "END_INDEX=str(5)\n",
    "STDR_DE_ID=str(20200617)\n",
    "\n",
    "#params=os.path.join(KEY,TYPE,SERVICE,START_INDEX,END_INDEX)\n",
    "params=\"/\".join([KEY,TYPE,SERVICE,START_INDEX,END_INDEX,STDR_DE_ID])\n",
    "\n",
    "print (params[30:])"
   ]
  },
  {
   "cell_type": "code",
   "execution_count": 78,
   "id": "31126779",
   "metadata": {},
   "outputs": [],
   "source": [
    "import urllib\n",
    "_url='http://openapi.seoul.go.kr:8088/'\n",
    "url=urllib.parse.urljoin(_url,params)"
   ]
  },
  {
   "cell_type": "code",
   "execution_count": 79,
   "id": "31c48957",
   "metadata": {},
   "outputs": [
    {
     "name": "stdout",
     "output_type": "stream",
     "text": [
      "http://openapi.seoul.go.kr:8088/42624975666a696e3535727172614a/xml/SPOP_FORN_TEMP_RESD_DONG/1/5/20200617\n"
     ]
    }
   ],
   "source": [
    "print(url) # http://openapi.seoul.go.kr:8088/(인증키)/xml/SPOP_FORN_TEMP_RESD_DONG/1/5/20200617"
   ]
  },
  {
   "cell_type": "code",
   "execution_count": 80,
   "id": "4bdbcb53",
   "metadata": {},
   "outputs": [],
   "source": [
    "import requests\n",
    "\n",
    "data=requests.get(url).text"
   ]
  },
  {
   "cell_type": "code",
   "execution_count": 81,
   "id": "8158e4cb",
   "metadata": {},
   "outputs": [
    {
     "name": "stdout",
     "output_type": "stream",
     "text": [
      "<?xml version=\"1.0\" encoding=\"UTF-8\"?>\n",
      "<SPOP_FORN_TEMP_RESD_DONG>\n",
      "<list_total_count>9849</list_total_count>\n",
      "<RESULT>\n",
      "<CODE>INFO-000</CODE>\n",
      "<MESSAGE>정상 처리되었습니다</MESSAGE>\n",
      "</RESULT>\n",
      "<row>\n",
      "<STDR_DE_ID>20200617</STDR_DE_ID>\n",
      "<TMZON_PD_SE>00</TMZON_PD_SE>\n",
      "<ADSTRD_CODE_SE>11110515</ADSTRD_CODE_SE>\n",
      "<TOT_LVPOP_CO>248.866</TOT_LVPOP_CO>\n",
      "<CHINA_STAYPOP_CO>86.4335</CHINA_STAYPOP_CO>\n",
      "<ETC_STAYPOP_CO>162.432</ETC_STAYPOP_CO>\n",
      "</row>\n",
      "<row>\n",
      "<STDR_DE_ID>20200617</STDR_DE_ID>\n",
      "<TMZON_PD_SE>00</TMZON_PD_SE>\n",
      "<ADSTRD_CODE_SE>11110530</ADSTRD_CODE_SE>\n",
      "<TOT_LVPOP_CO>71.2628</TOT_LVPOP_CO>\n",
      "<CHINA_STAYPOP_CO>0</CHINA_STAYPOP_CO>\n",
      "<ETC_STAYPOP_CO>71.2627</ETC_STAYPOP_CO>\n",
      "</row>\n",
      "<row>\n",
      "<STDR_DE_ID>20200617</STDR_DE_ID>\n",
      "<TMZON_PD_SE>00</TMZON_PD_SE>\n",
      "<ADSTRD_CODE_SE>11110540</ADSTRD_CODE_SE>\n",
      "<TOT_LVPOP_CO>150.1777</TOT_LVPOP_CO>\n",
      "<CHINA_STAYPOP_CO>86.2246</CHINA_STAYPOP_CO>\n",
      "<ETC_STAYPOP_CO>63.9532</ETC_STAYPOP_CO>\n",
      "</row>\n",
      "<row>\n",
      "<STDR_DE_ID>20200617</STDR_DE_ID>\n",
      "<TMZON_PD_SE>00</TMZON_PD_SE>\n",
      "<ADSTRD_CODE_SE>11110550</ADSTRD_CODE_SE>\n",
      "<TOT_LVPOP_CO>136.7137</TOT_LVPOP_CO>\n",
      "<CHINA_STAYPOP_CO>79.3833</CHINA_STAYPOP_CO>\n",
      "<ETC_STAYPOP_CO>57.3305</ETC_STAYPOP_CO>\n",
      "</row>\n",
      "<row>\n",
      "<STDR_DE_ID>20200617</STDR_DE_ID>\n",
      "<TMZON_PD_SE>00</TMZON_PD_SE>\n",
      "<ADSTRD_CODE_SE>11110560</ADSTRD_CODE_SE>\n",
      "<TOT_LVPOP_CO>174.824</TOT_LVPOP_CO>\n",
      "<CHINA_STAYPOP_CO>0</CHINA_STAYPOP_CO>\n",
      "<ETC_STAYPOP_CO>174.8241</ETC_STAYPOP_CO>\n",
      "</row>\n",
      "</SPOP_FORN_TEMP_RESD_DONG>\n",
      "\n"
     ]
    }
   ],
   "source": [
    "print (data)"
   ]
  },
  {
   "cell_type": "code",
   "execution_count": null,
   "id": "9517442e",
   "metadata": {},
   "outputs": [],
   "source": [
    "#### %%writefile src/ds_open_foreigners_xml.py\n",
    "import os\n",
    "import urllib\n",
    "import requests\n",
    "import lxml\n",
    "import lxml.etree\n",
    "import mylib #from src import mylib\n",
    "\n",
    "def doIt():\n",
    "    keyPath=os.path.join(os.getcwd(), 'src', 'key.properties')\n",
    "    key=mylib.getKey(keyPath)\n",
    "    KEY=str(key['dataseoul'])\n",
    "    TYPE='xml'\n",
    "    SERVICE='SPOP_FORN_TEMP_RESD_DONG'\n",
    "    START_INDEX=str(1)\n",
    "    END_INDEX=str(10)\n",
    "    STDR_DE_ID=str(20200617)\n",
    "    #params=\"/\".join([KEY,TYPE,SERVICE,START_INDEX,END_INDEX,STDR_DE_ID])\n",
    "\n",
    "    #_url='http://openAPI.seoul.go.kr:8088/'\n",
    "    _url='http://openAPI.seoul.go.kr:8088' # NOTE: the slash at the end removed\n",
    "    #url=urllib.parse.urljoin(_url,params)\n",
    "    url=\"/\".join([_url,KEY,TYPE,SERVICE,START_INDEX,END_INDEX,STDR_DE_ID])\n",
    "    data=requests.get(url).text\n",
    "    #tree=lxml.etree.parse(StringIO.StringIO(data.encode('utf-8')))\n",
    "    tree=lxml.etree.fromstring(data.encode('utf-8'))\n",
    "    nodes=tree.xpath('//TOT_LVPOP_CO')\n",
    "    for node in nodes:\n",
    "        print (node.text)\n",
    "\n",
    "if __name__ == \"__main__\":\n",
    "    doIt()"
   ]
  },
  {
   "cell_type": "code",
   "execution_count": 84,
   "id": "c280bdcc",
   "metadata": {
    "scrolled": true
   },
   "outputs": [
    {
     "name": "stdout",
     "output_type": "stream",
     "text": [
      "248.866\n",
      "71.2628\n",
      "150.1777\n",
      "136.7137\n",
      "174.824\n",
      "0.4833\n",
      "0.2163\n",
      "35.2093\n",
      "756.5433\n",
      "87.6117\n"
     ]
    }
   ],
   "source": [
    "!python src/ds_open_foreigners_xml.py"
   ]
  },
  {
   "cell_type": "code",
   "execution_count": null,
   "id": "7e72a59a",
   "metadata": {},
   "outputs": [],
   "source": []
  },
  {
   "cell_type": "markdown",
   "id": "c7cf2ccc",
   "metadata": {},
   "source": [
    "# 데이터베이스 저장"
   ]
  },
  {
   "cell_type": "code",
   "execution_count": 4,
   "id": "067d4121",
   "metadata": {
    "ExecuteTime": {
     "end_time": "2021-10-21T01:51:02.998186Z",
     "start_time": "2021-10-21T01:50:32.552215Z"
    }
   },
   "outputs": [
    {
     "ename": "ServerSelectionTimeoutError",
     "evalue": "localhost:27017: [Errno 61] Connection refused, Timeout: 30s, Topology Description: <TopologyDescription id: 6170c76811ea327bccc527b2, topology_type: Single, servers: [<ServerDescription ('localhost', 27017) server_type: Unknown, rtt: None, error=AutoReconnect('localhost:27017: [Errno 61] Connection refused')>]>",
     "output_type": "error",
     "traceback": [
      "\u001b[0;31m---------------------------------------------------------------------------\u001b[0m",
      "\u001b[0;31mServerSelectionTimeoutError\u001b[0m               Traceback (most recent call last)",
      "\u001b[0;32m<ipython-input-4-fafbf354c2c3>\u001b[0m in \u001b[0;36m<module>\u001b[0;34m\u001b[0m\n\u001b[1;32m      7\u001b[0m \u001b[0mmydict\u001b[0m \u001b[0;34m=\u001b[0m \u001b[0;34m{\u001b[0m \u001b[0;34m\"col01\"\u001b[0m \u001b[0;34m:\u001b[0m \u001b[0;34m\"shane\"\u001b[0m\u001b[0;34m,\u001b[0m \u001b[0;34m\"col02\"\u001b[0m \u001b[0;34m:\u001b[0m \u001b[0;34m\"28 Highway\"\u001b[0m\u001b[0;34m,\u001b[0m \u001b[0;34m\"col03\"\u001b[0m \u001b[0;34m:\u001b[0m \u001b[0;34m\"123-456-789\"\u001b[0m\u001b[0;34m}\u001b[0m\u001b[0;34m\u001b[0m\u001b[0;34m\u001b[0m\u001b[0m\n\u001b[1;32m      8\u001b[0m \u001b[0;34m\u001b[0m\u001b[0m\n\u001b[0;32m----> 9\u001b[0;31m \u001b[0mx\u001b[0m \u001b[0;34m=\u001b[0m \u001b[0mmycol\u001b[0m\u001b[0;34m.\u001b[0m\u001b[0minsert_one\u001b[0m\u001b[0;34m(\u001b[0m\u001b[0mmydict\u001b[0m\u001b[0;34m)\u001b[0m\u001b[0;34m\u001b[0m\u001b[0;34m\u001b[0m\u001b[0m\n\u001b[0m\u001b[1;32m     10\u001b[0m \u001b[0mprint\u001b[0m\u001b[0;34m(\u001b[0m\u001b[0mx\u001b[0m\u001b[0;34m.\u001b[0m\u001b[0minserted_id\u001b[0m\u001b[0;34m)\u001b[0m\u001b[0;34m\u001b[0m\u001b[0;34m\u001b[0m\u001b[0m\n",
      "\u001b[0;32m/opt/anaconda3/lib/python3.8/site-packages/pymongo/collection.py\u001b[0m in \u001b[0;36minsert_one\u001b[0;34m(self, document, bypass_document_validation, session)\u001b[0m\n\u001b[1;32m    703\u001b[0m         \u001b[0mwrite_concern\u001b[0m \u001b[0;34m=\u001b[0m \u001b[0mself\u001b[0m\u001b[0;34m.\u001b[0m\u001b[0m_write_concern_for\u001b[0m\u001b[0;34m(\u001b[0m\u001b[0msession\u001b[0m\u001b[0;34m)\u001b[0m\u001b[0;34m\u001b[0m\u001b[0;34m\u001b[0m\u001b[0m\n\u001b[1;32m    704\u001b[0m         return InsertOneResult(\n\u001b[0;32m--> 705\u001b[0;31m             self._insert(document,\n\u001b[0m\u001b[1;32m    706\u001b[0m                          \u001b[0mwrite_concern\u001b[0m\u001b[0;34m=\u001b[0m\u001b[0mwrite_concern\u001b[0m\u001b[0;34m,\u001b[0m\u001b[0;34m\u001b[0m\u001b[0;34m\u001b[0m\u001b[0m\n\u001b[1;32m    707\u001b[0m                          \u001b[0mbypass_doc_val\u001b[0m\u001b[0;34m=\u001b[0m\u001b[0mbypass_document_validation\u001b[0m\u001b[0;34m,\u001b[0m\u001b[0;34m\u001b[0m\u001b[0;34m\u001b[0m\u001b[0m\n",
      "\u001b[0;32m/opt/anaconda3/lib/python3.8/site-packages/pymongo/collection.py\u001b[0m in \u001b[0;36m_insert\u001b[0;34m(self, docs, ordered, check_keys, manipulate, write_concern, op_id, bypass_doc_val, session)\u001b[0m\n\u001b[1;32m    618\u001b[0m         \u001b[0;34m\"\"\"Internal insert helper.\"\"\"\u001b[0m\u001b[0;34m\u001b[0m\u001b[0;34m\u001b[0m\u001b[0m\n\u001b[1;32m    619\u001b[0m         \u001b[0;32mif\u001b[0m \u001b[0misinstance\u001b[0m\u001b[0;34m(\u001b[0m\u001b[0mdocs\u001b[0m\u001b[0;34m,\u001b[0m \u001b[0mabc\u001b[0m\u001b[0;34m.\u001b[0m\u001b[0mMapping\u001b[0m\u001b[0;34m)\u001b[0m\u001b[0;34m:\u001b[0m\u001b[0;34m\u001b[0m\u001b[0;34m\u001b[0m\u001b[0m\n\u001b[0;32m--> 620\u001b[0;31m             return self._insert_one(\n\u001b[0m\u001b[1;32m    621\u001b[0m                 \u001b[0mdocs\u001b[0m\u001b[0;34m,\u001b[0m \u001b[0mordered\u001b[0m\u001b[0;34m,\u001b[0m \u001b[0mcheck_keys\u001b[0m\u001b[0;34m,\u001b[0m \u001b[0mmanipulate\u001b[0m\u001b[0;34m,\u001b[0m \u001b[0mwrite_concern\u001b[0m\u001b[0;34m,\u001b[0m \u001b[0mop_id\u001b[0m\u001b[0;34m,\u001b[0m\u001b[0;34m\u001b[0m\u001b[0;34m\u001b[0m\u001b[0m\n\u001b[1;32m    622\u001b[0m                 bypass_doc_val, session)\n",
      "\u001b[0;32m/opt/anaconda3/lib/python3.8/site-packages/pymongo/collection.py\u001b[0m in \u001b[0;36m_insert_one\u001b[0;34m(self, doc, ordered, check_keys, manipulate, write_concern, op_id, bypass_doc_val, session)\u001b[0m\n\u001b[1;32m    607\u001b[0m             \u001b[0m_check_write_command_response\u001b[0m\u001b[0;34m(\u001b[0m\u001b[0mresult\u001b[0m\u001b[0;34m)\u001b[0m\u001b[0;34m\u001b[0m\u001b[0;34m\u001b[0m\u001b[0m\n\u001b[1;32m    608\u001b[0m \u001b[0;34m\u001b[0m\u001b[0m\n\u001b[0;32m--> 609\u001b[0;31m         self.__database.client._retryable_write(\n\u001b[0m\u001b[1;32m    610\u001b[0m             acknowledged, _insert_command, session)\n\u001b[1;32m    611\u001b[0m \u001b[0;34m\u001b[0m\u001b[0m\n",
      "\u001b[0;32m/opt/anaconda3/lib/python3.8/site-packages/pymongo/mongo_client.py\u001b[0m in \u001b[0;36m_retryable_write\u001b[0;34m(self, retryable, func, session)\u001b[0m\n\u001b[1;32m   1549\u001b[0m     \u001b[0;32mdef\u001b[0m \u001b[0m_retryable_write\u001b[0m\u001b[0;34m(\u001b[0m\u001b[0mself\u001b[0m\u001b[0;34m,\u001b[0m \u001b[0mretryable\u001b[0m\u001b[0;34m,\u001b[0m \u001b[0mfunc\u001b[0m\u001b[0;34m,\u001b[0m \u001b[0msession\u001b[0m\u001b[0;34m)\u001b[0m\u001b[0;34m:\u001b[0m\u001b[0;34m\u001b[0m\u001b[0;34m\u001b[0m\u001b[0m\n\u001b[1;32m   1550\u001b[0m         \u001b[0;34m\"\"\"Internal retryable write helper.\"\"\"\u001b[0m\u001b[0;34m\u001b[0m\u001b[0;34m\u001b[0m\u001b[0m\n\u001b[0;32m-> 1551\u001b[0;31m         \u001b[0;32mwith\u001b[0m \u001b[0mself\u001b[0m\u001b[0;34m.\u001b[0m\u001b[0m_tmp_session\u001b[0m\u001b[0;34m(\u001b[0m\u001b[0msession\u001b[0m\u001b[0;34m)\u001b[0m \u001b[0;32mas\u001b[0m \u001b[0ms\u001b[0m\u001b[0;34m:\u001b[0m\u001b[0;34m\u001b[0m\u001b[0;34m\u001b[0m\u001b[0m\n\u001b[0m\u001b[1;32m   1552\u001b[0m             \u001b[0;32mreturn\u001b[0m \u001b[0mself\u001b[0m\u001b[0;34m.\u001b[0m\u001b[0m_retry_with_session\u001b[0m\u001b[0;34m(\u001b[0m\u001b[0mretryable\u001b[0m\u001b[0;34m,\u001b[0m \u001b[0mfunc\u001b[0m\u001b[0;34m,\u001b[0m \u001b[0ms\u001b[0m\u001b[0;34m,\u001b[0m \u001b[0;32mNone\u001b[0m\u001b[0;34m)\u001b[0m\u001b[0;34m\u001b[0m\u001b[0;34m\u001b[0m\u001b[0m\n\u001b[1;32m   1553\u001b[0m \u001b[0;34m\u001b[0m\u001b[0m\n",
      "\u001b[0;32m/opt/anaconda3/lib/python3.8/contextlib.py\u001b[0m in \u001b[0;36m__enter__\u001b[0;34m(self)\u001b[0m\n\u001b[1;32m    111\u001b[0m         \u001b[0;32mdel\u001b[0m \u001b[0mself\u001b[0m\u001b[0;34m.\u001b[0m\u001b[0margs\u001b[0m\u001b[0;34m,\u001b[0m \u001b[0mself\u001b[0m\u001b[0;34m.\u001b[0m\u001b[0mkwds\u001b[0m\u001b[0;34m,\u001b[0m \u001b[0mself\u001b[0m\u001b[0;34m.\u001b[0m\u001b[0mfunc\u001b[0m\u001b[0;34m\u001b[0m\u001b[0;34m\u001b[0m\u001b[0m\n\u001b[1;32m    112\u001b[0m         \u001b[0;32mtry\u001b[0m\u001b[0;34m:\u001b[0m\u001b[0;34m\u001b[0m\u001b[0;34m\u001b[0m\u001b[0m\n\u001b[0;32m--> 113\u001b[0;31m             \u001b[0;32mreturn\u001b[0m \u001b[0mnext\u001b[0m\u001b[0;34m(\u001b[0m\u001b[0mself\u001b[0m\u001b[0;34m.\u001b[0m\u001b[0mgen\u001b[0m\u001b[0;34m)\u001b[0m\u001b[0;34m\u001b[0m\u001b[0;34m\u001b[0m\u001b[0m\n\u001b[0m\u001b[1;32m    114\u001b[0m         \u001b[0;32mexcept\u001b[0m \u001b[0mStopIteration\u001b[0m\u001b[0;34m:\u001b[0m\u001b[0;34m\u001b[0m\u001b[0;34m\u001b[0m\u001b[0m\n\u001b[1;32m    115\u001b[0m             \u001b[0;32mraise\u001b[0m \u001b[0mRuntimeError\u001b[0m\u001b[0;34m(\u001b[0m\u001b[0;34m\"generator didn't yield\"\u001b[0m\u001b[0;34m)\u001b[0m \u001b[0;32mfrom\u001b[0m \u001b[0;32mNone\u001b[0m\u001b[0;34m\u001b[0m\u001b[0;34m\u001b[0m\u001b[0m\n",
      "\u001b[0;32m/opt/anaconda3/lib/python3.8/site-packages/pymongo/mongo_client.py\u001b[0m in \u001b[0;36m_tmp_session\u001b[0;34m(self, session, close)\u001b[0m\n\u001b[1;32m   1946\u001b[0m             \u001b[0;32mreturn\u001b[0m\u001b[0;34m\u001b[0m\u001b[0;34m\u001b[0m\u001b[0m\n\u001b[1;32m   1947\u001b[0m \u001b[0;34m\u001b[0m\u001b[0m\n\u001b[0;32m-> 1948\u001b[0;31m         \u001b[0ms\u001b[0m \u001b[0;34m=\u001b[0m \u001b[0mself\u001b[0m\u001b[0;34m.\u001b[0m\u001b[0m_ensure_session\u001b[0m\u001b[0;34m(\u001b[0m\u001b[0msession\u001b[0m\u001b[0;34m)\u001b[0m\u001b[0;34m\u001b[0m\u001b[0;34m\u001b[0m\u001b[0m\n\u001b[0m\u001b[1;32m   1949\u001b[0m         \u001b[0;32mif\u001b[0m \u001b[0ms\u001b[0m\u001b[0;34m:\u001b[0m\u001b[0;34m\u001b[0m\u001b[0;34m\u001b[0m\u001b[0m\n\u001b[1;32m   1950\u001b[0m             \u001b[0;32mtry\u001b[0m\u001b[0;34m:\u001b[0m\u001b[0;34m\u001b[0m\u001b[0;34m\u001b[0m\u001b[0m\n",
      "\u001b[0;32m/opt/anaconda3/lib/python3.8/site-packages/pymongo/mongo_client.py\u001b[0m in \u001b[0;36m_ensure_session\u001b[0;34m(self, session)\u001b[0m\n\u001b[1;32m   1933\u001b[0m             \u001b[0;31m# Don't make implicit sessions causally consistent. Applications\u001b[0m\u001b[0;34m\u001b[0m\u001b[0;34m\u001b[0m\u001b[0;34m\u001b[0m\u001b[0m\n\u001b[1;32m   1934\u001b[0m             \u001b[0;31m# should always opt-in.\u001b[0m\u001b[0;34m\u001b[0m\u001b[0;34m\u001b[0m\u001b[0;34m\u001b[0m\u001b[0m\n\u001b[0;32m-> 1935\u001b[0;31m             \u001b[0;32mreturn\u001b[0m \u001b[0mself\u001b[0m\u001b[0;34m.\u001b[0m\u001b[0m__start_session\u001b[0m\u001b[0;34m(\u001b[0m\u001b[0;32mTrue\u001b[0m\u001b[0;34m,\u001b[0m \u001b[0mcausal_consistency\u001b[0m\u001b[0;34m=\u001b[0m\u001b[0;32mFalse\u001b[0m\u001b[0;34m)\u001b[0m\u001b[0;34m\u001b[0m\u001b[0;34m\u001b[0m\u001b[0m\n\u001b[0m\u001b[1;32m   1936\u001b[0m         \u001b[0;32mexcept\u001b[0m \u001b[0;34m(\u001b[0m\u001b[0mConfigurationError\u001b[0m\u001b[0;34m,\u001b[0m \u001b[0mInvalidOperation\u001b[0m\u001b[0;34m)\u001b[0m\u001b[0;34m:\u001b[0m\u001b[0;34m\u001b[0m\u001b[0;34m\u001b[0m\u001b[0m\n\u001b[1;32m   1937\u001b[0m             \u001b[0;31m# Sessions not supported, or multiple users authenticated.\u001b[0m\u001b[0;34m\u001b[0m\u001b[0;34m\u001b[0m\u001b[0;34m\u001b[0m\u001b[0m\n",
      "\u001b[0;32m/opt/anaconda3/lib/python3.8/site-packages/pymongo/mongo_client.py\u001b[0m in \u001b[0;36m__start_session\u001b[0;34m(self, implicit, **kwargs)\u001b[0m\n\u001b[1;32m   1881\u001b[0m \u001b[0;34m\u001b[0m\u001b[0m\n\u001b[1;32m   1882\u001b[0m         \u001b[0;31m# Raises ConfigurationError if sessions are not supported.\u001b[0m\u001b[0;34m\u001b[0m\u001b[0;34m\u001b[0m\u001b[0;34m\u001b[0m\u001b[0m\n\u001b[0;32m-> 1883\u001b[0;31m         \u001b[0mserver_session\u001b[0m \u001b[0;34m=\u001b[0m \u001b[0mself\u001b[0m\u001b[0;34m.\u001b[0m\u001b[0m_get_server_session\u001b[0m\u001b[0;34m(\u001b[0m\u001b[0;34m)\u001b[0m\u001b[0;34m\u001b[0m\u001b[0;34m\u001b[0m\u001b[0m\n\u001b[0m\u001b[1;32m   1884\u001b[0m         \u001b[0mopts\u001b[0m \u001b[0;34m=\u001b[0m \u001b[0mclient_session\u001b[0m\u001b[0;34m.\u001b[0m\u001b[0mSessionOptions\u001b[0m\u001b[0;34m(\u001b[0m\u001b[0;34m**\u001b[0m\u001b[0mkwargs\u001b[0m\u001b[0;34m)\u001b[0m\u001b[0;34m\u001b[0m\u001b[0;34m\u001b[0m\u001b[0m\n\u001b[1;32m   1885\u001b[0m         return client_session.ClientSession(\n",
      "\u001b[0;32m/opt/anaconda3/lib/python3.8/site-packages/pymongo/mongo_client.py\u001b[0m in \u001b[0;36m_get_server_session\u001b[0;34m(self)\u001b[0m\n\u001b[1;32m   1919\u001b[0m     \u001b[0;32mdef\u001b[0m \u001b[0m_get_server_session\u001b[0m\u001b[0;34m(\u001b[0m\u001b[0mself\u001b[0m\u001b[0;34m)\u001b[0m\u001b[0;34m:\u001b[0m\u001b[0;34m\u001b[0m\u001b[0;34m\u001b[0m\u001b[0m\n\u001b[1;32m   1920\u001b[0m         \u001b[0;34m\"\"\"Internal: start or resume a _ServerSession.\"\"\"\u001b[0m\u001b[0;34m\u001b[0m\u001b[0;34m\u001b[0m\u001b[0m\n\u001b[0;32m-> 1921\u001b[0;31m         \u001b[0;32mreturn\u001b[0m \u001b[0mself\u001b[0m\u001b[0;34m.\u001b[0m\u001b[0m_topology\u001b[0m\u001b[0;34m.\u001b[0m\u001b[0mget_server_session\u001b[0m\u001b[0;34m(\u001b[0m\u001b[0;34m)\u001b[0m\u001b[0;34m\u001b[0m\u001b[0;34m\u001b[0m\u001b[0m\n\u001b[0m\u001b[1;32m   1922\u001b[0m \u001b[0;34m\u001b[0m\u001b[0m\n\u001b[1;32m   1923\u001b[0m     \u001b[0;32mdef\u001b[0m \u001b[0m_return_server_session\u001b[0m\u001b[0;34m(\u001b[0m\u001b[0mself\u001b[0m\u001b[0;34m,\u001b[0m \u001b[0mserver_session\u001b[0m\u001b[0;34m,\u001b[0m \u001b[0mlock\u001b[0m\u001b[0;34m)\u001b[0m\u001b[0;34m:\u001b[0m\u001b[0;34m\u001b[0m\u001b[0;34m\u001b[0m\u001b[0m\n",
      "\u001b[0;32m/opt/anaconda3/lib/python3.8/site-packages/pymongo/topology.py\u001b[0m in \u001b[0;36mget_server_session\u001b[0;34m(self)\u001b[0m\n\u001b[1;32m    518\u001b[0m             \u001b[0;31m# Sessions are always supported in load balanced mode.\u001b[0m\u001b[0;34m\u001b[0m\u001b[0;34m\u001b[0m\u001b[0;34m\u001b[0m\u001b[0m\n\u001b[1;32m    519\u001b[0m             \u001b[0;32mif\u001b[0m \u001b[0;32mnot\u001b[0m \u001b[0mself\u001b[0m\u001b[0;34m.\u001b[0m\u001b[0m_settings\u001b[0m\u001b[0;34m.\u001b[0m\u001b[0mload_balanced\u001b[0m\u001b[0;34m:\u001b[0m\u001b[0;34m\u001b[0m\u001b[0;34m\u001b[0m\u001b[0m\n\u001b[0;32m--> 520\u001b[0;31m                 \u001b[0msession_timeout\u001b[0m \u001b[0;34m=\u001b[0m \u001b[0mself\u001b[0m\u001b[0;34m.\u001b[0m\u001b[0m_check_session_support\u001b[0m\u001b[0;34m(\u001b[0m\u001b[0;34m)\u001b[0m\u001b[0;34m\u001b[0m\u001b[0;34m\u001b[0m\u001b[0m\n\u001b[0m\u001b[1;32m    521\u001b[0m             \u001b[0;32melse\u001b[0m\u001b[0;34m:\u001b[0m\u001b[0;34m\u001b[0m\u001b[0;34m\u001b[0m\u001b[0m\n\u001b[1;32m    522\u001b[0m                 \u001b[0;31m# Sessions never time out in load balanced mode.\u001b[0m\u001b[0;34m\u001b[0m\u001b[0;34m\u001b[0m\u001b[0;34m\u001b[0m\u001b[0m\n",
      "\u001b[0;32m/opt/anaconda3/lib/python3.8/site-packages/pymongo/topology.py\u001b[0m in \u001b[0;36m_check_session_support\u001b[0;34m(self)\u001b[0m\n\u001b[1;32m    497\u001b[0m             \u001b[0;32mif\u001b[0m \u001b[0mself\u001b[0m\u001b[0;34m.\u001b[0m\u001b[0m_description\u001b[0m\u001b[0;34m.\u001b[0m\u001b[0mtopology_type\u001b[0m \u001b[0;34m==\u001b[0m \u001b[0mTOPOLOGY_TYPE\u001b[0m\u001b[0;34m.\u001b[0m\u001b[0mSingle\u001b[0m\u001b[0;34m:\u001b[0m\u001b[0;34m\u001b[0m\u001b[0;34m\u001b[0m\u001b[0m\n\u001b[1;32m    498\u001b[0m                 \u001b[0;32mif\u001b[0m \u001b[0;32mnot\u001b[0m \u001b[0mself\u001b[0m\u001b[0;34m.\u001b[0m\u001b[0m_description\u001b[0m\u001b[0;34m.\u001b[0m\u001b[0mhas_known_servers\u001b[0m\u001b[0;34m:\u001b[0m\u001b[0;34m\u001b[0m\u001b[0;34m\u001b[0m\u001b[0m\n\u001b[0;32m--> 499\u001b[0;31m                     self._select_servers_loop(\n\u001b[0m\u001b[1;32m    500\u001b[0m                         \u001b[0many_server_selector\u001b[0m\u001b[0;34m,\u001b[0m\u001b[0;34m\u001b[0m\u001b[0;34m\u001b[0m\u001b[0m\n\u001b[1;32m    501\u001b[0m                         \u001b[0mself\u001b[0m\u001b[0;34m.\u001b[0m\u001b[0m_settings\u001b[0m\u001b[0;34m.\u001b[0m\u001b[0mserver_selection_timeout\u001b[0m\u001b[0;34m,\u001b[0m\u001b[0;34m\u001b[0m\u001b[0;34m\u001b[0m\u001b[0m\n",
      "\u001b[0;32m/opt/anaconda3/lib/python3.8/site-packages/pymongo/topology.py\u001b[0m in \u001b[0;36m_select_servers_loop\u001b[0;34m(self, selector, timeout, address)\u001b[0m\n\u001b[1;32m    216\u001b[0m             \u001b[0;31m# No suitable servers.\u001b[0m\u001b[0;34m\u001b[0m\u001b[0;34m\u001b[0m\u001b[0;34m\u001b[0m\u001b[0m\n\u001b[1;32m    217\u001b[0m             \u001b[0;32mif\u001b[0m \u001b[0mtimeout\u001b[0m \u001b[0;34m==\u001b[0m \u001b[0;36m0\u001b[0m \u001b[0;32mor\u001b[0m \u001b[0mnow\u001b[0m \u001b[0;34m>\u001b[0m \u001b[0mend_time\u001b[0m\u001b[0;34m:\u001b[0m\u001b[0;34m\u001b[0m\u001b[0;34m\u001b[0m\u001b[0m\n\u001b[0;32m--> 218\u001b[0;31m                 raise ServerSelectionTimeoutError(\n\u001b[0m\u001b[1;32m    219\u001b[0m                     \u001b[0;34m\"%s, Timeout: %ss, Topology Description: %r\"\u001b[0m \u001b[0;34m%\u001b[0m\u001b[0;34m\u001b[0m\u001b[0;34m\u001b[0m\u001b[0m\n\u001b[1;32m    220\u001b[0m                     (self._error_message(selector), timeout, self.description))\n",
      "\u001b[0;31mServerSelectionTimeoutError\u001b[0m: localhost:27017: [Errno 61] Connection refused, Timeout: 30s, Topology Description: <TopologyDescription id: 6170c76811ea327bccc527b2, topology_type: Single, servers: [<ServerDescription ('localhost', 27017) server_type: Unknown, rtt: None, error=AutoReconnect('localhost:27017: [Errno 61] Connection refused')>]>"
     ]
    }
   ],
   "source": [
    "import pymongo\n",
    " \n",
    "myclient = pymongo.MongoClient(\"mongodb://localhost:27017\")\n",
    "mydb = myclient[\"python\"]\n",
    "mycol = mydb[\"sample\"]\n",
    " \n",
    "mydict = { \"col01\" : \"shane\", \"col02\" : \"28 Highway\", \"col03\" : \"123-456-789\"}\n",
    " \n",
    "x = mycol.insert_one(mydict)\n",
    "print(x.inserted_id)"
   ]
  },
  {
   "cell_type": "code",
   "execution_count": 5,
   "id": "8f2af33a",
   "metadata": {
    "ExecuteTime": {
     "end_time": "2021-10-21T02:01:07.342861Z",
     "start_time": "2021-10-21T02:01:07.339797Z"
    }
   },
   "outputs": [],
   "source": [
    "import pymongo"
   ]
  },
  {
   "cell_type": "code",
   "execution_count": 6,
   "id": "fb59aafa",
   "metadata": {
    "ExecuteTime": {
     "end_time": "2021-10-21T02:01:08.119551Z",
     "start_time": "2021-10-21T02:01:08.113777Z"
    }
   },
   "outputs": [],
   "source": [
    "Client = pymongo.MongoClient('mongodb://localhost:27017')\n",
    "#Client = pymongo.MongoClient()"
   ]
  },
  {
   "cell_type": "code",
   "execution_count": 7,
   "id": "fd69dbc8",
   "metadata": {
    "ExecuteTime": {
     "end_time": "2021-10-21T02:01:09.036313Z",
     "start_time": "2021-10-21T02:01:09.033694Z"
    }
   },
   "outputs": [],
   "source": [
    "db = Client.myDB"
   ]
  },
  {
   "cell_type": "code",
   "execution_count": 8,
   "id": "5e8d7fba",
   "metadata": {
    "ExecuteTime": {
     "end_time": "2021-10-21T02:01:10.014346Z",
     "start_time": "2021-10-21T02:01:10.006811Z"
    }
   },
   "outputs": [
    {
     "name": "stdout",
     "output_type": "stream",
     "text": [
      "['admin', 'config', 'local']\n"
     ]
    }
   ],
   "source": [
    "print(Client.list_database_names())"
   ]
  },
  {
   "cell_type": "code",
   "execution_count": 99,
   "id": "24b5fc45",
   "metadata": {},
   "outputs": [],
   "source": [
    "#테이블 만드는 방법\n",
    "# db = Client['myDB']\n",
    "# mycol = db['muPyCol']"
   ]
  },
  {
   "cell_type": "code",
   "execution_count": 103,
   "id": "8a8f905a",
   "metadata": {},
   "outputs": [
    {
     "data": {
      "text/plain": [
       "<pymongo.results.InsertOneResult at 0x1c92ce70d00>"
      ]
     },
     "execution_count": 103,
     "metadata": {},
     "output_type": "execute_result"
    }
   ],
   "source": [
    "_id = 1\n",
    "_name = 'js'\n",
    "_age=11\n",
    "_country='ko'\n",
    "\n",
    "db.myPyCol.insert_one({\n",
    "    'id':_id,\n",
    "    'name':_name,\n",
    "    'age':_age,\n",
    "    'country':_country\n",
    "})"
   ]
  },
  {
   "cell_type": "code",
   "execution_count": 104,
   "id": "5f9bc3cc",
   "metadata": {},
   "outputs": [
    {
     "name": "stdout",
     "output_type": "stream",
     "text": [
      "['admin', 'config', 'local', 'myDB']\n"
     ]
    }
   ],
   "source": [
    "print(Client.list_database_names())"
   ]
  },
  {
   "cell_type": "code",
   "execution_count": 105,
   "id": "188618f9",
   "metadata": {},
   "outputs": [
    {
     "name": "stdout",
     "output_type": "stream",
     "text": [
      "['myPyCol', 'muPyCol']\n"
     ]
    }
   ],
   "source": [
    "print(db.list_collection_names())"
   ]
  },
  {
   "cell_type": "code",
   "execution_count": 106,
   "id": "e9909ecf",
   "metadata": {},
   "outputs": [],
   "source": [
    "results = db.myPyCol.find()"
   ]
  },
  {
   "cell_type": "code",
   "execution_count": 107,
   "id": "8b8131e2",
   "metadata": {},
   "outputs": [
    {
     "name": "stdout",
     "output_type": "stream",
     "text": [
      "js\n"
     ]
    }
   ],
   "source": [
    "for r in results:\n",
    "    print(r['name'])"
   ]
  },
  {
   "cell_type": "code",
   "execution_count": 108,
   "id": "7ad4a7cd",
   "metadata": {},
   "outputs": [
    {
     "name": "stdout",
     "output_type": "stream",
     "text": [
      "Writing src/ds_open_subwayTime.py\n"
     ]
    }
   ],
   "source": [
    "%%writefile src/ds_open_subwayTime.py\n",
    "# coding: utf-8\n",
    "import os\n",
    "import requests\n",
    "import json\n",
    "from pymongo import MongoClient\n",
    "import mylib\n",
    "\n",
    "Client = MongoClient('localhost:27017')\n",
    "_db=Client['ds_open_subwayPassengersDb'] #db created by mongo. You do not have to create this.\n",
    "_table=_db['db_open_subwayTable'] #collection\n",
    "#db=Client.ds_rest_subwayPassengers\n",
    "\n",
    "def saveJson(_fname,_data):\n",
    "    import io\n",
    "    with io.open(_fname, 'a', encoding='utf8') as json_file:\n",
    "        #_j=json.dumps(_data, json_file, ensure_ascii=False, encoding='utf8') # python2\n",
    "        _j=json.dump(_data, json_file, ensure_ascii=False)\n",
    "        json_file.write(str(_j)+\"\\n\")\n",
    "\n",
    "def readJson(_fname):\n",
    "    for line in open(_fname, 'r').readlines():\n",
    "        _j=json.loads(line)\n",
    "        #print _j['id'],_j['text']\n",
    "        print (_j['id'])\n",
    "\n",
    "def saveDB(_data):\n",
    "    _table.insert_one(_data)\n",
    "\n",
    "def readDB():\n",
    "    for tweet in _table.find():\n",
    "        print (tweet['id'],tweet['text'])\n",
    "\n",
    "def saveFile(_fname,_data):\n",
    "    fp=open(_fname,'a')\n",
    "    fp.write(_data+\"\\n\")\n",
    "\n",
    "def doIt():\n",
    "    keyPath=os.path.join(os.getcwd(), 'src', 'key.properties')\n",
    "    key=mylib.getKey(keyPath)  \n",
    "    _key=key['dataseoul'] #KEY='73725.....'\n",
    "    _url='http://openAPI.seoul.go.kr:8088'\n",
    "    _type='json'\n",
    "    _service='CardSubwayTime'\n",
    "    _start_index=1\n",
    "    _end_index=5\n",
    "    _use_mon='202106'\n",
    "    _maxIter=20\n",
    "    _iter=0\n",
    "    _jfname='src/ds_open_subwayTime.json'\n",
    "    while _iter<_maxIter:\n",
    "        _api=\"/\".join([_url,_key,_type,_service,str(_start_index),str(_end_index),_use_mon])\n",
    "        #print _api\n",
    "        r=requests.get(_api)\n",
    "        _json=r.json()\n",
    "        print (_json)\n",
    "        saveJson(_jfname,_json)\n",
    "        saveDB(_json)\n",
    "        _start_index+=5\n",
    "        _end_index+=5\n",
    "        _iter+=1\n",
    "\n",
    "if __name__ == \"__main__\":\n",
    "    doIt()"
   ]
  },
  {
   "cell_type": "code",
   "execution_count": 109,
   "id": "708e73bc",
   "metadata": {},
   "outputs": [
    {
     "name": "stdout",
     "output_type": "stream",
     "text": [
      "{'CardSubwayTime': {'list_total_count': 608, 'RESULT': {'CODE': 'INFO-000', 'MESSAGE': '정상 처리되었습니다'}, 'row': [{'USE_MON': '202106', 'LINE_NUM': '1호선', 'SUB_STA_NM': '서울역', 'FOUR_RIDE_NUM': 654.0, 'FOUR_ALIGHT_NUM': 17.0, 'FIVE_RIDE_NUM': 9008.0, 'FIVE_ALIGHT_NUM': 6400.0, 'SIX_RIDE_NUM': 12474.0, 'SIX_ALIGHT_NUM': 37203.0, 'SEVEN_RIDE_NUM': 37253.0, 'SEVEN_ALIGHT_NUM': 91875.0, 'EIGHT_RIDE_NUM': 59876.0, 'EIGHT_ALIGHT_NUM': 187805.0, 'NINE_RIDE_NUM': 44619.0, 'NINE_ALIGHT_NUM': 118679.0, 'TEN_RIDE_NUM': 42611.0, 'TEN_ALIGHT_NUM': 57710.0, 'ELEVEN_RIDE_NUM': 49533.0, 'ELEVEN_ALIGHT_NUM': 50003.0, 'TWELVE_RIDE_NUM': 59357.0, 'TWELVE_ALIGHT_NUM': 53317.0, 'THIRTEEN_RIDE_NUM': 61171.0, 'THIRTEEN_ALIGHT_NUM': 53687.0, 'FOURTEEN_RIDE_NUM': 53310.0, 'FOURTEEN_ALIGHT_NUM': 49094.0, 'FIFTEEN_RIDE_NUM': 65767.0, 'FIFTEEN_ALIGHT_NUM': 52788.0, 'SIXTEEN_RIDE_NUM': 76249.0, 'SIXTEEN_ALIGHT_NUM': 53969.0, 'SEVENTEEN_RIDE_NUM': 122928.0, 'SEVENTEEN_ALIGHT_NUM': 64693.0, 'EIGHTEEN_RIDE_NUM': 184907.0, 'EIGHTEEN_ALIGHT_NUM': 73978.0, 'NINETEEN_RIDE_NUM': 87575.0, 'NINETEEN_ALIGHT_NUM': 46769.0, 'TWENTY_RIDE_NUM': 59961.0, 'TWENTY_ALIGHT_NUM': 30743.0, 'TWENTY_ONE_RIDE_NUM': 65078.0, 'TWENTY_ONE_ALIGHT_NUM': 27435.0, 'TWENTY_TWO_RIDE_NUM': 44921.0, 'TWENTY_TWO_ALIGHT_NUM': 22829.0, 'TWENTY_THREE_RIDE_NUM': 11581.0, 'TWENTY_THREE_ALIGHT_NUM': 8024.0, 'MIDNIGHT_RIDE_NUM': 30.0, 'MIDNIGHT_ALIGHT_NUM': 637.0, 'ONE_RIDE_NUM': 0.0, 'ONE_ALIGHT_NUM': 1.0, 'TWO_RIDE_NUM': 0.0, 'TWO_ALIGHT_NUM': 0.0, 'THREE_RIDE_NUM': 0.0, 'THREE_ALIGHT_NUM': 0.0, 'WORK_DT': '20210703'}, {'USE_MON': '202106', 'LINE_NUM': '1호선', 'SUB_STA_NM': '동묘앞', 'FOUR_RIDE_NUM': 51.0, 'FOUR_ALIGHT_NUM': 1.0, 'FIVE_RIDE_NUM': 3218.0, 'FIVE_ALIGHT_NUM': 1100.0, 'SIX_RIDE_NUM': 3422.0, 'SIX_ALIGHT_NUM': 4802.0, 'SEVEN_RIDE_NUM': 5896.0, 'SEVEN_ALIGHT_NUM': 9703.0, 'EIGHT_RIDE_NUM': 9194.0, 'EIGHT_ALIGHT_NUM': 24921.0, 'NINE_RIDE_NUM': 8022.0, 'NINE_ALIGHT_NUM': 17333.0, 'TEN_RIDE_NUM': 9687.0, 'TEN_ALIGHT_NUM': 19292.0, 'ELEVEN_RIDE_NUM': 14091.0, 'ELEVEN_ALIGHT_NUM': 24305.0, 'TWELVE_RIDE_NUM': 20089.0, 'TWELVE_ALIGHT_NUM': 26186.0, 'THIRTEEN_RIDE_NUM': 24776.0, 'THIRTEEN_ALIGHT_NUM': 28141.0, 'FOURTEEN_RIDE_NUM': 27144.0, 'FOURTEEN_ALIGHT_NUM': 26643.0, 'FIFTEEN_RIDE_NUM': 28360.0, 'FIFTEEN_ALIGHT_NUM': 23213.0, 'SIXTEEN_RIDE_NUM': 31119.0, 'SIXTEEN_ALIGHT_NUM': 17744.0, 'SEVENTEEN_RIDE_NUM': 27036.0, 'SEVENTEEN_ALIGHT_NUM': 13759.0, 'EIGHTEEN_RIDE_NUM': 23606.0, 'EIGHTEEN_ALIGHT_NUM': 10098.0, 'NINETEEN_RIDE_NUM': 11006.0, 'NINETEEN_ALIGHT_NUM': 6510.0, 'TWENTY_RIDE_NUM': 6119.0, 'TWENTY_ALIGHT_NUM': 4409.0, 'TWENTY_ONE_RIDE_NUM': 5485.0, 'TWENTY_ONE_ALIGHT_NUM': 4265.0, 'TWENTY_TWO_RIDE_NUM': 3405.0, 'TWENTY_TWO_ALIGHT_NUM': 5689.0, 'TWENTY_THREE_RIDE_NUM': 1035.0, 'TWENTY_THREE_ALIGHT_NUM': 2589.0, 'MIDNIGHT_RIDE_NUM': 4.0, 'MIDNIGHT_ALIGHT_NUM': 1348.0, 'ONE_RIDE_NUM': 0.0, 'ONE_ALIGHT_NUM': 0.0, 'TWO_RIDE_NUM': 0.0, 'TWO_ALIGHT_NUM': 0.0, 'THREE_RIDE_NUM': 0.0, 'THREE_ALIGHT_NUM': 0.0, 'WORK_DT': '20210703'}, {'USE_MON': '202106', 'LINE_NUM': '1호선', 'SUB_STA_NM': '시청', 'FOUR_RIDE_NUM': 37.0, 'FOUR_ALIGHT_NUM': 0.0, 'FIVE_RIDE_NUM': 1881.0, 'FIVE_ALIGHT_NUM': 4340.0, 'SIX_RIDE_NUM': 2948.0, 'SIX_ALIGHT_NUM': 21443.0, 'SEVEN_RIDE_NUM': 6280.0, 'SEVEN_ALIGHT_NUM': 62346.0, 'EIGHT_RIDE_NUM': 7740.0, 'EIGHT_ALIGHT_NUM': 167991.0, 'NINE_RIDE_NUM': 8117.0, 'NINE_ALIGHT_NUM': 72853.0, 'TEN_RIDE_NUM': 9284.0, 'TEN_ALIGHT_NUM': 29250.0, 'ELEVEN_RIDE_NUM': 14030.0, 'ELEVEN_ALIGHT_NUM': 27989.0, 'TWELVE_RIDE_NUM': 15295.0, 'TWELVE_ALIGHT_NUM': 25037.0, 'THIRTEEN_RIDE_NUM': 18849.0, 'THIRTEEN_ALIGHT_NUM': 24492.0, 'FOURTEEN_RIDE_NUM': 23331.0, 'FOURTEEN_ALIGHT_NUM': 20032.0, 'FIFTEEN_RIDE_NUM': 30469.0, 'FIFTEEN_ALIGHT_NUM': 17869.0, 'SIXTEEN_RIDE_NUM': 36116.0, 'SIXTEEN_ALIGHT_NUM': 15593.0, 'SEVENTEEN_RIDE_NUM': 66595.0, 'SEVENTEEN_ALIGHT_NUM': 16611.0, 'EIGHTEEN_RIDE_NUM': 135842.0, 'EIGHTEEN_ALIGHT_NUM': 17805.0, 'NINETEEN_RIDE_NUM': 46850.0, 'NINETEEN_ALIGHT_NUM': 8139.0, 'TWENTY_RIDE_NUM': 38173.0, 'TWENTY_ALIGHT_NUM': 4455.0, 'TWENTY_ONE_RIDE_NUM': 39048.0, 'TWENTY_ONE_ALIGHT_NUM': 4234.0, 'TWENTY_TWO_RIDE_NUM': 28501.0, 'TWENTY_TWO_ALIGHT_NUM': 3686.0, 'TWENTY_THREE_RIDE_NUM': 4390.0, 'TWENTY_THREE_ALIGHT_NUM': 1485.0, 'MIDNIGHT_RIDE_NUM': 3.0, 'MIDNIGHT_ALIGHT_NUM': 92.0, 'ONE_RIDE_NUM': 0.0, 'ONE_ALIGHT_NUM': 0.0, 'TWO_RIDE_NUM': 0.0, 'TWO_ALIGHT_NUM': 0.0, 'THREE_RIDE_NUM': 0.0, 'THREE_ALIGHT_NUM': 0.0, 'WORK_DT': '20210703'}, {'USE_MON': '202106', 'LINE_NUM': '1호선', 'SUB_STA_NM': '종각', 'FOUR_RIDE_NUM': 127.0, 'FOUR_ALIGHT_NUM': 1.0, 'FIVE_RIDE_NUM': 2314.0, 'FIVE_ALIGHT_NUM': 4354.0, 'SIX_RIDE_NUM': 2868.0, 'SIX_ALIGHT_NUM': 23755.0, 'SEVEN_RIDE_NUM': 5479.0, 'SEVEN_ALIGHT_NUM': 96712.0, 'EIGHT_RIDE_NUM': 8419.0, 'EIGHT_ALIGHT_NUM': 223459.0, 'NINE_RIDE_NUM': 10625.0, 'NINE_ALIGHT_NUM': 131420.0, 'TEN_RIDE_NUM': 14727.0, 'TEN_ALIGHT_NUM': 50878.0, 'ELEVEN_RIDE_NUM': 23057.0, 'ELEVEN_ALIGHT_NUM': 44506.0, 'TWELVE_RIDE_NUM': 27707.0, 'TWELVE_ALIGHT_NUM': 39830.0, 'THIRTEEN_RIDE_NUM': 34538.0, 'THIRTEEN_ALIGHT_NUM': 40864.0, 'FOURTEEN_RIDE_NUM': 40378.0, 'FOURTEEN_ALIGHT_NUM': 33173.0, 'FIFTEEN_RIDE_NUM': 49745.0, 'FIFTEEN_ALIGHT_NUM': 29610.0, 'SIXTEEN_RIDE_NUM': 58664.0, 'SIXTEEN_ALIGHT_NUM': 29692.0, 'SEVENTEEN_RIDE_NUM': 114985.0, 'SEVENTEEN_ALIGHT_NUM': 33365.0, 'EIGHTEEN_RIDE_NUM': 192552.0, 'EIGHTEEN_ALIGHT_NUM': 39621.0, 'NINETEEN_RIDE_NUM': 78735.0, 'NINETEEN_ALIGHT_NUM': 19163.0, 'TWENTY_RIDE_NUM': 64989.0, 'TWENTY_ALIGHT_NUM': 7386.0, 'TWENTY_ONE_RIDE_NUM': 81179.0, 'TWENTY_ONE_ALIGHT_NUM': 4790.0, 'TWENTY_TWO_RIDE_NUM': 63653.0, 'TWENTY_TWO_ALIGHT_NUM': 3763.0, 'TWENTY_THREE_RIDE_NUM': 8153.0, 'TWENTY_THREE_ALIGHT_NUM': 1675.0, 'MIDNIGHT_RIDE_NUM': 21.0, 'MIDNIGHT_ALIGHT_NUM': 135.0, 'ONE_RIDE_NUM': 0.0, 'ONE_ALIGHT_NUM': 0.0, 'TWO_RIDE_NUM': 0.0, 'TWO_ALIGHT_NUM': 0.0, 'THREE_RIDE_NUM': 0.0, 'THREE_ALIGHT_NUM': 0.0, 'WORK_DT': '20210703'}, {'USE_MON': '202106', 'LINE_NUM': '1호선', 'SUB_STA_NM': '종로3가', 'FOUR_RIDE_NUM': 191.0, 'FOUR_ALIGHT_NUM': 24.0, 'FIVE_RIDE_NUM': 3227.0, 'FIVE_ALIGHT_NUM': 3388.0, 'SIX_RIDE_NUM': 3069.0, 'SIX_ALIGHT_NUM': 13080.0, 'SEVEN_RIDE_NUM': 5108.0, 'SEVEN_ALIGHT_NUM': 25462.0, 'EIGHT_RIDE_NUM': 7412.0, 'EIGHT_ALIGHT_NUM': 70639.0, 'NINE_RIDE_NUM': 11673.0, 'NINE_ALIGHT_NUM': 73336.0, 'TEN_RIDE_NUM': 18502.0, 'TEN_ALIGHT_NUM': 57312.0, 'ELEVEN_RIDE_NUM': 29882.0, 'ELEVEN_ALIGHT_NUM': 55725.0, 'TWELVE_RIDE_NUM': 37009.0, 'TWELVE_ALIGHT_NUM': 53678.0, 'THIRTEEN_RIDE_NUM': 44050.0, 'THIRTEEN_ALIGHT_NUM': 51189.0, 'FOURTEEN_RIDE_NUM': 47626.0, 'FOURTEEN_ALIGHT_NUM': 46621.0, 'FIFTEEN_RIDE_NUM': 53071.0, 'FIFTEEN_ALIGHT_NUM': 40250.0, 'SIXTEEN_RIDE_NUM': 56955.0, 'SIXTEEN_ALIGHT_NUM': 34679.0, 'SEVENTEEN_RIDE_NUM': 68711.0, 'SEVENTEEN_ALIGHT_NUM': 31234.0, 'EIGHTEEN_RIDE_NUM': 94683.0, 'EIGHTEEN_ALIGHT_NUM': 33315.0, 'NINETEEN_RIDE_NUM': 55993.0, 'NINETEEN_ALIGHT_NUM': 16571.0, 'TWENTY_RIDE_NUM': 41534.0, 'TWENTY_ALIGHT_NUM': 6332.0, 'TWENTY_ONE_RIDE_NUM': 51588.0, 'TWENTY_ONE_ALIGHT_NUM': 4938.0, 'TWENTY_TWO_RIDE_NUM': 47756.0, 'TWENTY_TWO_ALIGHT_NUM': 4591.0, 'TWENTY_THREE_RIDE_NUM': 6768.0, 'TWENTY_THREE_ALIGHT_NUM': 2318.0, 'MIDNIGHT_RIDE_NUM': 25.0, 'MIDNIGHT_ALIGHT_NUM': 413.0, 'ONE_RIDE_NUM': 0.0, 'ONE_ALIGHT_NUM': 0.0, 'TWO_RIDE_NUM': 0.0, 'TWO_ALIGHT_NUM': 0.0, 'THREE_RIDE_NUM': 0.0, 'THREE_ALIGHT_NUM': 0.0, 'WORK_DT': '20210703'}]}}\n",
      "{'CardSubwayTime': {'list_total_count': 608, 'RESULT': {'CODE': 'INFO-000', 'MESSAGE': '정상 처리되었습니다'}, 'row': [{'USE_MON': '202106', 'LINE_NUM': '1호선', 'SUB_STA_NM': '종로5가', 'FOUR_RIDE_NUM': 71.0, 'FOUR_ALIGHT_NUM': 0.0, 'FIVE_RIDE_NUM': 1526.0, 'FIVE_ALIGHT_NUM': 3779.0, 'SIX_RIDE_NUM': 2574.0, 'SIX_ALIGHT_NUM': 16992.0, 'SEVEN_RIDE_NUM': 4781.0, 'SEVEN_ALIGHT_NUM': 39423.0, 'EIGHT_RIDE_NUM': 7414.0, 'EIGHT_ALIGHT_NUM': 103060.0, 'NINE_RIDE_NUM': 11525.0, 'NINE_ALIGHT_NUM': 62717.0, 'TEN_RIDE_NUM': 18431.0, 'TEN_ALIGHT_NUM': 50987.0, 'ELEVEN_RIDE_NUM': 27735.0, 'ELEVEN_ALIGHT_NUM': 48857.0, 'TWELVE_RIDE_NUM': 34387.0, 'TWELVE_ALIGHT_NUM': 47295.0, 'THIRTEEN_RIDE_NUM': 40094.0, 'THIRTEEN_ALIGHT_NUM': 42416.0, 'FOURTEEN_RIDE_NUM': 46633.0, 'FOURTEEN_ALIGHT_NUM': 39899.0, 'FIFTEEN_RIDE_NUM': 50981.0, 'FIFTEEN_ALIGHT_NUM': 35861.0, 'SIXTEEN_RIDE_NUM': 55982.0, 'SIXTEEN_ALIGHT_NUM': 29188.0, 'SEVENTEEN_RIDE_NUM': 71386.0, 'SEVENTEEN_ALIGHT_NUM': 26232.0, 'EIGHTEEN_RIDE_NUM': 96880.0, 'EIGHTEEN_ALIGHT_NUM': 22727.0, 'NINETEEN_RIDE_NUM': 45846.0, 'NINETEEN_ALIGHT_NUM': 12621.0, 'TWENTY_RIDE_NUM': 29493.0, 'TWENTY_ALIGHT_NUM': 5474.0, 'TWENTY_ONE_RIDE_NUM': 29266.0, 'TWENTY_ONE_ALIGHT_NUM': 4184.0, 'TWENTY_TWO_RIDE_NUM': 20319.0, 'TWENTY_TWO_ALIGHT_NUM': 3607.0, 'TWENTY_THREE_RIDE_NUM': 2740.0, 'TWENTY_THREE_ALIGHT_NUM': 1681.0, 'MIDNIGHT_RIDE_NUM': 4.0, 'MIDNIGHT_ALIGHT_NUM': 268.0, 'ONE_RIDE_NUM': 1.0, 'ONE_ALIGHT_NUM': 1.0, 'TWO_RIDE_NUM': 0.0, 'TWO_ALIGHT_NUM': 0.0, 'THREE_RIDE_NUM': 0.0, 'THREE_ALIGHT_NUM': 0.0, 'WORK_DT': '20210703'}, {'USE_MON': '202106', 'LINE_NUM': '1호선', 'SUB_STA_NM': '동대문', 'FOUR_RIDE_NUM': 715.0, 'FOUR_ALIGHT_NUM': 14.0, 'FIVE_RIDE_NUM': 13235.0, 'FIVE_ALIGHT_NUM': 2131.0, 'SIX_RIDE_NUM': 8936.0, 'SIX_ALIGHT_NUM': 6979.0, 'SEVEN_RIDE_NUM': 14776.0, 'SEVEN_ALIGHT_NUM': 12395.0, 'EIGHT_RIDE_NUM': 18660.0, 'EIGHT_ALIGHT_NUM': 24732.0, 'NINE_RIDE_NUM': 16788.0, 'NINE_ALIGHT_NUM': 22866.0, 'TEN_RIDE_NUM': 15988.0, 'TEN_ALIGHT_NUM': 21388.0, 'ELEVEN_RIDE_NUM': 17257.0, 'ELEVEN_ALIGHT_NUM': 22109.0, 'TWELVE_RIDE_NUM': 20561.0, 'TWELVE_ALIGHT_NUM': 21732.0, 'THIRTEEN_RIDE_NUM': 21099.0, 'THIRTEEN_ALIGHT_NUM': 20786.0, 'FOURTEEN_RIDE_NUM': 22318.0, 'FOURTEEN_ALIGHT_NUM': 19616.0, 'FIFTEEN_RIDE_NUM': 23370.0, 'FIFTEEN_ALIGHT_NUM': 18703.0, 'SIXTEEN_RIDE_NUM': 24338.0, 'SIXTEEN_ALIGHT_NUM': 17325.0, 'SEVENTEEN_RIDE_NUM': 23923.0, 'SEVENTEEN_ALIGHT_NUM': 17672.0, 'EIGHTEEN_RIDE_NUM': 22895.0, 'EIGHTEEN_ALIGHT_NUM': 18354.0, 'NINETEEN_RIDE_NUM': 15871.0, 'NINETEEN_ALIGHT_NUM': 19089.0, 'TWENTY_RIDE_NUM': 12693.0, 'TWENTY_ALIGHT_NUM': 12789.0, 'TWENTY_ONE_RIDE_NUM': 13040.0, 'TWENTY_ONE_ALIGHT_NUM': 10134.0, 'TWENTY_TWO_RIDE_NUM': 11167.0, 'TWENTY_TWO_ALIGHT_NUM': 10601.0, 'TWENTY_THREE_RIDE_NUM': 2811.0, 'TWENTY_THREE_ALIGHT_NUM': 8211.0, 'MIDNIGHT_RIDE_NUM': 16.0, 'MIDNIGHT_ALIGHT_NUM': 1434.0, 'ONE_RIDE_NUM': 1.0, 'ONE_ALIGHT_NUM': 1.0, 'TWO_RIDE_NUM': 0.0, 'TWO_ALIGHT_NUM': 0.0, 'THREE_RIDE_NUM': 0.0, 'THREE_ALIGHT_NUM': 0.0, 'WORK_DT': '20210703'}, {'USE_MON': '202106', 'LINE_NUM': '1호선', 'SUB_STA_NM': '신설동', 'FOUR_RIDE_NUM': 343.0, 'FOUR_ALIGHT_NUM': 3.0, 'FIVE_RIDE_NUM': 8150.0, 'FIVE_ALIGHT_NUM': 3192.0, 'SIX_RIDE_NUM': 8131.0, 'SIX_ALIGHT_NUM': 10929.0, 'SEVEN_RIDE_NUM': 17021.0, 'SEVEN_ALIGHT_NUM': 25745.0, 'EIGHT_RIDE_NUM': 24583.0, 'EIGHT_ALIGHT_NUM': 62999.0, 'NINE_RIDE_NUM': 16472.0, 'NINE_ALIGHT_NUM': 33400.0, 'TEN_RIDE_NUM': 14689.0, 'TEN_ALIGHT_NUM': 20639.0, 'ELEVEN_RIDE_NUM': 16427.0, 'ELEVEN_ALIGHT_NUM': 17238.0, 'TWELVE_RIDE_NUM': 17625.0, 'TWELVE_ALIGHT_NUM': 16913.0, 'THIRTEEN_RIDE_NUM': 19712.0, 'THIRTEEN_ALIGHT_NUM': 17440.0, 'FOURTEEN_RIDE_NUM': 19363.0, 'FOURTEEN_ALIGHT_NUM': 16063.0, 'FIFTEEN_RIDE_NUM': 20684.0, 'FIFTEEN_ALIGHT_NUM': 16772.0, 'SIXTEEN_RIDE_NUM': 28784.0, 'SIXTEEN_ALIGHT_NUM': 17481.0, 'SEVENTEEN_RIDE_NUM': 39357.0, 'SEVENTEEN_ALIGHT_NUM': 20038.0, 'EIGHTEEN_RIDE_NUM': 57642.0, 'EIGHTEEN_ALIGHT_NUM': 25012.0, 'NINETEEN_RIDE_NUM': 20823.0, 'NINETEEN_ALIGHT_NUM': 17529.0, 'TWENTY_RIDE_NUM': 13880.0, 'TWENTY_ALIGHT_NUM': 10932.0, 'TWENTY_ONE_RIDE_NUM': 13378.0, 'TWENTY_ONE_ALIGHT_NUM': 10102.0, 'TWENTY_TWO_RIDE_NUM': 10189.0, 'TWENTY_TWO_ALIGHT_NUM': 11809.0, 'TWENTY_THREE_RIDE_NUM': 1952.0, 'TWENTY_THREE_ALIGHT_NUM': 5451.0, 'MIDNIGHT_RIDE_NUM': 10.0, 'MIDNIGHT_ALIGHT_NUM': 449.0, 'ONE_RIDE_NUM': 0.0, 'ONE_ALIGHT_NUM': 0.0, 'TWO_RIDE_NUM': 0.0, 'TWO_ALIGHT_NUM': 0.0, 'THREE_RIDE_NUM': 0.0, 'THREE_ALIGHT_NUM': 0.0, 'WORK_DT': '20210703'}, {'USE_MON': '202106', 'LINE_NUM': '1호선', 'SUB_STA_NM': '제기동', 'FOUR_RIDE_NUM': 360.0, 'FOUR_ALIGHT_NUM': 3.0, 'FIVE_RIDE_NUM': 5020.0, 'FIVE_ALIGHT_NUM': 2150.0, 'SIX_RIDE_NUM': 8625.0, 'SIX_ALIGHT_NUM': 9488.0, 'SEVEN_RIDE_NUM': 21818.0, 'SEVEN_ALIGHT_NUM': 18800.0, 'EIGHT_RIDE_NUM': 31428.0, 'EIGHT_ALIGHT_NUM': 42110.0, 'NINE_RIDE_NUM': 22254.0, 'NINE_ALIGHT_NUM': 37145.0, 'TEN_RIDE_NUM': 25534.0, 'TEN_ALIGHT_NUM': 39572.0, 'ELEVEN_RIDE_NUM': 33701.0, 'ELEVEN_ALIGHT_NUM': 40192.0, 'TWELVE_RIDE_NUM': 37380.0, 'TWELVE_ALIGHT_NUM': 36944.0, 'THIRTEEN_RIDE_NUM': 37913.0, 'THIRTEEN_ALIGHT_NUM': 36302.0, 'FOURTEEN_RIDE_NUM': 38816.0, 'FOURTEEN_ALIGHT_NUM': 38060.0, 'FIFTEEN_RIDE_NUM': 39042.0, 'FIFTEEN_ALIGHT_NUM': 34744.0, 'SIXTEEN_RIDE_NUM': 36805.0, 'SIXTEEN_ALIGHT_NUM': 29316.0, 'SEVENTEEN_RIDE_NUM': 38480.0, 'SEVENTEEN_ALIGHT_NUM': 23319.0, 'EIGHTEEN_RIDE_NUM': 37172.0, 'EIGHTEEN_ALIGHT_NUM': 26182.0, 'NINETEEN_RIDE_NUM': 16542.0, 'NINETEEN_ALIGHT_NUM': 17773.0, 'TWENTY_RIDE_NUM': 10447.0, 'TWENTY_ALIGHT_NUM': 11211.0, 'TWENTY_ONE_RIDE_NUM': 8822.0, 'TWENTY_ONE_ALIGHT_NUM': 10198.0, 'TWENTY_TWO_RIDE_NUM': 7253.0, 'TWENTY_TWO_ALIGHT_NUM': 11830.0, 'TWENTY_THREE_RIDE_NUM': 2042.0, 'TWENTY_THREE_ALIGHT_NUM': 4844.0, 'MIDNIGHT_RIDE_NUM': 8.0, 'MIDNIGHT_ALIGHT_NUM': 408.0, 'ONE_RIDE_NUM': 0.0, 'ONE_ALIGHT_NUM': 0.0, 'TWO_RIDE_NUM': 1.0, 'TWO_ALIGHT_NUM': 0.0, 'THREE_RIDE_NUM': 0.0, 'THREE_ALIGHT_NUM': 0.0, 'WORK_DT': '20210703'}, {'USE_MON': '202106', 'LINE_NUM': '1호선', 'SUB_STA_NM': '청량리(서울시립대입구)', 'FOUR_RIDE_NUM': 1114.0, 'FOUR_ALIGHT_NUM': 17.0, 'FIVE_RIDE_NUM': 10556.0, 'FIVE_ALIGHT_NUM': 4752.0, 'SIX_RIDE_NUM': 14555.0, 'SIX_ALIGHT_NUM': 20601.0, 'SEVEN_RIDE_NUM': 36398.0, 'SEVEN_ALIGHT_NUM': 18127.0, 'EIGHT_RIDE_NUM': 44314.0, 'EIGHT_ALIGHT_NUM': 36112.0, 'NINE_RIDE_NUM': 30993.0, 'NINE_ALIGHT_NUM': 33651.0, 'TEN_RIDE_NUM': 30325.0, 'TEN_ALIGHT_NUM': 34593.0, 'ELEVEN_RIDE_NUM': 32895.0, 'ELEVEN_ALIGHT_NUM': 36922.0, 'TWELVE_RIDE_NUM': 36644.0, 'TWELVE_ALIGHT_NUM': 38152.0, 'THIRTEEN_RIDE_NUM': 37957.0, 'THIRTEEN_ALIGHT_NUM': 37161.0, 'FOURTEEN_RIDE_NUM': 38453.0, 'FOURTEEN_ALIGHT_NUM': 41488.0, 'FIFTEEN_RIDE_NUM': 41308.0, 'FIFTEEN_ALIGHT_NUM': 40046.0, 'SIXTEEN_RIDE_NUM': 48019.0, 'SIXTEEN_ALIGHT_NUM': 37625.0, 'SEVENTEEN_RIDE_NUM': 45267.0, 'SEVENTEEN_ALIGHT_NUM': 37535.0, 'EIGHTEEN_RIDE_NUM': 41132.0, 'EIGHTEEN_ALIGHT_NUM': 46814.0, 'NINETEEN_RIDE_NUM': 22408.0, 'NINETEEN_ALIGHT_NUM': 31284.0, 'TWENTY_RIDE_NUM': 16802.0, 'TWENTY_ALIGHT_NUM': 17867.0, 'TWENTY_ONE_RIDE_NUM': 13163.0, 'TWENTY_ONE_ALIGHT_NUM': 16739.0, 'TWENTY_TWO_RIDE_NUM': 9007.0, 'TWENTY_TWO_ALIGHT_NUM': 17875.0, 'TWENTY_THREE_RIDE_NUM': 2199.0, 'TWENTY_THREE_ALIGHT_NUM': 7010.0, 'MIDNIGHT_RIDE_NUM': 15.0, 'MIDNIGHT_ALIGHT_NUM': 784.0, 'ONE_RIDE_NUM': 1.0, 'ONE_ALIGHT_NUM': 0.0, 'TWO_RIDE_NUM': 0.0, 'TWO_ALIGHT_NUM': 0.0, 'THREE_RIDE_NUM': 0.0, 'THREE_ALIGHT_NUM': 0.0, 'WORK_DT': '20210703'}]}}\n",
      "{'CardSubwayTime': {'list_total_count': 608, 'RESULT': {'CODE': 'INFO-000', 'MESSAGE': '정상 처리되었습니다'}, 'row': [{'USE_MON': '202106', 'LINE_NUM': '2호선', 'SUB_STA_NM': '시청', 'FOUR_RIDE_NUM': 14.0, 'FOUR_ALIGHT_NUM': 1.0, 'FIVE_RIDE_NUM': 842.0, 'FIVE_ALIGHT_NUM': 1763.0, 'SIX_RIDE_NUM': 1860.0, 'SIX_ALIGHT_NUM': 14975.0, 'SEVEN_RIDE_NUM': 4613.0, 'SEVEN_ALIGHT_NUM': 64814.0, 'EIGHT_RIDE_NUM': 6633.0, 'EIGHT_ALIGHT_NUM': 200414.0, 'NINE_RIDE_NUM': 8802.0, 'NINE_ALIGHT_NUM': 77430.0, 'TEN_RIDE_NUM': 11360.0, 'TEN_ALIGHT_NUM': 22797.0, 'ELEVEN_RIDE_NUM': 16922.0, 'ELEVEN_ALIGHT_NUM': 19360.0, 'TWELVE_RIDE_NUM': 17020.0, 'TWELVE_ALIGHT_NUM': 18897.0, 'THIRTEEN_RIDE_NUM': 21198.0, 'THIRTEEN_ALIGHT_NUM': 20182.0, 'FOURTEEN_RIDE_NUM': 25371.0, 'FOURTEEN_ALIGHT_NUM': 17294.0, 'FIFTEEN_RIDE_NUM': 30010.0, 'FIFTEEN_ALIGHT_NUM': 15601.0, 'SIXTEEN_RIDE_NUM': 35093.0, 'SIXTEEN_ALIGHT_NUM': 13175.0, 'SEVENTEEN_RIDE_NUM': 75625.0, 'SEVENTEEN_ALIGHT_NUM': 14559.0, 'EIGHTEEN_RIDE_NUM': 161483.0, 'EIGHTEEN_ALIGHT_NUM': 15107.0, 'NINETEEN_RIDE_NUM': 49943.0, 'NINETEEN_ALIGHT_NUM': 7260.0, 'TWENTY_RIDE_NUM': 34005.0, 'TWENTY_ALIGHT_NUM': 3595.0, 'TWENTY_ONE_RIDE_NUM': 34984.0, 'TWENTY_ONE_ALIGHT_NUM': 3606.0, 'TWENTY_TWO_RIDE_NUM': 25529.0, 'TWENTY_TWO_ALIGHT_NUM': 3849.0, 'TWENTY_THREE_RIDE_NUM': 3207.0, 'TWENTY_THREE_ALIGHT_NUM': 1524.0, 'MIDNIGHT_RIDE_NUM': 1.0, 'MIDNIGHT_ALIGHT_NUM': 59.0, 'ONE_RIDE_NUM': 0.0, 'ONE_ALIGHT_NUM': 1.0, 'TWO_RIDE_NUM': 0.0, 'TWO_ALIGHT_NUM': 0.0, 'THREE_RIDE_NUM': 0.0, 'THREE_ALIGHT_NUM': 0.0, 'WORK_DT': '20210703'}, {'USE_MON': '202106', 'LINE_NUM': '2호선', 'SUB_STA_NM': '을지로입구', 'FOUR_RIDE_NUM': 64.0, 'FOUR_ALIGHT_NUM': 3.0, 'FIVE_RIDE_NUM': 1704.0, 'FIVE_ALIGHT_NUM': 2012.0, 'SIX_RIDE_NUM': 2899.0, 'SIX_ALIGHT_NUM': 28884.0, 'SEVEN_RIDE_NUM': 7675.0, 'SEVEN_ALIGHT_NUM': 117998.0, 'EIGHT_RIDE_NUM': 13246.0, 'EIGHT_ALIGHT_NUM': 291410.0, 'NINE_RIDE_NUM': 13992.0, 'NINE_ALIGHT_NUM': 135503.0, 'TEN_RIDE_NUM': 16743.0, 'TEN_ALIGHT_NUM': 58638.0, 'ELEVEN_RIDE_NUM': 25033.0, 'ELEVEN_ALIGHT_NUM': 49654.0, 'TWELVE_RIDE_NUM': 30391.0, 'TWELVE_ALIGHT_NUM': 41996.0, 'THIRTEEN_RIDE_NUM': 40023.0, 'THIRTEEN_ALIGHT_NUM': 41126.0, 'FOURTEEN_RIDE_NUM': 45420.0, 'FOURTEEN_ALIGHT_NUM': 35619.0, 'FIFTEEN_RIDE_NUM': 54603.0, 'FIFTEEN_ALIGHT_NUM': 31053.0, 'SIXTEEN_RIDE_NUM': 66615.0, 'SIXTEEN_ALIGHT_NUM': 31408.0, 'SEVENTEEN_RIDE_NUM': 137169.0, 'SEVENTEEN_ALIGHT_NUM': 34407.0, 'EIGHTEEN_RIDE_NUM': 239134.0, 'EIGHTEEN_ALIGHT_NUM': 39521.0, 'NINETEEN_RIDE_NUM': 92855.0, 'NINETEEN_ALIGHT_NUM': 19653.0, 'TWENTY_RIDE_NUM': 80662.0, 'TWENTY_ALIGHT_NUM': 10659.0, 'TWENTY_ONE_RIDE_NUM': 56892.0, 'TWENTY_ONE_ALIGHT_NUM': 10478.0, 'TWENTY_TWO_RIDE_NUM': 45993.0, 'TWENTY_TWO_ALIGHT_NUM': 11575.0, 'TWENTY_THREE_RIDE_NUM': 6249.0, 'TWENTY_THREE_ALIGHT_NUM': 3586.0, 'MIDNIGHT_RIDE_NUM': 4.0, 'MIDNIGHT_ALIGHT_NUM': 1586.0, 'ONE_RIDE_NUM': 0.0, 'ONE_ALIGHT_NUM': 0.0, 'TWO_RIDE_NUM': 0.0, 'TWO_ALIGHT_NUM': 0.0, 'THREE_RIDE_NUM': 0.0, 'THREE_ALIGHT_NUM': 0.0, 'WORK_DT': '20210703'}, {'USE_MON': '202106', 'LINE_NUM': '2호선', 'SUB_STA_NM': '을지로3가', 'FOUR_RIDE_NUM': 9.0, 'FOUR_ALIGHT_NUM': 1.0, 'FIVE_RIDE_NUM': 911.0, 'FIVE_ALIGHT_NUM': 1683.0, 'SIX_RIDE_NUM': 1978.0, 'SIX_ALIGHT_NUM': 18284.0, 'SEVEN_RIDE_NUM': 5137.0, 'SEVEN_ALIGHT_NUM': 64623.0, 'EIGHT_RIDE_NUM': 8881.0, 'EIGHT_ALIGHT_NUM': 153068.0, 'NINE_RIDE_NUM': 9900.0, 'NINE_ALIGHT_NUM': 66142.0, 'TEN_RIDE_NUM': 11150.0, 'TEN_ALIGHT_NUM': 28314.0, 'ELEVEN_RIDE_NUM': 15465.0, 'ELEVEN_ALIGHT_NUM': 22983.0, 'TWELVE_RIDE_NUM': 17546.0, 'TWELVE_ALIGHT_NUM': 21996.0, 'THIRTEEN_RIDE_NUM': 20753.0, 'THIRTEEN_ALIGHT_NUM': 23968.0, 'FOURTEEN_RIDE_NUM': 23742.0, 'FOURTEEN_ALIGHT_NUM': 21648.0, 'FIFTEEN_RIDE_NUM': 27235.0, 'FIFTEEN_ALIGHT_NUM': 19893.0, 'SIXTEEN_RIDE_NUM': 34568.0, 'SIXTEEN_ALIGHT_NUM': 21667.0, 'SEVENTEEN_RIDE_NUM': 73521.0, 'SEVENTEEN_ALIGHT_NUM': 25618.0, 'EIGHTEEN_RIDE_NUM': 128972.0, 'EIGHTEEN_ALIGHT_NUM': 30721.0, 'NINETEEN_RIDE_NUM': 49903.0, 'NINETEEN_ALIGHT_NUM': 15190.0, 'TWENTY_RIDE_NUM': 34156.0, 'TWENTY_ALIGHT_NUM': 6682.0, 'TWENTY_ONE_RIDE_NUM': 45363.0, 'TWENTY_ONE_ALIGHT_NUM': 5165.0, 'TWENTY_TWO_RIDE_NUM': 45271.0, 'TWENTY_TWO_ALIGHT_NUM': 5662.0, 'TWENTY_THREE_RIDE_NUM': 5310.0, 'TWENTY_THREE_ALIGHT_NUM': 1908.0, 'MIDNIGHT_RIDE_NUM': 2.0, 'MIDNIGHT_ALIGHT_NUM': 179.0, 'ONE_RIDE_NUM': 0.0, 'ONE_ALIGHT_NUM': 0.0, 'TWO_RIDE_NUM': 0.0, 'TWO_ALIGHT_NUM': 0.0, 'THREE_RIDE_NUM': 0.0, 'THREE_ALIGHT_NUM': 0.0, 'WORK_DT': '20210703'}, {'USE_MON': '202106', 'LINE_NUM': '2호선', 'SUB_STA_NM': '을지로4가', 'FOUR_RIDE_NUM': 5.0, 'FOUR_ALIGHT_NUM': 0.0, 'FIVE_RIDE_NUM': 945.0, 'FIVE_ALIGHT_NUM': 1253.0, 'SIX_RIDE_NUM': 1506.0, 'SIX_ALIGHT_NUM': 13007.0, 'SEVEN_RIDE_NUM': 3094.0, 'SEVEN_ALIGHT_NUM': 33019.0, 'EIGHT_RIDE_NUM': 5920.0, 'EIGHT_ALIGHT_NUM': 78686.0, 'NINE_RIDE_NUM': 6472.0, 'NINE_ALIGHT_NUM': 40328.0, 'TEN_RIDE_NUM': 8712.0, 'TEN_ALIGHT_NUM': 21851.0, 'ELEVEN_RIDE_NUM': 11935.0, 'ELEVEN_ALIGHT_NUM': 19888.0, 'TWELVE_RIDE_NUM': 14213.0, 'TWELVE_ALIGHT_NUM': 17415.0, 'THIRTEEN_RIDE_NUM': 16034.0, 'THIRTEEN_ALIGHT_NUM': 17100.0, 'FOURTEEN_RIDE_NUM': 18706.0, 'FOURTEEN_ALIGHT_NUM': 15888.0, 'FIFTEEN_RIDE_NUM': 21799.0, 'FIFTEEN_ALIGHT_NUM': 14165.0, 'SIXTEEN_RIDE_NUM': 25795.0, 'SIXTEEN_ALIGHT_NUM': 12718.0, 'SEVENTEEN_RIDE_NUM': 50671.0, 'SEVENTEEN_ALIGHT_NUM': 11832.0, 'EIGHTEEN_RIDE_NUM': 69279.0, 'EIGHTEEN_ALIGHT_NUM': 11436.0, 'NINETEEN_RIDE_NUM': 29431.0, 'NINETEEN_ALIGHT_NUM': 5982.0, 'TWENTY_RIDE_NUM': 15595.0, 'TWENTY_ALIGHT_NUM': 2993.0, 'TWENTY_ONE_RIDE_NUM': 13658.0, 'TWENTY_ONE_ALIGHT_NUM': 2915.0, 'TWENTY_TWO_RIDE_NUM': 11588.0, 'TWENTY_TWO_ALIGHT_NUM': 3402.0, 'TWENTY_THREE_RIDE_NUM': 2086.0, 'TWENTY_THREE_ALIGHT_NUM': 1294.0, 'MIDNIGHT_RIDE_NUM': 2.0, 'MIDNIGHT_ALIGHT_NUM': 108.0, 'ONE_RIDE_NUM': 1.0, 'ONE_ALIGHT_NUM': 0.0, 'TWO_RIDE_NUM': 0.0, 'TWO_ALIGHT_NUM': 0.0, 'THREE_RIDE_NUM': 0.0, 'THREE_ALIGHT_NUM': 0.0, 'WORK_DT': '20210703'}, {'USE_MON': '202106', 'LINE_NUM': '2호선', 'SUB_STA_NM': '동대문역사문화공원(DDP)', 'FOUR_RIDE_NUM': 334.0, 'FOUR_ALIGHT_NUM': 5.0, 'FIVE_RIDE_NUM': 6338.0, 'FIVE_ALIGHT_NUM': 1096.0, 'SIX_RIDE_NUM': 4462.0, 'SIX_ALIGHT_NUM': 7728.0, 'SEVEN_RIDE_NUM': 6190.0, 'SEVEN_ALIGHT_NUM': 23936.0, 'EIGHT_RIDE_NUM': 9136.0, 'EIGHT_ALIGHT_NUM': 50285.0, 'NINE_RIDE_NUM': 9118.0, 'NINE_ALIGHT_NUM': 29711.0, 'TEN_RIDE_NUM': 10107.0, 'TEN_ALIGHT_NUM': 23521.0, 'ELEVEN_RIDE_NUM': 13110.0, 'ELEVEN_ALIGHT_NUM': 24484.0, 'TWELVE_RIDE_NUM': 15181.0, 'TWELVE_ALIGHT_NUM': 21251.0, 'THIRTEEN_RIDE_NUM': 16607.0, 'THIRTEEN_ALIGHT_NUM': 21216.0, 'FOURTEEN_RIDE_NUM': 19514.0, 'FOURTEEN_ALIGHT_NUM': 20831.0, 'FIFTEEN_RIDE_NUM': 25306.0, 'FIFTEEN_ALIGHT_NUM': 18746.0, 'SIXTEEN_RIDE_NUM': 30356.0, 'SIXTEEN_ALIGHT_NUM': 16448.0, 'SEVENTEEN_RIDE_NUM': 36618.0, 'SEVENTEEN_ALIGHT_NUM': 17178.0, 'EIGHTEEN_RIDE_NUM': 40202.0, 'EIGHTEEN_ALIGHT_NUM': 19893.0, 'NINETEEN_RIDE_NUM': 23199.0, 'NINETEEN_ALIGHT_NUM': 20875.0, 'TWENTY_RIDE_NUM': 17109.0, 'TWENTY_ALIGHT_NUM': 13169.0, 'TWENTY_ONE_RIDE_NUM': 19484.0, 'TWENTY_ONE_ALIGHT_NUM': 10321.0, 'TWENTY_TWO_RIDE_NUM': 14614.0, 'TWENTY_TWO_ALIGHT_NUM': 10220.0, 'TWENTY_THREE_RIDE_NUM': 4046.0, 'TWENTY_THREE_ALIGHT_NUM': 5848.0, 'MIDNIGHT_RIDE_NUM': 3.0, 'MIDNIGHT_ALIGHT_NUM': 362.0, 'ONE_RIDE_NUM': 0.0, 'ONE_ALIGHT_NUM': 0.0, 'TWO_RIDE_NUM': 0.0, 'TWO_ALIGHT_NUM': 0.0, 'THREE_RIDE_NUM': 0.0, 'THREE_ALIGHT_NUM': 0.0, 'WORK_DT': '20210703'}]}}\n",
      "{'CardSubwayTime': {'list_total_count': 608, 'RESULT': {'CODE': 'INFO-000', 'MESSAGE': '정상 처리되었습니다'}, 'row': [{'USE_MON': '202106', 'LINE_NUM': '2호선', 'SUB_STA_NM': '신당', 'FOUR_RIDE_NUM': 24.0, 'FOUR_ALIGHT_NUM': 9.0, 'FIVE_RIDE_NUM': 6188.0, 'FIVE_ALIGHT_NUM': 1100.0, 'SIX_RIDE_NUM': 11533.0, 'SIX_ALIGHT_NUM': 8661.0, 'SEVEN_RIDE_NUM': 26362.0, 'SEVEN_ALIGHT_NUM': 17028.0, 'EIGHT_RIDE_NUM': 41840.0, 'EIGHT_ALIGHT_NUM': 34245.0, 'NINE_RIDE_NUM': 24992.0, 'NINE_ALIGHT_NUM': 22571.0, 'TEN_RIDE_NUM': 17394.0, 'TEN_ALIGHT_NUM': 17831.0, 'ELEVEN_RIDE_NUM': 16546.0, 'ELEVEN_ALIGHT_NUM': 17917.0, 'TWELVE_RIDE_NUM': 18555.0, 'TWELVE_ALIGHT_NUM': 18159.0, 'THIRTEEN_RIDE_NUM': 19597.0, 'THIRTEEN_ALIGHT_NUM': 19021.0, 'FOURTEEN_RIDE_NUM': 19514.0, 'FOURTEEN_ALIGHT_NUM': 19319.0, 'FIFTEEN_RIDE_NUM': 20177.0, 'FIFTEEN_ALIGHT_NUM': 20659.0, 'SIXTEEN_RIDE_NUM': 23189.0, 'SIXTEEN_ALIGHT_NUM': 23956.0, 'SEVENTEEN_RIDE_NUM': 27424.0, 'SEVENTEEN_ALIGHT_NUM': 29700.0, 'EIGHTEEN_RIDE_NUM': 32669.0, 'EIGHTEEN_ALIGHT_NUM': 43357.0, 'NINETEEN_RIDE_NUM': 20439.0, 'NINETEEN_ALIGHT_NUM': 28683.0, 'TWENTY_RIDE_NUM': 14612.0, 'TWENTY_ALIGHT_NUM': 17106.0, 'TWENTY_ONE_RIDE_NUM': 13856.0, 'TWENTY_ONE_ALIGHT_NUM': 16686.0, 'TWENTY_TWO_RIDE_NUM': 12814.0, 'TWENTY_TWO_ALIGHT_NUM': 19595.0, 'TWENTY_THREE_RIDE_NUM': 2756.0, 'TWENTY_THREE_ALIGHT_NUM': 7887.0, 'MIDNIGHT_RIDE_NUM': 1.0, 'MIDNIGHT_ALIGHT_NUM': 77.0, 'ONE_RIDE_NUM': 0.0, 'ONE_ALIGHT_NUM': 0.0, 'TWO_RIDE_NUM': 0.0, 'TWO_ALIGHT_NUM': 0.0, 'THREE_RIDE_NUM': 0.0, 'THREE_ALIGHT_NUM': 0.0, 'WORK_DT': '20210703'}, {'USE_MON': '202106', 'LINE_NUM': '2호선', 'SUB_STA_NM': '상왕십리', 'FOUR_RIDE_NUM': 84.0, 'FOUR_ALIGHT_NUM': 8.0, 'FIVE_RIDE_NUM': 5331.0, 'FIVE_ALIGHT_NUM': 539.0, 'SIX_RIDE_NUM': 13243.0, 'SIX_ALIGHT_NUM': 5660.0, 'SEVEN_RIDE_NUM': 38398.0, 'SEVEN_ALIGHT_NUM': 12466.0, 'EIGHT_RIDE_NUM': 59728.0, 'EIGHT_ALIGHT_NUM': 35889.0, 'NINE_RIDE_NUM': 32021.0, 'NINE_ALIGHT_NUM': 20006.0, 'TEN_RIDE_NUM': 19804.0, 'TEN_ALIGHT_NUM': 13366.0, 'ELEVEN_RIDE_NUM': 17833.0, 'ELEVEN_ALIGHT_NUM': 11743.0, 'TWELVE_RIDE_NUM': 18591.0, 'TWELVE_ALIGHT_NUM': 14145.0, 'THIRTEEN_RIDE_NUM': 18445.0, 'THIRTEEN_ALIGHT_NUM': 15188.0, 'FOURTEEN_RIDE_NUM': 16887.0, 'FOURTEEN_ALIGHT_NUM': 16194.0, 'FIFTEEN_RIDE_NUM': 18753.0, 'FIFTEEN_ALIGHT_NUM': 17704.0, 'SIXTEEN_RIDE_NUM': 19027.0, 'SIXTEEN_ALIGHT_NUM': 21316.0, 'SEVENTEEN_RIDE_NUM': 23583.0, 'SEVENTEEN_ALIGHT_NUM': 30658.0, 'EIGHTEEN_RIDE_NUM': 28805.0, 'EIGHTEEN_ALIGHT_NUM': 48281.0, 'NINETEEN_RIDE_NUM': 17223.0, 'NINETEEN_ALIGHT_NUM': 32969.0, 'TWENTY_RIDE_NUM': 11409.0, 'TWENTY_ALIGHT_NUM': 20006.0, 'TWENTY_ONE_RIDE_NUM': 10593.0, 'TWENTY_ONE_ALIGHT_NUM': 19694.0, 'TWENTY_TWO_RIDE_NUM': 8229.0, 'TWENTY_TWO_ALIGHT_NUM': 22933.0, 'TWENTY_THREE_RIDE_NUM': 1724.0, 'TWENTY_THREE_ALIGHT_NUM': 9274.0, 'MIDNIGHT_RIDE_NUM': 0.0, 'MIDNIGHT_ALIGHT_NUM': 0.0, 'ONE_RIDE_NUM': 0.0, 'ONE_ALIGHT_NUM': 0.0, 'TWO_RIDE_NUM': 0.0, 'TWO_ALIGHT_NUM': 0.0, 'THREE_RIDE_NUM': 0.0, 'THREE_ALIGHT_NUM': 0.0, 'WORK_DT': '20210703'}, {'USE_MON': '202106', 'LINE_NUM': '2호선', 'SUB_STA_NM': '왕십리(성동구청)', 'FOUR_RIDE_NUM': 874.0, 'FOUR_ALIGHT_NUM': 2.0, 'FIVE_RIDE_NUM': 6955.0, 'FIVE_ALIGHT_NUM': 837.0, 'SIX_RIDE_NUM': 9989.0, 'SIX_ALIGHT_NUM': 5418.0, 'SEVEN_RIDE_NUM': 25284.0, 'SEVEN_ALIGHT_NUM': 12493.0, 'EIGHT_RIDE_NUM': 43964.0, 'EIGHT_ALIGHT_NUM': 26959.0, 'NINE_RIDE_NUM': 26985.0, 'NINE_ALIGHT_NUM': 17432.0, 'TEN_RIDE_NUM': 17938.0, 'TEN_ALIGHT_NUM': 13460.0, 'ELEVEN_RIDE_NUM': 18453.0, 'ELEVEN_ALIGHT_NUM': 13426.0, 'TWELVE_RIDE_NUM': 20015.0, 'TWELVE_ALIGHT_NUM': 16111.0, 'THIRTEEN_RIDE_NUM': 20986.0, 'THIRTEEN_ALIGHT_NUM': 16983.0, 'FOURTEEN_RIDE_NUM': 20633.0, 'FOURTEEN_ALIGHT_NUM': 17282.0, 'FIFTEEN_RIDE_NUM': 22655.0, 'FIFTEEN_ALIGHT_NUM': 18201.0, 'SIXTEEN_RIDE_NUM': 28445.0, 'SIXTEEN_ALIGHT_NUM': 21875.0, 'SEVENTEEN_RIDE_NUM': 32917.0, 'SEVENTEEN_ALIGHT_NUM': 30741.0, 'EIGHTEEN_RIDE_NUM': 35785.0, 'EIGHTEEN_ALIGHT_NUM': 50912.0, 'NINETEEN_RIDE_NUM': 21457.0, 'NINETEEN_ALIGHT_NUM': 30974.0, 'TWENTY_RIDE_NUM': 19821.0, 'TWENTY_ALIGHT_NUM': 17022.0, 'TWENTY_ONE_RIDE_NUM': 26754.0, 'TWENTY_ONE_ALIGHT_NUM': 15214.0, 'TWENTY_TWO_RIDE_NUM': 28512.0, 'TWENTY_TWO_ALIGHT_NUM': 19954.0, 'TWENTY_THREE_RIDE_NUM': 4941.0, 'TWENTY_THREE_ALIGHT_NUM': 8312.0, 'MIDNIGHT_RIDE_NUM': 11.0, 'MIDNIGHT_ALIGHT_NUM': 78.0, 'ONE_RIDE_NUM': 0.0, 'ONE_ALIGHT_NUM': 0.0, 'TWO_RIDE_NUM': 0.0, 'TWO_ALIGHT_NUM': 0.0, 'THREE_RIDE_NUM': 0.0, 'THREE_ALIGHT_NUM': 0.0, 'WORK_DT': '20210703'}, {'USE_MON': '202106', 'LINE_NUM': '2호선', 'SUB_STA_NM': '한양대', 'FOUR_RIDE_NUM': 10.0, 'FOUR_ALIGHT_NUM': 3.0, 'FIVE_RIDE_NUM': 976.0, 'FIVE_ALIGHT_NUM': 230.0, 'SIX_RIDE_NUM': 2194.0, 'SIX_ALIGHT_NUM': 5599.0, 'SEVEN_RIDE_NUM': 4958.0, 'SEVEN_ALIGHT_NUM': 12003.0, 'EIGHT_RIDE_NUM': 8237.0, 'EIGHT_ALIGHT_NUM': 37892.0, 'NINE_RIDE_NUM': 6480.0, 'NINE_ALIGHT_NUM': 33641.0, 'TEN_RIDE_NUM': 6244.0, 'TEN_ALIGHT_NUM': 20031.0, 'ELEVEN_RIDE_NUM': 8340.0, 'ELEVEN_ALIGHT_NUM': 12237.0, 'TWELVE_RIDE_NUM': 9617.0, 'TWELVE_ALIGHT_NUM': 15402.0, 'THIRTEEN_RIDE_NUM': 11031.0, 'THIRTEEN_ALIGHT_NUM': 15664.0, 'FOURTEEN_RIDE_NUM': 12347.0, 'FOURTEEN_ALIGHT_NUM': 12803.0, 'FIFTEEN_RIDE_NUM': 14208.0, 'FIFTEEN_ALIGHT_NUM': 8989.0, 'SIXTEEN_RIDE_NUM': 19883.0, 'SIXTEEN_ALIGHT_NUM': 7981.0, 'SEVENTEEN_RIDE_NUM': 30475.0, 'SEVENTEEN_ALIGHT_NUM': 9074.0, 'EIGHTEEN_RIDE_NUM': 27398.0, 'EIGHTEEN_ALIGHT_NUM': 9915.0, 'NINETEEN_RIDE_NUM': 13176.0, 'NINETEEN_ALIGHT_NUM': 6024.0, 'TWENTY_RIDE_NUM': 10124.0, 'TWENTY_ALIGHT_NUM': 4242.0, 'TWENTY_ONE_RIDE_NUM': 10249.0, 'TWENTY_ONE_ALIGHT_NUM': 4434.0, 'TWENTY_TWO_RIDE_NUM': 9117.0, 'TWENTY_TWO_ALIGHT_NUM': 5339.0, 'TWENTY_THREE_RIDE_NUM': 3269.0, 'TWENTY_THREE_ALIGHT_NUM': 2364.0, 'MIDNIGHT_RIDE_NUM': 1.0, 'MIDNIGHT_ALIGHT_NUM': 4.0, 'ONE_RIDE_NUM': 1.0, 'ONE_ALIGHT_NUM': 0.0, 'TWO_RIDE_NUM': 0.0, 'TWO_ALIGHT_NUM': 0.0, 'THREE_RIDE_NUM': 0.0, 'THREE_ALIGHT_NUM': 0.0, 'WORK_DT': '20210703'}, {'USE_MON': '202106', 'LINE_NUM': '4호선', 'SUB_STA_NM': '삼각지', 'FOUR_RIDE_NUM': 4.0, 'FOUR_ALIGHT_NUM': 0.0, 'FIVE_RIDE_NUM': 727.0, 'FIVE_ALIGHT_NUM': 299.0, 'SIX_RIDE_NUM': 2406.0, 'SIX_ALIGHT_NUM': 3382.0, 'SEVEN_RIDE_NUM': 6410.0, 'SEVEN_ALIGHT_NUM': 10731.0, 'EIGHT_RIDE_NUM': 10298.0, 'EIGHT_ALIGHT_NUM': 24491.0, 'NINE_RIDE_NUM': 5748.0, 'NINE_ALIGHT_NUM': 10119.0, 'TEN_RIDE_NUM': 4270.0, 'TEN_ALIGHT_NUM': 7072.0, 'ELEVEN_RIDE_NUM': 4097.0, 'ELEVEN_ALIGHT_NUM': 6749.0, 'TWELVE_RIDE_NUM': 5202.0, 'TWELVE_ALIGHT_NUM': 7026.0, 'THIRTEEN_RIDE_NUM': 5889.0, 'THIRTEEN_ALIGHT_NUM': 6710.0, 'FOURTEEN_RIDE_NUM': 5647.0, 'FOURTEEN_ALIGHT_NUM': 6359.0, 'FIFTEEN_RIDE_NUM': 6226.0, 'FIFTEEN_ALIGHT_NUM': 6318.0, 'SIXTEEN_RIDE_NUM': 7426.0, 'SIXTEEN_ALIGHT_NUM': 7056.0, 'SEVENTEEN_RIDE_NUM': 13110.0, 'SEVENTEEN_ALIGHT_NUM': 9801.0, 'EIGHTEEN_RIDE_NUM': 22539.0, 'EIGHTEEN_ALIGHT_NUM': 15130.0, 'NINETEEN_RIDE_NUM': 8670.0, 'NINETEEN_ALIGHT_NUM': 9632.0, 'TWENTY_RIDE_NUM': 6650.0, 'TWENTY_ALIGHT_NUM': 5287.0, 'TWENTY_ONE_RIDE_NUM': 8587.0, 'TWENTY_ONE_ALIGHT_NUM': 4627.0, 'TWENTY_TWO_RIDE_NUM': 7817.0, 'TWENTY_TWO_ALIGHT_NUM': 6091.0, 'TWENTY_THREE_RIDE_NUM': 1092.0, 'TWENTY_THREE_ALIGHT_NUM': 2161.0, 'MIDNIGHT_RIDE_NUM': 2.0, 'MIDNIGHT_ALIGHT_NUM': 171.0, 'ONE_RIDE_NUM': 0.0, 'ONE_ALIGHT_NUM': 1.0, 'TWO_RIDE_NUM': 0.0, 'TWO_ALIGHT_NUM': 0.0, 'THREE_RIDE_NUM': 0.0, 'THREE_ALIGHT_NUM': 0.0, 'WORK_DT': '20210703'}]}}\n",
      "{'CardSubwayTime': {'list_total_count': 608, 'RESULT': {'CODE': 'INFO-000', 'MESSAGE': '정상 처리되었습니다'}, 'row': [{'USE_MON': '202106', 'LINE_NUM': '2호선', 'SUB_STA_NM': '뚝섬', 'FOUR_RIDE_NUM': 25.0, 'FOUR_ALIGHT_NUM': 11.0, 'FIVE_RIDE_NUM': 3481.0, 'FIVE_ALIGHT_NUM': 2219.0, 'SIX_RIDE_NUM': 7841.0, 'SIX_ALIGHT_NUM': 14766.0, 'SEVEN_RIDE_NUM': 18702.0, 'SEVEN_ALIGHT_NUM': 37548.0, 'EIGHT_RIDE_NUM': 25566.0, 'EIGHT_ALIGHT_NUM': 141284.0, 'NINE_RIDE_NUM': 17966.0, 'NINE_ALIGHT_NUM': 87408.0, 'TEN_RIDE_NUM': 14073.0, 'TEN_ALIGHT_NUM': 38360.0, 'ELEVEN_RIDE_NUM': 15173.0, 'ELEVEN_ALIGHT_NUM': 27280.0, 'TWELVE_RIDE_NUM': 18985.0, 'TWELVE_ALIGHT_NUM': 29331.0, 'THIRTEEN_RIDE_NUM': 20845.0, 'THIRTEEN_ALIGHT_NUM': 32608.0, 'FOURTEEN_RIDE_NUM': 24905.0, 'FOURTEEN_ALIGHT_NUM': 28097.0, 'FIFTEEN_RIDE_NUM': 30042.0, 'FIFTEEN_ALIGHT_NUM': 28451.0, 'SIXTEEN_RIDE_NUM': 38231.0, 'SIXTEEN_ALIGHT_NUM': 29465.0, 'SEVENTEEN_RIDE_NUM': 64022.0, 'SEVENTEEN_ALIGHT_NUM': 32693.0, 'EIGHTEEN_RIDE_NUM': 125164.0, 'EIGHTEEN_ALIGHT_NUM': 43486.0, 'NINETEEN_RIDE_NUM': 61137.0, 'NINETEEN_ALIGHT_NUM': 24961.0, 'TWENTY_RIDE_NUM': 38540.0, 'TWENTY_ALIGHT_NUM': 12909.0, 'TWENTY_ONE_RIDE_NUM': 38004.0, 'TWENTY_ONE_ALIGHT_NUM': 11243.0, 'TWENTY_TWO_RIDE_NUM': 29495.0, 'TWENTY_TWO_ALIGHT_NUM': 13263.0, 'TWENTY_THREE_RIDE_NUM': 4086.0, 'TWENTY_THREE_ALIGHT_NUM': 5431.0, 'MIDNIGHT_RIDE_NUM': 4.0, 'MIDNIGHT_ALIGHT_NUM': 60.0, 'ONE_RIDE_NUM': 0.0, 'ONE_ALIGHT_NUM': 0.0, 'TWO_RIDE_NUM': 0.0, 'TWO_ALIGHT_NUM': 0.0, 'THREE_RIDE_NUM': 0.0, 'THREE_ALIGHT_NUM': 0.0, 'WORK_DT': '20210703'}, {'USE_MON': '202106', 'LINE_NUM': '2호선', 'SUB_STA_NM': '성수', 'FOUR_RIDE_NUM': 67.0, 'FOUR_ALIGHT_NUM': 0.0, 'FIVE_RIDE_NUM': 5404.0, 'FIVE_ALIGHT_NUM': 3807.0, 'SIX_RIDE_NUM': 9234.0, 'SIX_ALIGHT_NUM': 27616.0, 'SEVEN_RIDE_NUM': 22648.0, 'SEVEN_ALIGHT_NUM': 73962.0, 'EIGHT_RIDE_NUM': 29800.0, 'EIGHT_ALIGHT_NUM': 269072.0, 'NINE_RIDE_NUM': 22575.0, 'NINE_ALIGHT_NUM': 143068.0, 'TEN_RIDE_NUM': 19827.0, 'TEN_ALIGHT_NUM': 48317.0, 'ELEVEN_RIDE_NUM': 20914.0, 'ELEVEN_ALIGHT_NUM': 37558.0, 'TWELVE_RIDE_NUM': 24384.0, 'TWELVE_ALIGHT_NUM': 38283.0, 'THIRTEEN_RIDE_NUM': 29681.0, 'THIRTEEN_ALIGHT_NUM': 43934.0, 'FOURTEEN_RIDE_NUM': 33835.0, 'FOURTEEN_ALIGHT_NUM': 40751.0, 'FIFTEEN_RIDE_NUM': 40333.0, 'FIFTEEN_ALIGHT_NUM': 40805.0, 'SIXTEEN_RIDE_NUM': 51988.0, 'SIXTEEN_ALIGHT_NUM': 41510.0, 'SEVENTEEN_RIDE_NUM': 103029.0, 'SEVENTEEN_ALIGHT_NUM': 45345.0, 'EIGHTEEN_RIDE_NUM': 227994.0, 'EIGHTEEN_ALIGHT_NUM': 56132.0, 'NINETEEN_RIDE_NUM': 95913.0, 'NINETEEN_ALIGHT_NUM': 33187.0, 'TWENTY_RIDE_NUM': 55590.0, 'TWENTY_ALIGHT_NUM': 16273.0, 'TWENTY_ONE_RIDE_NUM': 61467.0, 'TWENTY_ONE_ALIGHT_NUM': 12978.0, 'TWENTY_TWO_RIDE_NUM': 46179.0, 'TWENTY_TWO_ALIGHT_NUM': 14950.0, 'TWENTY_THREE_RIDE_NUM': 5474.0, 'TWENTY_THREE_ALIGHT_NUM': 8790.0, 'MIDNIGHT_RIDE_NUM': 5.0, 'MIDNIGHT_ALIGHT_NUM': 2237.0, 'ONE_RIDE_NUM': 0.0, 'ONE_ALIGHT_NUM': 0.0, 'TWO_RIDE_NUM': 0.0, 'TWO_ALIGHT_NUM': 0.0, 'THREE_RIDE_NUM': 0.0, 'THREE_ALIGHT_NUM': 0.0, 'WORK_DT': '20210703'}, {'USE_MON': '202106', 'LINE_NUM': '2호선', 'SUB_STA_NM': '건대입구', 'FOUR_RIDE_NUM': 176.0, 'FOUR_ALIGHT_NUM': 7.0, 'FIVE_RIDE_NUM': 14205.0, 'FIVE_ALIGHT_NUM': 2139.0, 'SIX_RIDE_NUM': 20389.0, 'SIX_ALIGHT_NUM': 19701.0, 'SEVEN_RIDE_NUM': 52326.0, 'SEVEN_ALIGHT_NUM': 26069.0, 'EIGHT_RIDE_NUM': 88094.0, 'EIGHT_ALIGHT_NUM': 61058.0, 'NINE_RIDE_NUM': 58146.0, 'NINE_ALIGHT_NUM': 47220.0, 'TEN_RIDE_NUM': 33837.0, 'TEN_ALIGHT_NUM': 36298.0, 'ELEVEN_RIDE_NUM': 31591.0, 'ELEVEN_ALIGHT_NUM': 37929.0, 'TWELVE_RIDE_NUM': 36562.0, 'TWELVE_ALIGHT_NUM': 46292.0, 'THIRTEEN_RIDE_NUM': 39017.0, 'THIRTEEN_ALIGHT_NUM': 52863.0, 'FOURTEEN_RIDE_NUM': 39510.0, 'FOURTEEN_ALIGHT_NUM': 53815.0, 'FIFTEEN_RIDE_NUM': 44476.0, 'FIFTEEN_ALIGHT_NUM': 59182.0, 'SIXTEEN_RIDE_NUM': 54230.0, 'SIXTEEN_ALIGHT_NUM': 70290.0, 'SEVENTEEN_RIDE_NUM': 66175.0, 'SEVENTEEN_ALIGHT_NUM': 97732.0, 'EIGHTEEN_RIDE_NUM': 79285.0, 'EIGHTEEN_ALIGHT_NUM': 144916.0, 'NINETEEN_RIDE_NUM': 56745.0, 'NINETEEN_ALIGHT_NUM': 94289.0, 'TWENTY_RIDE_NUM': 57426.0, 'TWENTY_ALIGHT_NUM': 49337.0, 'TWENTY_ONE_RIDE_NUM': 82927.0, 'TWENTY_ONE_ALIGHT_NUM': 45034.0, 'TWENTY_TWO_RIDE_NUM': 81501.0, 'TWENTY_TWO_ALIGHT_NUM': 50847.0, 'TWENTY_THREE_RIDE_NUM': 11703.0, 'TWENTY_THREE_ALIGHT_NUM': 22174.0, 'MIDNIGHT_RIDE_NUM': 15.0, 'MIDNIGHT_ALIGHT_NUM': 2442.0, 'ONE_RIDE_NUM': 0.0, 'ONE_ALIGHT_NUM': 0.0, 'TWO_RIDE_NUM': 0.0, 'TWO_ALIGHT_NUM': 0.0, 'THREE_RIDE_NUM': 0.0, 'THREE_ALIGHT_NUM': 0.0, 'WORK_DT': '20210703'}, {'USE_MON': '202106', 'LINE_NUM': '2호선', 'SUB_STA_NM': '구의(광진구청)', 'FOUR_RIDE_NUM': 50.0, 'FOUR_ALIGHT_NUM': 1.0, 'FIVE_RIDE_NUM': 13662.0, 'FIVE_ALIGHT_NUM': 1149.0, 'SIX_RIDE_NUM': 25627.0, 'SIX_ALIGHT_NUM': 9640.0, 'SEVEN_RIDE_NUM': 66711.0, 'SEVEN_ALIGHT_NUM': 15389.0, 'EIGHT_RIDE_NUM': 111827.0, 'EIGHT_ALIGHT_NUM': 39614.0, 'NINE_RIDE_NUM': 62341.0, 'NINE_ALIGHT_NUM': 22182.0, 'TEN_RIDE_NUM': 32099.0, 'TEN_ALIGHT_NUM': 18572.0, 'ELEVEN_RIDE_NUM': 26917.0, 'ELEVEN_ALIGHT_NUM': 18261.0, 'TWELVE_RIDE_NUM': 27514.0, 'TWELVE_ALIGHT_NUM': 20806.0, 'THIRTEEN_RIDE_NUM': 26932.0, 'THIRTEEN_ALIGHT_NUM': 23563.0, 'FOURTEEN_RIDE_NUM': 24838.0, 'FOURTEEN_ALIGHT_NUM': 24857.0, 'FIFTEEN_RIDE_NUM': 24733.0, 'FIFTEEN_ALIGHT_NUM': 31703.0, 'SIXTEEN_RIDE_NUM': 29724.0, 'SIXTEEN_ALIGHT_NUM': 36047.0, 'SEVENTEEN_RIDE_NUM': 32580.0, 'SEVENTEEN_ALIGHT_NUM': 51142.0, 'EIGHTEEN_RIDE_NUM': 41165.0, 'EIGHTEEN_ALIGHT_NUM': 90738.0, 'NINETEEN_RIDE_NUM': 20148.0, 'NINETEEN_ALIGHT_NUM': 64759.0, 'TWENTY_RIDE_NUM': 15673.0, 'TWENTY_ALIGHT_NUM': 40868.0, 'TWENTY_ONE_RIDE_NUM': 16519.0, 'TWENTY_ONE_ALIGHT_NUM': 38952.0, 'TWENTY_TWO_RIDE_NUM': 15886.0, 'TWENTY_TWO_ALIGHT_NUM': 44587.0, 'TWENTY_THREE_RIDE_NUM': 4342.0, 'TWENTY_THREE_ALIGHT_NUM': 16515.0, 'MIDNIGHT_RIDE_NUM': 6.0, 'MIDNIGHT_ALIGHT_NUM': 1038.0, 'ONE_RIDE_NUM': 0.0, 'ONE_ALIGHT_NUM': 0.0, 'TWO_RIDE_NUM': 0.0, 'TWO_ALIGHT_NUM': 0.0, 'THREE_RIDE_NUM': 0.0, 'THREE_ALIGHT_NUM': 0.0, 'WORK_DT': '20210703'}, {'USE_MON': '202106', 'LINE_NUM': '2호선', 'SUB_STA_NM': '강변(동서울터미널)', 'FOUR_RIDE_NUM': 18.0, 'FOUR_ALIGHT_NUM': 0.0, 'FIVE_RIDE_NUM': 8295.0, 'FIVE_ALIGHT_NUM': 2136.0, 'SIX_RIDE_NUM': 27343.0, 'SIX_ALIGHT_NUM': 21465.0, 'SEVEN_RIDE_NUM': 77995.0, 'SEVEN_ALIGHT_NUM': 24424.0, 'EIGHT_RIDE_NUM': 106012.0, 'EIGHT_ALIGHT_NUM': 46063.0, 'NINE_RIDE_NUM': 72448.0, 'NINE_ALIGHT_NUM': 36699.0, 'TEN_RIDE_NUM': 50860.0, 'TEN_ALIGHT_NUM': 34309.0, 'ELEVEN_RIDE_NUM': 45540.0, 'ELEVEN_ALIGHT_NUM': 31714.0, 'TWELVE_RIDE_NUM': 45801.0, 'TWELVE_ALIGHT_NUM': 35111.0, 'THIRTEEN_RIDE_NUM': 43734.0, 'THIRTEEN_ALIGHT_NUM': 39567.0, 'FOURTEEN_RIDE_NUM': 39557.0, 'FOURTEEN_ALIGHT_NUM': 40686.0, 'FIFTEEN_RIDE_NUM': 42320.0, 'FIFTEEN_ALIGHT_NUM': 47913.0, 'SIXTEEN_RIDE_NUM': 44565.0, 'SIXTEEN_ALIGHT_NUM': 54097.0, 'SEVENTEEN_RIDE_NUM': 51506.0, 'SEVENTEEN_ALIGHT_NUM': 71481.0, 'EIGHTEEN_RIDE_NUM': 58456.0, 'EIGHTEEN_ALIGHT_NUM': 108021.0, 'NINETEEN_RIDE_NUM': 41062.0, 'NINETEEN_ALIGHT_NUM': 74801.0, 'TWENTY_RIDE_NUM': 30584.0, 'TWENTY_ALIGHT_NUM': 47900.0, 'TWENTY_ONE_RIDE_NUM': 26850.0, 'TWENTY_ONE_ALIGHT_NUM': 40695.0, 'TWENTY_TWO_RIDE_NUM': 20304.0, 'TWENTY_TWO_ALIGHT_NUM': 48963.0, 'TWENTY_THREE_RIDE_NUM': 5206.0, 'TWENTY_THREE_ALIGHT_NUM': 14835.0, 'MIDNIGHT_RIDE_NUM': 4.0, 'MIDNIGHT_ALIGHT_NUM': 403.0, 'ONE_RIDE_NUM': 1.0, 'ONE_ALIGHT_NUM': 0.0, 'TWO_RIDE_NUM': 0.0, 'TWO_ALIGHT_NUM': 0.0, 'THREE_RIDE_NUM': 0.0, 'THREE_ALIGHT_NUM': 0.0, 'WORK_DT': '20210703'}]}}\n",
      "{'CardSubwayTime': {'list_total_count': 608, 'RESULT': {'CODE': 'INFO-000', 'MESSAGE': '정상 처리되었습니다'}, 'row': [{'USE_MON': '202106', 'LINE_NUM': '2호선', 'SUB_STA_NM': '잠실나루', 'FOUR_RIDE_NUM': 9.0, 'FOUR_ALIGHT_NUM': 0.0, 'FIVE_RIDE_NUM': 3088.0, 'FIVE_ALIGHT_NUM': 1655.0, 'SIX_RIDE_NUM': 11574.0, 'SIX_ALIGHT_NUM': 10219.0, 'SEVEN_RIDE_NUM': 37939.0, 'SEVEN_ALIGHT_NUM': 23527.0, 'EIGHT_RIDE_NUM': 44852.0, 'EIGHT_ALIGHT_NUM': 37995.0, 'NINE_RIDE_NUM': 26790.0, 'NINE_ALIGHT_NUM': 23440.0, 'TEN_RIDE_NUM': 20747.0, 'TEN_ALIGHT_NUM': 17198.0, 'ELEVEN_RIDE_NUM': 19769.0, 'ELEVEN_ALIGHT_NUM': 14766.0, 'TWELVE_RIDE_NUM': 19837.0, 'TWELVE_ALIGHT_NUM': 18325.0, 'THIRTEEN_RIDE_NUM': 18438.0, 'THIRTEEN_ALIGHT_NUM': 18656.0, 'FOURTEEN_RIDE_NUM': 19842.0, 'FOURTEEN_ALIGHT_NUM': 16738.0, 'FIFTEEN_RIDE_NUM': 21852.0, 'FIFTEEN_ALIGHT_NUM': 16711.0, 'SIXTEEN_RIDE_NUM': 26908.0, 'SIXTEEN_ALIGHT_NUM': 17285.0, 'SEVENTEEN_RIDE_NUM': 32800.0, 'SEVENTEEN_ALIGHT_NUM': 22959.0, 'EIGHTEEN_RIDE_NUM': 29963.0, 'EIGHTEEN_ALIGHT_NUM': 38521.0, 'NINETEEN_RIDE_NUM': 13809.0, 'NINETEEN_ALIGHT_NUM': 28103.0, 'TWENTY_RIDE_NUM': 10284.0, 'TWENTY_ALIGHT_NUM': 16232.0, 'TWENTY_ONE_RIDE_NUM': 8099.0, 'TWENTY_ONE_ALIGHT_NUM': 16778.0, 'TWENTY_TWO_RIDE_NUM': 6735.0, 'TWENTY_TWO_ALIGHT_NUM': 18959.0, 'TWENTY_THREE_RIDE_NUM': 1718.0, 'TWENTY_THREE_ALIGHT_NUM': 6679.0, 'MIDNIGHT_RIDE_NUM': 1.0, 'MIDNIGHT_ALIGHT_NUM': 72.0, 'ONE_RIDE_NUM': 0.0, 'ONE_ALIGHT_NUM': 1.0, 'TWO_RIDE_NUM': 0.0, 'TWO_ALIGHT_NUM': 0.0, 'THREE_RIDE_NUM': 0.0, 'THREE_ALIGHT_NUM': 0.0, 'WORK_DT': '20210703'}, {'USE_MON': '202106', 'LINE_NUM': '2호선', 'SUB_STA_NM': '잠실(송파구청)', 'FOUR_RIDE_NUM': 80.0, 'FOUR_ALIGHT_NUM': 19.0, 'FIVE_RIDE_NUM': 11325.0, 'FIVE_ALIGHT_NUM': 4508.0, 'SIX_RIDE_NUM': 45211.0, 'SIX_ALIGHT_NUM': 39865.0, 'SEVEN_RIDE_NUM': 109926.0, 'SEVEN_ALIGHT_NUM': 71117.0, 'EIGHT_RIDE_NUM': 153802.0, 'EIGHT_ALIGHT_NUM': 155436.0, 'NINE_RIDE_NUM': 107993.0, 'NINE_ALIGHT_NUM': 129538.0, 'TEN_RIDE_NUM': 68886.0, 'TEN_ALIGHT_NUM': 87169.0, 'ELEVEN_RIDE_NUM': 68066.0, 'ELEVEN_ALIGHT_NUM': 85117.0, 'TWELVE_RIDE_NUM': 74625.0, 'TWELVE_ALIGHT_NUM': 85336.0, 'THIRTEEN_RIDE_NUM': 80754.0, 'THIRTEEN_ALIGHT_NUM': 90931.0, 'FOURTEEN_RIDE_NUM': 83745.0, 'FOURTEEN_ALIGHT_NUM': 89044.0, 'FIFTEEN_RIDE_NUM': 93395.0, 'FIFTEEN_ALIGHT_NUM': 94790.0, 'SIXTEEN_RIDE_NUM': 114324.0, 'SIXTEEN_ALIGHT_NUM': 107391.0, 'SEVENTEEN_RIDE_NUM': 156035.0, 'SEVENTEEN_ALIGHT_NUM': 139584.0, 'EIGHTEEN_RIDE_NUM': 196396.0, 'EIGHTEEN_ALIGHT_NUM': 205060.0, 'NINETEEN_RIDE_NUM': 121617.0, 'NINETEEN_ALIGHT_NUM': 136104.0, 'TWENTY_RIDE_NUM': 119825.0, 'TWENTY_ALIGHT_NUM': 80748.0, 'TWENTY_ONE_RIDE_NUM': 105519.0, 'TWENTY_ONE_ALIGHT_NUM': 78006.0, 'TWENTY_TWO_RIDE_NUM': 90586.0, 'TWENTY_TWO_ALIGHT_NUM': 90081.0, 'TWENTY_THREE_RIDE_NUM': 15197.0, 'TWENTY_THREE_ALIGHT_NUM': 29413.0, 'MIDNIGHT_RIDE_NUM': 13.0, 'MIDNIGHT_ALIGHT_NUM': 289.0, 'ONE_RIDE_NUM': 0.0, 'ONE_ALIGHT_NUM': 0.0, 'TWO_RIDE_NUM': 1.0, 'TWO_ALIGHT_NUM': 0.0, 'THREE_RIDE_NUM': 0.0, 'THREE_ALIGHT_NUM': 0.0, 'WORK_DT': '20210703'}, {'USE_MON': '202106', 'LINE_NUM': '2호선', 'SUB_STA_NM': '잠실새내', 'FOUR_RIDE_NUM': 12.0, 'FOUR_ALIGHT_NUM': 0.0, 'FIVE_RIDE_NUM': 4403.0, 'FIVE_ALIGHT_NUM': 791.0, 'SIX_RIDE_NUM': 15911.0, 'SIX_ALIGHT_NUM': 9133.0, 'SEVEN_RIDE_NUM': 52908.0, 'SEVEN_ALIGHT_NUM': 16063.0, 'EIGHT_RIDE_NUM': 69655.0, 'EIGHT_ALIGHT_NUM': 26529.0, 'NINE_RIDE_NUM': 40827.0, 'NINE_ALIGHT_NUM': 28413.0, 'TEN_RIDE_NUM': 26237.0, 'TEN_ALIGHT_NUM': 21522.0, 'ELEVEN_RIDE_NUM': 23997.0, 'ELEVEN_ALIGHT_NUM': 22499.0, 'TWELVE_RIDE_NUM': 25998.0, 'TWELVE_ALIGHT_NUM': 25259.0, 'THIRTEEN_RIDE_NUM': 27042.0, 'THIRTEEN_ALIGHT_NUM': 27949.0, 'FOURTEEN_RIDE_NUM': 25136.0, 'FOURTEEN_ALIGHT_NUM': 29041.0, 'FIFTEEN_RIDE_NUM': 26715.0, 'FIFTEEN_ALIGHT_NUM': 34909.0, 'SIXTEEN_RIDE_NUM': 33312.0, 'SIXTEEN_ALIGHT_NUM': 38633.0, 'SEVENTEEN_RIDE_NUM': 33310.0, 'SEVENTEEN_ALIGHT_NUM': 52416.0, 'EIGHTEEN_RIDE_NUM': 36977.0, 'EIGHTEEN_ALIGHT_NUM': 80509.0, 'NINETEEN_RIDE_NUM': 26817.0, 'NINETEEN_ALIGHT_NUM': 53682.0, 'TWENTY_RIDE_NUM': 24994.0, 'TWENTY_ALIGHT_NUM': 28671.0, 'TWENTY_ONE_RIDE_NUM': 28050.0, 'TWENTY_ONE_ALIGHT_NUM': 25367.0, 'TWENTY_TWO_RIDE_NUM': 30158.0, 'TWENTY_TWO_ALIGHT_NUM': 29960.0, 'TWENTY_THREE_RIDE_NUM': 5624.0, 'TWENTY_THREE_ALIGHT_NUM': 10336.0, 'MIDNIGHT_RIDE_NUM': 8.0, 'MIDNIGHT_ALIGHT_NUM': 678.0, 'ONE_RIDE_NUM': 0.0, 'ONE_ALIGHT_NUM': 0.0, 'TWO_RIDE_NUM': 0.0, 'TWO_ALIGHT_NUM': 0.0, 'THREE_RIDE_NUM': 0.0, 'THREE_ALIGHT_NUM': 0.0, 'WORK_DT': '20210703'}, {'USE_MON': '202106', 'LINE_NUM': '2호선', 'SUB_STA_NM': '종합운동장', 'FOUR_RIDE_NUM': 4.0, 'FOUR_ALIGHT_NUM': 0.0, 'FIVE_RIDE_NUM': 1606.0, 'FIVE_ALIGHT_NUM': 835.0, 'SIX_RIDE_NUM': 5673.0, 'SIX_ALIGHT_NUM': 6966.0, 'SEVEN_RIDE_NUM': 16237.0, 'SEVEN_ALIGHT_NUM': 12926.0, 'EIGHT_RIDE_NUM': 22676.0, 'EIGHT_ALIGHT_NUM': 22445.0, 'NINE_RIDE_NUM': 15380.0, 'NINE_ALIGHT_NUM': 10485.0, 'TEN_RIDE_NUM': 9324.0, 'TEN_ALIGHT_NUM': 8090.0, 'ELEVEN_RIDE_NUM': 8814.0, 'ELEVEN_ALIGHT_NUM': 7000.0, 'TWELVE_RIDE_NUM': 9250.0, 'TWELVE_ALIGHT_NUM': 8045.0, 'THIRTEEN_RIDE_NUM': 8977.0, 'THIRTEEN_ALIGHT_NUM': 9382.0, 'FOURTEEN_RIDE_NUM': 8501.0, 'FOURTEEN_ALIGHT_NUM': 10222.0, 'FIFTEEN_RIDE_NUM': 11548.0, 'FIFTEEN_ALIGHT_NUM': 13423.0, 'SIXTEEN_RIDE_NUM': 13076.0, 'SIXTEEN_ALIGHT_NUM': 20414.0, 'SEVENTEEN_RIDE_NUM': 14784.0, 'SEVENTEEN_ALIGHT_NUM': 22199.0, 'EIGHTEEN_RIDE_NUM': 17581.0, 'EIGHTEEN_ALIGHT_NUM': 33573.0, 'NINETEEN_RIDE_NUM': 11040.0, 'NINETEEN_ALIGHT_NUM': 17012.0, 'TWENTY_RIDE_NUM': 16257.0, 'TWENTY_ALIGHT_NUM': 9509.0, 'TWENTY_ONE_RIDE_NUM': 18190.0, 'TWENTY_ONE_ALIGHT_NUM': 9952.0, 'TWENTY_TWO_RIDE_NUM': 12477.0, 'TWENTY_TWO_ALIGHT_NUM': 12379.0, 'TWENTY_THREE_RIDE_NUM': 1367.0, 'TWENTY_THREE_ALIGHT_NUM': 3913.0, 'MIDNIGHT_RIDE_NUM': 3.0, 'MIDNIGHT_ALIGHT_NUM': 274.0, 'ONE_RIDE_NUM': 0.0, 'ONE_ALIGHT_NUM': 0.0, 'TWO_RIDE_NUM': 0.0, 'TWO_ALIGHT_NUM': 0.0, 'THREE_RIDE_NUM': 0.0, 'THREE_ALIGHT_NUM': 0.0, 'WORK_DT': '20210703'}, {'USE_MON': '202106', 'LINE_NUM': '2호선', 'SUB_STA_NM': '삼성(무역센터)', 'FOUR_RIDE_NUM': 144.0, 'FOUR_ALIGHT_NUM': 0.0, 'FIVE_RIDE_NUM': 4308.0, 'FIVE_ALIGHT_NUM': 5060.0, 'SIX_RIDE_NUM': 6824.0, 'SIX_ALIGHT_NUM': 39509.0, 'SEVEN_RIDE_NUM': 14275.0, 'SEVEN_ALIGHT_NUM': 125083.0, 'EIGHT_RIDE_NUM': 19060.0, 'EIGHT_ALIGHT_NUM': 329768.0, 'NINE_RIDE_NUM': 20085.0, 'NINE_ALIGHT_NUM': 230793.0, 'TEN_RIDE_NUM': 22351.0, 'TEN_ALIGHT_NUM': 92072.0, 'ELEVEN_RIDE_NUM': 32496.0, 'ELEVEN_ALIGHT_NUM': 67706.0, 'TWELVE_RIDE_NUM': 39188.0, 'TWELVE_ALIGHT_NUM': 59609.0, 'THIRTEEN_RIDE_NUM': 50793.0, 'THIRTEEN_ALIGHT_NUM': 67325.0, 'FOURTEEN_RIDE_NUM': 62437.0, 'FOURTEEN_ALIGHT_NUM': 56441.0, 'FIFTEEN_RIDE_NUM': 76464.0, 'FIFTEEN_ALIGHT_NUM': 48089.0, 'SIXTEEN_RIDE_NUM': 96166.0, 'SIXTEEN_ALIGHT_NUM': 46843.0, 'SEVENTEEN_RIDE_NUM': 179797.0, 'SEVENTEEN_ALIGHT_NUM': 47887.0, 'EIGHTEEN_RIDE_NUM': 292353.0, 'EIGHTEEN_ALIGHT_NUM': 54569.0, 'NINETEEN_RIDE_NUM': 145577.0, 'NINETEEN_ALIGHT_NUM': 29137.0, 'TWENTY_RIDE_NUM': 101060.0, 'TWENTY_ALIGHT_NUM': 16038.0, 'TWENTY_ONE_RIDE_NUM': 89962.0, 'TWENTY_ONE_ALIGHT_NUM': 12849.0, 'TWENTY_TWO_RIDE_NUM': 67261.0, 'TWENTY_TWO_ALIGHT_NUM': 13222.0, 'TWENTY_THREE_RIDE_NUM': 8571.0, 'TWENTY_THREE_ALIGHT_NUM': 4721.0, 'MIDNIGHT_RIDE_NUM': 0.0, 'MIDNIGHT_ALIGHT_NUM': 1992.0, 'ONE_RIDE_NUM': 0.0, 'ONE_ALIGHT_NUM': 0.0, 'TWO_RIDE_NUM': 0.0, 'TWO_ALIGHT_NUM': 0.0, 'THREE_RIDE_NUM': 0.0, 'THREE_ALIGHT_NUM': 0.0, 'WORK_DT': '20210703'}]}}\n",
      "{'CardSubwayTime': {'list_total_count': 608, 'RESULT': {'CODE': 'INFO-000', 'MESSAGE': '정상 처리되었습니다'}, 'row': [{'USE_MON': '202106', 'LINE_NUM': '2호선', 'SUB_STA_NM': '선릉', 'FOUR_RIDE_NUM': 24.0, 'FOUR_ALIGHT_NUM': 0.0, 'FIVE_RIDE_NUM': 3627.0, 'FIVE_ALIGHT_NUM': 6383.0, 'SIX_RIDE_NUM': 10025.0, 'SIX_ALIGHT_NUM': 38339.0, 'SEVEN_RIDE_NUM': 20170.0, 'SEVEN_ALIGHT_NUM': 109031.0, 'EIGHT_RIDE_NUM': 29681.0, 'EIGHT_ALIGHT_NUM': 279007.0, 'NINE_RIDE_NUM': 28075.0, 'NINE_ALIGHT_NUM': 213379.0, 'TEN_RIDE_NUM': 31786.0, 'TEN_ALIGHT_NUM': 90882.0, 'ELEVEN_RIDE_NUM': 42605.0, 'ELEVEN_ALIGHT_NUM': 62958.0, 'TWELVE_RIDE_NUM': 49628.0, 'TWELVE_ALIGHT_NUM': 52723.0, 'THIRTEEN_RIDE_NUM': 58696.0, 'THIRTEEN_ALIGHT_NUM': 59890.0, 'FOURTEEN_RIDE_NUM': 67661.0, 'FOURTEEN_ALIGHT_NUM': 51028.0, 'FIFTEEN_RIDE_NUM': 83895.0, 'FIFTEEN_ALIGHT_NUM': 44835.0, 'SIXTEEN_RIDE_NUM': 113307.0, 'SIXTEEN_ALIGHT_NUM': 42493.0, 'SEVENTEEN_RIDE_NUM': 169112.0, 'SEVENTEEN_ALIGHT_NUM': 49187.0, 'EIGHTEEN_RIDE_NUM': 288032.0, 'EIGHTEEN_ALIGHT_NUM': 53553.0, 'NINETEEN_RIDE_NUM': 133762.0, 'NINETEEN_ALIGHT_NUM': 30913.0, 'TWENTY_RIDE_NUM': 83372.0, 'TWENTY_ALIGHT_NUM': 17950.0, 'TWENTY_ONE_RIDE_NUM': 88665.0, 'TWENTY_ONE_ALIGHT_NUM': 15963.0, 'TWENTY_TWO_RIDE_NUM': 81012.0, 'TWENTY_TWO_ALIGHT_NUM': 18029.0, 'TWENTY_THREE_RIDE_NUM': 11296.0, 'TWENTY_THREE_ALIGHT_NUM': 6674.0, 'MIDNIGHT_RIDE_NUM': 0.0, 'MIDNIGHT_ALIGHT_NUM': 98.0, 'ONE_RIDE_NUM': 0.0, 'ONE_ALIGHT_NUM': 0.0, 'TWO_RIDE_NUM': 0.0, 'TWO_ALIGHT_NUM': 0.0, 'THREE_RIDE_NUM': 0.0, 'THREE_ALIGHT_NUM': 0.0, 'WORK_DT': '20210703'}, {'USE_MON': '202106', 'LINE_NUM': '2호선', 'SUB_STA_NM': '역삼', 'FOUR_RIDE_NUM': 27.0, 'FOUR_ALIGHT_NUM': 0.0, 'FIVE_RIDE_NUM': 3419.0, 'FIVE_ALIGHT_NUM': 7400.0, 'SIX_RIDE_NUM': 8075.0, 'SIX_ALIGHT_NUM': 38631.0, 'SEVEN_RIDE_NUM': 14314.0, 'SEVEN_ALIGHT_NUM': 129504.0, 'EIGHT_RIDE_NUM': 23582.0, 'EIGHT_ALIGHT_NUM': 340955.0, 'NINE_RIDE_NUM': 22155.0, 'NINE_ALIGHT_NUM': 279383.0, 'TEN_RIDE_NUM': 22979.0, 'TEN_ALIGHT_NUM': 106015.0, 'ELEVEN_RIDE_NUM': 30623.0, 'ELEVEN_ALIGHT_NUM': 61473.0, 'TWELVE_RIDE_NUM': 37384.0, 'TWELVE_ALIGHT_NUM': 51806.0, 'THIRTEEN_RIDE_NUM': 44667.0, 'THIRTEEN_ALIGHT_NUM': 59051.0, 'FOURTEEN_RIDE_NUM': 52573.0, 'FOURTEEN_ALIGHT_NUM': 48320.0, 'FIFTEEN_RIDE_NUM': 67532.0, 'FIFTEEN_ALIGHT_NUM': 43073.0, 'SIXTEEN_RIDE_NUM': 87349.0, 'SIXTEEN_ALIGHT_NUM': 40739.0, 'SEVENTEEN_RIDE_NUM': 181420.0, 'SEVENTEEN_ALIGHT_NUM': 44443.0, 'EIGHTEEN_RIDE_NUM': 284856.0, 'EIGHTEEN_ALIGHT_NUM': 53226.0, 'NINETEEN_RIDE_NUM': 139400.0, 'NINETEEN_ALIGHT_NUM': 32039.0, 'TWENTY_RIDE_NUM': 76463.0, 'TWENTY_ALIGHT_NUM': 18176.0, 'TWENTY_ONE_RIDE_NUM': 80410.0, 'TWENTY_ONE_ALIGHT_NUM': 15421.0, 'TWENTY_TWO_RIDE_NUM': 64947.0, 'TWENTY_TWO_ALIGHT_NUM': 16658.0, 'TWENTY_THREE_RIDE_NUM': 10586.0, 'TWENTY_THREE_ALIGHT_NUM': 6779.0, 'MIDNIGHT_RIDE_NUM': 2.0, 'MIDNIGHT_ALIGHT_NUM': 2.0, 'ONE_RIDE_NUM': 0.0, 'ONE_ALIGHT_NUM': 1.0, 'TWO_RIDE_NUM': 1.0, 'TWO_ALIGHT_NUM': 0.0, 'THREE_RIDE_NUM': 0.0, 'THREE_ALIGHT_NUM': 0.0, 'WORK_DT': '20210703'}, {'USE_MON': '202106', 'LINE_NUM': '2호선', 'SUB_STA_NM': '강남', 'FOUR_RIDE_NUM': 68.0, 'FOUR_ALIGHT_NUM': 5.0, 'FIVE_RIDE_NUM': 5634.0, 'FIVE_ALIGHT_NUM': 10898.0, 'SIX_RIDE_NUM': 15798.0, 'SIX_ALIGHT_NUM': 49800.0, 'SEVEN_RIDE_NUM': 37686.0, 'SEVEN_ALIGHT_NUM': 150575.0, 'EIGHT_RIDE_NUM': 60412.0, 'EIGHT_ALIGHT_NUM': 319617.0, 'NINE_RIDE_NUM': 47444.0, 'NINE_ALIGHT_NUM': 310538.0, 'TEN_RIDE_NUM': 47162.0, 'TEN_ALIGHT_NUM': 146907.0, 'ELEVEN_RIDE_NUM': 63593.0, 'ELEVEN_ALIGHT_NUM': 104498.0, 'TWELVE_RIDE_NUM': 80198.0, 'TWELVE_ALIGHT_NUM': 102420.0, 'THIRTEEN_RIDE_NUM': 96731.0, 'THIRTEEN_ALIGHT_NUM': 121091.0, 'FOURTEEN_RIDE_NUM': 104901.0, 'FOURTEEN_ALIGHT_NUM': 108102.0, 'FIFTEEN_RIDE_NUM': 130240.0, 'FIFTEEN_ALIGHT_NUM': 99570.0, 'SIXTEEN_RIDE_NUM': 149359.0, 'SIXTEEN_ALIGHT_NUM': 104024.0, 'SEVENTEEN_RIDE_NUM': 228834.0, 'SEVENTEEN_ALIGHT_NUM': 130644.0, 'EIGHTEEN_RIDE_NUM': 333597.0, 'EIGHTEEN_ALIGHT_NUM': 182063.0, 'NINETEEN_RIDE_NUM': 202589.0, 'NINETEEN_ALIGHT_NUM': 99888.0, 'TWENTY_RIDE_NUM': 156402.0, 'TWENTY_ALIGHT_NUM': 43968.0, 'TWENTY_ONE_RIDE_NUM': 212344.0, 'TWENTY_ONE_ALIGHT_NUM': 35446.0, 'TWENTY_TWO_RIDE_NUM': 209363.0, 'TWENTY_TWO_ALIGHT_NUM': 37493.0, 'TWENTY_THREE_RIDE_NUM': 27475.0, 'TWENTY_THREE_ALIGHT_NUM': 13686.0, 'MIDNIGHT_RIDE_NUM': 7.0, 'MIDNIGHT_ALIGHT_NUM': 5.0, 'ONE_RIDE_NUM': 0.0, 'ONE_ALIGHT_NUM': 0.0, 'TWO_RIDE_NUM': 0.0, 'TWO_ALIGHT_NUM': 0.0, 'THREE_RIDE_NUM': 0.0, 'THREE_ALIGHT_NUM': 0.0, 'WORK_DT': '20210703'}, {'USE_MON': '202106', 'LINE_NUM': '2호선', 'SUB_STA_NM': '교대(법원.검찰청)', 'FOUR_RIDE_NUM': 18.0, 'FOUR_ALIGHT_NUM': 1.0, 'FIVE_RIDE_NUM': 2366.0, 'FIVE_ALIGHT_NUM': 6923.0, 'SIX_RIDE_NUM': 11842.0, 'SIX_ALIGHT_NUM': 25344.0, 'SEVEN_RIDE_NUM': 24154.0, 'SEVEN_ALIGHT_NUM': 58254.0, 'EIGHT_RIDE_NUM': 33988.0, 'EIGHT_ALIGHT_NUM': 157982.0, 'NINE_RIDE_NUM': 26824.0, 'NINE_ALIGHT_NUM': 137549.0, 'TEN_RIDE_NUM': 25349.0, 'TEN_ALIGHT_NUM': 66113.0, 'ELEVEN_RIDE_NUM': 30985.0, 'ELEVEN_ALIGHT_NUM': 51410.0, 'TWELVE_RIDE_NUM': 34406.0, 'TWELVE_ALIGHT_NUM': 46562.0, 'THIRTEEN_RIDE_NUM': 40404.0, 'THIRTEEN_ALIGHT_NUM': 53373.0, 'FOURTEEN_RIDE_NUM': 47657.0, 'FOURTEEN_ALIGHT_NUM': 48092.0, 'FIFTEEN_RIDE_NUM': 52623.0, 'FIFTEEN_ALIGHT_NUM': 44124.0, 'SIXTEEN_RIDE_NUM': 58677.0, 'SIXTEEN_ALIGHT_NUM': 44462.0, 'SEVENTEEN_RIDE_NUM': 93206.0, 'SEVENTEEN_ALIGHT_NUM': 52592.0, 'EIGHTEEN_RIDE_NUM': 146869.0, 'EIGHTEEN_ALIGHT_NUM': 67556.0, 'NINETEEN_RIDE_NUM': 64550.0, 'NINETEEN_ALIGHT_NUM': 40034.0, 'TWENTY_RIDE_NUM': 49050.0, 'TWENTY_ALIGHT_NUM': 21605.0, 'TWENTY_ONE_RIDE_NUM': 58044.0, 'TWENTY_ONE_ALIGHT_NUM': 19337.0, 'TWENTY_TWO_RIDE_NUM': 53655.0, 'TWENTY_TWO_ALIGHT_NUM': 22696.0, 'TWENTY_THREE_RIDE_NUM': 7841.0, 'TWENTY_THREE_ALIGHT_NUM': 8012.0, 'MIDNIGHT_RIDE_NUM': 3.0, 'MIDNIGHT_ALIGHT_NUM': 55.0, 'ONE_RIDE_NUM': 0.0, 'ONE_ALIGHT_NUM': 0.0, 'TWO_RIDE_NUM': 0.0, 'TWO_ALIGHT_NUM': 0.0, 'THREE_RIDE_NUM': 0.0, 'THREE_ALIGHT_NUM': 0.0, 'WORK_DT': '20210703'}, {'USE_MON': '202106', 'LINE_NUM': '2호선', 'SUB_STA_NM': '서초', 'FOUR_RIDE_NUM': 41.0, 'FOUR_ALIGHT_NUM': 1.0, 'FIVE_RIDE_NUM': 1254.0, 'FIVE_ALIGHT_NUM': 4470.0, 'SIX_RIDE_NUM': 7429.0, 'SIX_ALIGHT_NUM': 19853.0, 'SEVEN_RIDE_NUM': 14833.0, 'SEVEN_ALIGHT_NUM': 50017.0, 'EIGHT_RIDE_NUM': 24521.0, 'EIGHT_ALIGHT_NUM': 122633.0, 'NINE_RIDE_NUM': 24260.0, 'NINE_ALIGHT_NUM': 89155.0, 'TEN_RIDE_NUM': 18322.0, 'TEN_ALIGHT_NUM': 36873.0, 'ELEVEN_RIDE_NUM': 24348.0, 'ELEVEN_ALIGHT_NUM': 25777.0, 'TWELVE_RIDE_NUM': 22332.0, 'TWELVE_ALIGHT_NUM': 20262.0, 'THIRTEEN_RIDE_NUM': 27938.0, 'THIRTEEN_ALIGHT_NUM': 24306.0, 'FOURTEEN_RIDE_NUM': 29289.0, 'FOURTEEN_ALIGHT_NUM': 21969.0, 'FIFTEEN_RIDE_NUM': 34496.0, 'FIFTEEN_ALIGHT_NUM': 19230.0, 'SIXTEEN_RIDE_NUM': 40830.0, 'SIXTEEN_ALIGHT_NUM': 20256.0, 'SEVENTEEN_RIDE_NUM': 67516.0, 'SEVENTEEN_ALIGHT_NUM': 20632.0, 'EIGHTEEN_RIDE_NUM': 105483.0, 'EIGHTEEN_ALIGHT_NUM': 22952.0, 'NINETEEN_RIDE_NUM': 43063.0, 'NINETEEN_ALIGHT_NUM': 15053.0, 'TWENTY_RIDE_NUM': 26002.0, 'TWENTY_ALIGHT_NUM': 9241.0, 'TWENTY_ONE_RIDE_NUM': 27445.0, 'TWENTY_ONE_ALIGHT_NUM': 8981.0, 'TWENTY_TWO_RIDE_NUM': 20674.0, 'TWENTY_TWO_ALIGHT_NUM': 11076.0, 'TWENTY_THREE_RIDE_NUM': 4234.0, 'TWENTY_THREE_ALIGHT_NUM': 3479.0, 'MIDNIGHT_RIDE_NUM': 1.0, 'MIDNIGHT_ALIGHT_NUM': 1.0, 'ONE_RIDE_NUM': 0.0, 'ONE_ALIGHT_NUM': 0.0, 'TWO_RIDE_NUM': 0.0, 'TWO_ALIGHT_NUM': 0.0, 'THREE_RIDE_NUM': 0.0, 'THREE_ALIGHT_NUM': 0.0, 'WORK_DT': '20210703'}]}}\n",
      "{'CardSubwayTime': {'list_total_count': 608, 'RESULT': {'CODE': 'INFO-000', 'MESSAGE': '정상 처리되었습니다'}, 'row': [{'USE_MON': '202106', 'LINE_NUM': '2호선', 'SUB_STA_NM': '방배', 'FOUR_RIDE_NUM': 3.0, 'FOUR_ALIGHT_NUM': 1.0, 'FIVE_RIDE_NUM': 2771.0, 'FIVE_ALIGHT_NUM': 3143.0, 'SIX_RIDE_NUM': 9266.0, 'SIX_ALIGHT_NUM': 14236.0, 'SEVEN_RIDE_NUM': 23001.0, 'SEVEN_ALIGHT_NUM': 27907.0, 'EIGHT_RIDE_NUM': 30780.0, 'EIGHT_ALIGHT_NUM': 73679.0, 'NINE_RIDE_NUM': 23695.0, 'NINE_ALIGHT_NUM': 46538.0, 'TEN_RIDE_NUM': 17019.0, 'TEN_ALIGHT_NUM': 23692.0, 'ELEVEN_RIDE_NUM': 17378.0, 'ELEVEN_ALIGHT_NUM': 18937.0, 'TWELVE_RIDE_NUM': 19294.0, 'TWELVE_ALIGHT_NUM': 19729.0, 'THIRTEEN_RIDE_NUM': 21843.0, 'THIRTEEN_ALIGHT_NUM': 21431.0, 'FOURTEEN_RIDE_NUM': 22577.0, 'FOURTEEN_ALIGHT_NUM': 20959.0, 'FIFTEEN_RIDE_NUM': 25141.0, 'FIFTEEN_ALIGHT_NUM': 21065.0, 'SIXTEEN_RIDE_NUM': 31328.0, 'SIXTEEN_ALIGHT_NUM': 22890.0, 'SEVENTEEN_RIDE_NUM': 42127.0, 'SEVENTEEN_ALIGHT_NUM': 29101.0, 'EIGHTEEN_RIDE_NUM': 66605.0, 'EIGHTEEN_ALIGHT_NUM': 37378.0, 'NINETEEN_RIDE_NUM': 26986.0, 'NINETEEN_ALIGHT_NUM': 25453.0, 'TWENTY_RIDE_NUM': 19297.0, 'TWENTY_ALIGHT_NUM': 16085.0, 'TWENTY_ONE_RIDE_NUM': 20356.0, 'TWENTY_ONE_ALIGHT_NUM': 16246.0, 'TWENTY_TWO_RIDE_NUM': 18102.0, 'TWENTY_TWO_ALIGHT_NUM': 19311.0, 'TWENTY_THREE_RIDE_NUM': 3448.0, 'TWENTY_THREE_ALIGHT_NUM': 6320.0, 'MIDNIGHT_RIDE_NUM': 1.0, 'MIDNIGHT_ALIGHT_NUM': 23.0, 'ONE_RIDE_NUM': 1.0, 'ONE_ALIGHT_NUM': 1.0, 'TWO_RIDE_NUM': 2.0, 'TWO_ALIGHT_NUM': 2.0, 'THREE_RIDE_NUM': 0.0, 'THREE_ALIGHT_NUM': 0.0, 'WORK_DT': '20210703'}, {'USE_MON': '202106', 'LINE_NUM': '2호선', 'SUB_STA_NM': '사당', 'FOUR_RIDE_NUM': 93.0, 'FOUR_ALIGHT_NUM': 3.0, 'FIVE_RIDE_NUM': 11914.0, 'FIVE_ALIGHT_NUM': 3608.0, 'SIX_RIDE_NUM': 25142.0, 'SIX_ALIGHT_NUM': 27176.0, 'SEVEN_RIDE_NUM': 71046.0, 'SEVEN_ALIGHT_NUM': 40749.0, 'EIGHT_RIDE_NUM': 99350.0, 'EIGHT_ALIGHT_NUM': 61741.0, 'NINE_RIDE_NUM': 68597.0, 'NINE_ALIGHT_NUM': 46692.0, 'TEN_RIDE_NUM': 42278.0, 'TEN_ALIGHT_NUM': 38259.0, 'ELEVEN_RIDE_NUM': 38482.0, 'ELEVEN_ALIGHT_NUM': 40378.0, 'TWELVE_RIDE_NUM': 42965.0, 'TWELVE_ALIGHT_NUM': 41123.0, 'THIRTEEN_RIDE_NUM': 44447.0, 'THIRTEEN_ALIGHT_NUM': 43722.0, 'FOURTEEN_RIDE_NUM': 43953.0, 'FOURTEEN_ALIGHT_NUM': 43258.0, 'FIFTEEN_RIDE_NUM': 45379.0, 'FIFTEEN_ALIGHT_NUM': 51658.0, 'SIXTEEN_RIDE_NUM': 50491.0, 'SIXTEEN_ALIGHT_NUM': 66369.0, 'SEVENTEEN_RIDE_NUM': 63099.0, 'SEVENTEEN_ALIGHT_NUM': 98322.0, 'EIGHTEEN_RIDE_NUM': 87006.0, 'EIGHTEEN_ALIGHT_NUM': 150629.0, 'NINETEEN_RIDE_NUM': 53854.0, 'NINETEEN_ALIGHT_NUM': 101100.0, 'TWENTY_RIDE_NUM': 48106.0, 'TWENTY_ALIGHT_NUM': 58073.0, 'TWENTY_ONE_RIDE_NUM': 61899.0, 'TWENTY_ONE_ALIGHT_NUM': 56336.0, 'TWENTY_TWO_RIDE_NUM': 62883.0, 'TWENTY_TWO_ALIGHT_NUM': 67449.0, 'TWENTY_THREE_RIDE_NUM': 11040.0, 'TWENTY_THREE_ALIGHT_NUM': 25121.0, 'MIDNIGHT_RIDE_NUM': 5.0, 'MIDNIGHT_ALIGHT_NUM': 1427.0, 'ONE_RIDE_NUM': 0.0, 'ONE_ALIGHT_NUM': 0.0, 'TWO_RIDE_NUM': 0.0, 'TWO_ALIGHT_NUM': 0.0, 'THREE_RIDE_NUM': 0.0, 'THREE_ALIGHT_NUM': 0.0, 'WORK_DT': '20210703'}, {'USE_MON': '202106', 'LINE_NUM': '2호선', 'SUB_STA_NM': '낙성대(강감찬)', 'FOUR_RIDE_NUM': 56.0, 'FOUR_ALIGHT_NUM': 0.0, 'FIVE_RIDE_NUM': 11657.0, 'FIVE_ALIGHT_NUM': 1942.0, 'SIX_RIDE_NUM': 26007.0, 'SIX_ALIGHT_NUM': 8488.0, 'SEVEN_RIDE_NUM': 77510.0, 'SEVEN_ALIGHT_NUM': 20099.0, 'EIGHT_RIDE_NUM': 125167.0, 'EIGHT_ALIGHT_NUM': 38509.0, 'NINE_RIDE_NUM': 76944.0, 'NINE_ALIGHT_NUM': 30811.0, 'TEN_RIDE_NUM': 39332.0, 'TEN_ALIGHT_NUM': 23826.0, 'ELEVEN_RIDE_NUM': 33589.0, 'ELEVEN_ALIGHT_NUM': 21550.0, 'TWELVE_RIDE_NUM': 35687.0, 'TWELVE_ALIGHT_NUM': 24991.0, 'THIRTEEN_RIDE_NUM': 34536.0, 'THIRTEEN_ALIGHT_NUM': 25891.0, 'FOURTEEN_RIDE_NUM': 31855.0, 'FOURTEEN_ALIGHT_NUM': 28381.0, 'FIFTEEN_RIDE_NUM': 33446.0, 'FIFTEEN_ALIGHT_NUM': 32751.0, 'SIXTEEN_RIDE_NUM': 36243.0, 'SIXTEEN_ALIGHT_NUM': 38821.0, 'SEVENTEEN_RIDE_NUM': 43151.0, 'SEVENTEEN_ALIGHT_NUM': 55950.0, 'EIGHTEEN_RIDE_NUM': 46497.0, 'EIGHTEEN_ALIGHT_NUM': 95878.0, 'NINETEEN_RIDE_NUM': 26218.0, 'NINETEEN_ALIGHT_NUM': 81237.0, 'TWENTY_RIDE_NUM': 20440.0, 'TWENTY_ALIGHT_NUM': 50982.0, 'TWENTY_ONE_RIDE_NUM': 20718.0, 'TWENTY_ONE_ALIGHT_NUM': 49182.0, 'TWENTY_TWO_RIDE_NUM': 17056.0, 'TWENTY_TWO_ALIGHT_NUM': 62294.0, 'TWENTY_THREE_RIDE_NUM': 4231.0, 'TWENTY_THREE_ALIGHT_NUM': 22418.0, 'MIDNIGHT_RIDE_NUM': 6.0, 'MIDNIGHT_ALIGHT_NUM': 1409.0, 'ONE_RIDE_NUM': 0.0, 'ONE_ALIGHT_NUM': 0.0, 'TWO_RIDE_NUM': 0.0, 'TWO_ALIGHT_NUM': 0.0, 'THREE_RIDE_NUM': 0.0, 'THREE_ALIGHT_NUM': 0.0, 'WORK_DT': '20210703'}, {'USE_MON': '202106', 'LINE_NUM': '2호선', 'SUB_STA_NM': '서울대입구(관악구청)', 'FOUR_RIDE_NUM': 3862.0, 'FOUR_ALIGHT_NUM': 12.0, 'FIVE_RIDE_NUM': 28844.0, 'FIVE_ALIGHT_NUM': 2372.0, 'SIX_RIDE_NUM': 43374.0, 'SIX_ALIGHT_NUM': 13516.0, 'SEVEN_RIDE_NUM': 126268.0, 'SEVEN_ALIGHT_NUM': 31479.0, 'EIGHT_RIDE_NUM': 182014.0, 'EIGHT_ALIGHT_NUM': 65620.0, 'NINE_RIDE_NUM': 114219.0, 'NINE_ALIGHT_NUM': 60236.0, 'TEN_RIDE_NUM': 61185.0, 'TEN_ALIGHT_NUM': 48062.0, 'ELEVEN_RIDE_NUM': 54187.0, 'ELEVEN_ALIGHT_NUM': 42982.0, 'TWELVE_RIDE_NUM': 60127.0, 'TWELVE_ALIGHT_NUM': 47115.0, 'THIRTEEN_RIDE_NUM': 60081.0, 'THIRTEEN_ALIGHT_NUM': 52218.0, 'FOURTEEN_RIDE_NUM': 56096.0, 'FOURTEEN_ALIGHT_NUM': 53703.0, 'FIFTEEN_RIDE_NUM': 60652.0, 'FIFTEEN_ALIGHT_NUM': 61127.0, 'SIXTEEN_RIDE_NUM': 68997.0, 'SIXTEEN_ALIGHT_NUM': 72036.0, 'SEVENTEEN_RIDE_NUM': 76654.0, 'SEVENTEEN_ALIGHT_NUM': 101650.0, 'EIGHTEEN_RIDE_NUM': 85401.0, 'EIGHTEEN_ALIGHT_NUM': 173128.0, 'NINETEEN_RIDE_NUM': 50652.0, 'NINETEEN_ALIGHT_NUM': 141346.0, 'TWENTY_RIDE_NUM': 42459.0, 'TWENTY_ALIGHT_NUM': 80526.0, 'TWENTY_ONE_RIDE_NUM': 50213.0, 'TWENTY_ONE_ALIGHT_NUM': 74010.0, 'TWENTY_TWO_RIDE_NUM': 45312.0, 'TWENTY_TWO_ALIGHT_NUM': 94861.0, 'TWENTY_THREE_RIDE_NUM': 9108.0, 'TWENTY_THREE_ALIGHT_NUM': 35233.0, 'MIDNIGHT_RIDE_NUM': 1.0, 'MIDNIGHT_ALIGHT_NUM': 7332.0, 'ONE_RIDE_NUM': 0.0, 'ONE_ALIGHT_NUM': 0.0, 'TWO_RIDE_NUM': 0.0, 'TWO_ALIGHT_NUM': 0.0, 'THREE_RIDE_NUM': 0.0, 'THREE_ALIGHT_NUM': 0.0, 'WORK_DT': '20210703'}, {'USE_MON': '202106', 'LINE_NUM': '2호선', 'SUB_STA_NM': '봉천', 'FOUR_RIDE_NUM': 49.0, 'FOUR_ALIGHT_NUM': 0.0, 'FIVE_RIDE_NUM': 15809.0, 'FIVE_ALIGHT_NUM': 1588.0, 'SIX_RIDE_NUM': 28936.0, 'SIX_ALIGHT_NUM': 7349.0, 'SEVEN_RIDE_NUM': 80452.0, 'SEVEN_ALIGHT_NUM': 13080.0, 'EIGHT_RIDE_NUM': 122108.0, 'EIGHT_ALIGHT_NUM': 26337.0, 'NINE_RIDE_NUM': 68994.0, 'NINE_ALIGHT_NUM': 19903.0, 'TEN_RIDE_NUM': 36127.0, 'TEN_ALIGHT_NUM': 18991.0, 'ELEVEN_RIDE_NUM': 29630.0, 'ELEVEN_ALIGHT_NUM': 19263.0, 'TWELVE_RIDE_NUM': 30628.0, 'TWELVE_ALIGHT_NUM': 20935.0, 'THIRTEEN_RIDE_NUM': 30956.0, 'THIRTEEN_ALIGHT_NUM': 23982.0, 'FOURTEEN_RIDE_NUM': 26115.0, 'FOURTEEN_ALIGHT_NUM': 25036.0, 'FIFTEEN_RIDE_NUM': 26455.0, 'FIFTEEN_ALIGHT_NUM': 32375.0, 'SIXTEEN_RIDE_NUM': 29254.0, 'SIXTEEN_ALIGHT_NUM': 36485.0, 'SEVENTEEN_RIDE_NUM': 29450.0, 'SEVENTEEN_ALIGHT_NUM': 50275.0, 'EIGHTEEN_RIDE_NUM': 32484.0, 'EIGHTEEN_ALIGHT_NUM': 85946.0, 'NINETEEN_RIDE_NUM': 18089.0, 'NINETEEN_ALIGHT_NUM': 70985.0, 'TWENTY_RIDE_NUM': 14527.0, 'TWENTY_ALIGHT_NUM': 42176.0, 'TWENTY_ONE_RIDE_NUM': 14440.0, 'TWENTY_ONE_ALIGHT_NUM': 40541.0, 'TWENTY_TWO_RIDE_NUM': 11213.0, 'TWENTY_TWO_ALIGHT_NUM': 46417.0, 'TWENTY_THREE_RIDE_NUM': 2650.0, 'TWENTY_THREE_ALIGHT_NUM': 18540.0, 'MIDNIGHT_RIDE_NUM': 1.0, 'MIDNIGHT_ALIGHT_NUM': 216.0, 'ONE_RIDE_NUM': 0.0, 'ONE_ALIGHT_NUM': 0.0, 'TWO_RIDE_NUM': 0.0, 'TWO_ALIGHT_NUM': 0.0, 'THREE_RIDE_NUM': 0.0, 'THREE_ALIGHT_NUM': 0.0, 'WORK_DT': '20210703'}]}}\n",
      "{'CardSubwayTime': {'list_total_count': 608, 'RESULT': {'CODE': 'INFO-000', 'MESSAGE': '정상 처리되었습니다'}, 'row': [{'USE_MON': '202106', 'LINE_NUM': '2호선', 'SUB_STA_NM': '신림', 'FOUR_RIDE_NUM': 237.0, 'FOUR_ALIGHT_NUM': 12.0, 'FIVE_RIDE_NUM': 40109.0, 'FIVE_ALIGHT_NUM': 3706.0, 'SIX_RIDE_NUM': 75790.0, 'SIX_ALIGHT_NUM': 19644.0, 'SEVEN_RIDE_NUM': 203625.0, 'SEVEN_ALIGHT_NUM': 34585.0, 'EIGHT_RIDE_NUM': 311074.0, 'EIGHT_ALIGHT_NUM': 63808.0, 'NINE_RIDE_NUM': 177267.0, 'NINE_ALIGHT_NUM': 49526.0, 'TEN_RIDE_NUM': 92298.0, 'TEN_ALIGHT_NUM': 41946.0, 'ELEVEN_RIDE_NUM': 74891.0, 'ELEVEN_ALIGHT_NUM': 42580.0, 'TWELVE_RIDE_NUM': 79100.0, 'TWELVE_ALIGHT_NUM': 49982.0, 'THIRTEEN_RIDE_NUM': 74554.0, 'THIRTEEN_ALIGHT_NUM': 57346.0, 'FOURTEEN_RIDE_NUM': 66989.0, 'FOURTEEN_ALIGHT_NUM': 64001.0, 'FIFTEEN_RIDE_NUM': 66286.0, 'FIFTEEN_ALIGHT_NUM': 79514.0, 'SIXTEEN_RIDE_NUM': 75620.0, 'SIXTEEN_ALIGHT_NUM': 95686.0, 'SEVENTEEN_RIDE_NUM': 82438.0, 'SEVENTEEN_ALIGHT_NUM': 139259.0, 'EIGHTEEN_RIDE_NUM': 83121.0, 'EIGHTEEN_ALIGHT_NUM': 245476.0, 'NINETEEN_RIDE_NUM': 50878.0, 'NINETEEN_ALIGHT_NUM': 211491.0, 'TWENTY_RIDE_NUM': 42944.0, 'TWENTY_ALIGHT_NUM': 124849.0, 'TWENTY_ONE_RIDE_NUM': 46544.0, 'TWENTY_ONE_ALIGHT_NUM': 120268.0, 'TWENTY_TWO_RIDE_NUM': 44506.0, 'TWENTY_TWO_ALIGHT_NUM': 139486.0, 'TWENTY_THREE_RIDE_NUM': 10139.0, 'TWENTY_THREE_ALIGHT_NUM': 63466.0, 'MIDNIGHT_RIDE_NUM': 1.0, 'MIDNIGHT_ALIGHT_NUM': 69.0, 'ONE_RIDE_NUM': 1.0, 'ONE_ALIGHT_NUM': 1.0, 'TWO_RIDE_NUM': 0.0, 'TWO_ALIGHT_NUM': 0.0, 'THREE_RIDE_NUM': 0.0, 'THREE_ALIGHT_NUM': 0.0, 'WORK_DT': '20210703'}, {'USE_MON': '202106', 'LINE_NUM': '2호선', 'SUB_STA_NM': '신대방', 'FOUR_RIDE_NUM': 181.0, 'FOUR_ALIGHT_NUM': 7.0, 'FIVE_RIDE_NUM': 26149.0, 'FIVE_ALIGHT_NUM': 1891.0, 'SIX_RIDE_NUM': 36950.0, 'SIX_ALIGHT_NUM': 8715.0, 'SEVEN_RIDE_NUM': 88550.0, 'SEVEN_ALIGHT_NUM': 17853.0, 'EIGHT_RIDE_NUM': 130425.0, 'EIGHT_ALIGHT_NUM': 32348.0, 'NINE_RIDE_NUM': 76528.0, 'NINE_ALIGHT_NUM': 22096.0, 'TEN_RIDE_NUM': 40883.0, 'TEN_ALIGHT_NUM': 17774.0, 'ELEVEN_RIDE_NUM': 31804.0, 'ELEVEN_ALIGHT_NUM': 18183.0, 'TWELVE_RIDE_NUM': 32145.0, 'TWELVE_ALIGHT_NUM': 21217.0, 'THIRTEEN_RIDE_NUM': 30551.0, 'THIRTEEN_ALIGHT_NUM': 23533.0, 'FOURTEEN_RIDE_NUM': 27223.0, 'FOURTEEN_ALIGHT_NUM': 26229.0, 'FIFTEEN_RIDE_NUM': 27039.0, 'FIFTEEN_ALIGHT_NUM': 35452.0, 'SIXTEEN_RIDE_NUM': 30566.0, 'SIXTEEN_ALIGHT_NUM': 41453.0, 'SEVENTEEN_RIDE_NUM': 34057.0, 'SEVENTEEN_ALIGHT_NUM': 59888.0, 'EIGHTEEN_RIDE_NUM': 40888.0, 'EIGHTEEN_ALIGHT_NUM': 93073.0, 'NINETEEN_RIDE_NUM': 21873.0, 'NINETEEN_ALIGHT_NUM': 80612.0, 'TWENTY_RIDE_NUM': 15635.0, 'TWENTY_ALIGHT_NUM': 51039.0, 'TWENTY_ONE_RIDE_NUM': 12507.0, 'TWENTY_ONE_ALIGHT_NUM': 55014.0, 'TWENTY_TWO_RIDE_NUM': 10554.0, 'TWENTY_TWO_ALIGHT_NUM': 61617.0, 'TWENTY_THREE_RIDE_NUM': 2900.0, 'TWENTY_THREE_ALIGHT_NUM': 27266.0, 'MIDNIGHT_RIDE_NUM': 0.0, 'MIDNIGHT_ALIGHT_NUM': 4.0, 'ONE_RIDE_NUM': 0.0, 'ONE_ALIGHT_NUM': 0.0, 'TWO_RIDE_NUM': 0.0, 'TWO_ALIGHT_NUM': 0.0, 'THREE_RIDE_NUM': 0.0, 'THREE_ALIGHT_NUM': 0.0, 'WORK_DT': '20210703'}, {'USE_MON': '202106', 'LINE_NUM': '2호선', 'SUB_STA_NM': '구로디지털단지', 'FOUR_RIDE_NUM': 285.0, 'FOUR_ALIGHT_NUM': 6.0, 'FIVE_RIDE_NUM': 40159.0, 'FIVE_ALIGHT_NUM': 5663.0, 'SIX_RIDE_NUM': 52880.0, 'SIX_ALIGHT_NUM': 22522.0, 'SEVEN_RIDE_NUM': 134048.0, 'SEVEN_ALIGHT_NUM': 85822.0, 'EIGHT_RIDE_NUM': 183174.0, 'EIGHT_ALIGHT_NUM': 268761.0, 'NINE_RIDE_NUM': 109828.0, 'NINE_ALIGHT_NUM': 152613.0, 'TEN_RIDE_NUM': 60920.0, 'TEN_ALIGHT_NUM': 57973.0, 'ELEVEN_RIDE_NUM': 54690.0, 'ELEVEN_ALIGHT_NUM': 43450.0, 'TWELVE_RIDE_NUM': 59463.0, 'TWELVE_ALIGHT_NUM': 44629.0, 'THIRTEEN_RIDE_NUM': 61034.0, 'THIRTEEN_ALIGHT_NUM': 51260.0, 'FOURTEEN_RIDE_NUM': 55513.0, 'FOURTEEN_ALIGHT_NUM': 50689.0, 'FIFTEEN_RIDE_NUM': 57430.0, 'FIFTEEN_ALIGHT_NUM': 60106.0, 'SIXTEEN_RIDE_NUM': 70475.0, 'SIXTEEN_ALIGHT_NUM': 70809.0, 'SEVENTEEN_RIDE_NUM': 126410.0, 'SEVENTEEN_ALIGHT_NUM': 103734.0, 'EIGHTEEN_RIDE_NUM': 236175.0, 'EIGHTEEN_ALIGHT_NUM': 162836.0, 'NINETEEN_RIDE_NUM': 109183.0, 'NINETEEN_ALIGHT_NUM': 125661.0, 'TWENTY_RIDE_NUM': 61807.0, 'TWENTY_ALIGHT_NUM': 76419.0, 'TWENTY_ONE_RIDE_NUM': 56760.0, 'TWENTY_ONE_ALIGHT_NUM': 75719.0, 'TWENTY_TWO_RIDE_NUM': 49254.0, 'TWENTY_TWO_ALIGHT_NUM': 89412.0, 'TWENTY_THREE_RIDE_NUM': 7902.0, 'TWENTY_THREE_ALIGHT_NUM': 36652.0, 'MIDNIGHT_RIDE_NUM': 0.0, 'MIDNIGHT_ALIGHT_NUM': 34.0, 'ONE_RIDE_NUM': 1.0, 'ONE_ALIGHT_NUM': 1.0, 'TWO_RIDE_NUM': 0.0, 'TWO_ALIGHT_NUM': 0.0, 'THREE_RIDE_NUM': 0.0, 'THREE_ALIGHT_NUM': 0.0, 'WORK_DT': '20210703'}, {'USE_MON': '202106', 'LINE_NUM': '2호선', 'SUB_STA_NM': '대림(구로구청)', 'FOUR_RIDE_NUM': 412.0, 'FOUR_ALIGHT_NUM': 20.0, 'FIVE_RIDE_NUM': 34772.0, 'FIVE_ALIGHT_NUM': 3267.0, 'SIX_RIDE_NUM': 29903.0, 'SIX_ALIGHT_NUM': 11601.0, 'SEVEN_RIDE_NUM': 65255.0, 'SEVEN_ALIGHT_NUM': 24681.0, 'EIGHT_RIDE_NUM': 91050.0, 'EIGHT_ALIGHT_NUM': 56423.0, 'NINE_RIDE_NUM': 61110.0, 'NINE_ALIGHT_NUM': 34946.0, 'TEN_RIDE_NUM': 33297.0, 'TEN_ALIGHT_NUM': 28143.0, 'ELEVEN_RIDE_NUM': 27642.0, 'ELEVEN_ALIGHT_NUM': 28225.0, 'TWELVE_RIDE_NUM': 30079.0, 'TWELVE_ALIGHT_NUM': 27936.0, 'THIRTEEN_RIDE_NUM': 29912.0, 'THIRTEEN_ALIGHT_NUM': 29486.0, 'FOURTEEN_RIDE_NUM': 27827.0, 'FOURTEEN_ALIGHT_NUM': 29703.0, 'FIFTEEN_RIDE_NUM': 28836.0, 'FIFTEEN_ALIGHT_NUM': 37228.0, 'SIXTEEN_RIDE_NUM': 33233.0, 'SIXTEEN_ALIGHT_NUM': 41615.0, 'SEVENTEEN_RIDE_NUM': 41912.0, 'SEVENTEEN_ALIGHT_NUM': 58740.0, 'EIGHTEEN_RIDE_NUM': 52957.0, 'EIGHTEEN_ALIGHT_NUM': 72361.0, 'NINETEEN_RIDE_NUM': 26990.0, 'NINETEEN_ALIGHT_NUM': 52134.0, 'TWENTY_RIDE_NUM': 18925.0, 'TWENTY_ALIGHT_NUM': 34930.0, 'TWENTY_ONE_RIDE_NUM': 16643.0, 'TWENTY_ONE_ALIGHT_NUM': 44849.0, 'TWENTY_TWO_RIDE_NUM': 12799.0, 'TWENTY_TWO_ALIGHT_NUM': 50327.0, 'TWENTY_THREE_RIDE_NUM': 3662.0, 'TWENTY_THREE_ALIGHT_NUM': 17529.0, 'MIDNIGHT_RIDE_NUM': 2.0, 'MIDNIGHT_ALIGHT_NUM': 305.0, 'ONE_RIDE_NUM': 1.0, 'ONE_ALIGHT_NUM': 0.0, 'TWO_RIDE_NUM': 0.0, 'TWO_ALIGHT_NUM': 0.0, 'THREE_RIDE_NUM': 0.0, 'THREE_ALIGHT_NUM': 0.0, 'WORK_DT': '20210703'}, {'USE_MON': '202106', 'LINE_NUM': '2호선', 'SUB_STA_NM': '신도림', 'FOUR_RIDE_NUM': 3713.0, 'FOUR_ALIGHT_NUM': 15.0, 'FIVE_RIDE_NUM': 35758.0, 'FIVE_ALIGHT_NUM': 4839.0, 'SIX_RIDE_NUM': 49765.0, 'SIX_ALIGHT_NUM': 17439.0, 'SEVEN_RIDE_NUM': 131054.0, 'SEVEN_ALIGHT_NUM': 39621.0, 'EIGHT_RIDE_NUM': 133861.0, 'EIGHT_ALIGHT_NUM': 109578.0, 'NINE_RIDE_NUM': 82632.0, 'NINE_ALIGHT_NUM': 62858.0, 'TEN_RIDE_NUM': 53442.0, 'TEN_ALIGHT_NUM': 58206.0, 'ELEVEN_RIDE_NUM': 51495.0, 'ELEVEN_ALIGHT_NUM': 54544.0, 'TWELVE_RIDE_NUM': 59198.0, 'TWELVE_ALIGHT_NUM': 57805.0, 'THIRTEEN_RIDE_NUM': 61366.0, 'THIRTEEN_ALIGHT_NUM': 61643.0, 'FOURTEEN_RIDE_NUM': 59828.0, 'FOURTEEN_ALIGHT_NUM': 59223.0, 'FIFTEEN_RIDE_NUM': 62811.0, 'FIFTEEN_ALIGHT_NUM': 66591.0, 'SIXTEEN_RIDE_NUM': 72684.0, 'SIXTEEN_ALIGHT_NUM': 75040.0, 'SEVENTEEN_RIDE_NUM': 90721.0, 'SEVENTEEN_ALIGHT_NUM': 102546.0, 'EIGHTEEN_RIDE_NUM': 123634.0, 'EIGHTEEN_ALIGHT_NUM': 168715.0, 'NINETEEN_RIDE_NUM': 67229.0, 'NINETEEN_ALIGHT_NUM': 119777.0, 'TWENTY_RIDE_NUM': 56970.0, 'TWENTY_ALIGHT_NUM': 65693.0, 'TWENTY_ONE_RIDE_NUM': 65938.0, 'TWENTY_ONE_ALIGHT_NUM': 63590.0, 'TWENTY_TWO_RIDE_NUM': 56779.0, 'TWENTY_TWO_ALIGHT_NUM': 79956.0, 'TWENTY_THREE_RIDE_NUM': 9603.0, 'TWENTY_THREE_ALIGHT_NUM': 34253.0, 'MIDNIGHT_RIDE_NUM': 22.0, 'MIDNIGHT_ALIGHT_NUM': 7289.0, 'ONE_RIDE_NUM': 0.0, 'ONE_ALIGHT_NUM': 1.0, 'TWO_RIDE_NUM': 0.0, 'TWO_ALIGHT_NUM': 0.0, 'THREE_RIDE_NUM': 0.0, 'THREE_ALIGHT_NUM': 0.0, 'WORK_DT': '20210703'}]}}\n",
      "{'CardSubwayTime': {'list_total_count': 608, 'RESULT': {'CODE': 'INFO-000', 'MESSAGE': '정상 처리되었습니다'}, 'row': [{'USE_MON': '202106', 'LINE_NUM': '2호선', 'SUB_STA_NM': '문래', 'FOUR_RIDE_NUM': 12.0, 'FOUR_ALIGHT_NUM': 0.0, 'FIVE_RIDE_NUM': 3750.0, 'FIVE_ALIGHT_NUM': 2246.0, 'SIX_RIDE_NUM': 13425.0, 'SIX_ALIGHT_NUM': 10424.0, 'SEVEN_RIDE_NUM': 42587.0, 'SEVEN_ALIGHT_NUM': 35904.0, 'EIGHT_RIDE_NUM': 46699.0, 'EIGHT_ALIGHT_NUM': 124013.0, 'NINE_RIDE_NUM': 25361.0, 'NINE_ALIGHT_NUM': 54728.0, 'TEN_RIDE_NUM': 17682.0, 'TEN_ALIGHT_NUM': 21707.0, 'ELEVEN_RIDE_NUM': 17109.0, 'ELEVEN_ALIGHT_NUM': 18746.0, 'TWELVE_RIDE_NUM': 19191.0, 'TWELVE_ALIGHT_NUM': 21015.0, 'THIRTEEN_RIDE_NUM': 21095.0, 'THIRTEEN_ALIGHT_NUM': 21885.0, 'FOURTEEN_RIDE_NUM': 21179.0, 'FOURTEEN_ALIGHT_NUM': 20881.0, 'FIFTEEN_RIDE_NUM': 23904.0, 'FIFTEEN_ALIGHT_NUM': 22436.0, 'SIXTEEN_RIDE_NUM': 29692.0, 'SIXTEEN_ALIGHT_NUM': 25703.0, 'SEVENTEEN_RIDE_NUM': 53988.0, 'SEVENTEEN_ALIGHT_NUM': 33613.0, 'EIGHTEEN_RIDE_NUM': 103006.0, 'EIGHTEEN_ALIGHT_NUM': 55422.0, 'NINETEEN_RIDE_NUM': 35687.0, 'NINETEEN_ALIGHT_NUM': 38466.0, 'TWENTY_RIDE_NUM': 24287.0, 'TWENTY_ALIGHT_NUM': 19248.0, 'TWENTY_ONE_RIDE_NUM': 27139.0, 'TWENTY_ONE_ALIGHT_NUM': 17526.0, 'TWENTY_TWO_RIDE_NUM': 25190.0, 'TWENTY_TWO_ALIGHT_NUM': 20479.0, 'TWENTY_THREE_RIDE_NUM': 3860.0, 'TWENTY_THREE_ALIGHT_NUM': 7474.0, 'MIDNIGHT_RIDE_NUM': 3.0, 'MIDNIGHT_ALIGHT_NUM': 212.0, 'ONE_RIDE_NUM': 0.0, 'ONE_ALIGHT_NUM': 0.0, 'TWO_RIDE_NUM': 1.0, 'TWO_ALIGHT_NUM': 1.0, 'THREE_RIDE_NUM': 0.0, 'THREE_ALIGHT_NUM': 0.0, 'WORK_DT': '20210703'}, {'USE_MON': '202106', 'LINE_NUM': '2호선', 'SUB_STA_NM': '영등포구청', 'FOUR_RIDE_NUM': 27.0, 'FOUR_ALIGHT_NUM': 0.0, 'FIVE_RIDE_NUM': 5705.0, 'FIVE_ALIGHT_NUM': 2986.0, 'SIX_RIDE_NUM': 12736.0, 'SIX_ALIGHT_NUM': 14512.0, 'SEVEN_RIDE_NUM': 40313.0, 'SEVEN_ALIGHT_NUM': 37627.0, 'EIGHT_RIDE_NUM': 47132.0, 'EIGHT_ALIGHT_NUM': 125800.0, 'NINE_RIDE_NUM': 29459.0, 'NINE_ALIGHT_NUM': 55573.0, 'TEN_RIDE_NUM': 22530.0, 'TEN_ALIGHT_NUM': 26225.0, 'ELEVEN_RIDE_NUM': 23320.0, 'ELEVEN_ALIGHT_NUM': 22196.0, 'TWELVE_RIDE_NUM': 24712.0, 'TWELVE_ALIGHT_NUM': 23126.0, 'THIRTEEN_RIDE_NUM': 25591.0, 'THIRTEEN_ALIGHT_NUM': 25375.0, 'FOURTEEN_RIDE_NUM': 26375.0, 'FOURTEEN_ALIGHT_NUM': 23438.0, 'FIFTEEN_RIDE_NUM': 28402.0, 'FIFTEEN_ALIGHT_NUM': 24023.0, 'SIXTEEN_RIDE_NUM': 34762.0, 'SIXTEEN_ALIGHT_NUM': 26909.0, 'SEVENTEEN_RIDE_NUM': 54915.0, 'SEVENTEEN_ALIGHT_NUM': 33336.0, 'EIGHTEEN_RIDE_NUM': 107795.0, 'EIGHTEEN_ALIGHT_NUM': 52769.0, 'NINETEEN_RIDE_NUM': 33349.0, 'NINETEEN_ALIGHT_NUM': 35452.0, 'TWENTY_RIDE_NUM': 24451.0, 'TWENTY_ALIGHT_NUM': 19737.0, 'TWENTY_ONE_RIDE_NUM': 25942.0, 'TWENTY_ONE_ALIGHT_NUM': 19127.0, 'TWENTY_TWO_RIDE_NUM': 20561.0, 'TWENTY_TWO_ALIGHT_NUM': 21730.0, 'TWENTY_THREE_RIDE_NUM': 3850.0, 'TWENTY_THREE_ALIGHT_NUM': 9464.0, 'MIDNIGHT_RIDE_NUM': 1.0, 'MIDNIGHT_ALIGHT_NUM': 244.0, 'ONE_RIDE_NUM': 0.0, 'ONE_ALIGHT_NUM': 0.0, 'TWO_RIDE_NUM': 1.0, 'TWO_ALIGHT_NUM': 1.0, 'THREE_RIDE_NUM': 0.0, 'THREE_ALIGHT_NUM': 0.0, 'WORK_DT': '20210703'}, {'USE_MON': '202106', 'LINE_NUM': '2호선', 'SUB_STA_NM': '당산', 'FOUR_RIDE_NUM': 44.0, 'FOUR_ALIGHT_NUM': 4.0, 'FIVE_RIDE_NUM': 6576.0, 'FIVE_ALIGHT_NUM': 3109.0, 'SIX_RIDE_NUM': 17276.0, 'SIX_ALIGHT_NUM': 12432.0, 'SEVEN_RIDE_NUM': 45774.0, 'SEVEN_ALIGHT_NUM': 29933.0, 'EIGHT_RIDE_NUM': 55760.0, 'EIGHT_ALIGHT_NUM': 78083.0, 'NINE_RIDE_NUM': 31967.0, 'NINE_ALIGHT_NUM': 37339.0, 'TEN_RIDE_NUM': 21461.0, 'TEN_ALIGHT_NUM': 18344.0, 'ELEVEN_RIDE_NUM': 20442.0, 'ELEVEN_ALIGHT_NUM': 16913.0, 'TWELVE_RIDE_NUM': 21169.0, 'TWELVE_ALIGHT_NUM': 18874.0, 'THIRTEEN_RIDE_NUM': 21111.0, 'THIRTEEN_ALIGHT_NUM': 21079.0, 'FOURTEEN_RIDE_NUM': 20485.0, 'FOURTEEN_ALIGHT_NUM': 20677.0, 'FIFTEEN_RIDE_NUM': 22033.0, 'FIFTEEN_ALIGHT_NUM': 22902.0, 'SIXTEEN_RIDE_NUM': 25602.0, 'SIXTEEN_ALIGHT_NUM': 28613.0, 'SEVENTEEN_RIDE_NUM': 40176.0, 'SEVENTEEN_ALIGHT_NUM': 43049.0, 'EIGHTEEN_RIDE_NUM': 60343.0, 'EIGHTEEN_ALIGHT_NUM': 73469.0, 'NINETEEN_RIDE_NUM': 26398.0, 'NINETEEN_ALIGHT_NUM': 48000.0, 'TWENTY_RIDE_NUM': 19514.0, 'TWENTY_ALIGHT_NUM': 29505.0, 'TWENTY_ONE_RIDE_NUM': 22644.0, 'TWENTY_ONE_ALIGHT_NUM': 29942.0, 'TWENTY_TWO_RIDE_NUM': 21194.0, 'TWENTY_TWO_ALIGHT_NUM': 33814.0, 'TWENTY_THREE_RIDE_NUM': 4488.0, 'TWENTY_THREE_ALIGHT_NUM': 13350.0, 'MIDNIGHT_RIDE_NUM': 1.0, 'MIDNIGHT_ALIGHT_NUM': 205.0, 'ONE_RIDE_NUM': 0.0, 'ONE_ALIGHT_NUM': 0.0, 'TWO_RIDE_NUM': 0.0, 'TWO_ALIGHT_NUM': 0.0, 'THREE_RIDE_NUM': 0.0, 'THREE_ALIGHT_NUM': 0.0, 'WORK_DT': '20210703'}, {'USE_MON': '202106', 'LINE_NUM': '2호선', 'SUB_STA_NM': '합정', 'FOUR_RIDE_NUM': 47.0, 'FOUR_ALIGHT_NUM': 2.0, 'FIVE_RIDE_NUM': 7414.0, 'FIVE_ALIGHT_NUM': 2808.0, 'SIX_RIDE_NUM': 17437.0, 'SIX_ALIGHT_NUM': 15301.0, 'SEVEN_RIDE_NUM': 43598.0, 'SEVEN_ALIGHT_NUM': 33017.0, 'EIGHT_RIDE_NUM': 55771.0, 'EIGHT_ALIGHT_NUM': 93190.0, 'NINE_RIDE_NUM': 35421.0, 'NINE_ALIGHT_NUM': 78212.0, 'TEN_RIDE_NUM': 24762.0, 'TEN_ALIGHT_NUM': 42091.0, 'ELEVEN_RIDE_NUM': 25478.0, 'ELEVEN_ALIGHT_NUM': 41869.0, 'TWELVE_RIDE_NUM': 30047.0, 'TWELVE_ALIGHT_NUM': 44826.0, 'THIRTEEN_RIDE_NUM': 34181.0, 'THIRTEEN_ALIGHT_NUM': 50083.0, 'FOURTEEN_RIDE_NUM': 36463.0, 'FOURTEEN_ALIGHT_NUM': 46082.0, 'FIFTEEN_RIDE_NUM': 39489.0, 'FIFTEEN_ALIGHT_NUM': 45705.0, 'SIXTEEN_RIDE_NUM': 48306.0, 'SIXTEEN_ALIGHT_NUM': 53862.0, 'SEVENTEEN_RIDE_NUM': 66284.0, 'SEVENTEEN_ALIGHT_NUM': 69937.0, 'EIGHTEEN_RIDE_NUM': 108858.0, 'EIGHTEEN_ALIGHT_NUM': 106646.0, 'NINETEEN_RIDE_NUM': 69362.0, 'NINETEEN_ALIGHT_NUM': 67275.0, 'TWENTY_RIDE_NUM': 53213.0, 'TWENTY_ALIGHT_NUM': 32572.0, 'TWENTY_ONE_RIDE_NUM': 70916.0, 'TWENTY_ONE_ALIGHT_NUM': 27357.0, 'TWENTY_TWO_RIDE_NUM': 72126.0, 'TWENTY_TWO_ALIGHT_NUM': 30239.0, 'TWENTY_THREE_RIDE_NUM': 11881.0, 'TWENTY_THREE_ALIGHT_NUM': 14074.0, 'MIDNIGHT_RIDE_NUM': 1.0, 'MIDNIGHT_ALIGHT_NUM': 527.0, 'ONE_RIDE_NUM': 0.0, 'ONE_ALIGHT_NUM': 0.0, 'TWO_RIDE_NUM': 0.0, 'TWO_ALIGHT_NUM': 0.0, 'THREE_RIDE_NUM': 0.0, 'THREE_ALIGHT_NUM': 0.0, 'WORK_DT': '20210703'}, {'USE_MON': '202106', 'LINE_NUM': '2호선', 'SUB_STA_NM': '홍대입구', 'FOUR_RIDE_NUM': 258.0, 'FOUR_ALIGHT_NUM': 10.0, 'FIVE_RIDE_NUM': 11271.0, 'FIVE_ALIGHT_NUM': 2975.0, 'SIX_RIDE_NUM': 20930.0, 'SIX_ALIGHT_NUM': 14080.0, 'SEVEN_RIDE_NUM': 56687.0, 'SEVEN_ALIGHT_NUM': 34231.0, 'EIGHT_RIDE_NUM': 74842.0, 'EIGHT_ALIGHT_NUM': 96590.0, 'NINE_RIDE_NUM': 46502.0, 'NINE_ALIGHT_NUM': 105606.0, 'TEN_RIDE_NUM': 34996.0, 'TEN_ALIGHT_NUM': 74012.0, 'ELEVEN_RIDE_NUM': 40033.0, 'ELEVEN_ALIGHT_NUM': 82452.0, 'TWELVE_RIDE_NUM': 50771.0, 'TWELVE_ALIGHT_NUM': 103474.0, 'THIRTEEN_RIDE_NUM': 59356.0, 'THIRTEEN_ALIGHT_NUM': 113715.0, 'FOURTEEN_RIDE_NUM': 64308.0, 'FOURTEEN_ALIGHT_NUM': 109893.0, 'FIFTEEN_RIDE_NUM': 79136.0, 'FIFTEEN_ALIGHT_NUM': 112375.0, 'SIXTEEN_RIDE_NUM': 98663.0, 'SIXTEEN_ALIGHT_NUM': 120598.0, 'SEVENTEEN_RIDE_NUM': 121883.0, 'SEVENTEEN_ALIGHT_NUM': 143318.0, 'EIGHTEEN_RIDE_NUM': 152578.0, 'EIGHTEEN_ALIGHT_NUM': 181911.0, 'NINETEEN_RIDE_NUM': 116775.0, 'NINETEEN_ALIGHT_NUM': 115297.0, 'TWENTY_RIDE_NUM': 116231.0, 'TWENTY_ALIGHT_NUM': 53077.0, 'TWENTY_ONE_RIDE_NUM': 167876.0, 'TWENTY_ONE_ALIGHT_NUM': 39418.0, 'TWENTY_TWO_RIDE_NUM': 168232.0, 'TWENTY_TWO_ALIGHT_NUM': 44748.0, 'TWENTY_THREE_RIDE_NUM': 25242.0, 'TWENTY_THREE_ALIGHT_NUM': 22255.0, 'MIDNIGHT_RIDE_NUM': 124.0, 'MIDNIGHT_ALIGHT_NUM': 2378.0, 'ONE_RIDE_NUM': 0.0, 'ONE_ALIGHT_NUM': 0.0, 'TWO_RIDE_NUM': 0.0, 'TWO_ALIGHT_NUM': 0.0, 'THREE_RIDE_NUM': 0.0, 'THREE_ALIGHT_NUM': 0.0, 'WORK_DT': '20210703'}]}}\n",
      "{'CardSubwayTime': {'list_total_count': 608, 'RESULT': {'CODE': 'INFO-000', 'MESSAGE': '정상 처리되었습니다'}, 'row': [{'USE_MON': '202106', 'LINE_NUM': '2호선', 'SUB_STA_NM': '신촌', 'FOUR_RIDE_NUM': 45.0, 'FOUR_ALIGHT_NUM': 5.0, 'FIVE_RIDE_NUM': 5155.0, 'FIVE_ALIGHT_NUM': 2658.0, 'SIX_RIDE_NUM': 12632.0, 'SIX_ALIGHT_NUM': 16932.0, 'SEVEN_RIDE_NUM': 32080.0, 'SEVEN_ALIGHT_NUM': 34803.0, 'EIGHT_RIDE_NUM': 47287.0, 'EIGHT_ALIGHT_NUM': 79059.0, 'NINE_RIDE_NUM': 31859.0, 'NINE_ALIGHT_NUM': 83949.0, 'TEN_RIDE_NUM': 30307.0, 'TEN_ALIGHT_NUM': 51902.0, 'ELEVEN_RIDE_NUM': 36286.0, 'ELEVEN_ALIGHT_NUM': 48479.0, 'TWELVE_RIDE_NUM': 44464.0, 'TWELVE_ALIGHT_NUM': 51072.0, 'THIRTEEN_RIDE_NUM': 45463.0, 'THIRTEEN_ALIGHT_NUM': 59148.0, 'FOURTEEN_RIDE_NUM': 47783.0, 'FOURTEEN_ALIGHT_NUM': 52561.0, 'FIFTEEN_RIDE_NUM': 54454.0, 'FIFTEEN_ALIGHT_NUM': 48663.0, 'SIXTEEN_RIDE_NUM': 66062.0, 'SIXTEEN_ALIGHT_NUM': 51086.0, 'SEVENTEEN_RIDE_NUM': 83434.0, 'SEVENTEEN_ALIGHT_NUM': 66157.0, 'EIGHTEEN_RIDE_NUM': 82902.0, 'EIGHTEEN_ALIGHT_NUM': 94670.0, 'NINETEEN_RIDE_NUM': 55226.0, 'NINETEEN_ALIGHT_NUM': 59135.0, 'TWENTY_RIDE_NUM': 56671.0, 'TWENTY_ALIGHT_NUM': 30481.0, 'TWENTY_ONE_RIDE_NUM': 68028.0, 'TWENTY_ONE_ALIGHT_NUM': 26934.0, 'TWENTY_TWO_RIDE_NUM': 67720.0, 'TWENTY_TWO_ALIGHT_NUM': 30707.0, 'TWENTY_THREE_RIDE_NUM': 11498.0, 'TWENTY_THREE_ALIGHT_NUM': 13593.0, 'MIDNIGHT_RIDE_NUM': 2.0, 'MIDNIGHT_ALIGHT_NUM': 34.0, 'ONE_RIDE_NUM': 0.0, 'ONE_ALIGHT_NUM': 0.0, 'TWO_RIDE_NUM': 0.0, 'TWO_ALIGHT_NUM': 0.0, 'THREE_RIDE_NUM': 0.0, 'THREE_ALIGHT_NUM': 0.0, 'WORK_DT': '20210703'}, {'USE_MON': '202106', 'LINE_NUM': '2호선', 'SUB_STA_NM': '이대', 'FOUR_RIDE_NUM': 42.0, 'FOUR_ALIGHT_NUM': 0.0, 'FIVE_RIDE_NUM': 2869.0, 'FIVE_ALIGHT_NUM': 937.0, 'SIX_RIDE_NUM': 7826.0, 'SIX_ALIGHT_NUM': 8410.0, 'SEVEN_RIDE_NUM': 22937.0, 'SEVEN_ALIGHT_NUM': 11659.0, 'EIGHT_RIDE_NUM': 30568.0, 'EIGHT_ALIGHT_NUM': 32022.0, 'NINE_RIDE_NUM': 17650.0, 'NINE_ALIGHT_NUM': 30159.0, 'TEN_RIDE_NUM': 12793.0, 'TEN_ALIGHT_NUM': 20037.0, 'ELEVEN_RIDE_NUM': 14108.0, 'ELEVEN_ALIGHT_NUM': 17256.0, 'TWELVE_RIDE_NUM': 18160.0, 'TWELVE_ALIGHT_NUM': 19314.0, 'THIRTEEN_RIDE_NUM': 19600.0, 'THIRTEEN_ALIGHT_NUM': 22706.0, 'FOURTEEN_RIDE_NUM': 18499.0, 'FOURTEEN_ALIGHT_NUM': 18742.0, 'FIFTEEN_RIDE_NUM': 20924.0, 'FIFTEEN_ALIGHT_NUM': 17942.0, 'SIXTEEN_RIDE_NUM': 26625.0, 'SIXTEEN_ALIGHT_NUM': 18921.0, 'SEVENTEEN_RIDE_NUM': 34455.0, 'SEVENTEEN_ALIGHT_NUM': 23118.0, 'EIGHTEEN_RIDE_NUM': 30259.0, 'EIGHTEEN_ALIGHT_NUM': 34733.0, 'NINETEEN_RIDE_NUM': 18485.0, 'NINETEEN_ALIGHT_NUM': 25103.0, 'TWENTY_RIDE_NUM': 15316.0, 'TWENTY_ALIGHT_NUM': 14626.0, 'TWENTY_ONE_RIDE_NUM': 16280.0, 'TWENTY_ONE_ALIGHT_NUM': 15711.0, 'TWENTY_TWO_RIDE_NUM': 12816.0, 'TWENTY_TWO_ALIGHT_NUM': 18471.0, 'TWENTY_THREE_RIDE_NUM': 3166.0, 'TWENTY_THREE_ALIGHT_NUM': 8622.0, 'MIDNIGHT_RIDE_NUM': 0.0, 'MIDNIGHT_ALIGHT_NUM': 27.0, 'ONE_RIDE_NUM': 0.0, 'ONE_ALIGHT_NUM': 0.0, 'TWO_RIDE_NUM': 0.0, 'TWO_ALIGHT_NUM': 0.0, 'THREE_RIDE_NUM': 0.0, 'THREE_ALIGHT_NUM': 0.0, 'WORK_DT': '20210703'}, {'USE_MON': '202106', 'LINE_NUM': '2호선', 'SUB_STA_NM': '아현', 'FOUR_RIDE_NUM': 13.0, 'FOUR_ALIGHT_NUM': 0.0, 'FIVE_RIDE_NUM': 4278.0, 'FIVE_ALIGHT_NUM': 1123.0, 'SIX_RIDE_NUM': 10960.0, 'SIX_ALIGHT_NUM': 8038.0, 'SEVEN_RIDE_NUM': 27259.0, 'SEVEN_ALIGHT_NUM': 13636.0, 'EIGHT_RIDE_NUM': 37421.0, 'EIGHT_ALIGHT_NUM': 23524.0, 'NINE_RIDE_NUM': 21384.0, 'NINE_ALIGHT_NUM': 11943.0, 'TEN_RIDE_NUM': 15030.0, 'TEN_ALIGHT_NUM': 9646.0, 'ELEVEN_RIDE_NUM': 14067.0, 'ELEVEN_ALIGHT_NUM': 9337.0, 'TWELVE_RIDE_NUM': 14194.0, 'TWELVE_ALIGHT_NUM': 10531.0, 'THIRTEEN_RIDE_NUM': 14108.0, 'THIRTEEN_ALIGHT_NUM': 11702.0, 'FOURTEEN_RIDE_NUM': 12805.0, 'FOURTEEN_ALIGHT_NUM': 12345.0, 'FIFTEEN_RIDE_NUM': 14661.0, 'FIFTEEN_ALIGHT_NUM': 13774.0, 'SIXTEEN_RIDE_NUM': 24890.0, 'SIXTEEN_ALIGHT_NUM': 15539.0, 'SEVENTEEN_RIDE_NUM': 18968.0, 'SEVENTEEN_ALIGHT_NUM': 20896.0, 'EIGHTEEN_RIDE_NUM': 19595.0, 'EIGHTEEN_ALIGHT_NUM': 31469.0, 'NINETEEN_RIDE_NUM': 11414.0, 'NINETEEN_ALIGHT_NUM': 23769.0, 'TWENTY_RIDE_NUM': 8007.0, 'TWENTY_ALIGHT_NUM': 14525.0, 'TWENTY_ONE_RIDE_NUM': 7237.0, 'TWENTY_ONE_ALIGHT_NUM': 14830.0, 'TWENTY_TWO_RIDE_NUM': 4964.0, 'TWENTY_TWO_ALIGHT_NUM': 16615.0, 'TWENTY_THREE_RIDE_NUM': 1332.0, 'TWENTY_THREE_ALIGHT_NUM': 6768.0, 'MIDNIGHT_RIDE_NUM': 4.0, 'MIDNIGHT_ALIGHT_NUM': 23.0, 'ONE_RIDE_NUM': 1.0, 'ONE_ALIGHT_NUM': 1.0, 'TWO_RIDE_NUM': 0.0, 'TWO_ALIGHT_NUM': 0.0, 'THREE_RIDE_NUM': 0.0, 'THREE_ALIGHT_NUM': 0.0, 'WORK_DT': '20210703'}, {'USE_MON': '202106', 'LINE_NUM': '2호선', 'SUB_STA_NM': '충정로(경기대입구)', 'FOUR_RIDE_NUM': 40.0, 'FOUR_ALIGHT_NUM': 1.0, 'FIVE_RIDE_NUM': 2996.0, 'FIVE_ALIGHT_NUM': 988.0, 'SIX_RIDE_NUM': 6449.0, 'SIX_ALIGHT_NUM': 5980.0, 'SEVEN_RIDE_NUM': 15546.0, 'SEVEN_ALIGHT_NUM': 20718.0, 'EIGHT_RIDE_NUM': 21518.0, 'EIGHT_ALIGHT_NUM': 61118.0, 'NINE_RIDE_NUM': 13443.0, 'NINE_ALIGHT_NUM': 27185.0, 'TEN_RIDE_NUM': 9697.0, 'TEN_ALIGHT_NUM': 12084.0, 'ELEVEN_RIDE_NUM': 10390.0, 'ELEVEN_ALIGHT_NUM': 9914.0, 'TWELVE_RIDE_NUM': 10752.0, 'TWELVE_ALIGHT_NUM': 10022.0, 'THIRTEEN_RIDE_NUM': 11911.0, 'THIRTEEN_ALIGHT_NUM': 11565.0, 'FOURTEEN_RIDE_NUM': 12254.0, 'FOURTEEN_ALIGHT_NUM': 10218.0, 'FIFTEEN_RIDE_NUM': 13381.0, 'FIFTEEN_ALIGHT_NUM': 10325.0, 'SIXTEEN_RIDE_NUM': 16491.0, 'SIXTEEN_ALIGHT_NUM': 11216.0, 'SEVENTEEN_RIDE_NUM': 24827.0, 'SEVENTEEN_ALIGHT_NUM': 14174.0, 'EIGHTEEN_RIDE_NUM': 49566.0, 'EIGHTEEN_ALIGHT_NUM': 20957.0, 'NINETEEN_RIDE_NUM': 14290.0, 'NINETEEN_ALIGHT_NUM': 14274.0, 'TWENTY_RIDE_NUM': 9212.0, 'TWENTY_ALIGHT_NUM': 8829.0, 'TWENTY_ONE_RIDE_NUM': 9205.0, 'TWENTY_ONE_ALIGHT_NUM': 9321.0, 'TWENTY_TWO_RIDE_NUM': 8085.0, 'TWENTY_TWO_ALIGHT_NUM': 11133.0, 'TWENTY_THREE_RIDE_NUM': 1326.0, 'TWENTY_THREE_ALIGHT_NUM': 4264.0, 'MIDNIGHT_RIDE_NUM': 0.0, 'MIDNIGHT_ALIGHT_NUM': 81.0, 'ONE_RIDE_NUM': 0.0, 'ONE_ALIGHT_NUM': 0.0, 'TWO_RIDE_NUM': 0.0, 'TWO_ALIGHT_NUM': 0.0, 'THREE_RIDE_NUM': 0.0, 'THREE_ALIGHT_NUM': 0.0, 'WORK_DT': '20210703'}, {'USE_MON': '202106', 'LINE_NUM': '2호선', 'SUB_STA_NM': '용답', 'FOUR_RIDE_NUM': 13.0, 'FOUR_ALIGHT_NUM': 1.0, 'FIVE_RIDE_NUM': 2624.0, 'FIVE_ALIGHT_NUM': 225.0, 'SIX_RIDE_NUM': 3290.0, 'SIX_ALIGHT_NUM': 862.0, 'SEVEN_RIDE_NUM': 7516.0, 'SEVEN_ALIGHT_NUM': 1738.0, 'EIGHT_RIDE_NUM': 12261.0, 'EIGHT_ALIGHT_NUM': 3315.0, 'NINE_RIDE_NUM': 6720.0, 'NINE_ALIGHT_NUM': 2281.0, 'TEN_RIDE_NUM': 4215.0, 'TEN_ALIGHT_NUM': 2452.0, 'ELEVEN_RIDE_NUM': 3594.0, 'ELEVEN_ALIGHT_NUM': 2592.0, 'TWELVE_RIDE_NUM': 3847.0, 'TWELVE_ALIGHT_NUM': 2951.0, 'THIRTEEN_RIDE_NUM': 4176.0, 'THIRTEEN_ALIGHT_NUM': 3147.0, 'FOURTEEN_RIDE_NUM': 3634.0, 'FOURTEEN_ALIGHT_NUM': 3078.0, 'FIFTEEN_RIDE_NUM': 3695.0, 'FIFTEEN_ALIGHT_NUM': 4231.0, 'SIXTEEN_RIDE_NUM': 4032.0, 'SIXTEEN_ALIGHT_NUM': 5310.0, 'SEVENTEEN_RIDE_NUM': 4260.0, 'SEVENTEEN_ALIGHT_NUM': 6139.0, 'EIGHTEEN_RIDE_NUM': 3667.0, 'EIGHTEEN_ALIGHT_NUM': 9809.0, 'NINETEEN_RIDE_NUM': 2160.0, 'NINETEEN_ALIGHT_NUM': 6833.0, 'TWENTY_RIDE_NUM': 1422.0, 'TWENTY_ALIGHT_NUM': 4289.0, 'TWENTY_ONE_RIDE_NUM': 1172.0, 'TWENTY_ONE_ALIGHT_NUM': 5502.0, 'TWENTY_TWO_RIDE_NUM': 1156.0, 'TWENTY_TWO_ALIGHT_NUM': 5940.0, 'TWENTY_THREE_RIDE_NUM': 339.0, 'TWENTY_THREE_ALIGHT_NUM': 2488.0, 'MIDNIGHT_RIDE_NUM': 1.0, 'MIDNIGHT_ALIGHT_NUM': 1.0, 'ONE_RIDE_NUM': 0.0, 'ONE_ALIGHT_NUM': 0.0, 'TWO_RIDE_NUM': 2.0, 'TWO_ALIGHT_NUM': 2.0, 'THREE_RIDE_NUM': 0.0, 'THREE_ALIGHT_NUM': 0.0, 'WORK_DT': '20210703'}]}}\n",
      "{'CardSubwayTime': {'list_total_count': 608, 'RESULT': {'CODE': 'INFO-000', 'MESSAGE': '정상 처리되었습니다'}, 'row': [{'USE_MON': '202106', 'LINE_NUM': '2호선', 'SUB_STA_NM': '신답', 'FOUR_RIDE_NUM': 4.0, 'FOUR_ALIGHT_NUM': 1.0, 'FIVE_RIDE_NUM': 1052.0, 'FIVE_ALIGHT_NUM': 100.0, 'SIX_RIDE_NUM': 1755.0, 'SIX_ALIGHT_NUM': 487.0, 'SEVEN_RIDE_NUM': 6550.0, 'SEVEN_ALIGHT_NUM': 890.0, 'EIGHT_RIDE_NUM': 9858.0, 'EIGHT_ALIGHT_NUM': 1699.0, 'NINE_RIDE_NUM': 4205.0, 'NINE_ALIGHT_NUM': 1080.0, 'TEN_RIDE_NUM': 2180.0, 'TEN_ALIGHT_NUM': 1003.0, 'ELEVEN_RIDE_NUM': 1950.0, 'ELEVEN_ALIGHT_NUM': 1173.0, 'TWELVE_RIDE_NUM': 1808.0, 'TWELVE_ALIGHT_NUM': 1344.0, 'THIRTEEN_RIDE_NUM': 1767.0, 'THIRTEEN_ALIGHT_NUM': 1436.0, 'FOURTEEN_RIDE_NUM': 1594.0, 'FOURTEEN_ALIGHT_NUM': 1647.0, 'FIFTEEN_RIDE_NUM': 1488.0, 'FIFTEEN_ALIGHT_NUM': 2382.0, 'SIXTEEN_RIDE_NUM': 1682.0, 'SIXTEEN_ALIGHT_NUM': 3189.0, 'SEVENTEEN_RIDE_NUM': 1769.0, 'SEVENTEEN_ALIGHT_NUM': 4230.0, 'EIGHTEEN_RIDE_NUM': 2233.0, 'EIGHTEEN_ALIGHT_NUM': 9703.0, 'NINETEEN_RIDE_NUM': 976.0, 'NINETEEN_ALIGHT_NUM': 6552.0, 'TWENTY_RIDE_NUM': 589.0, 'TWENTY_ALIGHT_NUM': 3222.0, 'TWENTY_ONE_RIDE_NUM': 546.0, 'TWENTY_ONE_ALIGHT_NUM': 3377.0, 'TWENTY_TWO_RIDE_NUM': 534.0, 'TWENTY_TWO_ALIGHT_NUM': 3394.0, 'TWENTY_THREE_RIDE_NUM': 87.0, 'TWENTY_THREE_ALIGHT_NUM': 1709.0, 'MIDNIGHT_RIDE_NUM': 0.0, 'MIDNIGHT_ALIGHT_NUM': 9.0, 'ONE_RIDE_NUM': 0.0, 'ONE_ALIGHT_NUM': 0.0, 'TWO_RIDE_NUM': 0.0, 'TWO_ALIGHT_NUM': 0.0, 'THREE_RIDE_NUM': 0.0, 'THREE_ALIGHT_NUM': 0.0, 'WORK_DT': '20210703'}, {'USE_MON': '202106', 'LINE_NUM': '2호선', 'SUB_STA_NM': '신설동', 'FOUR_RIDE_NUM': 35.0, 'FOUR_ALIGHT_NUM': 0.0, 'FIVE_RIDE_NUM': 1067.0, 'FIVE_ALIGHT_NUM': 383.0, 'SIX_RIDE_NUM': 1310.0, 'SIX_ALIGHT_NUM': 2273.0, 'SEVEN_RIDE_NUM': 3601.0, 'SEVEN_ALIGHT_NUM': 5566.0, 'EIGHT_RIDE_NUM': 6334.0, 'EIGHT_ALIGHT_NUM': 13082.0, 'NINE_RIDE_NUM': 4054.0, 'NINE_ALIGHT_NUM': 8209.0, 'TEN_RIDE_NUM': 3804.0, 'TEN_ALIGHT_NUM': 5939.0, 'ELEVEN_RIDE_NUM': 4649.0, 'ELEVEN_ALIGHT_NUM': 6264.0, 'TWELVE_RIDE_NUM': 5669.0, 'TWELVE_ALIGHT_NUM': 6076.0, 'THIRTEEN_RIDE_NUM': 6277.0, 'THIRTEEN_ALIGHT_NUM': 6188.0, 'FOURTEEN_RIDE_NUM': 6827.0, 'FOURTEEN_ALIGHT_NUM': 5461.0, 'FIFTEEN_RIDE_NUM': 7516.0, 'FIFTEEN_ALIGHT_NUM': 5089.0, 'SIXTEEN_RIDE_NUM': 7728.0, 'SIXTEEN_ALIGHT_NUM': 4245.0, 'SEVENTEEN_RIDE_NUM': 10802.0, 'SEVENTEEN_ALIGHT_NUM': 4796.0, 'EIGHTEEN_RIDE_NUM': 10839.0, 'EIGHTEEN_ALIGHT_NUM': 5544.0, 'NINETEEN_RIDE_NUM': 4287.0, 'NINETEEN_ALIGHT_NUM': 3970.0, 'TWENTY_RIDE_NUM': 2653.0, 'TWENTY_ALIGHT_NUM': 2287.0, 'TWENTY_ONE_RIDE_NUM': 2313.0, 'TWENTY_ONE_ALIGHT_NUM': 2061.0, 'TWENTY_TWO_RIDE_NUM': 1738.0, 'TWENTY_TWO_ALIGHT_NUM': 2598.0, 'TWENTY_THREE_RIDE_NUM': 397.0, 'TWENTY_THREE_ALIGHT_NUM': 1208.0, 'MIDNIGHT_RIDE_NUM': 0.0, 'MIDNIGHT_ALIGHT_NUM': 239.0, 'ONE_RIDE_NUM': 0.0, 'ONE_ALIGHT_NUM': 1.0, 'TWO_RIDE_NUM': 0.0, 'TWO_ALIGHT_NUM': 0.0, 'THREE_RIDE_NUM': 0.0, 'THREE_ALIGHT_NUM': 0.0, 'WORK_DT': '20210703'}, {'USE_MON': '202106', 'LINE_NUM': '2호선', 'SUB_STA_NM': '도림천', 'FOUR_RIDE_NUM': 0.0, 'FOUR_ALIGHT_NUM': 0.0, 'FIVE_RIDE_NUM': 263.0, 'FIVE_ALIGHT_NUM': 320.0, 'SIX_RIDE_NUM': 1272.0, 'SIX_ALIGHT_NUM': 833.0, 'SEVEN_RIDE_NUM': 3182.0, 'SEVEN_ALIGHT_NUM': 4678.0, 'EIGHT_RIDE_NUM': 3286.0, 'EIGHT_ALIGHT_NUM': 6326.0, 'NINE_RIDE_NUM': 2138.0, 'NINE_ALIGHT_NUM': 2308.0, 'TEN_RIDE_NUM': 1836.0, 'TEN_ALIGHT_NUM': 1521.0, 'ELEVEN_RIDE_NUM': 1620.0, 'ELEVEN_ALIGHT_NUM': 1305.0, 'TWELVE_RIDE_NUM': 2489.0, 'TWELVE_ALIGHT_NUM': 1941.0, 'THIRTEEN_RIDE_NUM': 1670.0, 'THIRTEEN_ALIGHT_NUM': 1452.0, 'FOURTEEN_RIDE_NUM': 2297.0, 'FOURTEEN_ALIGHT_NUM': 1815.0, 'FIFTEEN_RIDE_NUM': 2844.0, 'FIFTEEN_ALIGHT_NUM': 1503.0, 'SIXTEEN_RIDE_NUM': 3086.0, 'SIXTEEN_ALIGHT_NUM': 1761.0, 'SEVENTEEN_RIDE_NUM': 2962.0, 'SEVENTEEN_ALIGHT_NUM': 2276.0, 'EIGHTEEN_RIDE_NUM': 4158.0, 'EIGHTEEN_ALIGHT_NUM': 2852.0, 'NINETEEN_RIDE_NUM': 1918.0, 'NINETEEN_ALIGHT_NUM': 2584.0, 'TWENTY_RIDE_NUM': 950.0, 'TWENTY_ALIGHT_NUM': 1506.0, 'TWENTY_ONE_RIDE_NUM': 879.0, 'TWENTY_ONE_ALIGHT_NUM': 1366.0, 'TWENTY_TWO_RIDE_NUM': 489.0, 'TWENTY_TWO_ALIGHT_NUM': 1445.0, 'TWENTY_THREE_RIDE_NUM': 151.0, 'TWENTY_THREE_ALIGHT_NUM': 669.0, 'MIDNIGHT_RIDE_NUM': 3.0, 'MIDNIGHT_ALIGHT_NUM': 50.0, 'ONE_RIDE_NUM': 0.0, 'ONE_ALIGHT_NUM': 0.0, 'TWO_RIDE_NUM': 0.0, 'TWO_ALIGHT_NUM': 0.0, 'THREE_RIDE_NUM': 0.0, 'THREE_ALIGHT_NUM': 0.0, 'WORK_DT': '20210703'}, {'USE_MON': '202106', 'LINE_NUM': '2호선', 'SUB_STA_NM': '양천구청', 'FOUR_RIDE_NUM': 11.0, 'FOUR_ALIGHT_NUM': 0.0, 'FIVE_RIDE_NUM': 4885.0, 'FIVE_ALIGHT_NUM': 828.0, 'SIX_RIDE_NUM': 11068.0, 'SIX_ALIGHT_NUM': 2304.0, 'SEVEN_RIDE_NUM': 32319.0, 'SEVEN_ALIGHT_NUM': 5670.0, 'EIGHT_RIDE_NUM': 29838.0, 'EIGHT_ALIGHT_NUM': 9747.0, 'NINE_RIDE_NUM': 15185.0, 'NINE_ALIGHT_NUM': 4846.0, 'TEN_RIDE_NUM': 10062.0, 'TEN_ALIGHT_NUM': 4689.0, 'ELEVEN_RIDE_NUM': 8736.0, 'ELEVEN_ALIGHT_NUM': 4717.0, 'TWELVE_RIDE_NUM': 9050.0, 'TWELVE_ALIGHT_NUM': 6295.0, 'THIRTEEN_RIDE_NUM': 9136.0, 'THIRTEEN_ALIGHT_NUM': 7085.0, 'FOURTEEN_RIDE_NUM': 7809.0, 'FOURTEEN_ALIGHT_NUM': 7472.0, 'FIFTEEN_RIDE_NUM': 7143.0, 'FIFTEEN_ALIGHT_NUM': 9104.0, 'SIXTEEN_RIDE_NUM': 8069.0, 'SIXTEEN_ALIGHT_NUM': 11370.0, 'SEVENTEEN_RIDE_NUM': 8561.0, 'SEVENTEEN_ALIGHT_NUM': 17023.0, 'EIGHTEEN_RIDE_NUM': 8840.0, 'EIGHTEEN_ALIGHT_NUM': 27562.0, 'NINETEEN_RIDE_NUM': 3625.0, 'NINETEEN_ALIGHT_NUM': 24901.0, 'TWENTY_RIDE_NUM': 2539.0, 'TWENTY_ALIGHT_NUM': 12956.0, 'TWENTY_ONE_RIDE_NUM': 2096.0, 'TWENTY_ONE_ALIGHT_NUM': 12620.0, 'TWENTY_TWO_RIDE_NUM': 2234.0, 'TWENTY_TWO_ALIGHT_NUM': 13535.0, 'TWENTY_THREE_RIDE_NUM': 625.0, 'TWENTY_THREE_ALIGHT_NUM': 7028.0, 'MIDNIGHT_RIDE_NUM': 3.0, 'MIDNIGHT_ALIGHT_NUM': 505.0, 'ONE_RIDE_NUM': 0.0, 'ONE_ALIGHT_NUM': 0.0, 'TWO_RIDE_NUM': 0.0, 'TWO_ALIGHT_NUM': 0.0, 'THREE_RIDE_NUM': 0.0, 'THREE_ALIGHT_NUM': 0.0, 'WORK_DT': '20210703'}, {'USE_MON': '202106', 'LINE_NUM': '2호선', 'SUB_STA_NM': '신정네거리', 'FOUR_RIDE_NUM': 39.0, 'FOUR_ALIGHT_NUM': 0.0, 'FIVE_RIDE_NUM': 8271.0, 'FIVE_ALIGHT_NUM': 942.0, 'SIX_RIDE_NUM': 16971.0, 'SIX_ALIGHT_NUM': 3727.0, 'SEVEN_RIDE_NUM': 49959.0, 'SEVEN_ALIGHT_NUM': 5256.0, 'EIGHT_RIDE_NUM': 44209.0, 'EIGHT_ALIGHT_NUM': 11829.0, 'NINE_RIDE_NUM': 23093.0, 'NINE_ALIGHT_NUM': 7607.0, 'TEN_RIDE_NUM': 15248.0, 'TEN_ALIGHT_NUM': 7309.0, 'ELEVEN_RIDE_NUM': 13415.0, 'ELEVEN_ALIGHT_NUM': 8764.0, 'TWELVE_RIDE_NUM': 13330.0, 'TWELVE_ALIGHT_NUM': 9404.0, 'THIRTEEN_RIDE_NUM': 12394.0, 'THIRTEEN_ALIGHT_NUM': 10937.0, 'FOURTEEN_RIDE_NUM': 10835.0, 'FOURTEEN_ALIGHT_NUM': 11262.0, 'FIFTEEN_RIDE_NUM': 10818.0, 'FIFTEEN_ALIGHT_NUM': 14386.0, 'SIXTEEN_RIDE_NUM': 12326.0, 'SIXTEEN_ALIGHT_NUM': 18315.0, 'SEVENTEEN_RIDE_NUM': 12545.0, 'SEVENTEEN_ALIGHT_NUM': 26563.0, 'EIGHTEEN_RIDE_NUM': 11512.0, 'EIGHTEEN_ALIGHT_NUM': 45804.0, 'NINETEEN_RIDE_NUM': 6827.0, 'NINETEEN_ALIGHT_NUM': 35779.0, 'TWENTY_RIDE_NUM': 5052.0, 'TWENTY_ALIGHT_NUM': 19006.0, 'TWENTY_ONE_RIDE_NUM': 4296.0, 'TWENTY_ONE_ALIGHT_NUM': 16793.0, 'TWENTY_TWO_RIDE_NUM': 4010.0, 'TWENTY_TWO_ALIGHT_NUM': 19204.0, 'TWENTY_THREE_RIDE_NUM': 816.0, 'TWENTY_THREE_ALIGHT_NUM': 9131.0, 'MIDNIGHT_RIDE_NUM': 4.0, 'MIDNIGHT_ALIGHT_NUM': 477.0, 'ONE_RIDE_NUM': 1.0, 'ONE_ALIGHT_NUM': 0.0, 'TWO_RIDE_NUM': 0.0, 'TWO_ALIGHT_NUM': 0.0, 'THREE_RIDE_NUM': 0.0, 'THREE_ALIGHT_NUM': 0.0, 'WORK_DT': '20210703'}]}}\n",
      "{'CardSubwayTime': {'list_total_count': 608, 'RESULT': {'CODE': 'INFO-000', 'MESSAGE': '정상 처리되었습니다'}, 'row': [{'USE_MON': '202106', 'LINE_NUM': '2호선', 'SUB_STA_NM': '용두(동대문구청)', 'FOUR_RIDE_NUM': 32.0, 'FOUR_ALIGHT_NUM': 0.0, 'FIVE_RIDE_NUM': 1176.0, 'FIVE_ALIGHT_NUM': 182.0, 'SIX_RIDE_NUM': 1555.0, 'SIX_ALIGHT_NUM': 963.0, 'SEVEN_RIDE_NUM': 4701.0, 'SEVEN_ALIGHT_NUM': 2285.0, 'EIGHT_RIDE_NUM': 8090.0, 'EIGHT_ALIGHT_NUM': 6409.0, 'NINE_RIDE_NUM': 4233.0, 'NINE_ALIGHT_NUM': 3503.0, 'TEN_RIDE_NUM': 3341.0, 'TEN_ALIGHT_NUM': 3068.0, 'ELEVEN_RIDE_NUM': 3674.0, 'ELEVEN_ALIGHT_NUM': 3289.0, 'TWELVE_RIDE_NUM': 3730.0, 'TWELVE_ALIGHT_NUM': 2804.0, 'THIRTEEN_RIDE_NUM': 3574.0, 'THIRTEEN_ALIGHT_NUM': 3399.0, 'FOURTEEN_RIDE_NUM': 3598.0, 'FOURTEEN_ALIGHT_NUM': 3719.0, 'FIFTEEN_RIDE_NUM': 3985.0, 'FIFTEEN_ALIGHT_NUM': 3952.0, 'SIXTEEN_RIDE_NUM': 4119.0, 'SIXTEEN_ALIGHT_NUM': 3930.0, 'SEVENTEEN_RIDE_NUM': 4581.0, 'SEVENTEEN_ALIGHT_NUM': 4285.0, 'EIGHTEEN_RIDE_NUM': 5766.0, 'EIGHTEEN_ALIGHT_NUM': 7446.0, 'NINETEEN_RIDE_NUM': 2417.0, 'NINETEEN_ALIGHT_NUM': 5263.0, 'TWENTY_RIDE_NUM': 1462.0, 'TWENTY_ALIGHT_NUM': 2623.0, 'TWENTY_ONE_RIDE_NUM': 1343.0, 'TWENTY_ONE_ALIGHT_NUM': 2797.0, 'TWENTY_TWO_RIDE_NUM': 898.0, 'TWENTY_TWO_ALIGHT_NUM': 2551.0, 'TWENTY_THREE_RIDE_NUM': 191.0, 'TWENTY_THREE_ALIGHT_NUM': 1244.0, 'MIDNIGHT_RIDE_NUM': 0.0, 'MIDNIGHT_ALIGHT_NUM': 19.0, 'ONE_RIDE_NUM': 0.0, 'ONE_ALIGHT_NUM': 0.0, 'TWO_RIDE_NUM': 0.0, 'TWO_ALIGHT_NUM': 0.0, 'THREE_RIDE_NUM': 0.0, 'THREE_ALIGHT_NUM': 0.0, 'WORK_DT': '20210703'}, {'USE_MON': '202106', 'LINE_NUM': '3호선', 'SUB_STA_NM': '지축', 'FOUR_RIDE_NUM': 5.0, 'FOUR_ALIGHT_NUM': 1.0, 'FIVE_RIDE_NUM': 1802.0, 'FIVE_ALIGHT_NUM': 1267.0, 'SIX_RIDE_NUM': 7260.0, 'SIX_ALIGHT_NUM': 4587.0, 'SEVEN_RIDE_NUM': 19406.0, 'SEVEN_ALIGHT_NUM': 3273.0, 'EIGHT_RIDE_NUM': 18944.0, 'EIGHT_ALIGHT_NUM': 3662.0, 'NINE_RIDE_NUM': 8601.0, 'NINE_ALIGHT_NUM': 2374.0, 'TEN_RIDE_NUM': 5715.0, 'TEN_ALIGHT_NUM': 2212.0, 'ELEVEN_RIDE_NUM': 4937.0, 'ELEVEN_ALIGHT_NUM': 2917.0, 'TWELVE_RIDE_NUM': 4680.0, 'TWELVE_ALIGHT_NUM': 3355.0, 'THIRTEEN_RIDE_NUM': 4704.0, 'THIRTEEN_ALIGHT_NUM': 3564.0, 'FOURTEEN_RIDE_NUM': 3999.0, 'FOURTEEN_ALIGHT_NUM': 3855.0, 'FIFTEEN_RIDE_NUM': 4836.0, 'FIFTEEN_ALIGHT_NUM': 4539.0, 'SIXTEEN_RIDE_NUM': 7011.0, 'SIXTEEN_ALIGHT_NUM': 6057.0, 'SEVENTEEN_RIDE_NUM': 6805.0, 'SEVENTEEN_ALIGHT_NUM': 8174.0, 'EIGHTEEN_RIDE_NUM': 4380.0, 'EIGHTEEN_ALIGHT_NUM': 15983.0, 'NINETEEN_RIDE_NUM': 2426.0, 'NINETEEN_ALIGHT_NUM': 12998.0, 'TWENTY_RIDE_NUM': 1496.0, 'TWENTY_ALIGHT_NUM': 8426.0, 'TWENTY_ONE_RIDE_NUM': 1003.0, 'TWENTY_ONE_ALIGHT_NUM': 6881.0, 'TWENTY_TWO_RIDE_NUM': 780.0, 'TWENTY_TWO_ALIGHT_NUM': 8480.0, 'TWENTY_THREE_RIDE_NUM': 356.0, 'TWENTY_THREE_ALIGHT_NUM': 2906.0, 'MIDNIGHT_RIDE_NUM': 0.0, 'MIDNIGHT_ALIGHT_NUM': 0.0, 'ONE_RIDE_NUM': 0.0, 'ONE_ALIGHT_NUM': 0.0, 'TWO_RIDE_NUM': 0.0, 'TWO_ALIGHT_NUM': 0.0, 'THREE_RIDE_NUM': 0.0, 'THREE_ALIGHT_NUM': 0.0, 'WORK_DT': '20210703'}, {'USE_MON': '202106', 'LINE_NUM': '3호선', 'SUB_STA_NM': '구파발', 'FOUR_RIDE_NUM': 160.0, 'FOUR_ALIGHT_NUM': 1.0, 'FIVE_RIDE_NUM': 9550.0, 'FIVE_ALIGHT_NUM': 1416.0, 'SIX_RIDE_NUM': 29979.0, 'SIX_ALIGHT_NUM': 10291.0, 'SEVEN_RIDE_NUM': 83927.0, 'SEVEN_ALIGHT_NUM': 23740.0, 'EIGHT_RIDE_NUM': 78506.0, 'EIGHT_ALIGHT_NUM': 29048.0, 'NINE_RIDE_NUM': 39140.0, 'NINE_ALIGHT_NUM': 25587.0, 'TEN_RIDE_NUM': 26352.0, 'TEN_ALIGHT_NUM': 24515.0, 'ELEVEN_RIDE_NUM': 25618.0, 'ELEVEN_ALIGHT_NUM': 20662.0, 'TWELVE_RIDE_NUM': 26542.0, 'TWELVE_ALIGHT_NUM': 22496.0, 'THIRTEEN_RIDE_NUM': 24588.0, 'THIRTEEN_ALIGHT_NUM': 23742.0, 'FOURTEEN_RIDE_NUM': 24199.0, 'FOURTEEN_ALIGHT_NUM': 24767.0, 'FIFTEEN_RIDE_NUM': 28066.0, 'FIFTEEN_ALIGHT_NUM': 25040.0, 'SIXTEEN_RIDE_NUM': 34684.0, 'SIXTEEN_ALIGHT_NUM': 29329.0, 'SEVENTEEN_RIDE_NUM': 35147.0, 'SEVENTEEN_ALIGHT_NUM': 38803.0, 'EIGHTEEN_RIDE_NUM': 29399.0, 'EIGHTEEN_ALIGHT_NUM': 66283.0, 'NINETEEN_RIDE_NUM': 18030.0, 'NINETEEN_ALIGHT_NUM': 58127.0, 'TWENTY_RIDE_NUM': 14465.0, 'TWENTY_ALIGHT_NUM': 31524.0, 'TWENTY_ONE_RIDE_NUM': 12811.0, 'TWENTY_ONE_ALIGHT_NUM': 28599.0, 'TWENTY_TWO_RIDE_NUM': 11075.0, 'TWENTY_TWO_ALIGHT_NUM': 28226.0, 'TWENTY_THREE_RIDE_NUM': 1787.0, 'TWENTY_THREE_ALIGHT_NUM': 17624.0, 'MIDNIGHT_RIDE_NUM': 9.0, 'MIDNIGHT_ALIGHT_NUM': 2247.0, 'ONE_RIDE_NUM': 1.0, 'ONE_ALIGHT_NUM': 8.0, 'TWO_RIDE_NUM': 0.0, 'TWO_ALIGHT_NUM': 0.0, 'THREE_RIDE_NUM': 0.0, 'THREE_ALIGHT_NUM': 0.0, 'WORK_DT': '20210703'}, {'USE_MON': '202106', 'LINE_NUM': '3호선', 'SUB_STA_NM': '연신내', 'FOUR_RIDE_NUM': 296.0, 'FOUR_ALIGHT_NUM': 10.0, 'FIVE_RIDE_NUM': 26860.0, 'FIVE_ALIGHT_NUM': 1735.0, 'SIX_RIDE_NUM': 51882.0, 'SIX_ALIGHT_NUM': 11362.0, 'SEVEN_RIDE_NUM': 131527.0, 'SEVEN_ALIGHT_NUM': 24692.0, 'EIGHT_RIDE_NUM': 156035.0, 'EIGHT_ALIGHT_NUM': 34384.0, 'NINE_RIDE_NUM': 85441.0, 'NINE_ALIGHT_NUM': 34640.0, 'TEN_RIDE_NUM': 54844.0, 'TEN_ALIGHT_NUM': 33488.0, 'ELEVEN_RIDE_NUM': 50185.0, 'ELEVEN_ALIGHT_NUM': 35144.0, 'TWELVE_RIDE_NUM': 52765.0, 'TWELVE_ALIGHT_NUM': 36521.0, 'THIRTEEN_RIDE_NUM': 49774.0, 'THIRTEEN_ALIGHT_NUM': 40119.0, 'FOURTEEN_RIDE_NUM': 46119.0, 'FOURTEEN_ALIGHT_NUM': 41108.0, 'FIFTEEN_RIDE_NUM': 46480.0, 'FIFTEEN_ALIGHT_NUM': 51861.0, 'SIXTEEN_RIDE_NUM': 55618.0, 'SIXTEEN_ALIGHT_NUM': 61750.0, 'SEVENTEEN_RIDE_NUM': 49978.0, 'SEVENTEEN_ALIGHT_NUM': 80640.0, 'EIGHTEEN_RIDE_NUM': 46317.0, 'EIGHTEEN_ALIGHT_NUM': 131479.0, 'NINETEEN_RIDE_NUM': 31844.0, 'NINETEEN_ALIGHT_NUM': 118732.0, 'TWENTY_RIDE_NUM': 25493.0, 'TWENTY_ALIGHT_NUM': 62232.0, 'TWENTY_ONE_RIDE_NUM': 26033.0, 'TWENTY_ONE_ALIGHT_NUM': 59101.0, 'TWENTY_TWO_RIDE_NUM': 23052.0, 'TWENTY_TWO_ALIGHT_NUM': 60026.0, 'TWENTY_THREE_RIDE_NUM': 3785.0, 'TWENTY_THREE_ALIGHT_NUM': 32943.0, 'MIDNIGHT_RIDE_NUM': 1.0, 'MIDNIGHT_ALIGHT_NUM': 1823.0, 'ONE_RIDE_NUM': 0.0, 'ONE_ALIGHT_NUM': 0.0, 'TWO_RIDE_NUM': 0.0, 'TWO_ALIGHT_NUM': 0.0, 'THREE_RIDE_NUM': 0.0, 'THREE_ALIGHT_NUM': 0.0, 'WORK_DT': '20210703'}, {'USE_MON': '202106', 'LINE_NUM': '3호선', 'SUB_STA_NM': '불광', 'FOUR_RIDE_NUM': 27.0, 'FOUR_ALIGHT_NUM': 0.0, 'FIVE_RIDE_NUM': 9265.0, 'FIVE_ALIGHT_NUM': 1100.0, 'SIX_RIDE_NUM': 19433.0, 'SIX_ALIGHT_NUM': 5769.0, 'SEVEN_RIDE_NUM': 51513.0, 'SEVEN_ALIGHT_NUM': 10723.0, 'EIGHT_RIDE_NUM': 60645.0, 'EIGHT_ALIGHT_NUM': 33290.0, 'NINE_RIDE_NUM': 33507.0, 'NINE_ALIGHT_NUM': 29822.0, 'TEN_RIDE_NUM': 23361.0, 'TEN_ALIGHT_NUM': 24288.0, 'ELEVEN_RIDE_NUM': 21808.0, 'ELEVEN_ALIGHT_NUM': 22695.0, 'TWELVE_RIDE_NUM': 22962.0, 'TWELVE_ALIGHT_NUM': 24188.0, 'THIRTEEN_RIDE_NUM': 23201.0, 'THIRTEEN_ALIGHT_NUM': 25684.0, 'FOURTEEN_RIDE_NUM': 23440.0, 'FOURTEEN_ALIGHT_NUM': 25093.0, 'FIFTEEN_RIDE_NUM': 23962.0, 'FIFTEEN_ALIGHT_NUM': 26909.0, 'SIXTEEN_RIDE_NUM': 26173.0, 'SIXTEEN_ALIGHT_NUM': 30083.0, 'SEVENTEEN_RIDE_NUM': 27913.0, 'SEVENTEEN_ALIGHT_NUM': 37436.0, 'EIGHTEEN_RIDE_NUM': 29760.0, 'EIGHTEEN_ALIGHT_NUM': 56061.0, 'NINETEEN_RIDE_NUM': 16287.0, 'NINETEEN_ALIGHT_NUM': 46305.0, 'TWENTY_RIDE_NUM': 12842.0, 'TWENTY_ALIGHT_NUM': 26200.0, 'TWENTY_ONE_RIDE_NUM': 11486.0, 'TWENTY_ONE_ALIGHT_NUM': 21929.0, 'TWENTY_TWO_RIDE_NUM': 8105.0, 'TWENTY_TWO_ALIGHT_NUM': 24407.0, 'TWENTY_THREE_RIDE_NUM': 1691.0, 'TWENTY_THREE_ALIGHT_NUM': 11492.0, 'MIDNIGHT_RIDE_NUM': 3.0, 'MIDNIGHT_ALIGHT_NUM': 300.0, 'ONE_RIDE_NUM': 0.0, 'ONE_ALIGHT_NUM': 0.0, 'TWO_RIDE_NUM': 0.0, 'TWO_ALIGHT_NUM': 0.0, 'THREE_RIDE_NUM': 0.0, 'THREE_ALIGHT_NUM': 0.0, 'WORK_DT': '20210703'}]}}\n",
      "{'CardSubwayTime': {'list_total_count': 608, 'RESULT': {'CODE': 'INFO-000', 'MESSAGE': '정상 처리되었습니다'}, 'row': [{'USE_MON': '202106', 'LINE_NUM': '3호선', 'SUB_STA_NM': '녹번', 'FOUR_RIDE_NUM': 21.0, 'FOUR_ALIGHT_NUM': 0.0, 'FIVE_RIDE_NUM': 9870.0, 'FIVE_ALIGHT_NUM': 562.0, 'SIX_RIDE_NUM': 24508.0, 'SIX_ALIGHT_NUM': 4277.0, 'SEVEN_RIDE_NUM': 65972.0, 'SEVEN_ALIGHT_NUM': 7686.0, 'EIGHT_RIDE_NUM': 73801.0, 'EIGHT_ALIGHT_NUM': 18520.0, 'NINE_RIDE_NUM': 39600.0, 'NINE_ALIGHT_NUM': 10325.0, 'TEN_RIDE_NUM': 23898.0, 'TEN_ALIGHT_NUM': 8957.0, 'ELEVEN_RIDE_NUM': 19813.0, 'ELEVEN_ALIGHT_NUM': 9629.0, 'TWELVE_RIDE_NUM': 19213.0, 'TWELVE_ALIGHT_NUM': 11369.0, 'THIRTEEN_RIDE_NUM': 17620.0, 'THIRTEEN_ALIGHT_NUM': 11832.0, 'FOURTEEN_RIDE_NUM': 15717.0, 'FOURTEEN_ALIGHT_NUM': 13475.0, 'FIFTEEN_RIDE_NUM': 14855.0, 'FIFTEEN_ALIGHT_NUM': 15477.0, 'SIXTEEN_RIDE_NUM': 16051.0, 'SIXTEEN_ALIGHT_NUM': 23185.0, 'SEVENTEEN_RIDE_NUM': 16890.0, 'SEVENTEEN_ALIGHT_NUM': 31536.0, 'EIGHTEEN_RIDE_NUM': 19117.0, 'EIGHTEEN_ALIGHT_NUM': 57007.0, 'NINETEEN_RIDE_NUM': 9197.0, 'NINETEEN_ALIGHT_NUM': 49507.0, 'TWENTY_RIDE_NUM': 6932.0, 'TWENTY_ALIGHT_NUM': 27557.0, 'TWENTY_ONE_RIDE_NUM': 5732.0, 'TWENTY_ONE_ALIGHT_NUM': 25422.0, 'TWENTY_TWO_RIDE_NUM': 4583.0, 'TWENTY_TWO_ALIGHT_NUM': 27563.0, 'TWENTY_THREE_RIDE_NUM': 1007.0, 'TWENTY_THREE_ALIGHT_NUM': 12182.0, 'MIDNIGHT_RIDE_NUM': 0.0, 'MIDNIGHT_ALIGHT_NUM': 35.0, 'ONE_RIDE_NUM': 0.0, 'ONE_ALIGHT_NUM': 0.0, 'TWO_RIDE_NUM': 0.0, 'TWO_ALIGHT_NUM': 0.0, 'THREE_RIDE_NUM': 0.0, 'THREE_ALIGHT_NUM': 0.0, 'WORK_DT': '20210703'}, {'USE_MON': '202106', 'LINE_NUM': '3호선', 'SUB_STA_NM': '홍제', 'FOUR_RIDE_NUM': 36.0, 'FOUR_ALIGHT_NUM': 2.0, 'FIVE_RIDE_NUM': 9492.0, 'FIVE_ALIGHT_NUM': 1279.0, 'SIX_RIDE_NUM': 22780.0, 'SIX_ALIGHT_NUM': 9431.0, 'SEVEN_RIDE_NUM': 62571.0, 'SEVEN_ALIGHT_NUM': 11612.0, 'EIGHT_RIDE_NUM': 69383.0, 'EIGHT_ALIGHT_NUM': 23873.0, 'NINE_RIDE_NUM': 38986.0, 'NINE_ALIGHT_NUM': 17873.0, 'TEN_RIDE_NUM': 27635.0, 'TEN_ALIGHT_NUM': 16576.0, 'ELEVEN_RIDE_NUM': 24546.0, 'ELEVEN_ALIGHT_NUM': 15237.0, 'TWELVE_RIDE_NUM': 25846.0, 'TWELVE_ALIGHT_NUM': 17083.0, 'THIRTEEN_RIDE_NUM': 23683.0, 'THIRTEEN_ALIGHT_NUM': 18339.0, 'FOURTEEN_RIDE_NUM': 21898.0, 'FOURTEEN_ALIGHT_NUM': 19610.0, 'FIFTEEN_RIDE_NUM': 22366.0, 'FIFTEEN_ALIGHT_NUM': 23965.0, 'SIXTEEN_RIDE_NUM': 24006.0, 'SIXTEEN_ALIGHT_NUM': 29343.0, 'SEVENTEEN_RIDE_NUM': 26057.0, 'SEVENTEEN_ALIGHT_NUM': 36219.0, 'EIGHTEEN_RIDE_NUM': 24874.0, 'EIGHTEEN_ALIGHT_NUM': 58136.0, 'NINETEEN_RIDE_NUM': 13147.0, 'NINETEEN_ALIGHT_NUM': 48700.0, 'TWENTY_RIDE_NUM': 10440.0, 'TWENTY_ALIGHT_NUM': 26937.0, 'TWENTY_ONE_RIDE_NUM': 8573.0, 'TWENTY_ONE_ALIGHT_NUM': 25445.0, 'TWENTY_TWO_RIDE_NUM': 6711.0, 'TWENTY_TWO_ALIGHT_NUM': 25491.0, 'TWENTY_THREE_RIDE_NUM': 1367.0, 'TWENTY_THREE_ALIGHT_NUM': 12187.0, 'MIDNIGHT_RIDE_NUM': 0.0, 'MIDNIGHT_ALIGHT_NUM': 32.0, 'ONE_RIDE_NUM': 1.0, 'ONE_ALIGHT_NUM': 1.0, 'TWO_RIDE_NUM': 0.0, 'TWO_ALIGHT_NUM': 0.0, 'THREE_RIDE_NUM': 0.0, 'THREE_ALIGHT_NUM': 0.0, 'WORK_DT': '20210703'}, {'USE_MON': '202106', 'LINE_NUM': '3호선', 'SUB_STA_NM': '무악재', 'FOUR_RIDE_NUM': 11.0, 'FOUR_ALIGHT_NUM': 1.0, 'FIVE_RIDE_NUM': 1854.0, 'FIVE_ALIGHT_NUM': 307.0, 'SIX_RIDE_NUM': 5181.0, 'SIX_ALIGHT_NUM': 2424.0, 'SEVEN_RIDE_NUM': 14255.0, 'SEVEN_ALIGHT_NUM': 3023.0, 'EIGHT_RIDE_NUM': 16062.0, 'EIGHT_ALIGHT_NUM': 6015.0, 'NINE_RIDE_NUM': 9508.0, 'NINE_ALIGHT_NUM': 3265.0, 'TEN_RIDE_NUM': 6319.0, 'TEN_ALIGHT_NUM': 3098.0, 'ELEVEN_RIDE_NUM': 5457.0, 'ELEVEN_ALIGHT_NUM': 3295.0, 'TWELVE_RIDE_NUM': 5346.0, 'TWELVE_ALIGHT_NUM': 3498.0, 'THIRTEEN_RIDE_NUM': 4983.0, 'THIRTEEN_ALIGHT_NUM': 4024.0, 'FOURTEEN_RIDE_NUM': 4283.0, 'FOURTEEN_ALIGHT_NUM': 4197.0, 'FIFTEEN_RIDE_NUM': 4184.0, 'FIFTEEN_ALIGHT_NUM': 5383.0, 'SIXTEEN_RIDE_NUM': 4973.0, 'SIXTEEN_ALIGHT_NUM': 6419.0, 'SEVENTEEN_RIDE_NUM': 5961.0, 'SEVENTEEN_ALIGHT_NUM': 8435.0, 'EIGHTEEN_RIDE_NUM': 6490.0, 'EIGHTEEN_ALIGHT_NUM': 14813.0, 'NINETEEN_RIDE_NUM': 2843.0, 'NINETEEN_ALIGHT_NUM': 12401.0, 'TWENTY_RIDE_NUM': 2071.0, 'TWENTY_ALIGHT_NUM': 7011.0, 'TWENTY_ONE_RIDE_NUM': 1805.0, 'TWENTY_ONE_ALIGHT_NUM': 6665.0, 'TWENTY_TWO_RIDE_NUM': 1509.0, 'TWENTY_TWO_ALIGHT_NUM': 7341.0, 'TWENTY_THREE_RIDE_NUM': 314.0, 'TWENTY_THREE_ALIGHT_NUM': 3123.0, 'MIDNIGHT_RIDE_NUM': 0.0, 'MIDNIGHT_ALIGHT_NUM': 0.0, 'ONE_RIDE_NUM': 0.0, 'ONE_ALIGHT_NUM': 0.0, 'TWO_RIDE_NUM': 0.0, 'TWO_ALIGHT_NUM': 0.0, 'THREE_RIDE_NUM': 0.0, 'THREE_ALIGHT_NUM': 0.0, 'WORK_DT': '20210703'}, {'USE_MON': '202106', 'LINE_NUM': '3호선', 'SUB_STA_NM': '독립문', 'FOUR_RIDE_NUM': 104.0, 'FOUR_ALIGHT_NUM': 1.0, 'FIVE_RIDE_NUM': 5139.0, 'FIVE_ALIGHT_NUM': 808.0, 'SIX_RIDE_NUM': 5527.0, 'SIX_ALIGHT_NUM': 6171.0, 'SEVEN_RIDE_NUM': 15733.0, 'SEVEN_ALIGHT_NUM': 15261.0, 'EIGHT_RIDE_NUM': 18718.0, 'EIGHT_ALIGHT_NUM': 21078.0, 'NINE_RIDE_NUM': 13323.0, 'NINE_ALIGHT_NUM': 13617.0, 'TEN_RIDE_NUM': 11203.0, 'TEN_ALIGHT_NUM': 11860.0, 'ELEVEN_RIDE_NUM': 10611.0, 'ELEVEN_ALIGHT_NUM': 9393.0, 'TWELVE_RIDE_NUM': 11192.0, 'TWELVE_ALIGHT_NUM': 9066.0, 'THIRTEEN_RIDE_NUM': 10968.0, 'THIRTEEN_ALIGHT_NUM': 10746.0, 'FOURTEEN_RIDE_NUM': 11766.0, 'FOURTEEN_ALIGHT_NUM': 9476.0, 'FIFTEEN_RIDE_NUM': 12098.0, 'FIFTEEN_ALIGHT_NUM': 10140.0, 'SIXTEEN_RIDE_NUM': 15729.0, 'SIXTEEN_ALIGHT_NUM': 10798.0, 'SEVENTEEN_RIDE_NUM': 14246.0, 'SEVENTEEN_ALIGHT_NUM': 13118.0, 'EIGHTEEN_RIDE_NUM': 16232.0, 'EIGHTEEN_ALIGHT_NUM': 16472.0, 'NINETEEN_RIDE_NUM': 7662.0, 'NINETEEN_ALIGHT_NUM': 13308.0, 'TWENTY_RIDE_NUM': 5346.0, 'TWENTY_ALIGHT_NUM': 7899.0, 'TWENTY_ONE_RIDE_NUM': 4360.0, 'TWENTY_ONE_ALIGHT_NUM': 7244.0, 'TWENTY_TWO_RIDE_NUM': 3608.0, 'TWENTY_TWO_ALIGHT_NUM': 8345.0, 'TWENTY_THREE_RIDE_NUM': 677.0, 'TWENTY_THREE_ALIGHT_NUM': 3435.0, 'MIDNIGHT_RIDE_NUM': 2.0, 'MIDNIGHT_ALIGHT_NUM': 1890.0, 'ONE_RIDE_NUM': 0.0, 'ONE_ALIGHT_NUM': 1.0, 'TWO_RIDE_NUM': 0.0, 'TWO_ALIGHT_NUM': 0.0, 'THREE_RIDE_NUM': 0.0, 'THREE_ALIGHT_NUM': 0.0, 'WORK_DT': '20210703'}, {'USE_MON': '202106', 'LINE_NUM': '3호선', 'SUB_STA_NM': '경복궁(정부서울청사)', 'FOUR_RIDE_NUM': 33.0, 'FOUR_ALIGHT_NUM': 1.0, 'FIVE_RIDE_NUM': 2676.0, 'FIVE_ALIGHT_NUM': 1654.0, 'SIX_RIDE_NUM': 5464.0, 'SIX_ALIGHT_NUM': 14019.0, 'SEVEN_RIDE_NUM': 13573.0, 'SEVEN_ALIGHT_NUM': 42972.0, 'EIGHT_RIDE_NUM': 19457.0, 'EIGHT_ALIGHT_NUM': 108110.0, 'NINE_RIDE_NUM': 17921.0, 'NINE_ALIGHT_NUM': 51467.0, 'TEN_RIDE_NUM': 13964.0, 'TEN_ALIGHT_NUM': 30611.0, 'ELEVEN_RIDE_NUM': 16079.0, 'ELEVEN_ALIGHT_NUM': 28699.0, 'TWELVE_RIDE_NUM': 19118.0, 'TWELVE_ALIGHT_NUM': 26928.0, 'THIRTEEN_RIDE_NUM': 22618.0, 'THIRTEEN_ALIGHT_NUM': 28638.0, 'FOURTEEN_RIDE_NUM': 27101.0, 'FOURTEEN_ALIGHT_NUM': 26109.0, 'FIFTEEN_RIDE_NUM': 32986.0, 'FIFTEEN_ALIGHT_NUM': 22810.0, 'SIXTEEN_RIDE_NUM': 42530.0, 'SIXTEEN_ALIGHT_NUM': 23769.0, 'SEVENTEEN_RIDE_NUM': 59219.0, 'SEVENTEEN_ALIGHT_NUM': 25005.0, 'EIGHTEEN_RIDE_NUM': 93632.0, 'EIGHTEEN_ALIGHT_NUM': 29893.0, 'NINETEEN_RIDE_NUM': 37318.0, 'NINETEEN_ALIGHT_NUM': 18649.0, 'TWENTY_RIDE_NUM': 29620.0, 'TWENTY_ALIGHT_NUM': 9853.0, 'TWENTY_ONE_RIDE_NUM': 33820.0, 'TWENTY_ONE_ALIGHT_NUM': 8749.0, 'TWENTY_TWO_RIDE_NUM': 24043.0, 'TWENTY_TWO_ALIGHT_NUM': 10001.0, 'TWENTY_THREE_RIDE_NUM': 2652.0, 'TWENTY_THREE_ALIGHT_NUM': 4259.0, 'MIDNIGHT_RIDE_NUM': 6.0, 'MIDNIGHT_ALIGHT_NUM': 127.0, 'ONE_RIDE_NUM': 0.0, 'ONE_ALIGHT_NUM': 2.0, 'TWO_RIDE_NUM': 0.0, 'TWO_ALIGHT_NUM': 0.0, 'THREE_RIDE_NUM': 0.0, 'THREE_ALIGHT_NUM': 0.0, 'WORK_DT': '20210703'}]}}\n",
      "{'CardSubwayTime': {'list_total_count': 608, 'RESULT': {'CODE': 'INFO-000', 'MESSAGE': '정상 처리되었습니다'}, 'row': [{'USE_MON': '202106', 'LINE_NUM': '3호선', 'SUB_STA_NM': '안국', 'FOUR_RIDE_NUM': 21.0, 'FOUR_ALIGHT_NUM': 1.0, 'FIVE_RIDE_NUM': 1619.0, 'FIVE_ALIGHT_NUM': 1503.0, 'SIX_RIDE_NUM': 2991.0, 'SIX_ALIGHT_NUM': 20759.0, 'SEVEN_RIDE_NUM': 5742.0, 'SEVEN_ALIGHT_NUM': 91228.0, 'EIGHT_RIDE_NUM': 8093.0, 'EIGHT_ALIGHT_NUM': 99061.0, 'NINE_RIDE_NUM': 7139.0, 'NINE_ALIGHT_NUM': 57095.0, 'TEN_RIDE_NUM': 8439.0, 'TEN_ALIGHT_NUM': 32836.0, 'ELEVEN_RIDE_NUM': 12552.0, 'ELEVEN_ALIGHT_NUM': 33681.0, 'TWELVE_RIDE_NUM': 18676.0, 'TWELVE_ALIGHT_NUM': 30988.0, 'THIRTEEN_RIDE_NUM': 19805.0, 'THIRTEEN_ALIGHT_NUM': 32426.0, 'FOURTEEN_RIDE_NUM': 25564.0, 'FOURTEEN_ALIGHT_NUM': 28289.0, 'FIFTEEN_RIDE_NUM': 36331.0, 'FIFTEEN_ALIGHT_NUM': 23922.0, 'SIXTEEN_RIDE_NUM': 48897.0, 'SIXTEEN_ALIGHT_NUM': 21245.0, 'SEVENTEEN_RIDE_NUM': 91279.0, 'SEVENTEEN_ALIGHT_NUM': 20608.0, 'EIGHTEEN_RIDE_NUM': 100316.0, 'EIGHTEEN_ALIGHT_NUM': 20547.0, 'NINETEEN_RIDE_NUM': 40520.0, 'NINETEEN_ALIGHT_NUM': 9996.0, 'TWENTY_RIDE_NUM': 31318.0, 'TWENTY_ALIGHT_NUM': 4965.0, 'TWENTY_ONE_RIDE_NUM': 30634.0, 'TWENTY_ONE_ALIGHT_NUM': 4275.0, 'TWENTY_TWO_RIDE_NUM': 20379.0, 'TWENTY_TWO_ALIGHT_NUM': 4518.0, 'TWENTY_THREE_RIDE_NUM': 2424.0, 'TWENTY_THREE_ALIGHT_NUM': 1968.0, 'MIDNIGHT_RIDE_NUM': 2.0, 'MIDNIGHT_ALIGHT_NUM': 23.0, 'ONE_RIDE_NUM': 0.0, 'ONE_ALIGHT_NUM': 0.0, 'TWO_RIDE_NUM': 0.0, 'TWO_ALIGHT_NUM': 0.0, 'THREE_RIDE_NUM': 0.0, 'THREE_ALIGHT_NUM': 0.0, 'WORK_DT': '20210703'}, {'USE_MON': '202106', 'LINE_NUM': '3호선', 'SUB_STA_NM': '종로3가', 'FOUR_RIDE_NUM': 14.0, 'FOUR_ALIGHT_NUM': 1.0, 'FIVE_RIDE_NUM': 569.0, 'FIVE_ALIGHT_NUM': 1062.0, 'SIX_RIDE_NUM': 1084.0, 'SIX_ALIGHT_NUM': 5900.0, 'SEVEN_RIDE_NUM': 1535.0, 'SEVEN_ALIGHT_NUM': 15536.0, 'EIGHT_RIDE_NUM': 2012.0, 'EIGHT_ALIGHT_NUM': 45747.0, 'NINE_RIDE_NUM': 3174.0, 'NINE_ALIGHT_NUM': 45434.0, 'TEN_RIDE_NUM': 5130.0, 'TEN_ALIGHT_NUM': 29451.0, 'ELEVEN_RIDE_NUM': 7771.0, 'ELEVEN_ALIGHT_NUM': 22386.0, 'TWELVE_RIDE_NUM': 9346.0, 'TWELVE_ALIGHT_NUM': 21082.0, 'THIRTEEN_RIDE_NUM': 10558.0, 'THIRTEEN_ALIGHT_NUM': 19443.0, 'FOURTEEN_RIDE_NUM': 12370.0, 'FOURTEEN_ALIGHT_NUM': 18898.0, 'FIFTEEN_RIDE_NUM': 15739.0, 'FIFTEEN_ALIGHT_NUM': 17747.0, 'SIXTEEN_RIDE_NUM': 18862.0, 'SIXTEEN_ALIGHT_NUM': 15209.0, 'SEVENTEEN_RIDE_NUM': 28569.0, 'SEVENTEEN_ALIGHT_NUM': 15010.0, 'EIGHTEEN_RIDE_NUM': 52193.0, 'EIGHTEEN_ALIGHT_NUM': 14890.0, 'NINETEEN_RIDE_NUM': 31410.0, 'NINETEEN_ALIGHT_NUM': 7440.0, 'TWENTY_RIDE_NUM': 16336.0, 'TWENTY_ALIGHT_NUM': 2807.0, 'TWENTY_ONE_RIDE_NUM': 20520.0, 'TWENTY_ONE_ALIGHT_NUM': 2105.0, 'TWENTY_TWO_RIDE_NUM': 15924.0, 'TWENTY_TWO_ALIGHT_NUM': 1933.0, 'TWENTY_THREE_RIDE_NUM': 2388.0, 'TWENTY_THREE_ALIGHT_NUM': 1056.0, 'MIDNIGHT_RIDE_NUM': 0.0, 'MIDNIGHT_ALIGHT_NUM': 136.0, 'ONE_RIDE_NUM': 0.0, 'ONE_ALIGHT_NUM': 0.0, 'TWO_RIDE_NUM': 0.0, 'TWO_ALIGHT_NUM': 0.0, 'THREE_RIDE_NUM': 0.0, 'THREE_ALIGHT_NUM': 0.0, 'WORK_DT': '20210703'}, {'USE_MON': '202106', 'LINE_NUM': '3호선', 'SUB_STA_NM': '을지로3가', 'FOUR_RIDE_NUM': 3.0, 'FOUR_ALIGHT_NUM': 0.0, 'FIVE_RIDE_NUM': 624.0, 'FIVE_ALIGHT_NUM': 901.0, 'SIX_RIDE_NUM': 974.0, 'SIX_ALIGHT_NUM': 9052.0, 'SEVEN_RIDE_NUM': 1847.0, 'SEVEN_ALIGHT_NUM': 32198.0, 'EIGHT_RIDE_NUM': 3226.0, 'EIGHT_ALIGHT_NUM': 75007.0, 'NINE_RIDE_NUM': 3832.0, 'NINE_ALIGHT_NUM': 32215.0, 'TEN_RIDE_NUM': 4885.0, 'TEN_ALIGHT_NUM': 14996.0, 'ELEVEN_RIDE_NUM': 6814.0, 'ELEVEN_ALIGHT_NUM': 12402.0, 'TWELVE_RIDE_NUM': 8183.0, 'TWELVE_ALIGHT_NUM': 11867.0, 'THIRTEEN_RIDE_NUM': 10506.0, 'THIRTEEN_ALIGHT_NUM': 12252.0, 'FOURTEEN_RIDE_NUM': 12324.0, 'FOURTEEN_ALIGHT_NUM': 10512.0, 'FIFTEEN_RIDE_NUM': 13545.0, 'FIFTEEN_ALIGHT_NUM': 10538.0, 'SIXTEEN_RIDE_NUM': 16982.0, 'SIXTEEN_ALIGHT_NUM': 10890.0, 'SEVENTEEN_RIDE_NUM': 36376.0, 'SEVENTEEN_ALIGHT_NUM': 13771.0, 'EIGHTEEN_RIDE_NUM': 64130.0, 'EIGHTEEN_ALIGHT_NUM': 16139.0, 'NINETEEN_RIDE_NUM': 25589.0, 'NINETEEN_ALIGHT_NUM': 7866.0, 'TWENTY_RIDE_NUM': 16706.0, 'TWENTY_ALIGHT_NUM': 2921.0, 'TWENTY_ONE_RIDE_NUM': 19946.0, 'TWENTY_ONE_ALIGHT_NUM': 1951.0, 'TWENTY_TWO_RIDE_NUM': 18425.0, 'TWENTY_TWO_ALIGHT_NUM': 1907.0, 'TWENTY_THREE_RIDE_NUM': 2166.0, 'TWENTY_THREE_ALIGHT_NUM': 884.0, 'MIDNIGHT_RIDE_NUM': 2.0, 'MIDNIGHT_ALIGHT_NUM': 81.0, 'ONE_RIDE_NUM': 0.0, 'ONE_ALIGHT_NUM': 1.0, 'TWO_RIDE_NUM': 0.0, 'TWO_ALIGHT_NUM': 0.0, 'THREE_RIDE_NUM': 0.0, 'THREE_ALIGHT_NUM': 0.0, 'WORK_DT': '20210703'}, {'USE_MON': '202106', 'LINE_NUM': '3호선', 'SUB_STA_NM': '충무로', 'FOUR_RIDE_NUM': 0.0, 'FOUR_ALIGHT_NUM': 0.0, 'FIVE_RIDE_NUM': 0.0, 'FIVE_ALIGHT_NUM': 0.0, 'SIX_RIDE_NUM': 0.0, 'SIX_ALIGHT_NUM': 0.0, 'SEVEN_RIDE_NUM': 0.0, 'SEVEN_ALIGHT_NUM': 0.0, 'EIGHT_RIDE_NUM': 1.0, 'EIGHT_ALIGHT_NUM': 0.0, 'NINE_RIDE_NUM': 2.0, 'NINE_ALIGHT_NUM': 0.0, 'TEN_RIDE_NUM': 0.0, 'TEN_ALIGHT_NUM': 0.0, 'ELEVEN_RIDE_NUM': 2.0, 'ELEVEN_ALIGHT_NUM': 0.0, 'TWELVE_RIDE_NUM': 1.0, 'TWELVE_ALIGHT_NUM': 0.0, 'THIRTEEN_RIDE_NUM': 0.0, 'THIRTEEN_ALIGHT_NUM': 0.0, 'FOURTEEN_RIDE_NUM': 1.0, 'FOURTEEN_ALIGHT_NUM': 0.0, 'FIFTEEN_RIDE_NUM': 1.0, 'FIFTEEN_ALIGHT_NUM': 0.0, 'SIXTEEN_RIDE_NUM': 3.0, 'SIXTEEN_ALIGHT_NUM': 0.0, 'SEVENTEEN_RIDE_NUM': 1.0, 'SEVENTEEN_ALIGHT_NUM': 0.0, 'EIGHTEEN_RIDE_NUM': 9.0, 'EIGHTEEN_ALIGHT_NUM': 0.0, 'NINETEEN_RIDE_NUM': 0.0, 'NINETEEN_ALIGHT_NUM': 0.0, 'TWENTY_RIDE_NUM': 2.0, 'TWENTY_ALIGHT_NUM': 0.0, 'TWENTY_ONE_RIDE_NUM': 3.0, 'TWENTY_ONE_ALIGHT_NUM': 0.0, 'TWENTY_TWO_RIDE_NUM': 1.0, 'TWENTY_TWO_ALIGHT_NUM': 0.0, 'TWENTY_THREE_RIDE_NUM': 1.0, 'TWENTY_THREE_ALIGHT_NUM': 0.0, 'MIDNIGHT_RIDE_NUM': 0.0, 'MIDNIGHT_ALIGHT_NUM': 0.0, 'ONE_RIDE_NUM': 0.0, 'ONE_ALIGHT_NUM': 0.0, 'TWO_RIDE_NUM': 0.0, 'TWO_ALIGHT_NUM': 0.0, 'THREE_RIDE_NUM': 0.0, 'THREE_ALIGHT_NUM': 0.0, 'WORK_DT': '20210703'}, {'USE_MON': '202106', 'LINE_NUM': '3호선', 'SUB_STA_NM': '동대입구', 'FOUR_RIDE_NUM': 21.0, 'FOUR_ALIGHT_NUM': 1.0, 'FIVE_RIDE_NUM': 1405.0, 'FIVE_ALIGHT_NUM': 1088.0, 'SIX_RIDE_NUM': 2433.0, 'SIX_ALIGHT_NUM': 9641.0, 'SEVEN_RIDE_NUM': 5594.0, 'SEVEN_ALIGHT_NUM': 13634.0, 'EIGHT_RIDE_NUM': 7247.0, 'EIGHT_ALIGHT_NUM': 46603.0, 'NINE_RIDE_NUM': 5771.0, 'NINE_ALIGHT_NUM': 25041.0, 'TEN_RIDE_NUM': 4728.0, 'TEN_ALIGHT_NUM': 14299.0, 'ELEVEN_RIDE_NUM': 5626.0, 'ELEVEN_ALIGHT_NUM': 12062.0, 'TWELVE_RIDE_NUM': 7209.0, 'TWELVE_ALIGHT_NUM': 11237.0, 'THIRTEEN_RIDE_NUM': 8246.0, 'THIRTEEN_ALIGHT_NUM': 11382.0, 'FOURTEEN_RIDE_NUM': 10357.0, 'FOURTEEN_ALIGHT_NUM': 10019.0, 'FIFTEEN_RIDE_NUM': 12042.0, 'FIFTEEN_ALIGHT_NUM': 7723.0, 'SIXTEEN_RIDE_NUM': 15437.0, 'SIXTEEN_ALIGHT_NUM': 8540.0, 'SEVENTEEN_RIDE_NUM': 33460.0, 'SEVENTEEN_ALIGHT_NUM': 9180.0, 'EIGHTEEN_RIDE_NUM': 31751.0, 'EIGHTEEN_ALIGHT_NUM': 10616.0, 'NINETEEN_RIDE_NUM': 14449.0, 'NINETEEN_ALIGHT_NUM': 6427.0, 'TWENTY_RIDE_NUM': 9872.0, 'TWENTY_ALIGHT_NUM': 3599.0, 'TWENTY_ONE_RIDE_NUM': 11356.0, 'TWENTY_ONE_ALIGHT_NUM': 4264.0, 'TWENTY_TWO_RIDE_NUM': 10257.0, 'TWENTY_TWO_ALIGHT_NUM': 4613.0, 'TWENTY_THREE_RIDE_NUM': 1839.0, 'TWENTY_THREE_ALIGHT_NUM': 1817.0, 'MIDNIGHT_RIDE_NUM': 1.0, 'MIDNIGHT_ALIGHT_NUM': 172.0, 'ONE_RIDE_NUM': 0.0, 'ONE_ALIGHT_NUM': 0.0, 'TWO_RIDE_NUM': 0.0, 'TWO_ALIGHT_NUM': 0.0, 'THREE_RIDE_NUM': 0.0, 'THREE_ALIGHT_NUM': 0.0, 'WORK_DT': '20210703'}]}}\n",
      "{'CardSubwayTime': {'list_total_count': 608, 'RESULT': {'CODE': 'INFO-000', 'MESSAGE': '정상 처리되었습니다'}, 'row': [{'USE_MON': '202106', 'LINE_NUM': '3호선', 'SUB_STA_NM': '약수', 'FOUR_RIDE_NUM': 106.0, 'FOUR_ALIGHT_NUM': 12.0, 'FIVE_RIDE_NUM': 6058.0, 'FIVE_ALIGHT_NUM': 965.0, 'SIX_RIDE_NUM': 10284.0, 'SIX_ALIGHT_NUM': 5871.0, 'SEVEN_RIDE_NUM': 25202.0, 'SEVEN_ALIGHT_NUM': 15914.0, 'EIGHT_RIDE_NUM': 38141.0, 'EIGHT_ALIGHT_NUM': 34514.0, 'NINE_RIDE_NUM': 25359.0, 'NINE_ALIGHT_NUM': 19856.0, 'TEN_RIDE_NUM': 17653.0, 'TEN_ALIGHT_NUM': 14339.0, 'ELEVEN_RIDE_NUM': 16738.0, 'ELEVEN_ALIGHT_NUM': 13652.0, 'TWELVE_RIDE_NUM': 17958.0, 'TWELVE_ALIGHT_NUM': 14492.0, 'THIRTEEN_RIDE_NUM': 17947.0, 'THIRTEEN_ALIGHT_NUM': 14476.0, 'FOURTEEN_RIDE_NUM': 17145.0, 'FOURTEEN_ALIGHT_NUM': 15744.0, 'FIFTEEN_RIDE_NUM': 18164.0, 'FIFTEEN_ALIGHT_NUM': 17133.0, 'SIXTEEN_RIDE_NUM': 21306.0, 'SIXTEEN_ALIGHT_NUM': 20975.0, 'SEVENTEEN_RIDE_NUM': 24329.0, 'SEVENTEEN_ALIGHT_NUM': 26615.0, 'EIGHTEEN_RIDE_NUM': 32871.0, 'EIGHTEEN_ALIGHT_NUM': 40029.0, 'NINETEEN_RIDE_NUM': 16493.0, 'NINETEEN_ALIGHT_NUM': 25921.0, 'TWENTY_RIDE_NUM': 13576.0, 'TWENTY_ALIGHT_NUM': 16467.0, 'TWENTY_ONE_RIDE_NUM': 14410.0, 'TWENTY_ONE_ALIGHT_NUM': 15837.0, 'TWENTY_TWO_RIDE_NUM': 12137.0, 'TWENTY_TWO_ALIGHT_NUM': 17491.0, 'TWENTY_THREE_RIDE_NUM': 2139.0, 'TWENTY_THREE_ALIGHT_NUM': 6136.0, 'MIDNIGHT_RIDE_NUM': 5.0, 'MIDNIGHT_ALIGHT_NUM': 1226.0, 'ONE_RIDE_NUM': 0.0, 'ONE_ALIGHT_NUM': 0.0, 'TWO_RIDE_NUM': 0.0, 'TWO_ALIGHT_NUM': 0.0, 'THREE_RIDE_NUM': 0.0, 'THREE_ALIGHT_NUM': 0.0, 'WORK_DT': '20210703'}, {'USE_MON': '202106', 'LINE_NUM': '3호선', 'SUB_STA_NM': '금호', 'FOUR_RIDE_NUM': 45.0, 'FOUR_ALIGHT_NUM': 20.0, 'FIVE_RIDE_NUM': 4620.0, 'FIVE_ALIGHT_NUM': 570.0, 'SIX_RIDE_NUM': 10025.0, 'SIX_ALIGHT_NUM': 2841.0, 'SEVEN_RIDE_NUM': 26544.0, 'SEVEN_ALIGHT_NUM': 5153.0, 'EIGHT_RIDE_NUM': 35292.0, 'EIGHT_ALIGHT_NUM': 9223.0, 'NINE_RIDE_NUM': 20998.0, 'NINE_ALIGHT_NUM': 6952.0, 'TEN_RIDE_NUM': 13329.0, 'TEN_ALIGHT_NUM': 6219.0, 'ELEVEN_RIDE_NUM': 11315.0, 'ELEVEN_ALIGHT_NUM': 6811.0, 'TWELVE_RIDE_NUM': 11474.0, 'TWELVE_ALIGHT_NUM': 7725.0, 'THIRTEEN_RIDE_NUM': 11003.0, 'THIRTEEN_ALIGHT_NUM': 8935.0, 'FOURTEEN_RIDE_NUM': 9678.0, 'FOURTEEN_ALIGHT_NUM': 9515.0, 'FIFTEEN_RIDE_NUM': 9583.0, 'FIFTEEN_ALIGHT_NUM': 11894.0, 'SIXTEEN_RIDE_NUM': 10368.0, 'SIXTEEN_ALIGHT_NUM': 13366.0, 'SEVENTEEN_RIDE_NUM': 11493.0, 'SEVENTEEN_ALIGHT_NUM': 19543.0, 'EIGHTEEN_RIDE_NUM': 11479.0, 'EIGHTEEN_ALIGHT_NUM': 30386.0, 'NINETEEN_RIDE_NUM': 7063.0, 'NINETEEN_ALIGHT_NUM': 21080.0, 'TWENTY_RIDE_NUM': 5478.0, 'TWENTY_ALIGHT_NUM': 14217.0, 'TWENTY_ONE_RIDE_NUM': 4806.0, 'TWENTY_ONE_ALIGHT_NUM': 12270.0, 'TWENTY_TWO_RIDE_NUM': 4165.0, 'TWENTY_TWO_ALIGHT_NUM': 15166.0, 'TWENTY_THREE_RIDE_NUM': 901.0, 'TWENTY_THREE_ALIGHT_NUM': 4700.0, 'MIDNIGHT_RIDE_NUM': 0.0, 'MIDNIGHT_ALIGHT_NUM': 1.0, 'ONE_RIDE_NUM': 0.0, 'ONE_ALIGHT_NUM': 1.0, 'TWO_RIDE_NUM': 0.0, 'TWO_ALIGHT_NUM': 0.0, 'THREE_RIDE_NUM': 0.0, 'THREE_ALIGHT_NUM': 0.0, 'WORK_DT': '20210703'}, {'USE_MON': '202106', 'LINE_NUM': '3호선', 'SUB_STA_NM': '옥수', 'FOUR_RIDE_NUM': 230.0, 'FOUR_ALIGHT_NUM': 19.0, 'FIVE_RIDE_NUM': 2928.0, 'FIVE_ALIGHT_NUM': 949.0, 'SIX_RIDE_NUM': 9181.0, 'SIX_ALIGHT_NUM': 4604.0, 'SEVEN_RIDE_NUM': 22987.0, 'SEVEN_ALIGHT_NUM': 9073.0, 'EIGHT_RIDE_NUM': 30149.0, 'EIGHT_ALIGHT_NUM': 14620.0, 'NINE_RIDE_NUM': 19365.0, 'NINE_ALIGHT_NUM': 10571.0, 'TEN_RIDE_NUM': 13559.0, 'TEN_ALIGHT_NUM': 8520.0, 'ELEVEN_RIDE_NUM': 12415.0, 'ELEVEN_ALIGHT_NUM': 9416.0, 'TWELVE_RIDE_NUM': 12449.0, 'TWELVE_ALIGHT_NUM': 10694.0, 'THIRTEEN_RIDE_NUM': 13236.0, 'THIRTEEN_ALIGHT_NUM': 11867.0, 'FOURTEEN_RIDE_NUM': 12656.0, 'FOURTEEN_ALIGHT_NUM': 12510.0, 'FIFTEEN_RIDE_NUM': 13681.0, 'FIFTEEN_ALIGHT_NUM': 14348.0, 'SIXTEEN_RIDE_NUM': 15480.0, 'SIXTEEN_ALIGHT_NUM': 17273.0, 'SEVENTEEN_RIDE_NUM': 16947.0, 'SEVENTEEN_ALIGHT_NUM': 22903.0, 'EIGHTEEN_RIDE_NUM': 17596.0, 'EIGHTEEN_ALIGHT_NUM': 33565.0, 'NINETEEN_RIDE_NUM': 11145.0, 'NINETEEN_ALIGHT_NUM': 25103.0, 'TWENTY_RIDE_NUM': 8746.0, 'TWENTY_ALIGHT_NUM': 15335.0, 'TWENTY_ONE_RIDE_NUM': 8386.0, 'TWENTY_ONE_ALIGHT_NUM': 14157.0, 'TWENTY_TWO_RIDE_NUM': 6968.0, 'TWENTY_TWO_ALIGHT_NUM': 16903.0, 'TWENTY_THREE_RIDE_NUM': 1668.0, 'TWENTY_THREE_ALIGHT_NUM': 5526.0, 'MIDNIGHT_RIDE_NUM': 41.0, 'MIDNIGHT_ALIGHT_NUM': 439.0, 'ONE_RIDE_NUM': 0.0, 'ONE_ALIGHT_NUM': 1.0, 'TWO_RIDE_NUM': 0.0, 'TWO_ALIGHT_NUM': 0.0, 'THREE_RIDE_NUM': 0.0, 'THREE_ALIGHT_NUM': 0.0, 'WORK_DT': '20210703'}, {'USE_MON': '202106', 'LINE_NUM': '3호선', 'SUB_STA_NM': '압구정', 'FOUR_RIDE_NUM': 38.0, 'FOUR_ALIGHT_NUM': 2.0, 'FIVE_RIDE_NUM': 2868.0, 'FIVE_ALIGHT_NUM': 1947.0, 'SIX_RIDE_NUM': 8027.0, 'SIX_ALIGHT_NUM': 22447.0, 'SEVEN_RIDE_NUM': 15287.0, 'SEVEN_ALIGHT_NUM': 45846.0, 'EIGHT_RIDE_NUM': 22705.0, 'EIGHT_ALIGHT_NUM': 136321.0, 'NINE_RIDE_NUM': 18159.0, 'NINE_ALIGHT_NUM': 158426.0, 'TEN_RIDE_NUM': 21782.0, 'TEN_ALIGHT_NUM': 71472.0, 'ELEVEN_RIDE_NUM': 28109.0, 'ELEVEN_ALIGHT_NUM': 53866.0, 'TWELVE_RIDE_NUM': 33028.0, 'TWELVE_ALIGHT_NUM': 46377.0, 'THIRTEEN_RIDE_NUM': 36606.0, 'THIRTEEN_ALIGHT_NUM': 50866.0, 'FOURTEEN_RIDE_NUM': 42943.0, 'FOURTEEN_ALIGHT_NUM': 45189.0, 'FIFTEEN_RIDE_NUM': 52092.0, 'FIFTEEN_ALIGHT_NUM': 40996.0, 'SIXTEEN_RIDE_NUM': 63631.0, 'SIXTEEN_ALIGHT_NUM': 42203.0, 'SEVENTEEN_RIDE_NUM': 87913.0, 'SEVENTEEN_ALIGHT_NUM': 49466.0, 'EIGHTEEN_RIDE_NUM': 132800.0, 'EIGHTEEN_ALIGHT_NUM': 55607.0, 'NINETEEN_RIDE_NUM': 93897.0, 'NINETEEN_ALIGHT_NUM': 29386.0, 'TWENTY_RIDE_NUM': 72674.0, 'TWENTY_ALIGHT_NUM': 13929.0, 'TWENTY_ONE_RIDE_NUM': 59193.0, 'TWENTY_ONE_ALIGHT_NUM': 10872.0, 'TWENTY_TWO_RIDE_NUM': 45723.0, 'TWENTY_TWO_ALIGHT_NUM': 11372.0, 'TWENTY_THREE_RIDE_NUM': 6006.0, 'TWENTY_THREE_ALIGHT_NUM': 3931.0, 'MIDNIGHT_RIDE_NUM': 9.0, 'MIDNIGHT_ALIGHT_NUM': 924.0, 'ONE_RIDE_NUM': 0.0, 'ONE_ALIGHT_NUM': 0.0, 'TWO_RIDE_NUM': 1.0, 'TWO_ALIGHT_NUM': 1.0, 'THREE_RIDE_NUM': 0.0, 'THREE_ALIGHT_NUM': 0.0, 'WORK_DT': '20210703'}, {'USE_MON': '202106', 'LINE_NUM': '3호선', 'SUB_STA_NM': '신사', 'FOUR_RIDE_NUM': 26.0, 'FOUR_ALIGHT_NUM': 1.0, 'FIVE_RIDE_NUM': 2710.0, 'FIVE_ALIGHT_NUM': 1552.0, 'SIX_RIDE_NUM': 5423.0, 'SIX_ALIGHT_NUM': 20778.0, 'SEVEN_RIDE_NUM': 9945.0, 'SEVEN_ALIGHT_NUM': 43962.0, 'EIGHT_RIDE_NUM': 17340.0, 'EIGHT_ALIGHT_NUM': 114805.0, 'NINE_RIDE_NUM': 13786.0, 'NINE_ALIGHT_NUM': 134907.0, 'TEN_RIDE_NUM': 16558.0, 'TEN_ALIGHT_NUM': 66632.0, 'ELEVEN_RIDE_NUM': 22034.0, 'ELEVEN_ALIGHT_NUM': 45330.0, 'TWELVE_RIDE_NUM': 25489.0, 'TWELVE_ALIGHT_NUM': 44390.0, 'THIRTEEN_RIDE_NUM': 29624.0, 'THIRTEEN_ALIGHT_NUM': 48901.0, 'FOURTEEN_RIDE_NUM': 36797.0, 'FOURTEEN_ALIGHT_NUM': 45584.0, 'FIFTEEN_RIDE_NUM': 45107.0, 'FIFTEEN_ALIGHT_NUM': 42725.0, 'SIXTEEN_RIDE_NUM': 56248.0, 'SIXTEEN_ALIGHT_NUM': 44139.0, 'SEVENTEEN_RIDE_NUM': 85384.0, 'SEVENTEEN_ALIGHT_NUM': 50416.0, 'EIGHTEEN_RIDE_NUM': 134142.0, 'EIGHTEEN_ALIGHT_NUM': 68505.0, 'NINETEEN_RIDE_NUM': 89182.0, 'NINETEEN_ALIGHT_NUM': 33318.0, 'TWENTY_RIDE_NUM': 58982.0, 'TWENTY_ALIGHT_NUM': 12655.0, 'TWENTY_ONE_RIDE_NUM': 77506.0, 'TWENTY_ONE_ALIGHT_NUM': 9537.0, 'TWENTY_TWO_RIDE_NUM': 67993.0, 'TWENTY_TWO_ALIGHT_NUM': 9820.0, 'TWENTY_THREE_RIDE_NUM': 6608.0, 'TWENTY_THREE_ALIGHT_NUM': 3982.0, 'MIDNIGHT_RIDE_NUM': 0.0, 'MIDNIGHT_ALIGHT_NUM': 145.0, 'ONE_RIDE_NUM': 0.0, 'ONE_ALIGHT_NUM': 0.0, 'TWO_RIDE_NUM': 0.0, 'TWO_ALIGHT_NUM': 0.0, 'THREE_RIDE_NUM': 0.0, 'THREE_ALIGHT_NUM': 0.0, 'WORK_DT': '20210703'}]}}\n",
      "{'CardSubwayTime': {'list_total_count': 608, 'RESULT': {'CODE': 'INFO-000', 'MESSAGE': '정상 처리되었습니다'}, 'row': [{'USE_MON': '202106', 'LINE_NUM': '3호선', 'SUB_STA_NM': '잠원', 'FOUR_RIDE_NUM': 0.0, 'FOUR_ALIGHT_NUM': 0.0, 'FIVE_RIDE_NUM': 1084.0, 'FIVE_ALIGHT_NUM': 502.0, 'SIX_RIDE_NUM': 4634.0, 'SIX_ALIGHT_NUM': 4704.0, 'SEVEN_RIDE_NUM': 11793.0, 'SEVEN_ALIGHT_NUM': 7533.0, 'EIGHT_RIDE_NUM': 15300.0, 'EIGHT_ALIGHT_NUM': 10733.0, 'NINE_RIDE_NUM': 9501.0, 'NINE_ALIGHT_NUM': 6616.0, 'TEN_RIDE_NUM': 6534.0, 'TEN_ALIGHT_NUM': 4637.0, 'ELEVEN_RIDE_NUM': 6044.0, 'ELEVEN_ALIGHT_NUM': 5122.0, 'TWELVE_RIDE_NUM': 6550.0, 'TWELVE_ALIGHT_NUM': 5482.0, 'THIRTEEN_RIDE_NUM': 7041.0, 'THIRTEEN_ALIGHT_NUM': 6412.0, 'FOURTEEN_RIDE_NUM': 6457.0, 'FOURTEEN_ALIGHT_NUM': 5720.0, 'FIFTEEN_RIDE_NUM': 6982.0, 'FIFTEEN_ALIGHT_NUM': 6424.0, 'SIXTEEN_RIDE_NUM': 8263.0, 'SIXTEEN_ALIGHT_NUM': 7137.0, 'SEVENTEEN_RIDE_NUM': 10427.0, 'SEVENTEEN_ALIGHT_NUM': 9714.0, 'EIGHTEEN_RIDE_NUM': 9447.0, 'EIGHTEEN_ALIGHT_NUM': 14217.0, 'NINETEEN_RIDE_NUM': 6089.0, 'NINETEEN_ALIGHT_NUM': 10229.0, 'TWENTY_RIDE_NUM': 4478.0, 'TWENTY_ALIGHT_NUM': 5986.0, 'TWENTY_ONE_RIDE_NUM': 4548.0, 'TWENTY_ONE_ALIGHT_NUM': 6076.0, 'TWENTY_TWO_RIDE_NUM': 3844.0, 'TWENTY_TWO_ALIGHT_NUM': 7862.0, 'TWENTY_THREE_RIDE_NUM': 721.0, 'TWENTY_THREE_ALIGHT_NUM': 2375.0, 'MIDNIGHT_RIDE_NUM': 1.0, 'MIDNIGHT_ALIGHT_NUM': 14.0, 'ONE_RIDE_NUM': 0.0, 'ONE_ALIGHT_NUM': 1.0, 'TWO_RIDE_NUM': 0.0, 'TWO_ALIGHT_NUM': 0.0, 'THREE_RIDE_NUM': 0.0, 'THREE_ALIGHT_NUM': 0.0, 'WORK_DT': '20210703'}, {'USE_MON': '202106', 'LINE_NUM': '3호선', 'SUB_STA_NM': '고속터미널', 'FOUR_RIDE_NUM': 126.0, 'FOUR_ALIGHT_NUM': 0.0, 'FIVE_RIDE_NUM': 4576.0, 'FIVE_ALIGHT_NUM': 3108.0, 'SIX_RIDE_NUM': 6631.0, 'SIX_ALIGHT_NUM': 29398.0, 'SEVEN_RIDE_NUM': 24162.0, 'SEVEN_ALIGHT_NUM': 43213.0, 'EIGHT_RIDE_NUM': 39277.0, 'EIGHT_ALIGHT_NUM': 67635.0, 'NINE_RIDE_NUM': 42361.0, 'NINE_ALIGHT_NUM': 86598.0, 'TEN_RIDE_NUM': 42955.0, 'TEN_ALIGHT_NUM': 76773.0, 'ELEVEN_RIDE_NUM': 52326.0, 'ELEVEN_ALIGHT_NUM': 83203.0, 'TWELVE_RIDE_NUM': 64774.0, 'TWELVE_ALIGHT_NUM': 77685.0, 'THIRTEEN_RIDE_NUM': 69888.0, 'THIRTEEN_ALIGHT_NUM': 79707.0, 'FOURTEEN_RIDE_NUM': 79378.0, 'FOURTEEN_ALIGHT_NUM': 80438.0, 'FIFTEEN_RIDE_NUM': 86982.0, 'FIFTEEN_ALIGHT_NUM': 83251.0, 'SIXTEEN_RIDE_NUM': 98372.0, 'SIXTEEN_ALIGHT_NUM': 81611.0, 'SEVENTEEN_RIDE_NUM': 113070.0, 'SEVENTEEN_ALIGHT_NUM': 87740.0, 'EIGHTEEN_RIDE_NUM': 120279.0, 'EIGHTEEN_ALIGHT_NUM': 101120.0, 'NINETEEN_RIDE_NUM': 96155.0, 'NINETEEN_ALIGHT_NUM': 62898.0, 'TWENTY_RIDE_NUM': 108488.0, 'TWENTY_ALIGHT_NUM': 37705.0, 'TWENTY_ONE_RIDE_NUM': 69591.0, 'TWENTY_ONE_ALIGHT_NUM': 29538.0, 'TWENTY_TWO_RIDE_NUM': 46119.0, 'TWENTY_TWO_ALIGHT_NUM': 24404.0, 'TWENTY_THREE_RIDE_NUM': 12306.0, 'TWENTY_THREE_ALIGHT_NUM': 8791.0, 'MIDNIGHT_RIDE_NUM': 7.0, 'MIDNIGHT_ALIGHT_NUM': 266.0, 'ONE_RIDE_NUM': 0.0, 'ONE_ALIGHT_NUM': 0.0, 'TWO_RIDE_NUM': 0.0, 'TWO_ALIGHT_NUM': 0.0, 'THREE_RIDE_NUM': 0.0, 'THREE_ALIGHT_NUM': 0.0, 'WORK_DT': '20210703'}, {'USE_MON': '202106', 'LINE_NUM': '3호선', 'SUB_STA_NM': '교대(법원.검찰청)', 'FOUR_RIDE_NUM': 8.0, 'FOUR_ALIGHT_NUM': 0.0, 'FIVE_RIDE_NUM': 1231.0, 'FIVE_ALIGHT_NUM': 634.0, 'SIX_RIDE_NUM': 3203.0, 'SIX_ALIGHT_NUM': 6759.0, 'SEVEN_RIDE_NUM': 7468.0, 'SEVEN_ALIGHT_NUM': 20177.0, 'EIGHT_RIDE_NUM': 12081.0, 'EIGHT_ALIGHT_NUM': 49033.0, 'NINE_RIDE_NUM': 9620.0, 'NINE_ALIGHT_NUM': 33501.0, 'TEN_RIDE_NUM': 10390.0, 'TEN_ALIGHT_NUM': 14755.0, 'ELEVEN_RIDE_NUM': 13407.0, 'ELEVEN_ALIGHT_NUM': 9929.0, 'TWELVE_RIDE_NUM': 14525.0, 'TWELVE_ALIGHT_NUM': 9656.0, 'THIRTEEN_RIDE_NUM': 17728.0, 'THIRTEEN_ALIGHT_NUM': 10282.0, 'FOURTEEN_RIDE_NUM': 19659.0, 'FOURTEEN_ALIGHT_NUM': 9194.0, 'FIFTEEN_RIDE_NUM': 20923.0, 'FIFTEEN_ALIGHT_NUM': 8856.0, 'SIXTEEN_RIDE_NUM': 24431.0, 'SIXTEEN_ALIGHT_NUM': 9433.0, 'SEVENTEEN_RIDE_NUM': 39136.0, 'SEVENTEEN_ALIGHT_NUM': 11947.0, 'EIGHTEEN_RIDE_NUM': 65346.0, 'EIGHTEEN_ALIGHT_NUM': 16388.0, 'NINETEEN_RIDE_NUM': 26061.0, 'NINETEEN_ALIGHT_NUM': 8558.0, 'TWENTY_RIDE_NUM': 20653.0, 'TWENTY_ALIGHT_NUM': 3930.0, 'TWENTY_ONE_RIDE_NUM': 24827.0, 'TWENTY_ONE_ALIGHT_NUM': 3397.0, 'TWENTY_TWO_RIDE_NUM': 26415.0, 'TWENTY_TWO_ALIGHT_NUM': 4031.0, 'TWENTY_THREE_RIDE_NUM': 2523.0, 'TWENTY_THREE_ALIGHT_NUM': 1710.0, 'MIDNIGHT_RIDE_NUM': 0.0, 'MIDNIGHT_ALIGHT_NUM': 15.0, 'ONE_RIDE_NUM': 0.0, 'ONE_ALIGHT_NUM': 0.0, 'TWO_RIDE_NUM': 0.0, 'TWO_ALIGHT_NUM': 0.0, 'THREE_RIDE_NUM': 0.0, 'THREE_ALIGHT_NUM': 0.0, 'WORK_DT': '20210703'}, {'USE_MON': '202106', 'LINE_NUM': '3호선', 'SUB_STA_NM': '남부터미널(예술의전당)', 'FOUR_RIDE_NUM': 18.0, 'FOUR_ALIGHT_NUM': 1.0, 'FIVE_RIDE_NUM': 2639.0, 'FIVE_ALIGHT_NUM': 1376.0, 'SIX_RIDE_NUM': 8365.0, 'SIX_ALIGHT_NUM': 23465.0, 'SEVEN_RIDE_NUM': 26512.0, 'SEVEN_ALIGHT_NUM': 57743.0, 'EIGHT_RIDE_NUM': 38491.0, 'EIGHT_ALIGHT_NUM': 157354.0, 'NINE_RIDE_NUM': 30612.0, 'NINE_ALIGHT_NUM': 82361.0, 'TEN_RIDE_NUM': 28284.0, 'TEN_ALIGHT_NUM': 47306.0, 'ELEVEN_RIDE_NUM': 32662.0, 'ELEVEN_ALIGHT_NUM': 35821.0, 'TWELVE_RIDE_NUM': 36076.0, 'TWELVE_ALIGHT_NUM': 36232.0, 'THIRTEEN_RIDE_NUM': 38290.0, 'THIRTEEN_ALIGHT_NUM': 41133.0, 'FOURTEEN_RIDE_NUM': 38150.0, 'FOURTEEN_ALIGHT_NUM': 41337.0, 'FIFTEEN_RIDE_NUM': 43314.0, 'FIFTEEN_ALIGHT_NUM': 39897.0, 'SIXTEEN_RIDE_NUM': 52711.0, 'SIXTEEN_ALIGHT_NUM': 40635.0, 'SEVENTEEN_RIDE_NUM': 87498.0, 'SEVENTEEN_ALIGHT_NUM': 46155.0, 'EIGHTEEN_RIDE_NUM': 136540.0, 'EIGHTEEN_ALIGHT_NUM': 55159.0, 'NINETEEN_RIDE_NUM': 60054.0, 'NINETEEN_ALIGHT_NUM': 35946.0, 'TWENTY_RIDE_NUM': 40380.0, 'TWENTY_ALIGHT_NUM': 21046.0, 'TWENTY_ONE_RIDE_NUM': 38593.0, 'TWENTY_ONE_ALIGHT_NUM': 16709.0, 'TWENTY_TWO_RIDE_NUM': 29892.0, 'TWENTY_TWO_ALIGHT_NUM': 15521.0, 'TWENTY_THREE_RIDE_NUM': 4719.0, 'TWENTY_THREE_ALIGHT_NUM': 6797.0, 'MIDNIGHT_RIDE_NUM': 4.0, 'MIDNIGHT_ALIGHT_NUM': 68.0, 'ONE_RIDE_NUM': 0.0, 'ONE_ALIGHT_NUM': 0.0, 'TWO_RIDE_NUM': 0.0, 'TWO_ALIGHT_NUM': 0.0, 'THREE_RIDE_NUM': 0.0, 'THREE_ALIGHT_NUM': 0.0, 'WORK_DT': '20210703'}, {'USE_MON': '202106', 'LINE_NUM': '3호선', 'SUB_STA_NM': '양재(서초구청)', 'FOUR_RIDE_NUM': 34.0, 'FOUR_ALIGHT_NUM': 1.0, 'FIVE_RIDE_NUM': 5336.0, 'FIVE_ALIGHT_NUM': 2677.0, 'SIX_RIDE_NUM': 13568.0, 'SIX_ALIGHT_NUM': 41082.0, 'SEVEN_RIDE_NUM': 34852.0, 'SEVEN_ALIGHT_NUM': 107380.0, 'EIGHT_RIDE_NUM': 44349.0, 'EIGHT_ALIGHT_NUM': 245673.0, 'NINE_RIDE_NUM': 31897.0, 'NINE_ALIGHT_NUM': 123266.0, 'TEN_RIDE_NUM': 28935.0, 'TEN_ALIGHT_NUM': 52522.0, 'ELEVEN_RIDE_NUM': 31809.0, 'ELEVEN_ALIGHT_NUM': 41811.0, 'TWELVE_RIDE_NUM': 34853.0, 'TWELVE_ALIGHT_NUM': 38288.0, 'THIRTEEN_RIDE_NUM': 39330.0, 'THIRTEEN_ALIGHT_NUM': 43883.0, 'FOURTEEN_RIDE_NUM': 42478.0, 'FOURTEEN_ALIGHT_NUM': 37938.0, 'FIFTEEN_RIDE_NUM': 50689.0, 'FIFTEEN_ALIGHT_NUM': 38718.0, 'SIXTEEN_RIDE_NUM': 65331.0, 'SIXTEEN_ALIGHT_NUM': 41137.0, 'SEVENTEEN_RIDE_NUM': 120383.0, 'SEVENTEEN_ALIGHT_NUM': 53212.0, 'EIGHTEEN_RIDE_NUM': 203360.0, 'EIGHTEEN_ALIGHT_NUM': 72407.0, 'NINETEEN_RIDE_NUM': 86308.0, 'NINETEEN_ALIGHT_NUM': 47470.0, 'TWENTY_RIDE_NUM': 56700.0, 'TWENTY_ALIGHT_NUM': 27863.0, 'TWENTY_ONE_RIDE_NUM': 56458.0, 'TWENTY_ONE_ALIGHT_NUM': 25367.0, 'TWENTY_TWO_RIDE_NUM': 43243.0, 'TWENTY_TWO_ALIGHT_NUM': 26314.0, 'TWENTY_THREE_RIDE_NUM': 4871.0, 'TWENTY_THREE_ALIGHT_NUM': 10172.0, 'MIDNIGHT_RIDE_NUM': 1.0, 'MIDNIGHT_ALIGHT_NUM': 843.0, 'ONE_RIDE_NUM': 0.0, 'ONE_ALIGHT_NUM': 0.0, 'TWO_RIDE_NUM': 0.0, 'TWO_ALIGHT_NUM': 0.0, 'THREE_RIDE_NUM': 0.0, 'THREE_ALIGHT_NUM': 0.0, 'WORK_DT': '20210703'}]}}\n",
      "{'CardSubwayTime': {'list_total_count': 608, 'RESULT': {'CODE': 'INFO-000', 'MESSAGE': '정상 처리되었습니다'}, 'row': [{'USE_MON': '202106', 'LINE_NUM': '3호선', 'SUB_STA_NM': '매봉', 'FOUR_RIDE_NUM': 7.0, 'FOUR_ALIGHT_NUM': 1.0, 'FIVE_RIDE_NUM': 1556.0, 'FIVE_ALIGHT_NUM': 517.0, 'SIX_RIDE_NUM': 6741.0, 'SIX_ALIGHT_NUM': 9013.0, 'SEVEN_RIDE_NUM': 16412.0, 'SEVEN_ALIGHT_NUM': 23242.0, 'EIGHT_RIDE_NUM': 19668.0, 'EIGHT_ALIGHT_NUM': 69143.0, 'NINE_RIDE_NUM': 13328.0, 'NINE_ALIGHT_NUM': 40561.0, 'TEN_RIDE_NUM': 10850.0, 'TEN_ALIGHT_NUM': 14040.0, 'ELEVEN_RIDE_NUM': 10959.0, 'ELEVEN_ALIGHT_NUM': 12036.0, 'TWELVE_RIDE_NUM': 11504.0, 'TWELVE_ALIGHT_NUM': 11273.0, 'THIRTEEN_RIDE_NUM': 12818.0, 'THIRTEEN_ALIGHT_NUM': 11740.0, 'FOURTEEN_RIDE_NUM': 14272.0, 'FOURTEEN_ALIGHT_NUM': 10475.0, 'FIFTEEN_RIDE_NUM': 16043.0, 'FIFTEEN_ALIGHT_NUM': 11231.0, 'SIXTEEN_RIDE_NUM': 19252.0, 'SIXTEEN_ALIGHT_NUM': 12013.0, 'SEVENTEEN_RIDE_NUM': 35487.0, 'SEVENTEEN_ALIGHT_NUM': 16342.0, 'EIGHTEEN_RIDE_NUM': 65933.0, 'EIGHTEEN_ALIGHT_NUM': 22573.0, 'NINETEEN_RIDE_NUM': 22667.0, 'NINETEEN_ALIGHT_NUM': 14976.0, 'TWENTY_RIDE_NUM': 14121.0, 'TWENTY_ALIGHT_NUM': 8573.0, 'TWENTY_ONE_RIDE_NUM': 16477.0, 'TWENTY_ONE_ALIGHT_NUM': 7401.0, 'TWENTY_TWO_RIDE_NUM': 11520.0, 'TWENTY_TWO_ALIGHT_NUM': 8873.0, 'TWENTY_THREE_RIDE_NUM': 1622.0, 'TWENTY_THREE_ALIGHT_NUM': 3386.0, 'MIDNIGHT_RIDE_NUM': 4.0, 'MIDNIGHT_ALIGHT_NUM': 306.0, 'ONE_RIDE_NUM': 0.0, 'ONE_ALIGHT_NUM': 0.0, 'TWO_RIDE_NUM': 0.0, 'TWO_ALIGHT_NUM': 0.0, 'THREE_RIDE_NUM': 0.0, 'THREE_ALIGHT_NUM': 0.0, 'WORK_DT': '20210703'}, {'USE_MON': '202106', 'LINE_NUM': '3호선', 'SUB_STA_NM': '도곡', 'FOUR_RIDE_NUM': 26.0, 'FOUR_ALIGHT_NUM': 3.0, 'FIVE_RIDE_NUM': 1054.0, 'FIVE_ALIGHT_NUM': 365.0, 'SIX_RIDE_NUM': 3847.0, 'SIX_ALIGHT_NUM': 4707.0, 'SEVEN_RIDE_NUM': 8900.0, 'SEVEN_ALIGHT_NUM': 14122.0, 'EIGHT_RIDE_NUM': 10871.0, 'EIGHT_ALIGHT_NUM': 22123.0, 'NINE_RIDE_NUM': 6975.0, 'NINE_ALIGHT_NUM': 15022.0, 'TEN_RIDE_NUM': 5369.0, 'TEN_ALIGHT_NUM': 6983.0, 'ELEVEN_RIDE_NUM': 5588.0, 'ELEVEN_ALIGHT_NUM': 6057.0, 'TWELVE_RIDE_NUM': 5942.0, 'TWELVE_ALIGHT_NUM': 6181.0, 'THIRTEEN_RIDE_NUM': 6363.0, 'THIRTEEN_ALIGHT_NUM': 6744.0, 'FOURTEEN_RIDE_NUM': 7004.0, 'FOURTEEN_ALIGHT_NUM': 5990.0, 'FIFTEEN_RIDE_NUM': 8555.0, 'FIFTEEN_ALIGHT_NUM': 6219.0, 'SIXTEEN_RIDE_NUM': 11184.0, 'SIXTEEN_ALIGHT_NUM': 6170.0, 'SEVENTEEN_RIDE_NUM': 16068.0, 'SEVENTEEN_ALIGHT_NUM': 7475.0, 'EIGHTEEN_RIDE_NUM': 17662.0, 'EIGHTEEN_ALIGHT_NUM': 10401.0, 'NINETEEN_RIDE_NUM': 9191.0, 'NINETEEN_ALIGHT_NUM': 8671.0, 'TWENTY_RIDE_NUM': 5799.0, 'TWENTY_ALIGHT_NUM': 4595.0, 'TWENTY_ONE_RIDE_NUM': 5248.0, 'TWENTY_ONE_ALIGHT_NUM': 4336.0, 'TWENTY_TWO_RIDE_NUM': 4714.0, 'TWENTY_TWO_ALIGHT_NUM': 5241.0, 'TWENTY_THREE_RIDE_NUM': 761.0, 'TWENTY_THREE_ALIGHT_NUM': 1680.0, 'MIDNIGHT_RIDE_NUM': 3.0, 'MIDNIGHT_ALIGHT_NUM': 888.0, 'ONE_RIDE_NUM': 0.0, 'ONE_ALIGHT_NUM': 0.0, 'TWO_RIDE_NUM': 0.0, 'TWO_ALIGHT_NUM': 0.0, 'THREE_RIDE_NUM': 0.0, 'THREE_ALIGHT_NUM': 0.0, 'WORK_DT': '20210703'}, {'USE_MON': '202106', 'LINE_NUM': '3호선', 'SUB_STA_NM': '대치', 'FOUR_RIDE_NUM': 8.0, 'FOUR_ALIGHT_NUM': 0.0, 'FIVE_RIDE_NUM': 2481.0, 'FIVE_ALIGHT_NUM': 729.0, 'SIX_RIDE_NUM': 10788.0, 'SIX_ALIGHT_NUM': 7892.0, 'SEVEN_RIDE_NUM': 23835.0, 'SEVEN_ALIGHT_NUM': 18864.0, 'EIGHT_RIDE_NUM': 22526.0, 'EIGHT_ALIGHT_NUM': 25552.0, 'NINE_RIDE_NUM': 13091.0, 'NINE_ALIGHT_NUM': 16957.0, 'TEN_RIDE_NUM': 10639.0, 'TEN_ALIGHT_NUM': 12364.0, 'ELEVEN_RIDE_NUM': 10631.0, 'ELEVEN_ALIGHT_NUM': 11211.0, 'TWELVE_RIDE_NUM': 12852.0, 'TWELVE_ALIGHT_NUM': 13594.0, 'THIRTEEN_RIDE_NUM': 13094.0, 'THIRTEEN_ALIGHT_NUM': 16677.0, 'FOURTEEN_RIDE_NUM': 13053.0, 'FOURTEEN_ALIGHT_NUM': 15711.0, 'FIFTEEN_RIDE_NUM': 15859.0, 'FIFTEEN_ALIGHT_NUM': 18507.0, 'SIXTEEN_RIDE_NUM': 17106.0, 'SIXTEEN_ALIGHT_NUM': 20579.0, 'SEVENTEEN_RIDE_NUM': 23560.0, 'SEVENTEEN_ALIGHT_NUM': 24607.0, 'EIGHTEEN_RIDE_NUM': 26760.0, 'EIGHTEEN_ALIGHT_NUM': 26815.0, 'NINETEEN_RIDE_NUM': 17064.0, 'NINETEEN_ALIGHT_NUM': 21263.0, 'TWENTY_RIDE_NUM': 12466.0, 'TWENTY_ALIGHT_NUM': 11068.0, 'TWENTY_ONE_RIDE_NUM': 15903.0, 'TWENTY_ONE_ALIGHT_NUM': 10328.0, 'TWENTY_TWO_RIDE_NUM': 27639.0, 'TWENTY_TWO_ALIGHT_NUM': 11399.0, 'TWENTY_THREE_RIDE_NUM': 2367.0, 'TWENTY_THREE_ALIGHT_NUM': 4551.0, 'MIDNIGHT_RIDE_NUM': 1.0, 'MIDNIGHT_ALIGHT_NUM': 23.0, 'ONE_RIDE_NUM': 0.0, 'ONE_ALIGHT_NUM': 1.0, 'TWO_RIDE_NUM': 0.0, 'TWO_ALIGHT_NUM': 0.0, 'THREE_RIDE_NUM': 0.0, 'THREE_ALIGHT_NUM': 0.0, 'WORK_DT': '20210703'}, {'USE_MON': '202106', 'LINE_NUM': '3호선', 'SUB_STA_NM': '학여울', 'FOUR_RIDE_NUM': 3.0, 'FOUR_ALIGHT_NUM': 0.0, 'FIVE_RIDE_NUM': 604.0, 'FIVE_ALIGHT_NUM': 289.0, 'SIX_RIDE_NUM': 1792.0, 'SIX_ALIGHT_NUM': 1671.0, 'SEVEN_RIDE_NUM': 3834.0, 'SEVEN_ALIGHT_NUM': 3413.0, 'EIGHT_RIDE_NUM': 4017.0, 'EIGHT_ALIGHT_NUM': 7405.0, 'NINE_RIDE_NUM': 2412.0, 'NINE_ALIGHT_NUM': 5167.0, 'TEN_RIDE_NUM': 2111.0, 'TEN_ALIGHT_NUM': 3843.0, 'ELEVEN_RIDE_NUM': 2423.0, 'ELEVEN_ALIGHT_NUM': 2653.0, 'TWELVE_RIDE_NUM': 3322.0, 'TWELVE_ALIGHT_NUM': 2962.0, 'THIRTEEN_RIDE_NUM': 3090.0, 'THIRTEEN_ALIGHT_NUM': 3468.0, 'FOURTEEN_RIDE_NUM': 3276.0, 'FOURTEEN_ALIGHT_NUM': 3311.0, 'FIFTEEN_RIDE_NUM': 4186.0, 'FIFTEEN_ALIGHT_NUM': 3315.0, 'SIXTEEN_RIDE_NUM': 4777.0, 'SIXTEEN_ALIGHT_NUM': 2719.0, 'SEVENTEEN_RIDE_NUM': 5381.0, 'SEVENTEEN_ALIGHT_NUM': 3108.0, 'EIGHTEEN_RIDE_NUM': 6885.0, 'EIGHTEEN_ALIGHT_NUM': 4087.0, 'NINETEEN_RIDE_NUM': 2790.0, 'NINETEEN_ALIGHT_NUM': 3111.0, 'TWENTY_RIDE_NUM': 1722.0, 'TWENTY_ALIGHT_NUM': 1942.0, 'TWENTY_ONE_RIDE_NUM': 1570.0, 'TWENTY_ONE_ALIGHT_NUM': 1777.0, 'TWENTY_TWO_RIDE_NUM': 1145.0, 'TWENTY_TWO_ALIGHT_NUM': 2190.0, 'TWENTY_THREE_RIDE_NUM': 184.0, 'TWENTY_THREE_ALIGHT_NUM': 863.0, 'MIDNIGHT_RIDE_NUM': 0.0, 'MIDNIGHT_ALIGHT_NUM': 3.0, 'ONE_RIDE_NUM': 0.0, 'ONE_ALIGHT_NUM': 0.0, 'TWO_RIDE_NUM': 0.0, 'TWO_ALIGHT_NUM': 0.0, 'THREE_RIDE_NUM': 0.0, 'THREE_ALIGHT_NUM': 0.0, 'WORK_DT': '20210703'}, {'USE_MON': '202106', 'LINE_NUM': '3호선', 'SUB_STA_NM': '대청', 'FOUR_RIDE_NUM': 99.0, 'FOUR_ALIGHT_NUM': 0.0, 'FIVE_RIDE_NUM': 3503.0, 'FIVE_ALIGHT_NUM': 1095.0, 'SIX_RIDE_NUM': 10292.0, 'SIX_ALIGHT_NUM': 7091.0, 'SEVEN_RIDE_NUM': 26215.0, 'SEVEN_ALIGHT_NUM': 15424.0, 'EIGHT_RIDE_NUM': 30006.0, 'EIGHT_ALIGHT_NUM': 26621.0, 'NINE_RIDE_NUM': 16408.0, 'NINE_ALIGHT_NUM': 11093.0, 'TEN_RIDE_NUM': 12417.0, 'TEN_ALIGHT_NUM': 7461.0, 'ELEVEN_RIDE_NUM': 11723.0, 'ELEVEN_ALIGHT_NUM': 7472.0, 'TWELVE_RIDE_NUM': 11422.0, 'TWELVE_ALIGHT_NUM': 8703.0, 'THIRTEEN_RIDE_NUM': 12175.0, 'THIRTEEN_ALIGHT_NUM': 9466.0, 'FOURTEEN_RIDE_NUM': 12792.0, 'FOURTEEN_ALIGHT_NUM': 9756.0, 'FIFTEEN_RIDE_NUM': 18946.0, 'FIFTEEN_ALIGHT_NUM': 12479.0, 'SIXTEEN_RIDE_NUM': 18163.0, 'SIXTEEN_ALIGHT_NUM': 13245.0, 'SEVENTEEN_RIDE_NUM': 21348.0, 'SEVENTEEN_ALIGHT_NUM': 16644.0, 'EIGHTEEN_RIDE_NUM': 25893.0, 'EIGHTEEN_ALIGHT_NUM': 24670.0, 'NINETEEN_RIDE_NUM': 10226.0, 'NINETEEN_ALIGHT_NUM': 21014.0, 'TWENTY_RIDE_NUM': 7080.0, 'TWENTY_ALIGHT_NUM': 13316.0, 'TWENTY_ONE_RIDE_NUM': 5975.0, 'TWENTY_ONE_ALIGHT_NUM': 12032.0, 'TWENTY_TWO_RIDE_NUM': 4686.0, 'TWENTY_TWO_ALIGHT_NUM': 15389.0, 'TWENTY_THREE_RIDE_NUM': 1045.0, 'TWENTY_THREE_ALIGHT_NUM': 5804.0, 'MIDNIGHT_RIDE_NUM': 0.0, 'MIDNIGHT_ALIGHT_NUM': 67.0, 'ONE_RIDE_NUM': 0.0, 'ONE_ALIGHT_NUM': 0.0, 'TWO_RIDE_NUM': 0.0, 'TWO_ALIGHT_NUM': 0.0, 'THREE_RIDE_NUM': 0.0, 'THREE_ALIGHT_NUM': 0.0, 'WORK_DT': '20210703'}]}}\n",
      "{'CardSubwayTime': {'list_total_count': 608, 'RESULT': {'CODE': 'INFO-000', 'MESSAGE': '정상 처리되었습니다'}, 'row': [{'USE_MON': '202106', 'LINE_NUM': '3호선', 'SUB_STA_NM': '일원', 'FOUR_RIDE_NUM': 1.0, 'FOUR_ALIGHT_NUM': 0.0, 'FIVE_RIDE_NUM': 2199.0, 'FIVE_ALIGHT_NUM': 1485.0, 'SIX_RIDE_NUM': 8290.0, 'SIX_ALIGHT_NUM': 10179.0, 'SEVEN_RIDE_NUM': 22030.0, 'SEVEN_ALIGHT_NUM': 29645.0, 'EIGHT_RIDE_NUM': 20691.0, 'EIGHT_ALIGHT_NUM': 26488.0, 'NINE_RIDE_NUM': 14518.0, 'NINE_ALIGHT_NUM': 17447.0, 'TEN_RIDE_NUM': 14127.0, 'TEN_ALIGHT_NUM': 15176.0, 'ELEVEN_RIDE_NUM': 14839.0, 'ELEVEN_ALIGHT_NUM': 10960.0, 'TWELVE_RIDE_NUM': 14437.0, 'TWELVE_ALIGHT_NUM': 12577.0, 'THIRTEEN_RIDE_NUM': 13218.0, 'THIRTEEN_ALIGHT_NUM': 14402.0, 'FOURTEEN_RIDE_NUM': 14871.0, 'FOURTEEN_ALIGHT_NUM': 12073.0, 'FIFTEEN_RIDE_NUM': 20161.0, 'FIFTEEN_ALIGHT_NUM': 11876.0, 'SIXTEEN_RIDE_NUM': 25695.0, 'SIXTEEN_ALIGHT_NUM': 10189.0, 'SEVENTEEN_RIDE_NUM': 32588.0, 'SEVENTEEN_ALIGHT_NUM': 12657.0, 'EIGHTEEN_RIDE_NUM': 16842.0, 'EIGHTEEN_ALIGHT_NUM': 17858.0, 'NINETEEN_RIDE_NUM': 8901.0, 'NINETEEN_ALIGHT_NUM': 15261.0, 'TWENTY_RIDE_NUM': 5719.0, 'TWENTY_ALIGHT_NUM': 9798.0, 'TWENTY_ONE_RIDE_NUM': 3886.0, 'TWENTY_ONE_ALIGHT_NUM': 9329.0, 'TWENTY_TWO_RIDE_NUM': 3323.0, 'TWENTY_TWO_ALIGHT_NUM': 11137.0, 'TWENTY_THREE_RIDE_NUM': 930.0, 'TWENTY_THREE_ALIGHT_NUM': 3789.0, 'MIDNIGHT_RIDE_NUM': 0.0, 'MIDNIGHT_ALIGHT_NUM': 49.0, 'ONE_RIDE_NUM': 0.0, 'ONE_ALIGHT_NUM': 1.0, 'TWO_RIDE_NUM': 0.0, 'TWO_ALIGHT_NUM': 0.0, 'THREE_RIDE_NUM': 0.0, 'THREE_ALIGHT_NUM': 0.0, 'WORK_DT': '20210703'}, {'USE_MON': '202106', 'LINE_NUM': '3호선', 'SUB_STA_NM': '수서', 'FOUR_RIDE_NUM': 263.0, 'FOUR_ALIGHT_NUM': 7.0, 'FIVE_RIDE_NUM': 4574.0, 'FIVE_ALIGHT_NUM': 2139.0, 'SIX_RIDE_NUM': 12377.0, 'SIX_ALIGHT_NUM': 16166.0, 'SEVEN_RIDE_NUM': 33590.0, 'SEVEN_ALIGHT_NUM': 34164.0, 'EIGHT_RIDE_NUM': 41524.0, 'EIGHT_ALIGHT_NUM': 52367.0, 'NINE_RIDE_NUM': 26435.0, 'NINE_ALIGHT_NUM': 30952.0, 'TEN_RIDE_NUM': 24642.0, 'TEN_ALIGHT_NUM': 21538.0, 'ELEVEN_RIDE_NUM': 20564.0, 'ELEVEN_ALIGHT_NUM': 16761.0, 'TWELVE_RIDE_NUM': 26364.0, 'TWELVE_ALIGHT_NUM': 21215.0, 'THIRTEEN_RIDE_NUM': 23423.0, 'THIRTEEN_ALIGHT_NUM': 20327.0, 'FOURTEEN_RIDE_NUM': 19526.0, 'FOURTEEN_ALIGHT_NUM': 20504.0, 'FIFTEEN_RIDE_NUM': 28400.0, 'FIFTEEN_ALIGHT_NUM': 24222.0, 'SIXTEEN_RIDE_NUM': 35533.0, 'SIXTEEN_ALIGHT_NUM': 26163.0, 'SEVENTEEN_RIDE_NUM': 40883.0, 'SEVENTEEN_ALIGHT_NUM': 32517.0, 'EIGHTEEN_RIDE_NUM': 49782.0, 'EIGHTEEN_ALIGHT_NUM': 46185.0, 'NINETEEN_RIDE_NUM': 22662.0, 'NINETEEN_ALIGHT_NUM': 34378.0, 'TWENTY_RIDE_NUM': 21453.0, 'TWENTY_ALIGHT_NUM': 22128.0, 'TWENTY_ONE_RIDE_NUM': 14254.0, 'TWENTY_ONE_ALIGHT_NUM': 18843.0, 'TWENTY_TWO_RIDE_NUM': 13250.0, 'TWENTY_TWO_ALIGHT_NUM': 23059.0, 'TWENTY_THREE_RIDE_NUM': 3105.0, 'TWENTY_THREE_ALIGHT_NUM': 7237.0, 'MIDNIGHT_RIDE_NUM': 2.0, 'MIDNIGHT_ALIGHT_NUM': 597.0, 'ONE_RIDE_NUM': 0.0, 'ONE_ALIGHT_NUM': 1.0, 'TWO_RIDE_NUM': 0.0, 'TWO_ALIGHT_NUM': 0.0, 'THREE_RIDE_NUM': 0.0, 'THREE_ALIGHT_NUM': 0.0, 'WORK_DT': '20210703'}, {'USE_MON': '202106', 'LINE_NUM': '3호선', 'SUB_STA_NM': '가락시장', 'FOUR_RIDE_NUM': 17.0, 'FOUR_ALIGHT_NUM': 0.0, 'FIVE_RIDE_NUM': 2376.0, 'FIVE_ALIGHT_NUM': 557.0, 'SIX_RIDE_NUM': 6894.0, 'SIX_ALIGHT_NUM': 5714.0, 'SEVEN_RIDE_NUM': 19112.0, 'SEVEN_ALIGHT_NUM': 11864.0, 'EIGHT_RIDE_NUM': 21633.0, 'EIGHT_ALIGHT_NUM': 29922.0, 'NINE_RIDE_NUM': 15181.0, 'NINE_ALIGHT_NUM': 15353.0, 'TEN_RIDE_NUM': 12294.0, 'TEN_ALIGHT_NUM': 10799.0, 'ELEVEN_RIDE_NUM': 12233.0, 'ELEVEN_ALIGHT_NUM': 9973.0, 'TWELVE_RIDE_NUM': 11984.0, 'TWELVE_ALIGHT_NUM': 10543.0, 'THIRTEEN_RIDE_NUM': 12190.0, 'THIRTEEN_ALIGHT_NUM': 11162.0, 'FOURTEEN_RIDE_NUM': 11973.0, 'FOURTEEN_ALIGHT_NUM': 11350.0, 'FIFTEEN_RIDE_NUM': 12994.0, 'FIFTEEN_ALIGHT_NUM': 12719.0, 'SIXTEEN_RIDE_NUM': 14984.0, 'SIXTEEN_ALIGHT_NUM': 13937.0, 'SEVENTEEN_RIDE_NUM': 19377.0, 'SEVENTEEN_ALIGHT_NUM': 16084.0, 'EIGHTEEN_RIDE_NUM': 28707.0, 'EIGHTEEN_ALIGHT_NUM': 22213.0, 'NINETEEN_RIDE_NUM': 11480.0, 'NINETEEN_ALIGHT_NUM': 16174.0, 'TWENTY_RIDE_NUM': 8813.0, 'TWENTY_ALIGHT_NUM': 10442.0, 'TWENTY_ONE_RIDE_NUM': 8201.0, 'TWENTY_ONE_ALIGHT_NUM': 8726.0, 'TWENTY_TWO_RIDE_NUM': 6333.0, 'TWENTY_TWO_ALIGHT_NUM': 9362.0, 'TWENTY_THREE_RIDE_NUM': 956.0, 'TWENTY_THREE_ALIGHT_NUM': 3799.0, 'MIDNIGHT_RIDE_NUM': 1.0, 'MIDNIGHT_ALIGHT_NUM': 875.0, 'ONE_RIDE_NUM': 0.0, 'ONE_ALIGHT_NUM': 1.0, 'TWO_RIDE_NUM': 0.0, 'TWO_ALIGHT_NUM': 0.0, 'THREE_RIDE_NUM': 0.0, 'THREE_ALIGHT_NUM': 0.0, 'WORK_DT': '20210703'}, {'USE_MON': '202106', 'LINE_NUM': '3호선', 'SUB_STA_NM': '경찰병원', 'FOUR_RIDE_NUM': 21.0, 'FOUR_ALIGHT_NUM': 0.0, 'FIVE_RIDE_NUM': 2424.0, 'FIVE_ALIGHT_NUM': 167.0, 'SIX_RIDE_NUM': 7266.0, 'SIX_ALIGHT_NUM': 2898.0, 'SEVEN_RIDE_NUM': 21952.0, 'SEVEN_ALIGHT_NUM': 8480.0, 'EIGHT_RIDE_NUM': 24585.0, 'EIGHT_ALIGHT_NUM': 30240.0, 'NINE_RIDE_NUM': 13777.0, 'NINE_ALIGHT_NUM': 13079.0, 'TEN_RIDE_NUM': 9942.0, 'TEN_ALIGHT_NUM': 8352.0, 'ELEVEN_RIDE_NUM': 8944.0, 'ELEVEN_ALIGHT_NUM': 6430.0, 'TWELVE_RIDE_NUM': 8218.0, 'TWELVE_ALIGHT_NUM': 7223.0, 'THIRTEEN_RIDE_NUM': 8888.0, 'THIRTEEN_ALIGHT_NUM': 8588.0, 'FOURTEEN_RIDE_NUM': 8833.0, 'FOURTEEN_ALIGHT_NUM': 7543.0, 'FIFTEEN_RIDE_NUM': 9363.0, 'FIFTEEN_ALIGHT_NUM': 8179.0, 'SIXTEEN_RIDE_NUM': 9270.0, 'SIXTEEN_ALIGHT_NUM': 8802.0, 'SEVENTEEN_RIDE_NUM': 14572.0, 'SEVENTEEN_ALIGHT_NUM': 12742.0, 'EIGHTEEN_RIDE_NUM': 20697.0, 'EIGHTEEN_ALIGHT_NUM': 20331.0, 'NINETEEN_RIDE_NUM': 6583.0, 'NINETEEN_ALIGHT_NUM': 15703.0, 'TWENTY_RIDE_NUM': 5121.0, 'TWENTY_ALIGHT_NUM': 9841.0, 'TWENTY_ONE_RIDE_NUM': 5042.0, 'TWENTY_ONE_ALIGHT_NUM': 7835.0, 'TWENTY_TWO_RIDE_NUM': 3488.0, 'TWENTY_TWO_ALIGHT_NUM': 8537.0, 'TWENTY_THREE_RIDE_NUM': 472.0, 'TWENTY_THREE_ALIGHT_NUM': 3716.0, 'MIDNIGHT_RIDE_NUM': 0.0, 'MIDNIGHT_ALIGHT_NUM': 724.0, 'ONE_RIDE_NUM': 0.0, 'ONE_ALIGHT_NUM': 0.0, 'TWO_RIDE_NUM': 0.0, 'TWO_ALIGHT_NUM': 0.0, 'THREE_RIDE_NUM': 0.0, 'THREE_ALIGHT_NUM': 0.0, 'WORK_DT': '20210703'}, {'USE_MON': '202106', 'LINE_NUM': '3호선', 'SUB_STA_NM': '오금', 'FOUR_RIDE_NUM': 5.0, 'FOUR_ALIGHT_NUM': 0.0, 'FIVE_RIDE_NUM': 3856.0, 'FIVE_ALIGHT_NUM': 5.0, 'SIX_RIDE_NUM': 7728.0, 'SIX_ALIGHT_NUM': 2367.0, 'SEVEN_RIDE_NUM': 25306.0, 'SEVEN_ALIGHT_NUM': 5494.0, 'EIGHT_RIDE_NUM': 28769.0, 'EIGHT_ALIGHT_NUM': 13070.0, 'NINE_RIDE_NUM': 14069.0, 'NINE_ALIGHT_NUM': 5482.0, 'TEN_RIDE_NUM': 8136.0, 'TEN_ALIGHT_NUM': 4318.0, 'ELEVEN_RIDE_NUM': 6763.0, 'ELEVEN_ALIGHT_NUM': 3990.0, 'TWELVE_RIDE_NUM': 7206.0, 'TWELVE_ALIGHT_NUM': 4864.0, 'THIRTEEN_RIDE_NUM': 7090.0, 'THIRTEEN_ALIGHT_NUM': 5415.0, 'FOURTEEN_RIDE_NUM': 5805.0, 'FOURTEEN_ALIGHT_NUM': 5008.0, 'FIFTEEN_RIDE_NUM': 5621.0, 'FIFTEEN_ALIGHT_NUM': 7291.0, 'SIXTEEN_RIDE_NUM': 7343.0, 'SIXTEEN_ALIGHT_NUM': 8463.0, 'SEVENTEEN_RIDE_NUM': 9621.0, 'SEVENTEEN_ALIGHT_NUM': 12301.0, 'EIGHTEEN_RIDE_NUM': 11065.0, 'EIGHTEEN_ALIGHT_NUM': 20015.0, 'NINETEEN_RIDE_NUM': 4663.0, 'NINETEEN_ALIGHT_NUM': 15212.0, 'TWENTY_RIDE_NUM': 3060.0, 'TWENTY_ALIGHT_NUM': 9463.0, 'TWENTY_ONE_RIDE_NUM': 2900.0, 'TWENTY_ONE_ALIGHT_NUM': 8387.0, 'TWENTY_TWO_RIDE_NUM': 2236.0, 'TWENTY_TWO_ALIGHT_NUM': 10692.0, 'TWENTY_THREE_RIDE_NUM': 399.0, 'TWENTY_THREE_ALIGHT_NUM': 4102.0, 'MIDNIGHT_RIDE_NUM': 1.0, 'MIDNIGHT_ALIGHT_NUM': 1085.0, 'ONE_RIDE_NUM': 0.0, 'ONE_ALIGHT_NUM': 0.0, 'TWO_RIDE_NUM': 0.0, 'TWO_ALIGHT_NUM': 0.0, 'THREE_RIDE_NUM': 0.0, 'THREE_ALIGHT_NUM': 0.0, 'WORK_DT': '20210703'}]}}\n",
      "{'CardSubwayTime': {'list_total_count': 608, 'RESULT': {'CODE': 'INFO-000', 'MESSAGE': '정상 처리되었습니다'}, 'row': [{'USE_MON': '202106', 'LINE_NUM': '4호선', 'SUB_STA_NM': '수유(강북구청)', 'FOUR_RIDE_NUM': 79.0, 'FOUR_ALIGHT_NUM': 2.0, 'FIVE_RIDE_NUM': 20175.0, 'FIVE_ALIGHT_NUM': 3189.0, 'SIX_RIDE_NUM': 46364.0, 'SIX_ALIGHT_NUM': 12476.0, 'SEVEN_RIDE_NUM': 112544.0, 'SEVEN_ALIGHT_NUM': 20284.0, 'EIGHT_RIDE_NUM': 125803.0, 'EIGHT_ALIGHT_NUM': 55754.0, 'NINE_RIDE_NUM': 73327.0, 'NINE_ALIGHT_NUM': 35887.0, 'TEN_RIDE_NUM': 49660.0, 'TEN_ALIGHT_NUM': 29079.0, 'ELEVEN_RIDE_NUM': 44519.0, 'ELEVEN_ALIGHT_NUM': 29079.0, 'TWELVE_RIDE_NUM': 45599.0, 'TWELVE_ALIGHT_NUM': 32699.0, 'THIRTEEN_RIDE_NUM': 44637.0, 'THIRTEEN_ALIGHT_NUM': 36311.0, 'FOURTEEN_RIDE_NUM': 41859.0, 'FOURTEEN_ALIGHT_NUM': 38917.0, 'FIFTEEN_RIDE_NUM': 41976.0, 'FIFTEEN_ALIGHT_NUM': 47323.0, 'SIXTEEN_RIDE_NUM': 47604.0, 'SIXTEEN_ALIGHT_NUM': 59013.0, 'SEVENTEEN_RIDE_NUM': 52766.0, 'SEVENTEEN_ALIGHT_NUM': 75523.0, 'EIGHTEEN_RIDE_NUM': 57381.0, 'EIGHTEEN_ALIGHT_NUM': 120945.0, 'NINETEEN_RIDE_NUM': 32944.0, 'NINETEEN_ALIGHT_NUM': 107258.0, 'TWENTY_RIDE_NUM': 25718.0, 'TWENTY_ALIGHT_NUM': 61064.0, 'TWENTY_ONE_RIDE_NUM': 24877.0, 'TWENTY_ONE_ALIGHT_NUM': 53950.0, 'TWENTY_TWO_RIDE_NUM': 21941.0, 'TWENTY_TWO_ALIGHT_NUM': 53867.0, 'TWENTY_THREE_RIDE_NUM': 5303.0, 'TWENTY_THREE_ALIGHT_NUM': 30549.0, 'MIDNIGHT_RIDE_NUM': 4.0, 'MIDNIGHT_ALIGHT_NUM': 93.0, 'ONE_RIDE_NUM': 0.0, 'ONE_ALIGHT_NUM': 2.0, 'TWO_RIDE_NUM': 0.0, 'TWO_ALIGHT_NUM': 0.0, 'THREE_RIDE_NUM': 0.0, 'THREE_ALIGHT_NUM': 0.0, 'WORK_DT': '20210703'}, {'USE_MON': '202106', 'LINE_NUM': '4호선', 'SUB_STA_NM': '미아(서울사이버대학)', 'FOUR_RIDE_NUM': 53.0, 'FOUR_ALIGHT_NUM': 7.0, 'FIVE_RIDE_NUM': 10755.0, 'FIVE_ALIGHT_NUM': 1378.0, 'SIX_RIDE_NUM': 20781.0, 'SIX_ALIGHT_NUM': 4893.0, 'SEVEN_RIDE_NUM': 48241.0, 'SEVEN_ALIGHT_NUM': 13112.0, 'EIGHT_RIDE_NUM': 54460.0, 'EIGHT_ALIGHT_NUM': 30129.0, 'NINE_RIDE_NUM': 31893.0, 'NINE_ALIGHT_NUM': 16950.0, 'TEN_RIDE_NUM': 22139.0, 'TEN_ALIGHT_NUM': 14404.0, 'ELEVEN_RIDE_NUM': 19388.0, 'ELEVEN_ALIGHT_NUM': 14347.0, 'TWELVE_RIDE_NUM': 20675.0, 'TWELVE_ALIGHT_NUM': 14676.0, 'THIRTEEN_RIDE_NUM': 19847.0, 'THIRTEEN_ALIGHT_NUM': 16254.0, 'FOURTEEN_RIDE_NUM': 18722.0, 'FOURTEEN_ALIGHT_NUM': 17242.0, 'FIFTEEN_RIDE_NUM': 19402.0, 'FIFTEEN_ALIGHT_NUM': 21942.0, 'SIXTEEN_RIDE_NUM': 21774.0, 'SIXTEEN_ALIGHT_NUM': 25552.0, 'SEVENTEEN_RIDE_NUM': 22559.0, 'SEVENTEEN_ALIGHT_NUM': 30492.0, 'EIGHTEEN_RIDE_NUM': 25592.0, 'EIGHTEEN_ALIGHT_NUM': 46614.0, 'NINETEEN_RIDE_NUM': 14975.0, 'NINETEEN_ALIGHT_NUM': 38876.0, 'TWENTY_RIDE_NUM': 9590.0, 'TWENTY_ALIGHT_NUM': 23111.0, 'TWENTY_ONE_RIDE_NUM': 8085.0, 'TWENTY_ONE_ALIGHT_NUM': 21271.0, 'TWENTY_TWO_RIDE_NUM': 6154.0, 'TWENTY_TWO_ALIGHT_NUM': 20835.0, 'TWENTY_THREE_RIDE_NUM': 1574.0, 'TWENTY_THREE_ALIGHT_NUM': 11807.0, 'MIDNIGHT_RIDE_NUM': 4.0, 'MIDNIGHT_ALIGHT_NUM': 2.0, 'ONE_RIDE_NUM': 0.0, 'ONE_ALIGHT_NUM': 0.0, 'TWO_RIDE_NUM': 0.0, 'TWO_ALIGHT_NUM': 0.0, 'THREE_RIDE_NUM': 0.0, 'THREE_ALIGHT_NUM': 0.0, 'WORK_DT': '20210703'}, {'USE_MON': '202106', 'LINE_NUM': '4호선', 'SUB_STA_NM': '미아사거리', 'FOUR_RIDE_NUM': 57.0, 'FOUR_ALIGHT_NUM': 0.0, 'FIVE_RIDE_NUM': 15244.0, 'FIVE_ALIGHT_NUM': 2083.0, 'SIX_RIDE_NUM': 36872.0, 'SIX_ALIGHT_NUM': 8479.0, 'SEVEN_RIDE_NUM': 94224.0, 'SEVEN_ALIGHT_NUM': 19108.0, 'EIGHT_RIDE_NUM': 105396.0, 'EIGHT_ALIGHT_NUM': 33524.0, 'NINE_RIDE_NUM': 57993.0, 'NINE_ALIGHT_NUM': 31052.0, 'TEN_RIDE_NUM': 39323.0, 'TEN_ALIGHT_NUM': 27185.0, 'ELEVEN_RIDE_NUM': 35414.0, 'ELEVEN_ALIGHT_NUM': 26908.0, 'TWELVE_RIDE_NUM': 36045.0, 'TWELVE_ALIGHT_NUM': 29372.0, 'THIRTEEN_RIDE_NUM': 35874.0, 'THIRTEEN_ALIGHT_NUM': 31665.0, 'FOURTEEN_RIDE_NUM': 34624.0, 'FOURTEEN_ALIGHT_NUM': 34179.0, 'FIFTEEN_RIDE_NUM': 37824.0, 'FIFTEEN_ALIGHT_NUM': 42632.0, 'SIXTEEN_RIDE_NUM': 43090.0, 'SIXTEEN_ALIGHT_NUM': 48636.0, 'SEVENTEEN_RIDE_NUM': 40528.0, 'SEVENTEEN_ALIGHT_NUM': 63740.0, 'EIGHTEEN_RIDE_NUM': 41750.0, 'EIGHTEEN_ALIGHT_NUM': 102007.0, 'NINETEEN_RIDE_NUM': 28996.0, 'NINETEEN_ALIGHT_NUM': 80500.0, 'TWENTY_RIDE_NUM': 28234.0, 'TWENTY_ALIGHT_NUM': 45549.0, 'TWENTY_ONE_RIDE_NUM': 18485.0, 'TWENTY_ONE_ALIGHT_NUM': 39700.0, 'TWENTY_TWO_RIDE_NUM': 14983.0, 'TWENTY_TWO_ALIGHT_NUM': 38376.0, 'TWENTY_THREE_RIDE_NUM': 3324.0, 'TWENTY_THREE_ALIGHT_NUM': 19289.0, 'MIDNIGHT_RIDE_NUM': 1.0, 'MIDNIGHT_ALIGHT_NUM': 0.0, 'ONE_RIDE_NUM': 0.0, 'ONE_ALIGHT_NUM': 0.0, 'TWO_RIDE_NUM': 0.0, 'TWO_ALIGHT_NUM': 0.0, 'THREE_RIDE_NUM': 0.0, 'THREE_ALIGHT_NUM': 0.0, 'WORK_DT': '20210703'}, {'USE_MON': '202106', 'LINE_NUM': '4호선', 'SUB_STA_NM': '길음', 'FOUR_RIDE_NUM': 10.0, 'FOUR_ALIGHT_NUM': 1.0, 'FIVE_RIDE_NUM': 9665.0, 'FIVE_ALIGHT_NUM': 1984.0, 'SIX_RIDE_NUM': 29645.0, 'SIX_ALIGHT_NUM': 8330.0, 'SEVEN_RIDE_NUM': 81216.0, 'SEVEN_ALIGHT_NUM': 12879.0, 'EIGHT_RIDE_NUM': 85758.0, 'EIGHT_ALIGHT_NUM': 27010.0, 'NINE_RIDE_NUM': 44040.0, 'NINE_ALIGHT_NUM': 19353.0, 'TEN_RIDE_NUM': 28142.0, 'TEN_ALIGHT_NUM': 15982.0, 'ELEVEN_RIDE_NUM': 23774.0, 'ELEVEN_ALIGHT_NUM': 16642.0, 'TWELVE_RIDE_NUM': 25625.0, 'TWELVE_ALIGHT_NUM': 18924.0, 'THIRTEEN_RIDE_NUM': 24360.0, 'THIRTEEN_ALIGHT_NUM': 20889.0, 'FOURTEEN_RIDE_NUM': 22141.0, 'FOURTEEN_ALIGHT_NUM': 21353.0, 'FIFTEEN_RIDE_NUM': 22664.0, 'FIFTEEN_ALIGHT_NUM': 25637.0, 'SIXTEEN_RIDE_NUM': 26027.0, 'SIXTEEN_ALIGHT_NUM': 32097.0, 'SEVENTEEN_RIDE_NUM': 29720.0, 'SEVENTEEN_ALIGHT_NUM': 44325.0, 'EIGHTEEN_RIDE_NUM': 27634.0, 'EIGHTEEN_ALIGHT_NUM': 74042.0, 'NINETEEN_RIDE_NUM': 16399.0, 'NINETEEN_ALIGHT_NUM': 59578.0, 'TWENTY_RIDE_NUM': 12658.0, 'TWENTY_ALIGHT_NUM': 34070.0, 'TWENTY_ONE_RIDE_NUM': 10197.0, 'TWENTY_ONE_ALIGHT_NUM': 30987.0, 'TWENTY_TWO_RIDE_NUM': 10709.0, 'TWENTY_TWO_ALIGHT_NUM': 34845.0, 'TWENTY_THREE_RIDE_NUM': 2448.0, 'TWENTY_THREE_ALIGHT_NUM': 15214.0, 'MIDNIGHT_RIDE_NUM': 0.0, 'MIDNIGHT_ALIGHT_NUM': 0.0, 'ONE_RIDE_NUM': 0.0, 'ONE_ALIGHT_NUM': 0.0, 'TWO_RIDE_NUM': 0.0, 'TWO_ALIGHT_NUM': 0.0, 'THREE_RIDE_NUM': 0.0, 'THREE_ALIGHT_NUM': 0.0, 'WORK_DT': '20210703'}, {'USE_MON': '202106', 'LINE_NUM': '4호선', 'SUB_STA_NM': '성신여대입구(돈암)', 'FOUR_RIDE_NUM': 35.0, 'FOUR_ALIGHT_NUM': 1.0, 'FIVE_RIDE_NUM': 5823.0, 'FIVE_ALIGHT_NUM': 1617.0, 'SIX_RIDE_NUM': 17876.0, 'SIX_ALIGHT_NUM': 6147.0, 'SEVEN_RIDE_NUM': 45489.0, 'SEVEN_ALIGHT_NUM': 16221.0, 'EIGHT_RIDE_NUM': 55001.0, 'EIGHT_ALIGHT_NUM': 32901.0, 'NINE_RIDE_NUM': 33165.0, 'NINE_ALIGHT_NUM': 24931.0, 'TEN_RIDE_NUM': 24720.0, 'TEN_ALIGHT_NUM': 20583.0, 'ELEVEN_RIDE_NUM': 23410.0, 'ELEVEN_ALIGHT_NUM': 20602.0, 'TWELVE_RIDE_NUM': 26635.0, 'TWELVE_ALIGHT_NUM': 23291.0, 'THIRTEEN_RIDE_NUM': 26962.0, 'THIRTEEN_ALIGHT_NUM': 25506.0, 'FOURTEEN_RIDE_NUM': 26602.0, 'FOURTEEN_ALIGHT_NUM': 25368.0, 'FIFTEEN_RIDE_NUM': 28699.0, 'FIFTEEN_ALIGHT_NUM': 27910.0, 'SIXTEEN_RIDE_NUM': 33246.0, 'SIXTEEN_ALIGHT_NUM': 32319.0, 'SEVENTEEN_RIDE_NUM': 37061.0, 'SEVENTEEN_ALIGHT_NUM': 43039.0, 'EIGHTEEN_RIDE_NUM': 42049.0, 'EIGHTEEN_ALIGHT_NUM': 63742.0, 'NINETEEN_RIDE_NUM': 26151.0, 'NINETEEN_ALIGHT_NUM': 48341.0, 'TWENTY_RIDE_NUM': 23329.0, 'TWENTY_ALIGHT_NUM': 27585.0, 'TWENTY_ONE_RIDE_NUM': 27719.0, 'TWENTY_ONE_ALIGHT_NUM': 25153.0, 'TWENTY_TWO_RIDE_NUM': 25813.0, 'TWENTY_TWO_ALIGHT_NUM': 28461.0, 'TWENTY_THREE_RIDE_NUM': 4683.0, 'TWENTY_THREE_ALIGHT_NUM': 13281.0, 'MIDNIGHT_RIDE_NUM': 1.0, 'MIDNIGHT_ALIGHT_NUM': 5.0, 'ONE_RIDE_NUM': 0.0, 'ONE_ALIGHT_NUM': 0.0, 'TWO_RIDE_NUM': 0.0, 'TWO_ALIGHT_NUM': 0.0, 'THREE_RIDE_NUM': 0.0, 'THREE_ALIGHT_NUM': 0.0, 'WORK_DT': '20210703'}]}}\n"
     ]
    }
   ],
   "source": [
    "!python src/ds_open_subwayTime.py"
   ]
  },
  {
   "cell_type": "code",
   "execution_count": null,
   "id": "d2e8911a",
   "metadata": {},
   "outputs": [],
   "source": []
  },
  {
   "cell_type": "code",
   "execution_count": 110,
   "id": "9ef28bc8",
   "metadata": {},
   "outputs": [
    {
     "name": "stdout",
     "output_type": "stream",
     "text": [
      "-rw-r--r-- 1 源�吏꾩꽦 197609 148564 Sep 11 22:13 src/ds_open_subwayTime.json\n",
      "-rw-r--r-- 1 源�吏꾩꽦 197609   1782 Sep 11 22:13 src/ds_open_subwayTime.py\n"
     ]
    }
   ],
   "source": [
    "!ls -l src/ds_open_subwayTime*"
   ]
  },
  {
   "cell_type": "code",
   "execution_count": 115,
   "id": "ce3fdb3b",
   "metadata": {},
   "outputs": [],
   "source": [
    "import pymongo\n",
    "\n",
    "Client = pymongo.MongoClient('mongodb://localhost')"
   ]
  },
  {
   "cell_type": "code",
   "execution_count": 122,
   "id": "0a0dc96a",
   "metadata": {},
   "outputs": [],
   "source": [
    "_db=Client['ds_open_subwayPassengersDb']"
   ]
  },
  {
   "cell_type": "code",
   "execution_count": 123,
   "id": "5c0028af",
   "metadata": {},
   "outputs": [
    {
     "name": "stdout",
     "output_type": "stream",
     "text": [
      "['admin', 'config', 'ds_open_subwayPassengersDb', 'local', 'myDB']\n"
     ]
    }
   ],
   "source": [
    "print(Client.list_database_names())"
   ]
  },
  {
   "cell_type": "code",
   "execution_count": 124,
   "id": "a71e72b4",
   "metadata": {},
   "outputs": [
    {
     "data": {
      "text/plain": [
       "['db_open_subwayTable']"
      ]
     },
     "execution_count": 124,
     "metadata": {},
     "output_type": "execute_result"
    }
   ],
   "source": [
    "_db.list_collection_names()"
   ]
  },
  {
   "cell_type": "code",
   "execution_count": 126,
   "id": "6c6a7c83",
   "metadata": {},
   "outputs": [
    {
     "data": {
      "text/plain": [
       "20"
      ]
     },
     "execution_count": 126,
     "metadata": {},
     "output_type": "execute_result"
    }
   ],
   "source": [
    "_db.db_open_subwayTable.count_documents({})"
   ]
  },
  {
   "cell_type": "code",
   "execution_count": 127,
   "id": "cd6f9db8",
   "metadata": {},
   "outputs": [
    {
     "data": {
      "text/plain": [
       "{'_id': ObjectId('613cab7cbac3f48567b17abc'),\n",
       " 'CardSubwayTime': {'list_total_count': 608,\n",
       "  'RESULT': {'CODE': 'INFO-000', 'MESSAGE': '정상 처리되었습니다'},\n",
       "  'row': [{'USE_MON': '202106',\n",
       "    'LINE_NUM': '1호선',\n",
       "    'SUB_STA_NM': '서울역',\n",
       "    'FOUR_RIDE_NUM': 654.0,\n",
       "    'FOUR_ALIGHT_NUM': 17.0,\n",
       "    'FIVE_RIDE_NUM': 9008.0,\n",
       "    'FIVE_ALIGHT_NUM': 6400.0,\n",
       "    'SIX_RIDE_NUM': 12474.0,\n",
       "    'SIX_ALIGHT_NUM': 37203.0,\n",
       "    'SEVEN_RIDE_NUM': 37253.0,\n",
       "    'SEVEN_ALIGHT_NUM': 91875.0,\n",
       "    'EIGHT_RIDE_NUM': 59876.0,\n",
       "    'EIGHT_ALIGHT_NUM': 187805.0,\n",
       "    'NINE_RIDE_NUM': 44619.0,\n",
       "    'NINE_ALIGHT_NUM': 118679.0,\n",
       "    'TEN_RIDE_NUM': 42611.0,\n",
       "    'TEN_ALIGHT_NUM': 57710.0,\n",
       "    'ELEVEN_RIDE_NUM': 49533.0,\n",
       "    'ELEVEN_ALIGHT_NUM': 50003.0,\n",
       "    'TWELVE_RIDE_NUM': 59357.0,\n",
       "    'TWELVE_ALIGHT_NUM': 53317.0,\n",
       "    'THIRTEEN_RIDE_NUM': 61171.0,\n",
       "    'THIRTEEN_ALIGHT_NUM': 53687.0,\n",
       "    'FOURTEEN_RIDE_NUM': 53310.0,\n",
       "    'FOURTEEN_ALIGHT_NUM': 49094.0,\n",
       "    'FIFTEEN_RIDE_NUM': 65767.0,\n",
       "    'FIFTEEN_ALIGHT_NUM': 52788.0,\n",
       "    'SIXTEEN_RIDE_NUM': 76249.0,\n",
       "    'SIXTEEN_ALIGHT_NUM': 53969.0,\n",
       "    'SEVENTEEN_RIDE_NUM': 122928.0,\n",
       "    'SEVENTEEN_ALIGHT_NUM': 64693.0,\n",
       "    'EIGHTEEN_RIDE_NUM': 184907.0,\n",
       "    'EIGHTEEN_ALIGHT_NUM': 73978.0,\n",
       "    'NINETEEN_RIDE_NUM': 87575.0,\n",
       "    'NINETEEN_ALIGHT_NUM': 46769.0,\n",
       "    'TWENTY_RIDE_NUM': 59961.0,\n",
       "    'TWENTY_ALIGHT_NUM': 30743.0,\n",
       "    'TWENTY_ONE_RIDE_NUM': 65078.0,\n",
       "    'TWENTY_ONE_ALIGHT_NUM': 27435.0,\n",
       "    'TWENTY_TWO_RIDE_NUM': 44921.0,\n",
       "    'TWENTY_TWO_ALIGHT_NUM': 22829.0,\n",
       "    'TWENTY_THREE_RIDE_NUM': 11581.0,\n",
       "    'TWENTY_THREE_ALIGHT_NUM': 8024.0,\n",
       "    'MIDNIGHT_RIDE_NUM': 30.0,\n",
       "    'MIDNIGHT_ALIGHT_NUM': 637.0,\n",
       "    'ONE_RIDE_NUM': 0.0,\n",
       "    'ONE_ALIGHT_NUM': 1.0,\n",
       "    'TWO_RIDE_NUM': 0.0,\n",
       "    'TWO_ALIGHT_NUM': 0.0,\n",
       "    'THREE_RIDE_NUM': 0.0,\n",
       "    'THREE_ALIGHT_NUM': 0.0,\n",
       "    'WORK_DT': '20210703'},\n",
       "   {'USE_MON': '202106',\n",
       "    'LINE_NUM': '1호선',\n",
       "    'SUB_STA_NM': '동묘앞',\n",
       "    'FOUR_RIDE_NUM': 51.0,\n",
       "    'FOUR_ALIGHT_NUM': 1.0,\n",
       "    'FIVE_RIDE_NUM': 3218.0,\n",
       "    'FIVE_ALIGHT_NUM': 1100.0,\n",
       "    'SIX_RIDE_NUM': 3422.0,\n",
       "    'SIX_ALIGHT_NUM': 4802.0,\n",
       "    'SEVEN_RIDE_NUM': 5896.0,\n",
       "    'SEVEN_ALIGHT_NUM': 9703.0,\n",
       "    'EIGHT_RIDE_NUM': 9194.0,\n",
       "    'EIGHT_ALIGHT_NUM': 24921.0,\n",
       "    'NINE_RIDE_NUM': 8022.0,\n",
       "    'NINE_ALIGHT_NUM': 17333.0,\n",
       "    'TEN_RIDE_NUM': 9687.0,\n",
       "    'TEN_ALIGHT_NUM': 19292.0,\n",
       "    'ELEVEN_RIDE_NUM': 14091.0,\n",
       "    'ELEVEN_ALIGHT_NUM': 24305.0,\n",
       "    'TWELVE_RIDE_NUM': 20089.0,\n",
       "    'TWELVE_ALIGHT_NUM': 26186.0,\n",
       "    'THIRTEEN_RIDE_NUM': 24776.0,\n",
       "    'THIRTEEN_ALIGHT_NUM': 28141.0,\n",
       "    'FOURTEEN_RIDE_NUM': 27144.0,\n",
       "    'FOURTEEN_ALIGHT_NUM': 26643.0,\n",
       "    'FIFTEEN_RIDE_NUM': 28360.0,\n",
       "    'FIFTEEN_ALIGHT_NUM': 23213.0,\n",
       "    'SIXTEEN_RIDE_NUM': 31119.0,\n",
       "    'SIXTEEN_ALIGHT_NUM': 17744.0,\n",
       "    'SEVENTEEN_RIDE_NUM': 27036.0,\n",
       "    'SEVENTEEN_ALIGHT_NUM': 13759.0,\n",
       "    'EIGHTEEN_RIDE_NUM': 23606.0,\n",
       "    'EIGHTEEN_ALIGHT_NUM': 10098.0,\n",
       "    'NINETEEN_RIDE_NUM': 11006.0,\n",
       "    'NINETEEN_ALIGHT_NUM': 6510.0,\n",
       "    'TWENTY_RIDE_NUM': 6119.0,\n",
       "    'TWENTY_ALIGHT_NUM': 4409.0,\n",
       "    'TWENTY_ONE_RIDE_NUM': 5485.0,\n",
       "    'TWENTY_ONE_ALIGHT_NUM': 4265.0,\n",
       "    'TWENTY_TWO_RIDE_NUM': 3405.0,\n",
       "    'TWENTY_TWO_ALIGHT_NUM': 5689.0,\n",
       "    'TWENTY_THREE_RIDE_NUM': 1035.0,\n",
       "    'TWENTY_THREE_ALIGHT_NUM': 2589.0,\n",
       "    'MIDNIGHT_RIDE_NUM': 4.0,\n",
       "    'MIDNIGHT_ALIGHT_NUM': 1348.0,\n",
       "    'ONE_RIDE_NUM': 0.0,\n",
       "    'ONE_ALIGHT_NUM': 0.0,\n",
       "    'TWO_RIDE_NUM': 0.0,\n",
       "    'TWO_ALIGHT_NUM': 0.0,\n",
       "    'THREE_RIDE_NUM': 0.0,\n",
       "    'THREE_ALIGHT_NUM': 0.0,\n",
       "    'WORK_DT': '20210703'},\n",
       "   {'USE_MON': '202106',\n",
       "    'LINE_NUM': '1호선',\n",
       "    'SUB_STA_NM': '시청',\n",
       "    'FOUR_RIDE_NUM': 37.0,\n",
       "    'FOUR_ALIGHT_NUM': 0.0,\n",
       "    'FIVE_RIDE_NUM': 1881.0,\n",
       "    'FIVE_ALIGHT_NUM': 4340.0,\n",
       "    'SIX_RIDE_NUM': 2948.0,\n",
       "    'SIX_ALIGHT_NUM': 21443.0,\n",
       "    'SEVEN_RIDE_NUM': 6280.0,\n",
       "    'SEVEN_ALIGHT_NUM': 62346.0,\n",
       "    'EIGHT_RIDE_NUM': 7740.0,\n",
       "    'EIGHT_ALIGHT_NUM': 167991.0,\n",
       "    'NINE_RIDE_NUM': 8117.0,\n",
       "    'NINE_ALIGHT_NUM': 72853.0,\n",
       "    'TEN_RIDE_NUM': 9284.0,\n",
       "    'TEN_ALIGHT_NUM': 29250.0,\n",
       "    'ELEVEN_RIDE_NUM': 14030.0,\n",
       "    'ELEVEN_ALIGHT_NUM': 27989.0,\n",
       "    'TWELVE_RIDE_NUM': 15295.0,\n",
       "    'TWELVE_ALIGHT_NUM': 25037.0,\n",
       "    'THIRTEEN_RIDE_NUM': 18849.0,\n",
       "    'THIRTEEN_ALIGHT_NUM': 24492.0,\n",
       "    'FOURTEEN_RIDE_NUM': 23331.0,\n",
       "    'FOURTEEN_ALIGHT_NUM': 20032.0,\n",
       "    'FIFTEEN_RIDE_NUM': 30469.0,\n",
       "    'FIFTEEN_ALIGHT_NUM': 17869.0,\n",
       "    'SIXTEEN_RIDE_NUM': 36116.0,\n",
       "    'SIXTEEN_ALIGHT_NUM': 15593.0,\n",
       "    'SEVENTEEN_RIDE_NUM': 66595.0,\n",
       "    'SEVENTEEN_ALIGHT_NUM': 16611.0,\n",
       "    'EIGHTEEN_RIDE_NUM': 135842.0,\n",
       "    'EIGHTEEN_ALIGHT_NUM': 17805.0,\n",
       "    'NINETEEN_RIDE_NUM': 46850.0,\n",
       "    'NINETEEN_ALIGHT_NUM': 8139.0,\n",
       "    'TWENTY_RIDE_NUM': 38173.0,\n",
       "    'TWENTY_ALIGHT_NUM': 4455.0,\n",
       "    'TWENTY_ONE_RIDE_NUM': 39048.0,\n",
       "    'TWENTY_ONE_ALIGHT_NUM': 4234.0,\n",
       "    'TWENTY_TWO_RIDE_NUM': 28501.0,\n",
       "    'TWENTY_TWO_ALIGHT_NUM': 3686.0,\n",
       "    'TWENTY_THREE_RIDE_NUM': 4390.0,\n",
       "    'TWENTY_THREE_ALIGHT_NUM': 1485.0,\n",
       "    'MIDNIGHT_RIDE_NUM': 3.0,\n",
       "    'MIDNIGHT_ALIGHT_NUM': 92.0,\n",
       "    'ONE_RIDE_NUM': 0.0,\n",
       "    'ONE_ALIGHT_NUM': 0.0,\n",
       "    'TWO_RIDE_NUM': 0.0,\n",
       "    'TWO_ALIGHT_NUM': 0.0,\n",
       "    'THREE_RIDE_NUM': 0.0,\n",
       "    'THREE_ALIGHT_NUM': 0.0,\n",
       "    'WORK_DT': '20210703'},\n",
       "   {'USE_MON': '202106',\n",
       "    'LINE_NUM': '1호선',\n",
       "    'SUB_STA_NM': '종각',\n",
       "    'FOUR_RIDE_NUM': 127.0,\n",
       "    'FOUR_ALIGHT_NUM': 1.0,\n",
       "    'FIVE_RIDE_NUM': 2314.0,\n",
       "    'FIVE_ALIGHT_NUM': 4354.0,\n",
       "    'SIX_RIDE_NUM': 2868.0,\n",
       "    'SIX_ALIGHT_NUM': 23755.0,\n",
       "    'SEVEN_RIDE_NUM': 5479.0,\n",
       "    'SEVEN_ALIGHT_NUM': 96712.0,\n",
       "    'EIGHT_RIDE_NUM': 8419.0,\n",
       "    'EIGHT_ALIGHT_NUM': 223459.0,\n",
       "    'NINE_RIDE_NUM': 10625.0,\n",
       "    'NINE_ALIGHT_NUM': 131420.0,\n",
       "    'TEN_RIDE_NUM': 14727.0,\n",
       "    'TEN_ALIGHT_NUM': 50878.0,\n",
       "    'ELEVEN_RIDE_NUM': 23057.0,\n",
       "    'ELEVEN_ALIGHT_NUM': 44506.0,\n",
       "    'TWELVE_RIDE_NUM': 27707.0,\n",
       "    'TWELVE_ALIGHT_NUM': 39830.0,\n",
       "    'THIRTEEN_RIDE_NUM': 34538.0,\n",
       "    'THIRTEEN_ALIGHT_NUM': 40864.0,\n",
       "    'FOURTEEN_RIDE_NUM': 40378.0,\n",
       "    'FOURTEEN_ALIGHT_NUM': 33173.0,\n",
       "    'FIFTEEN_RIDE_NUM': 49745.0,\n",
       "    'FIFTEEN_ALIGHT_NUM': 29610.0,\n",
       "    'SIXTEEN_RIDE_NUM': 58664.0,\n",
       "    'SIXTEEN_ALIGHT_NUM': 29692.0,\n",
       "    'SEVENTEEN_RIDE_NUM': 114985.0,\n",
       "    'SEVENTEEN_ALIGHT_NUM': 33365.0,\n",
       "    'EIGHTEEN_RIDE_NUM': 192552.0,\n",
       "    'EIGHTEEN_ALIGHT_NUM': 39621.0,\n",
       "    'NINETEEN_RIDE_NUM': 78735.0,\n",
       "    'NINETEEN_ALIGHT_NUM': 19163.0,\n",
       "    'TWENTY_RIDE_NUM': 64989.0,\n",
       "    'TWENTY_ALIGHT_NUM': 7386.0,\n",
       "    'TWENTY_ONE_RIDE_NUM': 81179.0,\n",
       "    'TWENTY_ONE_ALIGHT_NUM': 4790.0,\n",
       "    'TWENTY_TWO_RIDE_NUM': 63653.0,\n",
       "    'TWENTY_TWO_ALIGHT_NUM': 3763.0,\n",
       "    'TWENTY_THREE_RIDE_NUM': 8153.0,\n",
       "    'TWENTY_THREE_ALIGHT_NUM': 1675.0,\n",
       "    'MIDNIGHT_RIDE_NUM': 21.0,\n",
       "    'MIDNIGHT_ALIGHT_NUM': 135.0,\n",
       "    'ONE_RIDE_NUM': 0.0,\n",
       "    'ONE_ALIGHT_NUM': 0.0,\n",
       "    'TWO_RIDE_NUM': 0.0,\n",
       "    'TWO_ALIGHT_NUM': 0.0,\n",
       "    'THREE_RIDE_NUM': 0.0,\n",
       "    'THREE_ALIGHT_NUM': 0.0,\n",
       "    'WORK_DT': '20210703'},\n",
       "   {'USE_MON': '202106',\n",
       "    'LINE_NUM': '1호선',\n",
       "    'SUB_STA_NM': '종로3가',\n",
       "    'FOUR_RIDE_NUM': 191.0,\n",
       "    'FOUR_ALIGHT_NUM': 24.0,\n",
       "    'FIVE_RIDE_NUM': 3227.0,\n",
       "    'FIVE_ALIGHT_NUM': 3388.0,\n",
       "    'SIX_RIDE_NUM': 3069.0,\n",
       "    'SIX_ALIGHT_NUM': 13080.0,\n",
       "    'SEVEN_RIDE_NUM': 5108.0,\n",
       "    'SEVEN_ALIGHT_NUM': 25462.0,\n",
       "    'EIGHT_RIDE_NUM': 7412.0,\n",
       "    'EIGHT_ALIGHT_NUM': 70639.0,\n",
       "    'NINE_RIDE_NUM': 11673.0,\n",
       "    'NINE_ALIGHT_NUM': 73336.0,\n",
       "    'TEN_RIDE_NUM': 18502.0,\n",
       "    'TEN_ALIGHT_NUM': 57312.0,\n",
       "    'ELEVEN_RIDE_NUM': 29882.0,\n",
       "    'ELEVEN_ALIGHT_NUM': 55725.0,\n",
       "    'TWELVE_RIDE_NUM': 37009.0,\n",
       "    'TWELVE_ALIGHT_NUM': 53678.0,\n",
       "    'THIRTEEN_RIDE_NUM': 44050.0,\n",
       "    'THIRTEEN_ALIGHT_NUM': 51189.0,\n",
       "    'FOURTEEN_RIDE_NUM': 47626.0,\n",
       "    'FOURTEEN_ALIGHT_NUM': 46621.0,\n",
       "    'FIFTEEN_RIDE_NUM': 53071.0,\n",
       "    'FIFTEEN_ALIGHT_NUM': 40250.0,\n",
       "    'SIXTEEN_RIDE_NUM': 56955.0,\n",
       "    'SIXTEEN_ALIGHT_NUM': 34679.0,\n",
       "    'SEVENTEEN_RIDE_NUM': 68711.0,\n",
       "    'SEVENTEEN_ALIGHT_NUM': 31234.0,\n",
       "    'EIGHTEEN_RIDE_NUM': 94683.0,\n",
       "    'EIGHTEEN_ALIGHT_NUM': 33315.0,\n",
       "    'NINETEEN_RIDE_NUM': 55993.0,\n",
       "    'NINETEEN_ALIGHT_NUM': 16571.0,\n",
       "    'TWENTY_RIDE_NUM': 41534.0,\n",
       "    'TWENTY_ALIGHT_NUM': 6332.0,\n",
       "    'TWENTY_ONE_RIDE_NUM': 51588.0,\n",
       "    'TWENTY_ONE_ALIGHT_NUM': 4938.0,\n",
       "    'TWENTY_TWO_RIDE_NUM': 47756.0,\n",
       "    'TWENTY_TWO_ALIGHT_NUM': 4591.0,\n",
       "    'TWENTY_THREE_RIDE_NUM': 6768.0,\n",
       "    'TWENTY_THREE_ALIGHT_NUM': 2318.0,\n",
       "    'MIDNIGHT_RIDE_NUM': 25.0,\n",
       "    'MIDNIGHT_ALIGHT_NUM': 413.0,\n",
       "    'ONE_RIDE_NUM': 0.0,\n",
       "    'ONE_ALIGHT_NUM': 0.0,\n",
       "    'TWO_RIDE_NUM': 0.0,\n",
       "    'TWO_ALIGHT_NUM': 0.0,\n",
       "    'THREE_RIDE_NUM': 0.0,\n",
       "    'THREE_ALIGHT_NUM': 0.0,\n",
       "    'WORK_DT': '20210703'}]}}"
      ]
     },
     "execution_count": 127,
     "metadata": {},
     "output_type": "execute_result"
    }
   ],
   "source": [
    "_db.db_open_subwayTable.find_one()"
   ]
  },
  {
   "cell_type": "code",
   "execution_count": 128,
   "id": "130a590f",
   "metadata": {},
   "outputs": [
    {
     "data": {
      "text/plain": [
       "{'_id': ObjectId('613cab7cbac3f48567b17abc'),\n",
       " 'CardSubwayTime': {'list_total_count': 608,\n",
       "  'RESULT': {'CODE': 'INFO-000', 'MESSAGE': '정상 처리되었습니다'},\n",
       "  'row': [{'USE_MON': '202106',\n",
       "    'LINE_NUM': '1호선',\n",
       "    'SUB_STA_NM': '서울역',\n",
       "    'FOUR_RIDE_NUM': 654.0,\n",
       "    'FOUR_ALIGHT_NUM': 17.0,\n",
       "    'FIVE_RIDE_NUM': 9008.0,\n",
       "    'FIVE_ALIGHT_NUM': 6400.0,\n",
       "    'SIX_RIDE_NUM': 12474.0,\n",
       "    'SIX_ALIGHT_NUM': 37203.0,\n",
       "    'SEVEN_RIDE_NUM': 37253.0,\n",
       "    'SEVEN_ALIGHT_NUM': 91875.0,\n",
       "    'EIGHT_RIDE_NUM': 59876.0,\n",
       "    'EIGHT_ALIGHT_NUM': 187805.0,\n",
       "    'NINE_RIDE_NUM': 44619.0,\n",
       "    'NINE_ALIGHT_NUM': 118679.0,\n",
       "    'TEN_RIDE_NUM': 42611.0,\n",
       "    'TEN_ALIGHT_NUM': 57710.0,\n",
       "    'ELEVEN_RIDE_NUM': 49533.0,\n",
       "    'ELEVEN_ALIGHT_NUM': 50003.0,\n",
       "    'TWELVE_RIDE_NUM': 59357.0,\n",
       "    'TWELVE_ALIGHT_NUM': 53317.0,\n",
       "    'THIRTEEN_RIDE_NUM': 61171.0,\n",
       "    'THIRTEEN_ALIGHT_NUM': 53687.0,\n",
       "    'FOURTEEN_RIDE_NUM': 53310.0,\n",
       "    'FOURTEEN_ALIGHT_NUM': 49094.0,\n",
       "    'FIFTEEN_RIDE_NUM': 65767.0,\n",
       "    'FIFTEEN_ALIGHT_NUM': 52788.0,\n",
       "    'SIXTEEN_RIDE_NUM': 76249.0,\n",
       "    'SIXTEEN_ALIGHT_NUM': 53969.0,\n",
       "    'SEVENTEEN_RIDE_NUM': 122928.0,\n",
       "    'SEVENTEEN_ALIGHT_NUM': 64693.0,\n",
       "    'EIGHTEEN_RIDE_NUM': 184907.0,\n",
       "    'EIGHTEEN_ALIGHT_NUM': 73978.0,\n",
       "    'NINETEEN_RIDE_NUM': 87575.0,\n",
       "    'NINETEEN_ALIGHT_NUM': 46769.0,\n",
       "    'TWENTY_RIDE_NUM': 59961.0,\n",
       "    'TWENTY_ALIGHT_NUM': 30743.0,\n",
       "    'TWENTY_ONE_RIDE_NUM': 65078.0,\n",
       "    'TWENTY_ONE_ALIGHT_NUM': 27435.0,\n",
       "    'TWENTY_TWO_RIDE_NUM': 44921.0,\n",
       "    'TWENTY_TWO_ALIGHT_NUM': 22829.0,\n",
       "    'TWENTY_THREE_RIDE_NUM': 11581.0,\n",
       "    'TWENTY_THREE_ALIGHT_NUM': 8024.0,\n",
       "    'MIDNIGHT_RIDE_NUM': 30.0,\n",
       "    'MIDNIGHT_ALIGHT_NUM': 637.0,\n",
       "    'ONE_RIDE_NUM': 0.0,\n",
       "    'ONE_ALIGHT_NUM': 1.0,\n",
       "    'TWO_RIDE_NUM': 0.0,\n",
       "    'TWO_ALIGHT_NUM': 0.0,\n",
       "    'THREE_RIDE_NUM': 0.0,\n",
       "    'THREE_ALIGHT_NUM': 0.0,\n",
       "    'WORK_DT': '20210703'},\n",
       "   {'USE_MON': '202106',\n",
       "    'LINE_NUM': '1호선',\n",
       "    'SUB_STA_NM': '동묘앞',\n",
       "    'FOUR_RIDE_NUM': 51.0,\n",
       "    'FOUR_ALIGHT_NUM': 1.0,\n",
       "    'FIVE_RIDE_NUM': 3218.0,\n",
       "    'FIVE_ALIGHT_NUM': 1100.0,\n",
       "    'SIX_RIDE_NUM': 3422.0,\n",
       "    'SIX_ALIGHT_NUM': 4802.0,\n",
       "    'SEVEN_RIDE_NUM': 5896.0,\n",
       "    'SEVEN_ALIGHT_NUM': 9703.0,\n",
       "    'EIGHT_RIDE_NUM': 9194.0,\n",
       "    'EIGHT_ALIGHT_NUM': 24921.0,\n",
       "    'NINE_RIDE_NUM': 8022.0,\n",
       "    'NINE_ALIGHT_NUM': 17333.0,\n",
       "    'TEN_RIDE_NUM': 9687.0,\n",
       "    'TEN_ALIGHT_NUM': 19292.0,\n",
       "    'ELEVEN_RIDE_NUM': 14091.0,\n",
       "    'ELEVEN_ALIGHT_NUM': 24305.0,\n",
       "    'TWELVE_RIDE_NUM': 20089.0,\n",
       "    'TWELVE_ALIGHT_NUM': 26186.0,\n",
       "    'THIRTEEN_RIDE_NUM': 24776.0,\n",
       "    'THIRTEEN_ALIGHT_NUM': 28141.0,\n",
       "    'FOURTEEN_RIDE_NUM': 27144.0,\n",
       "    'FOURTEEN_ALIGHT_NUM': 26643.0,\n",
       "    'FIFTEEN_RIDE_NUM': 28360.0,\n",
       "    'FIFTEEN_ALIGHT_NUM': 23213.0,\n",
       "    'SIXTEEN_RIDE_NUM': 31119.0,\n",
       "    'SIXTEEN_ALIGHT_NUM': 17744.0,\n",
       "    'SEVENTEEN_RIDE_NUM': 27036.0,\n",
       "    'SEVENTEEN_ALIGHT_NUM': 13759.0,\n",
       "    'EIGHTEEN_RIDE_NUM': 23606.0,\n",
       "    'EIGHTEEN_ALIGHT_NUM': 10098.0,\n",
       "    'NINETEEN_RIDE_NUM': 11006.0,\n",
       "    'NINETEEN_ALIGHT_NUM': 6510.0,\n",
       "    'TWENTY_RIDE_NUM': 6119.0,\n",
       "    'TWENTY_ALIGHT_NUM': 4409.0,\n",
       "    'TWENTY_ONE_RIDE_NUM': 5485.0,\n",
       "    'TWENTY_ONE_ALIGHT_NUM': 4265.0,\n",
       "    'TWENTY_TWO_RIDE_NUM': 3405.0,\n",
       "    'TWENTY_TWO_ALIGHT_NUM': 5689.0,\n",
       "    'TWENTY_THREE_RIDE_NUM': 1035.0,\n",
       "    'TWENTY_THREE_ALIGHT_NUM': 2589.0,\n",
       "    'MIDNIGHT_RIDE_NUM': 4.0,\n",
       "    'MIDNIGHT_ALIGHT_NUM': 1348.0,\n",
       "    'ONE_RIDE_NUM': 0.0,\n",
       "    'ONE_ALIGHT_NUM': 0.0,\n",
       "    'TWO_RIDE_NUM': 0.0,\n",
       "    'TWO_ALIGHT_NUM': 0.0,\n",
       "    'THREE_RIDE_NUM': 0.0,\n",
       "    'THREE_ALIGHT_NUM': 0.0,\n",
       "    'WORK_DT': '20210703'},\n",
       "   {'USE_MON': '202106',\n",
       "    'LINE_NUM': '1호선',\n",
       "    'SUB_STA_NM': '시청',\n",
       "    'FOUR_RIDE_NUM': 37.0,\n",
       "    'FOUR_ALIGHT_NUM': 0.0,\n",
       "    'FIVE_RIDE_NUM': 1881.0,\n",
       "    'FIVE_ALIGHT_NUM': 4340.0,\n",
       "    'SIX_RIDE_NUM': 2948.0,\n",
       "    'SIX_ALIGHT_NUM': 21443.0,\n",
       "    'SEVEN_RIDE_NUM': 6280.0,\n",
       "    'SEVEN_ALIGHT_NUM': 62346.0,\n",
       "    'EIGHT_RIDE_NUM': 7740.0,\n",
       "    'EIGHT_ALIGHT_NUM': 167991.0,\n",
       "    'NINE_RIDE_NUM': 8117.0,\n",
       "    'NINE_ALIGHT_NUM': 72853.0,\n",
       "    'TEN_RIDE_NUM': 9284.0,\n",
       "    'TEN_ALIGHT_NUM': 29250.0,\n",
       "    'ELEVEN_RIDE_NUM': 14030.0,\n",
       "    'ELEVEN_ALIGHT_NUM': 27989.0,\n",
       "    'TWELVE_RIDE_NUM': 15295.0,\n",
       "    'TWELVE_ALIGHT_NUM': 25037.0,\n",
       "    'THIRTEEN_RIDE_NUM': 18849.0,\n",
       "    'THIRTEEN_ALIGHT_NUM': 24492.0,\n",
       "    'FOURTEEN_RIDE_NUM': 23331.0,\n",
       "    'FOURTEEN_ALIGHT_NUM': 20032.0,\n",
       "    'FIFTEEN_RIDE_NUM': 30469.0,\n",
       "    'FIFTEEN_ALIGHT_NUM': 17869.0,\n",
       "    'SIXTEEN_RIDE_NUM': 36116.0,\n",
       "    'SIXTEEN_ALIGHT_NUM': 15593.0,\n",
       "    'SEVENTEEN_RIDE_NUM': 66595.0,\n",
       "    'SEVENTEEN_ALIGHT_NUM': 16611.0,\n",
       "    'EIGHTEEN_RIDE_NUM': 135842.0,\n",
       "    'EIGHTEEN_ALIGHT_NUM': 17805.0,\n",
       "    'NINETEEN_RIDE_NUM': 46850.0,\n",
       "    'NINETEEN_ALIGHT_NUM': 8139.0,\n",
       "    'TWENTY_RIDE_NUM': 38173.0,\n",
       "    'TWENTY_ALIGHT_NUM': 4455.0,\n",
       "    'TWENTY_ONE_RIDE_NUM': 39048.0,\n",
       "    'TWENTY_ONE_ALIGHT_NUM': 4234.0,\n",
       "    'TWENTY_TWO_RIDE_NUM': 28501.0,\n",
       "    'TWENTY_TWO_ALIGHT_NUM': 3686.0,\n",
       "    'TWENTY_THREE_RIDE_NUM': 4390.0,\n",
       "    'TWENTY_THREE_ALIGHT_NUM': 1485.0,\n",
       "    'MIDNIGHT_RIDE_NUM': 3.0,\n",
       "    'MIDNIGHT_ALIGHT_NUM': 92.0,\n",
       "    'ONE_RIDE_NUM': 0.0,\n",
       "    'ONE_ALIGHT_NUM': 0.0,\n",
       "    'TWO_RIDE_NUM': 0.0,\n",
       "    'TWO_ALIGHT_NUM': 0.0,\n",
       "    'THREE_RIDE_NUM': 0.0,\n",
       "    'THREE_ALIGHT_NUM': 0.0,\n",
       "    'WORK_DT': '20210703'},\n",
       "   {'USE_MON': '202106',\n",
       "    'LINE_NUM': '1호선',\n",
       "    'SUB_STA_NM': '종각',\n",
       "    'FOUR_RIDE_NUM': 127.0,\n",
       "    'FOUR_ALIGHT_NUM': 1.0,\n",
       "    'FIVE_RIDE_NUM': 2314.0,\n",
       "    'FIVE_ALIGHT_NUM': 4354.0,\n",
       "    'SIX_RIDE_NUM': 2868.0,\n",
       "    'SIX_ALIGHT_NUM': 23755.0,\n",
       "    'SEVEN_RIDE_NUM': 5479.0,\n",
       "    'SEVEN_ALIGHT_NUM': 96712.0,\n",
       "    'EIGHT_RIDE_NUM': 8419.0,\n",
       "    'EIGHT_ALIGHT_NUM': 223459.0,\n",
       "    'NINE_RIDE_NUM': 10625.0,\n",
       "    'NINE_ALIGHT_NUM': 131420.0,\n",
       "    'TEN_RIDE_NUM': 14727.0,\n",
       "    'TEN_ALIGHT_NUM': 50878.0,\n",
       "    'ELEVEN_RIDE_NUM': 23057.0,\n",
       "    'ELEVEN_ALIGHT_NUM': 44506.0,\n",
       "    'TWELVE_RIDE_NUM': 27707.0,\n",
       "    'TWELVE_ALIGHT_NUM': 39830.0,\n",
       "    'THIRTEEN_RIDE_NUM': 34538.0,\n",
       "    'THIRTEEN_ALIGHT_NUM': 40864.0,\n",
       "    'FOURTEEN_RIDE_NUM': 40378.0,\n",
       "    'FOURTEEN_ALIGHT_NUM': 33173.0,\n",
       "    'FIFTEEN_RIDE_NUM': 49745.0,\n",
       "    'FIFTEEN_ALIGHT_NUM': 29610.0,\n",
       "    'SIXTEEN_RIDE_NUM': 58664.0,\n",
       "    'SIXTEEN_ALIGHT_NUM': 29692.0,\n",
       "    'SEVENTEEN_RIDE_NUM': 114985.0,\n",
       "    'SEVENTEEN_ALIGHT_NUM': 33365.0,\n",
       "    'EIGHTEEN_RIDE_NUM': 192552.0,\n",
       "    'EIGHTEEN_ALIGHT_NUM': 39621.0,\n",
       "    'NINETEEN_RIDE_NUM': 78735.0,\n",
       "    'NINETEEN_ALIGHT_NUM': 19163.0,\n",
       "    'TWENTY_RIDE_NUM': 64989.0,\n",
       "    'TWENTY_ALIGHT_NUM': 7386.0,\n",
       "    'TWENTY_ONE_RIDE_NUM': 81179.0,\n",
       "    'TWENTY_ONE_ALIGHT_NUM': 4790.0,\n",
       "    'TWENTY_TWO_RIDE_NUM': 63653.0,\n",
       "    'TWENTY_TWO_ALIGHT_NUM': 3763.0,\n",
       "    'TWENTY_THREE_RIDE_NUM': 8153.0,\n",
       "    'TWENTY_THREE_ALIGHT_NUM': 1675.0,\n",
       "    'MIDNIGHT_RIDE_NUM': 21.0,\n",
       "    'MIDNIGHT_ALIGHT_NUM': 135.0,\n",
       "    'ONE_RIDE_NUM': 0.0,\n",
       "    'ONE_ALIGHT_NUM': 0.0,\n",
       "    'TWO_RIDE_NUM': 0.0,\n",
       "    'TWO_ALIGHT_NUM': 0.0,\n",
       "    'THREE_RIDE_NUM': 0.0,\n",
       "    'THREE_ALIGHT_NUM': 0.0,\n",
       "    'WORK_DT': '20210703'},\n",
       "   {'USE_MON': '202106',\n",
       "    'LINE_NUM': '1호선',\n",
       "    'SUB_STA_NM': '종로3가',\n",
       "    'FOUR_RIDE_NUM': 191.0,\n",
       "    'FOUR_ALIGHT_NUM': 24.0,\n",
       "    'FIVE_RIDE_NUM': 3227.0,\n",
       "    'FIVE_ALIGHT_NUM': 3388.0,\n",
       "    'SIX_RIDE_NUM': 3069.0,\n",
       "    'SIX_ALIGHT_NUM': 13080.0,\n",
       "    'SEVEN_RIDE_NUM': 5108.0,\n",
       "    'SEVEN_ALIGHT_NUM': 25462.0,\n",
       "    'EIGHT_RIDE_NUM': 7412.0,\n",
       "    'EIGHT_ALIGHT_NUM': 70639.0,\n",
       "    'NINE_RIDE_NUM': 11673.0,\n",
       "    'NINE_ALIGHT_NUM': 73336.0,\n",
       "    'TEN_RIDE_NUM': 18502.0,\n",
       "    'TEN_ALIGHT_NUM': 57312.0,\n",
       "    'ELEVEN_RIDE_NUM': 29882.0,\n",
       "    'ELEVEN_ALIGHT_NUM': 55725.0,\n",
       "    'TWELVE_RIDE_NUM': 37009.0,\n",
       "    'TWELVE_ALIGHT_NUM': 53678.0,\n",
       "    'THIRTEEN_RIDE_NUM': 44050.0,\n",
       "    'THIRTEEN_ALIGHT_NUM': 51189.0,\n",
       "    'FOURTEEN_RIDE_NUM': 47626.0,\n",
       "    'FOURTEEN_ALIGHT_NUM': 46621.0,\n",
       "    'FIFTEEN_RIDE_NUM': 53071.0,\n",
       "    'FIFTEEN_ALIGHT_NUM': 40250.0,\n",
       "    'SIXTEEN_RIDE_NUM': 56955.0,\n",
       "    'SIXTEEN_ALIGHT_NUM': 34679.0,\n",
       "    'SEVENTEEN_RIDE_NUM': 68711.0,\n",
       "    'SEVENTEEN_ALIGHT_NUM': 31234.0,\n",
       "    'EIGHTEEN_RIDE_NUM': 94683.0,\n",
       "    'EIGHTEEN_ALIGHT_NUM': 33315.0,\n",
       "    'NINETEEN_RIDE_NUM': 55993.0,\n",
       "    'NINETEEN_ALIGHT_NUM': 16571.0,\n",
       "    'TWENTY_RIDE_NUM': 41534.0,\n",
       "    'TWENTY_ALIGHT_NUM': 6332.0,\n",
       "    'TWENTY_ONE_RIDE_NUM': 51588.0,\n",
       "    'TWENTY_ONE_ALIGHT_NUM': 4938.0,\n",
       "    'TWENTY_TWO_RIDE_NUM': 47756.0,\n",
       "    'TWENTY_TWO_ALIGHT_NUM': 4591.0,\n",
       "    'TWENTY_THREE_RIDE_NUM': 6768.0,\n",
       "    'TWENTY_THREE_ALIGHT_NUM': 2318.0,\n",
       "    'MIDNIGHT_RIDE_NUM': 25.0,\n",
       "    'MIDNIGHT_ALIGHT_NUM': 413.0,\n",
       "    'ONE_RIDE_NUM': 0.0,\n",
       "    'ONE_ALIGHT_NUM': 0.0,\n",
       "    'TWO_RIDE_NUM': 0.0,\n",
       "    'TWO_ALIGHT_NUM': 0.0,\n",
       "    'THREE_RIDE_NUM': 0.0,\n",
       "    'THREE_ALIGHT_NUM': 0.0,\n",
       "    'WORK_DT': '20210703'}]}}"
      ]
     },
     "execution_count": 128,
     "metadata": {},
     "output_type": "execute_result"
    }
   ],
   "source": [
    "_db.db_open_subwayTable.find_one({\"CardSubwayTime.row.SUB_STA_NM\":\"서울역\"})"
   ]
  },
  {
   "cell_type": "code",
   "execution_count": 129,
   "id": "2f1566f5",
   "metadata": {},
   "outputs": [
    {
     "name": "stdout",
     "output_type": "stream",
     "text": [
      "Writing src/ds_open_subwayTime_mongo.js\n"
     ]
    }
   ],
   "source": [
    "%%writefile src/ds_open_subwayTime_mongo.js\n",
    "show dbs\n",
    "use ds_open_subwayPassengersDb\n",
    "show collections\n",
    "db.db_open_subwayTable.find()\n",
    "db.db_open_subwayTable.find({\"CardSubwayTime.row.SUB_STA_NM\":\"서울역\"})"
   ]
  },
  {
   "cell_type": "code",
   "execution_count": 130,
   "id": "f00c4143",
   "metadata": {},
   "outputs": [
    {
     "name": "stderr",
     "output_type": "stream",
     "text": [
      "'mongo'은(는) 내부 또는 외부 명령, 실행할 수 있는 프로그램, 또는\n",
      "배치 파일이 아닙니다.\n"
     ]
    }
   ],
   "source": [
    "!mongo < src/ds_open_subwayTime_mongo.js"
   ]
  },
  {
   "cell_type": "code",
   "execution_count": null,
   "id": "1d019a3b",
   "metadata": {},
   "outputs": [],
   "source": []
  },
  {
   "cell_type": "code",
   "execution_count": null,
   "id": "c69544ce",
   "metadata": {},
   "outputs": [],
   "source": []
  }
 ],
 "metadata": {
  "kernelspec": {
   "display_name": "Python 3",
   "language": "python",
   "name": "python3"
  },
  "language_info": {
   "codemirror_mode": {
    "name": "ipython",
    "version": 3
   },
   "file_extension": ".py",
   "mimetype": "text/x-python",
   "name": "python",
   "nbconvert_exporter": "python",
   "pygments_lexer": "ipython3",
   "version": "3.8.8"
  }
 },
 "nbformat": 4,
 "nbformat_minor": 5
}
