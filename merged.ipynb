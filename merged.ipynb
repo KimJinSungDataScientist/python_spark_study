{
 "cells": [
  {
   "cell_type": "code",
   "execution_count": 1,
   "id": "86267f9b",
   "metadata": {
    "ExecuteTime": {
     "end_time": "2021-10-21T01:00:22.369779Z",
     "start_time": "2021-10-21T01:00:22.362350Z"
    }
   },
   "outputs": [],
   "source": [
    "import os\n",
    "import src.mylib\n",
    "\n",
    "keyPath=os.path.join(os.getcwd(), 'src', 'key.properties')\n",
    "key=src.mylib.getKey(keyPath)\n",
    "\n",
    "print (key['dataseoul'])\n",
    "print (key['gokr'])"
   ]
  },
  {
   "cell_type": "markdown",
   "id": "a65d9f5d",
   "metadata": {},
   "source": [
    "# seoul api"
   ]
  },
  {
   "cell_type": "code",
   "execution_count": 6,
   "id": "af91d420",
   "metadata": {
    "ExecuteTime": {
     "end_time": "2021-10-21T01:05:22.421934Z",
     "start_time": "2021-10-21T01:05:22.414989Z"
    }
   },
   "outputs": [],
   "source": [
    "import os\n",
    "import src.mylib\n",
    "\n",
    "keyPath=os.path.join(os.getcwd(), 'src', 'key.properties')\n",
    "key=src.mylib.getKey(keyPath)\n",
    "KEY = str(key['dataseoul'])\n",
    "\n",
    "#api\n",
    "TYPE='json'\n",
    "SERVICE = 'SearchSTNBySubwayLineInfo'\n",
    "START_INDEX=str(1)\n",
    "END_INDEX=str(10)\n",
    "LINE_NUM=str(2)\n",
    "\n",
    "params='/'.join([KEY,TYPE,SERVICE,START_INDEX,END_INDEX,'','',LINE_NUM])\n",
    "\n",
    "_url = 'http://openAPI.seoul.go.kr:8088'\n",
    "url='/'.join([_url,params])"
   ]
  },
  {
   "cell_type": "code",
   "execution_count": 8,
   "id": "ef9154f7",
   "metadata": {
    "ExecuteTime": {
     "end_time": "2021-10-21T01:05:55.034086Z",
     "start_time": "2021-10-21T01:05:54.947539Z"
    }
   },
   "outputs": [
    {
     "name": "stdout",
     "output_type": "stream",
     "text": [
      "0159\t동묘앞            \t127\t01호선\n",
      "0416\t미아사거리          \t416\t04호선\n",
      "0423\t충무로            \t423\t04호선\n",
      "1004\t노량진            \t136\t01호선\n",
      "1010\t한남             \tK113\t경의선\n",
      "0309\t지축             \t319\t03호선\n",
      "0321\t충무로            \t331\t03호선\n",
      "0333\t매봉             \t343\t03호선\n",
      "0340\t가락시장           \t350\t03호선\n",
      "0424\t명동             \t424\t04호선\n"
     ]
    }
   ],
   "source": [
    "import requests\n",
    "\n",
    "r = requests.get(url)\n",
    "\n",
    "stations=r.json()\n",
    "\n",
    "for e in stations['SearchSTNBySubwayLineInfo']['row']:\n",
    "    print (\"{0:4s}\\t{1:15s}\\t{2:3s}\\t{3:2s}\".format(e['STATION_CD'], e['STATION_NM'], e['FR_CODE'], e['LINE_NUM']))"
   ]
  },
  {
   "cell_type": "markdown",
   "id": "5880c7d5",
   "metadata": {},
   "source": [
    "# while json seoul api"
   ]
  },
  {
   "cell_type": "code",
   "execution_count": 9,
   "id": "63b1c6ef",
   "metadata": {
    "ExecuteTime": {
     "end_time": "2021-10-21T01:07:47.359362Z",
     "start_time": "2021-10-21T01:07:47.353775Z"
    }
   },
   "outputs": [
    {
     "name": "stdout",
     "output_type": "stream",
     "text": [
      "Overwriting src/ds_open_subway_iter_json.py\n"
     ]
    }
   ],
   "source": [
    "%%writefile src/ds_open_subway_iter_json.py\n",
    "#!/usr/bin/env python\n",
    "# coding: utf-8\n",
    "import os\n",
    "import requests\n",
    "import urllib\n",
    "import mylib # NO! src.mylib\n",
    "\n",
    "def doIt():\n",
    "    keyPath=os.path.join(os.getcwd(), 'src', 'key.properties')\n",
    "    key=mylib.getKey(keyPath)\n",
    "    # (1) make params with resource IDs\n",
    "    KEY=str(key['dataseoul'])\n",
    "    TYPE='json'\n",
    "    #OLD: SERVICE='SearchSTNBySubwayLineService'\n",
    "    SERVICE='SearchSTNBySubwayLineInfo'\n",
    "    LINE_NUM=str(2)\n",
    "    START_INDEX=str(1)\n",
    "    END_INDEX=str(10)\n",
    "    startIndex=1\n",
    "    endIndex=10\n",
    "    list_total_count=0    # set later\n",
    "    while True:\n",
    "        START_INDEX=str(startIndex)\n",
    "        END_INDEX=str(endIndex)\n",
    "        #params=os.path.join(KEY,TYPE,SERVICE,START_INDEX,END_INDEX,LINE_NUM)\n",
    "        params=\"/\".join([KEY,TYPE,SERVICE,START_INDEX,END_INDEX,'','',LINE_NUM])\n",
    "        # (2) make a full url\n",
    "        _url='http://openAPI.seoul.go.kr:8088' #NOTE slash: do not use 'http://openAPI.seoul.go.kr:8088/'\n",
    "        #url=urllib.parse.urljoin(_url,params)\n",
    "        url=\"/\".join([_url,params])\n",
    "        #print(url)\n",
    "        # (3) get data\n",
    "        r=requests.get(url)\n",
    "        #print(r)\n",
    "        stations=r.json()\n",
    "        #print(stations)\n",
    "        if(startIndex==1):\n",
    "            list_total_count=stations['SearchSTNBySubwayLineInfo']['list_total_count']\n",
    "            print(\"- Total Count: \", list_total_count)\n",
    "        for e in stations['SearchSTNBySubwayLineInfo']['row']:\n",
    "            print (u\"{0:4s}\\t{1:15s}\\t{2:3s}\\t{3:2s}\".format(e['STATION_CD'], e['STATION_NM'], e['FR_CODE'], e['LINE_NUM']))\n",
    "        startIndex+=10\n",
    "        endIndex+=10\n",
    "        if(endIndex > list_total_count):\n",
    "            print(\"----- Ending endIndex=\",endIndex)\n",
    "            break  # exit from the while loop\n",
    "\n",
    "if __name__ == \"__main__\":\n",
    "    doIt()"
   ]
  },
  {
   "cell_type": "markdown",
   "id": "f2f9c0a2",
   "metadata": {},
   "source": [
    "# while xml seoul"
   ]
  },
  {
   "cell_type": "code",
   "execution_count": null,
   "id": "00bed3c2",
   "metadata": {
    "code_folding": [
     51
    ]
   },
   "outputs": [],
   "source": [
    "%%writefile src/ds_open_subway_xml.py\n",
    "#!/usr/bin/env python\n",
    "# coding: utf-8\n",
    "import os\n",
    "import requests\n",
    "import urllib\n",
    "import mylib # NO! src.mylib\n",
    "import lxml\n",
    "import lxml.etree\n",
    "from io import StringIO\n",
    "\n",
    "def doIt():\n",
    "    keyPath=os.path.join(os.getcwd(), 'src', 'key.properties')\n",
    "    key=mylib.getKey(keyPath)\n",
    "    # (1) make params with resource IDs\n",
    "    KEY=str(key['dataseoul'])\n",
    "    TYPE='xml'\n",
    "    #OLD: SERVICE='SearchSTNBySubwayLineService'\n",
    "    SERVICE='SearchSTNBySubwayLineInfo'\n",
    "    LINE_NUM=str(2)\n",
    "    START_INDEX=str(1)\n",
    "    END_INDEX=str(10)\n",
    "    startIndex=1\n",
    "    endIndex=10\n",
    "    list_total_count=0    # set later\n",
    "    while True:\n",
    "        START_INDEX=str(startIndex)\n",
    "        END_INDEX=str(endIndex)\n",
    "        #params=os.path.join(KEY,TYPE,SERVICE,START_INDEX,END_INDEX,LINE_NUM)\n",
    "        params=\"/\".join([KEY,TYPE,SERVICE,START_INDEX,END_INDEX,'','',LINE_NUM])\n",
    "        # (2) make a full url\n",
    "        _url='http://openAPI.seoul.go.kr:8088' #NOTE slash: do not use 'http://openAPI.seoul.go.kr:8088/'\n",
    "        #url=urllib.parse.urljoin(_url,params)\n",
    "        url=\"/\".join([_url,params])\n",
    "        #print(url)\n",
    "        # (3) get data\n",
    "        data=requests.get(url).text\n",
    "        #tree=lxml.etree.parse(StringIO(data.encode('utf-8')))\n",
    "        tree=lxml.etree.fromstring(data.encode('utf-8'))\n",
    "        if(startIndex==1):\n",
    "            for node in tree.xpath('//list_total_count'):\n",
    "                list_total_count=int(node.text)\n",
    "                print (\"- Total_count=\",list_total_count)\n",
    "        for node in tree.xpath('//STATION_NM'):\n",
    "            print (node.text, end=\", \")\n",
    "        startIndex+=10\n",
    "        endIndex+=10\n",
    "        if(endIndex > list_total_count):\n",
    "            print(\"----- Ending endIndex=\", endIndex)\n",
    "            break\n",
    "\n",
    "if __name__ == \"__main__\":\n",
    "    doIt()"
   ]
  },
  {
   "cell_type": "markdown",
   "id": "cfc31bed",
   "metadata": {},
   "source": [
    "# mongo db"
   ]
  },
  {
   "cell_type": "code",
   "execution_count": 18,
   "id": "99047f1d",
   "metadata": {
    "ExecuteTime": {
     "end_time": "2021-10-23T07:50:41.306998Z",
     "start_time": "2021-10-23T07:50:41.301073Z"
    }
   },
   "outputs": [],
   "source": [
    "import pymongo\n",
    "\n",
    "Client = pymongo.MongoClient('mongodb://localhost:27017')\n",
    "db=Client.myDB"
   ]
  },
  {
   "cell_type": "code",
   "execution_count": 14,
   "id": "ac355fa9",
   "metadata": {
    "ExecuteTime": {
     "end_time": "2021-10-21T01:28:19.086428Z",
     "start_time": "2021-10-21T01:27:48.844216Z"
    },
    "collapsed": true
   },
   "outputs": [
    {
     "ename": "ServerSelectionTimeoutError",
     "evalue": "localhost:27017: [Errno 61] Connection refused, Timeout: 30s, Topology Description: <TopologyDescription id: 6170c202c5b2fe9e65886fbd, topology_type: Single, servers: [<ServerDescription ('localhost', 27017) server_type: Unknown, rtt: None, error=AutoReconnect('localhost:27017: [Errno 61] Connection refused')>]>",
     "output_type": "error",
     "traceback": [
      "\u001b[0;31m---------------------------------------------------------------------------\u001b[0m",
      "\u001b[0;31mServerSelectionTimeoutError\u001b[0m               Traceback (most recent call last)",
      "\u001b[0;32m<ipython-input-14-f2f30c15890c>\u001b[0m in \u001b[0;36m<module>\u001b[0;34m\u001b[0m\n\u001b[1;32m      1\u001b[0m \u001b[0mdb\u001b[0m\u001b[0;34m=\u001b[0m\u001b[0mClient\u001b[0m\u001b[0;34m.\u001b[0m\u001b[0mmyDB\u001b[0m\u001b[0;34m\u001b[0m\u001b[0;34m\u001b[0m\u001b[0m\n\u001b[0;32m----> 2\u001b[0;31m \u001b[0mprint\u001b[0m\u001b[0;34m(\u001b[0m\u001b[0mClient\u001b[0m\u001b[0;34m.\u001b[0m\u001b[0mlist_database_names\u001b[0m\u001b[0;34m(\u001b[0m\u001b[0;34m)\u001b[0m\u001b[0;34m)\u001b[0m\u001b[0;34m\u001b[0m\u001b[0;34m\u001b[0m\u001b[0m\n\u001b[0m",
      "\u001b[0;32m/opt/anaconda3/lib/python3.8/site-packages/pymongo/mongo_client.py\u001b[0m in \u001b[0;36mlist_database_names\u001b[0;34m(self, session)\u001b[0m\n\u001b[1;32m   2035\u001b[0m         \"\"\"\n\u001b[1;32m   2036\u001b[0m         return [doc[\"name\"]\n\u001b[0;32m-> 2037\u001b[0;31m                 for doc in self.list_databases(session, nameOnly=True)]\n\u001b[0m\u001b[1;32m   2038\u001b[0m \u001b[0;34m\u001b[0m\u001b[0m\n\u001b[1;32m   2039\u001b[0m     \u001b[0;32mdef\u001b[0m \u001b[0mdatabase_names\u001b[0m\u001b[0;34m(\u001b[0m\u001b[0mself\u001b[0m\u001b[0;34m,\u001b[0m \u001b[0msession\u001b[0m\u001b[0;34m=\u001b[0m\u001b[0;32mNone\u001b[0m\u001b[0;34m)\u001b[0m\u001b[0;34m:\u001b[0m\u001b[0;34m\u001b[0m\u001b[0;34m\u001b[0m\u001b[0m\n",
      "\u001b[0;32m/opt/anaconda3/lib/python3.8/site-packages/pymongo/mongo_client.py\u001b[0m in \u001b[0;36mlist_databases\u001b[0;34m(self, session, **kwargs)\u001b[0m\n\u001b[1;32m   2016\u001b[0m         \u001b[0mcmd\u001b[0m\u001b[0;34m.\u001b[0m\u001b[0mupdate\u001b[0m\u001b[0;34m(\u001b[0m\u001b[0mkwargs\u001b[0m\u001b[0;34m)\u001b[0m\u001b[0;34m\u001b[0m\u001b[0;34m\u001b[0m\u001b[0m\n\u001b[1;32m   2017\u001b[0m         \u001b[0madmin\u001b[0m \u001b[0;34m=\u001b[0m \u001b[0mself\u001b[0m\u001b[0;34m.\u001b[0m\u001b[0m_database_default_options\u001b[0m\u001b[0;34m(\u001b[0m\u001b[0;34m\"admin\"\u001b[0m\u001b[0;34m)\u001b[0m\u001b[0;34m\u001b[0m\u001b[0;34m\u001b[0m\u001b[0m\n\u001b[0;32m-> 2018\u001b[0;31m         \u001b[0mres\u001b[0m \u001b[0;34m=\u001b[0m \u001b[0madmin\u001b[0m\u001b[0;34m.\u001b[0m\u001b[0m_retryable_read_command\u001b[0m\u001b[0;34m(\u001b[0m\u001b[0mcmd\u001b[0m\u001b[0;34m,\u001b[0m \u001b[0msession\u001b[0m\u001b[0;34m=\u001b[0m\u001b[0msession\u001b[0m\u001b[0;34m)\u001b[0m\u001b[0;34m\u001b[0m\u001b[0;34m\u001b[0m\u001b[0m\n\u001b[0m\u001b[1;32m   2019\u001b[0m         \u001b[0;31m# listDatabases doesn't return a cursor (yet). Fake one.\u001b[0m\u001b[0;34m\u001b[0m\u001b[0;34m\u001b[0m\u001b[0;34m\u001b[0m\u001b[0m\n\u001b[1;32m   2020\u001b[0m         cursor = {\n",
      "\u001b[0;32m/opt/anaconda3/lib/python3.8/site-packages/pymongo/database.py\u001b[0m in \u001b[0;36m_retryable_read_command\u001b[0;34m(self, command, value, check, allowable_errors, read_preference, codec_options, session, **kwargs)\u001b[0m\n\u001b[1;32m    774\u001b[0m                                  codec_options, session=session, **kwargs)\n\u001b[1;32m    775\u001b[0m \u001b[0;34m\u001b[0m\u001b[0m\n\u001b[0;32m--> 776\u001b[0;31m         return self.__client._retryable_read(\n\u001b[0m\u001b[1;32m    777\u001b[0m             _cmd, read_preference, session)\n\u001b[1;32m    778\u001b[0m \u001b[0;34m\u001b[0m\u001b[0m\n",
      "\u001b[0;32m/opt/anaconda3/lib/python3.8/site-packages/pymongo/mongo_client.py\u001b[0m in \u001b[0;36m_retryable_read\u001b[0;34m(self, func, read_pref, session, address, retryable)\u001b[0m\n\u001b[1;32m   1512\u001b[0m         \u001b[0;32mwhile\u001b[0m \u001b[0;32mTrue\u001b[0m\u001b[0;34m:\u001b[0m\u001b[0;34m\u001b[0m\u001b[0;34m\u001b[0m\u001b[0m\n\u001b[1;32m   1513\u001b[0m             \u001b[0;32mtry\u001b[0m\u001b[0;34m:\u001b[0m\u001b[0;34m\u001b[0m\u001b[0;34m\u001b[0m\u001b[0m\n\u001b[0;32m-> 1514\u001b[0;31m                 server = self._select_server(\n\u001b[0m\u001b[1;32m   1515\u001b[0m                     read_pref, session, address=address)\n\u001b[1;32m   1516\u001b[0m                 \u001b[0;32mif\u001b[0m \u001b[0;32mnot\u001b[0m \u001b[0mserver\u001b[0m\u001b[0;34m.\u001b[0m\u001b[0mdescription\u001b[0m\u001b[0;34m.\u001b[0m\u001b[0mretryable_reads_supported\u001b[0m\u001b[0;34m:\u001b[0m\u001b[0;34m\u001b[0m\u001b[0;34m\u001b[0m\u001b[0m\n",
      "\u001b[0;32m/opt/anaconda3/lib/python3.8/site-packages/pymongo/mongo_client.py\u001b[0m in \u001b[0;36m_select_server\u001b[0;34m(self, server_selector, session, address)\u001b[0m\n\u001b[1;32m   1344\u001b[0m                                         % address)\n\u001b[1;32m   1345\u001b[0m             \u001b[0;32melse\u001b[0m\u001b[0;34m:\u001b[0m\u001b[0;34m\u001b[0m\u001b[0;34m\u001b[0m\u001b[0m\n\u001b[0;32m-> 1346\u001b[0;31m                 \u001b[0mserver\u001b[0m \u001b[0;34m=\u001b[0m \u001b[0mtopology\u001b[0m\u001b[0;34m.\u001b[0m\u001b[0mselect_server\u001b[0m\u001b[0;34m(\u001b[0m\u001b[0mserver_selector\u001b[0m\u001b[0;34m)\u001b[0m\u001b[0;34m\u001b[0m\u001b[0;34m\u001b[0m\u001b[0m\n\u001b[0m\u001b[1;32m   1347\u001b[0m             \u001b[0;32mreturn\u001b[0m \u001b[0mserver\u001b[0m\u001b[0;34m\u001b[0m\u001b[0;34m\u001b[0m\u001b[0m\n\u001b[1;32m   1348\u001b[0m         \u001b[0;32mexcept\u001b[0m \u001b[0mPyMongoError\u001b[0m \u001b[0;32mas\u001b[0m \u001b[0mexc\u001b[0m\u001b[0;34m:\u001b[0m\u001b[0;34m\u001b[0m\u001b[0;34m\u001b[0m\u001b[0m\n",
      "\u001b[0;32m/opt/anaconda3/lib/python3.8/site-packages/pymongo/topology.py\u001b[0m in \u001b[0;36mselect_server\u001b[0;34m(self, selector, server_selection_timeout, address)\u001b[0m\n\u001b[1;32m    242\u001b[0m                       address=None):\n\u001b[1;32m    243\u001b[0m         \u001b[0;34m\"\"\"Like select_servers, but choose a random server if several match.\"\"\"\u001b[0m\u001b[0;34m\u001b[0m\u001b[0;34m\u001b[0m\u001b[0m\n\u001b[0;32m--> 244\u001b[0;31m         return random.choice(self.select_servers(selector,\n\u001b[0m\u001b[1;32m    245\u001b[0m                                                  \u001b[0mserver_selection_timeout\u001b[0m\u001b[0;34m,\u001b[0m\u001b[0;34m\u001b[0m\u001b[0;34m\u001b[0m\u001b[0m\n\u001b[1;32m    246\u001b[0m                                                  address))\n",
      "\u001b[0;32m/opt/anaconda3/lib/python3.8/site-packages/pymongo/topology.py\u001b[0m in \u001b[0;36mselect_servers\u001b[0;34m(self, selector, server_selection_timeout, address)\u001b[0m\n\u001b[1;32m    200\u001b[0m \u001b[0;34m\u001b[0m\u001b[0m\n\u001b[1;32m    201\u001b[0m         \u001b[0;32mwith\u001b[0m \u001b[0mself\u001b[0m\u001b[0;34m.\u001b[0m\u001b[0m_lock\u001b[0m\u001b[0;34m:\u001b[0m\u001b[0;34m\u001b[0m\u001b[0;34m\u001b[0m\u001b[0m\n\u001b[0;32m--> 202\u001b[0;31m             server_descriptions = self._select_servers_loop(\n\u001b[0m\u001b[1;32m    203\u001b[0m                 selector, server_timeout, address)\n\u001b[1;32m    204\u001b[0m \u001b[0;34m\u001b[0m\u001b[0m\n",
      "\u001b[0;32m/opt/anaconda3/lib/python3.8/site-packages/pymongo/topology.py\u001b[0m in \u001b[0;36m_select_servers_loop\u001b[0;34m(self, selector, timeout, address)\u001b[0m\n\u001b[1;32m    216\u001b[0m             \u001b[0;31m# No suitable servers.\u001b[0m\u001b[0;34m\u001b[0m\u001b[0;34m\u001b[0m\u001b[0;34m\u001b[0m\u001b[0m\n\u001b[1;32m    217\u001b[0m             \u001b[0;32mif\u001b[0m \u001b[0mtimeout\u001b[0m \u001b[0;34m==\u001b[0m \u001b[0;36m0\u001b[0m \u001b[0;32mor\u001b[0m \u001b[0mnow\u001b[0m \u001b[0;34m>\u001b[0m \u001b[0mend_time\u001b[0m\u001b[0;34m:\u001b[0m\u001b[0;34m\u001b[0m\u001b[0;34m\u001b[0m\u001b[0m\n\u001b[0;32m--> 218\u001b[0;31m                 raise ServerSelectionTimeoutError(\n\u001b[0m\u001b[1;32m    219\u001b[0m                     \u001b[0;34m\"%s, Timeout: %ss, Topology Description: %r\"\u001b[0m \u001b[0;34m%\u001b[0m\u001b[0;34m\u001b[0m\u001b[0;34m\u001b[0m\u001b[0m\n\u001b[1;32m    220\u001b[0m                     (self._error_message(selector), timeout, self.description))\n",
      "\u001b[0;31mServerSelectionTimeoutError\u001b[0m: localhost:27017: [Errno 61] Connection refused, Timeout: 30s, Topology Description: <TopologyDescription id: 6170c202c5b2fe9e65886fbd, topology_type: Single, servers: [<ServerDescription ('localhost', 27017) server_type: Unknown, rtt: None, error=AutoReconnect('localhost:27017: [Errno 61] Connection refused')>]>"
     ]
    }
   ],
   "source": [
    "%%writefile src/ds_open_subwayTime.py\n",
    "# coding: utf-8\n",
    "import os\n",
    "import requests\n",
    "import json\n",
    "from pymongo import MongoClient\n",
    "import mylib\n",
    "\n",
    "Client = MongoClient('localhost:27017')\n",
    "_db=Client['ds_open_subwayPassengersDb'] #db created by mongo. You do not have to create this.\n",
    "_table=_db['db_open_subwayTable'] #collection\n",
    "#db=Client.ds_rest_subwayPassengers\n",
    "\n",
    "def saveJson(_fname,_data):\n",
    "    import io\n",
    "    with io.open(_fname, 'a', encoding='utf8') as json_file:\n",
    "        #_j=json.dumps(_data, json_file, ensure_ascii=False, encoding='utf8') # python2\n",
    "        _j=json.dump(_data, json_file, ensure_ascii=False)\n",
    "        json_file.write(str(_j)+\"\\n\")\n",
    "\n",
    "def readJson(_fname):\n",
    "    for line in open(_fname, 'r').readlines():\n",
    "        _j=json.loads(line)\n",
    "        #print _j['id'],_j['text']\n",
    "        print (_j['id'])\n",
    "\n",
    "def saveDB(_data):\n",
    "    _table.insert_one(_data)\n",
    "\n",
    "def readDB():\n",
    "    for tweet in _table.find():\n",
    "        print (tweet['id'],tweet['text'])\n",
    "\n",
    "def saveFile(_fname,_data):\n",
    "    fp=open(_fname,'a')\n",
    "    fp.write(_data+\"\\n\")\n",
    "    fp.close()\n",
    "\n",
    "def doIt():\n",
    "    keyPath=os.path.join(os.getcwd(), 'src', 'key.properties')\n",
    "    key=mylib.getKey(keyPath)  \n",
    "    _key=key['dataseoul'] #KEY='73725.....'\n",
    "    _url='http://openAPI.seoul.go.kr:8088'\n",
    "    _type='json'\n",
    "    _service='CardSubwayTime'\n",
    "    _start_index=1\n",
    "    _end_index=5\n",
    "    _use_mon='202106'\n",
    "    _maxIter=20\n",
    "    _iter=0\n",
    "    _jfname='src/ds_open_subwayTime.json'\n",
    "    while _iter<_maxIter:\n",
    "        _api=\"/\".join([_url,_key,_type,_service,str(_start_index),str(_end_index),_use_mon])\n",
    "        #print _api\n",
    "        r=requests.get(_api)\n",
    "        _json=r.json()\n",
    "        print (_json)\n",
    "        saveJson(_jfname,_json)\n",
    "        saveDB(_json)\n",
    "        _start_index+=5\n",
    "        _end_index+=5\n",
    "        _iter+=1\n",
    "\n",
    "if __name__ == \"__main__\":\n",
    "    doIt()\n"
   ]
  },
  {
   "cell_type": "code",
   "execution_count": null,
   "id": "0a503023",
   "metadata": {},
   "outputs": [],
   "source": [
    "print(Client.list_database_names())\n",
    "db=Client.ds_open_subwayPassengersDb"
   ]
  },
  {
   "cell_type": "code",
   "execution_count": null,
   "id": "a7ed002c",
   "metadata": {},
   "outputs": [],
   "source": [
    "db.list_collection_names()"
   ]
  },
  {
   "cell_type": "code",
   "execution_count": null,
   "id": "0c417425",
   "metadata": {},
   "outputs": [],
   "source": [
    "db.db_open_subwayTable.count_documents({})"
   ]
  },
  {
   "cell_type": "code",
   "execution_count": null,
   "id": "63687530",
   "metadata": {},
   "outputs": [],
   "source": [
    "db.db_open_subwayTable.find_one()"
   ]
  },
  {
   "cell_type": "markdown",
   "id": "a84469cc",
   "metadata": {},
   "source": [
    "# 공공데이터 포털"
   ]
  },
  {
   "cell_type": "code",
   "execution_count": 26,
   "id": "2d5202be",
   "metadata": {
    "ExecuteTime": {
     "end_time": "2021-10-21T02:58:55.563844Z",
     "start_time": "2021-10-21T02:58:55.559770Z"
    }
   },
   "outputs": [
    {
     "name": "stdout",
     "output_type": "stream",
     "text": [
      "Overwriting 예제/src/key.properties\n"
     ]
    }
   ],
   "source": [
    "%%writefile 예제/src/key.properties\n",
    "gokr=D79VsERJpMFwSWkbjfAJ%2B4AKxwn%2FiuYjMueXWqAFutQbkgVvhvPAceazP7tdV31ACKg4ZWmOJ0KjCeScX%2FknVg%3D%3D"
   ]
  },
  {
   "cell_type": "code",
   "execution_count": 45,
   "id": "05ace354",
   "metadata": {
    "ExecuteTime": {
     "end_time": "2021-10-22T07:35:08.403428Z",
     "start_time": "2021-10-22T07:35:08.391813Z"
    }
   },
   "outputs": [],
   "source": [
    "import os\n",
    "from src import mylib\n",
    "keyPath=os.path.join(os.getcwd(), '예제/src', 'key.properties')\n",
    "key=mylib.getKey(keyPath)"
   ]
  },
  {
   "cell_type": "code",
   "execution_count": 59,
   "id": "0ad62086",
   "metadata": {
    "ExecuteTime": {
     "end_time": "2021-10-22T07:58:46.780982Z",
     "start_time": "2021-10-22T07:58:46.777662Z"
    }
   },
   "outputs": [
    {
     "name": "stdout",
     "output_type": "stream",
     "text": [
      "AccidentDeath/getRestTrafficAccidentDeath\n"
     ]
    }
   ],
   "source": [
    "import os\n",
    "SERVICE='AccidentDeath'\n",
    "OPERATION_NAME='getRestTrafficAccidentDeath'\n",
    "params1=os.path.join(SERVICE,OPERATION_NAME)\n",
    "# params1='/'join([SERVICE,OPERATION_NAME])\n",
    "print (params1)"
   ]
  },
  {
   "cell_type": "code",
   "execution_count": 60,
   "id": "bebb8d68",
   "metadata": {
    "ExecuteTime": {
     "end_time": "2021-10-22T07:58:50.949185Z",
     "start_time": "2021-10-22T07:58:50.945799Z"
    }
   },
   "outputs": [
    {
     "name": "stdout",
     "output_type": "stream",
     "text": [
      "AccidentDeath/getRestTrafficAccidentDeath\n"
     ]
    }
   ],
   "source": [
    "params1='/'.join([SERVICE,OPERATION_NAME])\n",
    "print (params1)"
   ]
  },
  {
   "cell_type": "code",
   "execution_count": 47,
   "id": "b7d0dec3",
   "metadata": {
    "ExecuteTime": {
     "end_time": "2021-10-22T07:35:09.674645Z",
     "start_time": "2021-10-22T07:35:09.670134Z"
    }
   },
   "outputs": [
    {
     "name": "stdout",
     "output_type": "stream",
     "text": [
      "searchYear=2013&siDo=1100&guGun=1101&numOfRows=20&pageNo=1\n"
     ]
    }
   ],
   "source": [
    "import urllib\n",
    "_d=dict()\n",
    "_d['searchYear']='2013'\n",
    "_d['siDo']='1100' #서울특별시\n",
    "_d['guGun']='1101'\n",
    "_d['numOfRows']='20'\n",
    "_d['pageNo']='1'\n",
    "#params2=urllib.urlencode(_d)\n",
    "#params2=urllib.parse.urlencode(_d).encode(\"utf-8\")\n",
    "params2=urllib.parse.urlencode(_d)\n",
    "print (params2)\n",
    "\n",
    "params=params1+'?'+'serviceKey='+key['gokr']+'&'+params2"
   ]
  },
  {
   "cell_type": "code",
   "execution_count": 48,
   "id": "78812828",
   "metadata": {
    "ExecuteTime": {
     "end_time": "2021-10-22T07:35:10.624071Z",
     "start_time": "2021-10-22T07:35:10.620557Z"
    }
   },
   "outputs": [
    {
     "name": "stdout",
     "output_type": "stream",
     "text": [
      "http://apis.data.go.kr/B552061/AccidentDeath/getRestTrafficAccidentDeath?serviceKey=D79VsERJpMFwSWkbjfAJ%2B4AKxwn%2FiuYjMueXWqAFutQbkgVvhvPAceazP7tdV31ACKg4ZWmOJ0KjCeScX%2FknVg%3D%3D&searchYear=2013&siDo=1100&guGun=1101&numOfRows=20&pageNo=1\n"
     ]
    }
   ],
   "source": [
    "import urllib\n",
    "_url='http://apis.data.go.kr/B552061/'\n",
    "url=urllib.parse.urljoin(_url,params)\n",
    "print (url)"
   ]
  },
  {
   "cell_type": "code",
   "execution_count": 49,
   "id": "91f30d56",
   "metadata": {
    "ExecuteTime": {
     "end_time": "2021-10-22T07:35:13.159375Z",
     "start_time": "2021-10-22T07:35:12.661153Z"
    }
   },
   "outputs": [],
   "source": [
    "import requests\n",
    "\n",
    "data=requests.get(url).text"
   ]
  },
  {
   "cell_type": "markdown",
   "id": "28bb8628",
   "metadata": {},
   "source": [
    "# pyspark"
   ]
  },
  {
   "cell_type": "code",
   "execution_count": 1,
   "id": "1c70af64",
   "metadata": {
    "ExecuteTime": {
     "end_time": "2021-10-23T06:30:27.391284Z",
     "start_time": "2021-10-23T06:30:27.153441Z"
    }
   },
   "outputs": [],
   "source": [
    "import pyspark"
   ]
  },
  {
   "cell_type": "code",
   "execution_count": 2,
   "id": "3b02808b",
   "metadata": {
    "ExecuteTime": {
     "end_time": "2021-10-23T06:30:33.214391Z",
     "start_time": "2021-10-23T06:30:28.019687Z"
    }
   },
   "outputs": [],
   "source": [
    "myConf=pyspark.SparkConf()\n",
    "spark = pyspark.sql.SparkSession\\\n",
    "    .builder\\\n",
    "    .master(\"local\")\\\n",
    "    .appName(\"myApp\")\\\n",
    "    .config(conf=myConf)\\\n",
    "    .getOrCreate()"
   ]
  },
  {
   "cell_type": "code",
   "execution_count": 32,
   "id": "6226b038",
   "metadata": {
    "ExecuteTime": {
     "end_time": "2021-10-21T03:24:59.037566Z",
     "start_time": "2021-10-21T03:24:57.127869Z"
    }
   },
   "outputs": [],
   "source": [
    "import os\n",
    "myDf=spark.read.text(os.path.join(\"data\", \"ds_spark_wiki.txt\"))"
   ]
  },
  {
   "cell_type": "markdown",
   "id": "5659450d",
   "metadata": {},
   "source": [
    "### 글씨깨짐"
   ]
  },
  {
   "cell_type": "code",
   "execution_count": 12,
   "id": "fc143dab",
   "metadata": {
    "ExecuteTime": {
     "end_time": "2021-10-23T06:58:38.225933Z",
     "start_time": "2021-10-23T06:58:36.848342Z"
    }
   },
   "outputs": [
    {
     "name": "stdout",
     "output_type": "stream",
     "text": [
      "�������,�α���(��),�α���(��),�α���(��),������(��),������(��),������(��),����,�����,������α�,���������,�����μ���,�μ���ȭ��ȣ,�����ͱ�������\n",
      "������1��,32292,16538,15754,6.97,3.57,3.4,104.98,19998,1.61,�����ν�,�ο����ǰ�,031-828-2466,2021-09-10\n",
      "������2��,31380,15608,15772,6.77,3.37,3.4,98.96,16410,1.91,�����ν�,�ο����ǰ�,031-828-2466,2021-09-10\n",
      "ȣ��1��,36124,17595,18529,7.8,3.8,4,94.96,15653,2.31,�����ν�,�ο����ǰ�,031-828-2466,2021-09-10\n",
      "ȣ��2��,34957,16923,18034,7.54,3.65,3.89,93.84,13683,2.55,�����ν�,�ο����ǰ�,031-828-2466,2021-09-10\n"
     ]
    }
   ],
   "source": [
    "import os\n",
    "popRdd = spark.sparkContext\\\n",
    "    .textFile(os.path.join(\"data\",\"경기도 의정부시_인구현황_20210910.csv\"), use_unicode=True)\n",
    "\n",
    "for i in popRdd.take(5):\n",
    "    print(i)"
   ]
  },
  {
   "cell_type": "markdown",
   "id": "f0cc1656",
   "metadata": {},
   "source": [
    "# 글씨깨짐 해결"
   ]
  },
  {
   "cell_type": "code",
   "execution_count": 46,
   "id": "6a44255f",
   "metadata": {
    "ExecuteTime": {
     "end_time": "2021-10-21T03:31:07.905886Z",
     "start_time": "2021-10-21T03:31:07.743433Z"
    }
   },
   "outputs": [
    {
     "data": {
      "text/plain": [
       "['행정기관,인구수(계),인구수(남),인구수(여),구성비(계),구성비(남),구성비(여),성비,세대수,세대당인구,관리기관명,관리부서명,부서전화번호,데이터기준일자\\r\\n의정부1동,32292,16538,15754,6.97,3.57,3.4,104.98,19998,1.61,의정부시,민원여권과,031-828-2466,2021-09-10\\r\\n의정부2동,31380,15608,15772,6.77,3.37,3.4,98.96,16410,1.91,의정부시,민원여권과,031-828-2466,2021-09-10\\r\\n호원1동,36124,17595,18529,7.8,3.8,4,94.96,15653,2.31,의정부시,민원여권과,031-828-2466,2021-09-10\\r\\n호원2동,34957,16923,18034,7.54,3.65,3.89,93.84,13683,2.55,의정부시,민원여권과,031-828-2466,2021-09-10\\r\\n장암동,20314,9714,10600,4.38,2.1,2.29,91.64,8604,2.36,의정부시,민원여권과,031-828-2466,2021-09-10\\r\\n신곡1동,43159,21205,21954,9.31,4.58,4.74,96.59,17990,2.4,의정부시,민원여권과,031-828-2466,2021-09-10\\r\\n신곡2동,47852,23232,24620,10.33,5.01,5.31,94.36,19218,2.49,의정부시,민원여권과,031-828-2466,2021-09-10\\r\\n송산1동,42817,21276,21541,9.24,4.59,4.65,98.77,18811,2.28,의정부시,민원여권과,031-828-2466,2021-09-10\\r\\n송산2동,33565,16601,16964,7.24,3.58,3.66,97.86,13216,2.54,의정부시,민원여권과,031-828-2466,2021-09-10\\r\\n송산3동,46892,22772,24120,10.12,4.91,5.21,94.41,17926,2.62,의정부시,민원여권과,031-828-2466,2021-09-10\\r\\n자금동,27087,13270,13817,5.85,2.86,2.98,96.04,11868,2.28,의정부시,민원여권과,031-828-2466,2021-09-10\\r\\n가능동,25990,12974,13016,5.61,2.8,2.81,99.68,12492,2.08,의정부시,민원여권과,031-828-2466,2021-09-10\\r\\n흥선동,19176,9769,9407,4.14,2.11,2.03,103.85,9380,2.04,의정부시,민원여권과,031-828-2466,2021-09-10\\r\\n녹양동,21768,10872,10896,4.7,2.35,2.35,99.78,9556,2.28,의정부시,민원여권과,031-828-2466,2021-09-10\\r\\n']"
      ]
     },
     "execution_count": 46,
     "metadata": {},
     "output_type": "execute_result"
    }
   ],
   "source": [
    "popRddBin = spark.sparkContext.binaryFiles(os.path.join(\"data\",\"경기도 의정부시_인구현황_20210910.csv\"))\n",
    "_my = popRddBin.map(lambda x :x[1].decode('euc-kr'))\n",
    "_my.take(1)"
   ]
  },
  {
   "cell_type": "code",
   "execution_count": 47,
   "id": "22bc3e8a",
   "metadata": {
    "ExecuteTime": {
     "end_time": "2021-10-21T03:31:11.440729Z",
     "start_time": "2021-10-21T03:31:11.340797Z"
    }
   },
   "outputs": [
    {
     "data": {
      "text/plain": [
       "'의정부1동,32292,16538,15754,6.97,3.57,3.4,104.98,19998,1.61,의정부시,민원여권과,031-828-2466,2021-09-10'"
      ]
     },
     "execution_count": 47,
     "metadata": {},
     "output_type": "execute_result"
    }
   ],
   "source": [
    "popList = _my.map(lambda x: x.split()).take(3)\n",
    "popList[0][1]"
   ]
  },
  {
   "cell_type": "markdown",
   "id": "a7d0adae",
   "metadata": {},
   "source": [
    "# csv to dataframe"
   ]
  },
  {
   "cell_type": "code",
   "execution_count": 48,
   "id": "fc249acd",
   "metadata": {
    "ExecuteTime": {
     "end_time": "2021-10-21T03:31:19.134968Z",
     "start_time": "2021-10-21T03:31:17.350874Z"
    }
   },
   "outputs": [],
   "source": [
    "popDf = spark\\\n",
    "            .read.option(\"charset\", \"euc-kr\")\\\n",
    "            .option(\"header\", \"true\")\\\n",
    "            .csv(os.path.join(\"data\",\"경기도 의정부시_인구현황_20210910.csv\"))"
   ]
  },
  {
   "cell_type": "code",
   "execution_count": 49,
   "id": "1e0b7851",
   "metadata": {
    "ExecuteTime": {
     "end_time": "2021-10-21T03:31:20.337870Z",
     "start_time": "2021-10-21T03:31:20.071949Z"
    }
   },
   "outputs": [
    {
     "name": "stdout",
     "output_type": "stream",
     "text": [
      "+---------+----------+----------+----------+----------+----------+----------+------+------+----------+----------+----------+------------+--------------+\n",
      "| 행정기관|인구수(계)|인구수(남)|인구수(여)|구성비(계)|구성비(남)|구성비(여)|  성비|세대수|세대당인구|관리기관명|관리부서명|부서전화번호|데이터기준일자|\n",
      "+---------+----------+----------+----------+----------+----------+----------+------+------+----------+----------+----------+------------+--------------+\n",
      "|의정부1동|     32292|     16538|     15754|      6.97|      3.57|       3.4|104.98| 19998|      1.61|  의정부시|민원여권과|031-828-2466|    2021-09-10|\n",
      "|의정부2동|     31380|     15608|     15772|      6.77|      3.37|       3.4| 98.96| 16410|      1.91|  의정부시|민원여권과|031-828-2466|    2021-09-10|\n",
      "|  호원1동|     36124|     17595|     18529|       7.8|       3.8|         4| 94.96| 15653|      2.31|  의정부시|민원여권과|031-828-2466|    2021-09-10|\n",
      "|  호원2동|     34957|     16923|     18034|      7.54|      3.65|      3.89| 93.84| 13683|      2.55|  의정부시|민원여권과|031-828-2466|    2021-09-10|\n",
      "|   장암동|     20314|      9714|     10600|      4.38|       2.1|      2.29| 91.64|  8604|      2.36|  의정부시|민원여권과|031-828-2466|    2021-09-10|\n",
      "+---------+----------+----------+----------+----------+----------+----------+------+------+----------+----------+----------+------------+--------------+\n",
      "only showing top 5 rows\n",
      "\n"
     ]
    }
   ],
   "source": [
    "popDf.show(5)"
   ]
  },
  {
   "cell_type": "markdown",
   "id": "40994dc6",
   "metadata": {},
   "source": [
    "# RDD map"
   ]
  },
  {
   "cell_type": "code",
   "execution_count": 50,
   "id": "1493bfea",
   "metadata": {
    "ExecuteTime": {
     "end_time": "2021-10-21T03:35:47.763081Z",
     "start_time": "2021-10-21T03:35:47.743852Z"
    }
   },
   "outputs": [
    {
     "name": "stdout",
     "output_type": "stream",
     "text": [
      "PythonRDD[40] at RDD at PythonRDD.scala:53\n"
     ]
    }
   ],
   "source": [
    "nRdd = spark.sparkContext.parallelize([1, 2, 3, 4])\n",
    "squared = nRdd.map(lambda x: x * x)\n",
    "print (squared)"
   ]
  },
  {
   "cell_type": "code",
   "execution_count": 51,
   "id": "4584a360",
   "metadata": {
    "ExecuteTime": {
     "end_time": "2021-10-21T03:35:52.734430Z",
     "start_time": "2021-10-21T03:35:52.687548Z"
    },
    "scrolled": true
   },
   "outputs": [
    {
     "name": "stdout",
     "output_type": "stream",
     "text": [
      "[1, 4, 9, 16]\n"
     ]
    }
   ],
   "source": [
    "print (squared.collect())"
   ]
  },
  {
   "cell_type": "code",
   "execution_count": 55,
   "id": "f653721a",
   "metadata": {
    "ExecuteTime": {
     "end_time": "2021-10-21T03:40:30.767764Z",
     "start_time": "2021-10-21T03:40:30.735134Z"
    }
   },
   "outputs": [],
   "source": [
    "myRdd4 = spark.sparkContext\\\n",
    "    .textFile(os.path.join(\"data\",\"ds_spark_2cols.csv\"))"
   ]
  },
  {
   "cell_type": "code",
   "execution_count": 56,
   "id": "4ccf8506",
   "metadata": {
    "ExecuteTime": {
     "end_time": "2021-10-21T03:40:32.707186Z",
     "start_time": "2021-10-21T03:40:32.641387Z"
    }
   },
   "outputs": [
    {
     "data": {
      "text/plain": [
       "[['35', ' 2'], ['40', ' 27'], ['12', ' 38'], ['15', ' 31'], ['21', ' 1']]"
      ]
     },
     "execution_count": 56,
     "metadata": {},
     "output_type": "execute_result"
    }
   ],
   "source": [
    "myRdd5 = myRdd4.map(lambda line: line.split(','))\n",
    "myRdd5.take(5)"
   ]
  },
  {
   "cell_type": "code",
   "execution_count": 57,
   "id": "9e4a6d7a",
   "metadata": {
    "ExecuteTime": {
     "end_time": "2021-10-21T03:40:56.096730Z",
     "start_time": "2021-10-21T03:40:56.049790Z"
    }
   },
   "outputs": [
    {
     "data": {
      "text/plain": [
       "[[35, 2], [40, 27], [12, 38], [15, 31], [21, 1]]"
      ]
     },
     "execution_count": 57,
     "metadata": {},
     "output_type": "execute_result"
    }
   ],
   "source": [
    "myRdd6 = myRdd5.map(lambda x: [int(i) for i in x])\n",
    "myRdd6.take(5)"
   ]
  },
  {
   "cell_type": "code",
   "execution_count": 61,
   "id": "1308894f",
   "metadata": {
    "ExecuteTime": {
     "end_time": "2021-10-21T03:49:31.829684Z",
     "start_time": "2021-10-21T03:49:31.748282Z"
    },
    "scrolled": true
   },
   "outputs": [
    {
     "name": "stdout",
     "output_type": "stream",
     "text": [
      "[['THIS', 'IS'], ['A', 'LINE']]\n"
     ]
    }
   ],
   "source": [
    "myList=[\"this is\",\"a line\"]\n",
    "_rdd=spark.sparkContext.parallelize(myList)\n",
    "wordsRdd=_rdd.map(lambda x:x.split())\n",
    "\n",
    "upper2RDD =wordsRdd.map(lambda x: [i.upper() for i in x])\n",
    "print (upper2RDD.collect())"
   ]
  },
  {
   "cell_type": "markdown",
   "id": "af3d0818",
   "metadata": {},
   "source": [
    "# 불용어 제거"
   ]
  },
  {
   "cell_type": "code",
   "execution_count": 63,
   "id": "a0d805f8",
   "metadata": {
    "ExecuteTime": {
     "end_time": "2021-10-21T05:12:17.034183Z",
     "start_time": "2021-10-21T05:12:16.835299Z"
    },
    "scrolled": true
   },
   "outputs": [
    {
     "name": "stdout",
     "output_type": "stream",
     "text": [
      "Wikipedia Apache Spark open source cluster computing framework. 아파치 스파크는 오픈 소스 클러스터 컴퓨팅 프레임워크이다. Apache Spark Apache Spark Apache Spark Apache Spark 아파치 스파크 아파치 스파크 아파치 스파크 아파치 스파크 Originally developed University of California, Berkeley's AMPLab, Spark codebase was later donated to Apache Software Foundation, which has maintained it since. Spark provides interface programming entire clusters with implicit data parallelism and fault-tolerance. "
     ]
    }
   ],
   "source": [
    "myRdd2=spark.sparkContext\\\n",
    "    .textFile(os.path.join(\"data\",\"ds_spark_wiki.txt\"))\n",
    "\n",
    "stopwords = ['is','am','are','the','for','a', 'an', 'at']\n",
    "myRdd_stop = myRdd2.flatMap(lambda x:x.split())\\\n",
    "                    .filter(lambda x: x not in stopwords)\n",
    "\n",
    "for words in myRdd_stop.collect():\n",
    "    print (words, end=' ')"
   ]
  },
  {
   "cell_type": "markdown",
   "id": "5fd58e01",
   "metadata": {},
   "source": [
    "# group by"
   ]
  },
  {
   "cell_type": "code",
   "execution_count": 64,
   "id": "8834ca56",
   "metadata": {
    "ExecuteTime": {
     "end_time": "2021-10-21T05:20:11.615107Z",
     "start_time": "2021-10-21T05:20:10.981634Z"
    }
   },
   "outputs": [
    {
     "name": "stdout",
     "output_type": "stream",
     "text": [
      "Wi: Wikipedia\n",
      "-----\n",
      "Ap: Apache Spark is an open source cluster computing framework.\n",
      "Ap: Apache Spark Apache Spark Apache Spark Apache Spark\n",
      "-----\n",
      "아파: 아파치 스파크는 오픈 소스 클러스터 컴퓨팅 프레임워크이다.\n",
      "아파: 아파치 스파크 아파치 스파크 아파치 스파크 아파치 스파크\n",
      "-----\n",
      "Or: Originally developed at the University of California, Berkeley's AMPLab,\n",
      "-----\n",
      "th: the Spark codebase was later donated to the Apache Software Foundation,\n",
      "-----\n",
      "wh: which has maintained it since.\n",
      "-----\n",
      "Sp: Spark provides an interface for programming entire clusters with\n",
      "-----\n",
      "im: implicit data parallelism and fault-tolerance.\n",
      "-----\n"
     ]
    }
   ],
   "source": [
    "#myRdd_group=myRdd2.flatMap(lambda x:x.split()).groupBy(lambda x:w[0:2])\n",
    "myRdd_group=myRdd2.groupBy(lambda x:x[0:2])\n",
    "\n",
    "for (k,v) in myRdd_group.collect():\n",
    "    for eachValue in v:\n",
    "        print (\"{}: {}\".format(k, eachValue))\n",
    "    print (\"-----\")"
   ]
  },
  {
   "cell_type": "code",
   "execution_count": 66,
   "id": "07dee3d4",
   "metadata": {
    "ExecuteTime": {
     "end_time": "2021-10-21T05:27:53.961748Z",
     "start_time": "2021-10-21T05:27:53.718277Z"
    }
   },
   "outputs": [
    {
     "data": {
      "text/plain": [
       "[('Seoul',\n",
       "  [('Seoul', 1),\n",
       "   ('Seoul', 1),\n",
       "   ('Seoul', 1),\n",
       "   ('Seoul', 1),\n",
       "   ('Seoul', 1),\n",
       "   ('Seoul', 1)]),\n",
       " ('Busan',\n",
       "  [('Busan', 1), ('Busan', 1), ('Busan', 1), ('Busan', 1), ('Busan', 1)])]"
      ]
     },
     "execution_count": 66,
     "metadata": {},
     "output_type": "execute_result"
    }
   ],
   "source": [
    "_testList=[(\"Seoul\",1),(\"Seoul\",1),(\"Seoul\",1),(\"Busan\",1),(\"Busan\",1),\n",
    "           (\"Seoul\",1),(\"Busan\",1),\n",
    "           (\"Seoul\",1),(\"Seoul\",1),(\"Busan\",1),(\"Busan\",1)]\n",
    "\n",
    "_testRdd=spark.sparkContext.parallelize(_testList)\n",
    "_testRdd.groupBy(lambda x:x[0]).mapValues(lambda x: list(x)).collect()"
   ]
  },
  {
   "cell_type": "markdown",
   "id": "203a787b",
   "metadata": {},
   "source": [
    "# 파티션 "
   ]
  },
  {
   "cell_type": "code",
   "execution_count": 67,
   "id": "9892255f",
   "metadata": {
    "ExecuteTime": {
     "end_time": "2021-10-21T05:32:05.815557Z",
     "start_time": "2021-10-21T05:32:05.803808Z"
    }
   },
   "outputs": [
    {
     "data": {
      "text/plain": [
       "1"
      ]
     },
     "execution_count": 67,
     "metadata": {},
     "output_type": "execute_result"
    }
   ],
   "source": [
    "_testList=[(\"key1\",1),(\"key1\",1),(\"key1\",1),(\"key2\",1),(\"key2\",1),\n",
    "           (\"key1\",1),(\"key2\",1),\n",
    "           (\"key1\",1),(\"key1\",1),(\"key2\",1),(\"key2\",1)]\n",
    "_testRdd=spark.sparkContext.parallelize(_testList)\n",
    "\n",
    "_testRdd.getNumPartitions()"
   ]
  },
  {
   "cell_type": "markdown",
   "id": "3bebf8bf",
   "metadata": {},
   "source": [
    "# 불용어"
   ]
  },
  {
   "cell_type": "code",
   "execution_count": 68,
   "id": "c92ece2d",
   "metadata": {
    "ExecuteTime": {
     "end_time": "2021-10-21T06:31:34.728472Z",
     "start_time": "2021-10-21T06:31:34.520307Z"
    }
   },
   "outputs": [],
   "source": [
    "myRdd3=spark.sparkContext\\\n",
    "    .textFile(os.path.join(\"data\",\"ds_bigdata_wiki.txt\"))\n",
    "\n",
    "stopwords = set(['및','이를','등','이','이런','그와','또는','두', '이와', '전', '간'])\n",
    "\n",
    "wc3=myRdd3\\\n",
    "    .flatMap(lambda x:x.split())\\\n",
    "    .filter(lambda x: x.lower() not in stopwords)\\\n",
    "    .map(lambda x:(x,1))\\\n",
    "    .reduceByKey(lambda x,y:x+y)\\\n",
    "    .map(lambda x:(x[1],x[0]))\\\n",
    "    .sortByKey(False)\\\n",
    "    .take(15)"
   ]
  },
  {
   "cell_type": "code",
   "execution_count": 69,
   "id": "84dec92e",
   "metadata": {
    "ExecuteTime": {
     "end_time": "2021-10-21T06:31:43.401512Z",
     "start_time": "2021-10-21T06:31:43.396950Z"
    }
   },
   "outputs": [
    {
     "name": "stdout",
     "output_type": "stream",
     "text": [
      "<class 'list'>\n",
      "21 데이터\n",
      "18 데이터를\n",
      "14 빅\n",
      "9 있다.\n",
      "8 수\n",
      "8 데이터의\n",
      "7 미국\n",
      "7 통해\n",
      "6 유권자\n",
      "6 선거\n",
      "6 대한\n",
      "6 빅데이터\n",
      "5 활용한\n",
      "5 소셜\n",
      "5 대한민국\n"
     ]
    }
   ],
   "source": [
    "print (type(wc3))\n",
    "for i in wc3:\n",
    "    print (i[0],i[1])"
   ]
  },
  {
   "cell_type": "code",
   "execution_count": 71,
   "id": "280de804",
   "metadata": {
    "ExecuteTime": {
     "end_time": "2021-10-21T06:33:37.922116Z",
     "start_time": "2021-10-21T06:33:37.693342Z"
    }
   },
   "outputs": [
    {
     "data": {
      "image/png": "[encoded data removed]",
      "text/plain": [
       "<Figure size 432x288 with 1 Axes>"
      ]
     },
     "metadata": {
      "needs_background": "light"
     },
     "output_type": "display_data"
    }
   ],
   "source": [
    "k=list()\n",
    "v=list()\n",
    "for i in wc3:\n",
    "    v.append(i[0])\n",
    "    k.append(i[1])\n",
    "    \n",
    "import matplotlib.pyplot as plt\n",
    "\n",
    "plt.rc('font', family='AppleGothic')\n",
    "plt.barh(range(len(v)), v, color = 'black')\n",
    "plt.yticks(range(len(v)), k)\n",
    "plt.show()"
   ]
  },
  {
   "cell_type": "markdown",
   "id": "0a7e6350",
   "metadata": {},
   "source": [
    "# combine by key"
   ]
  },
  {
   "cell_type": "code",
   "execution_count": 72,
   "id": "7532070d",
   "metadata": {
    "ExecuteTime": {
     "end_time": "2021-10-21T06:56:28.372496Z",
     "start_time": "2021-10-21T06:56:28.217237Z"
    }
   },
   "outputs": [
    {
     "data": {
      "text/plain": [
       "[('kim', (252, 3)), ('lim', (336, 4)), ('lee', (99, 1))]"
      ]
     },
     "execution_count": 72,
     "metadata": {},
     "output_type": "execute_result"
    }
   ],
   "source": [
    "marks = spark.sparkContext.parallelize([('kim',86),('lim',87),('kim',75),\n",
    "                                      ('kim',91),('lim',78),('lim',92),\n",
    "                                      ('lim',79),('lee',99)])\n",
    "\n",
    "marksByKey = marks.combineByKey(lambda value: (value,1),\n",
    "                             lambda x,value: (x[0]+value, x[1]+1),\n",
    "                             lambda x,y: (x[0]+y[0], x[1]+y[1]))\n",
    "\n",
    "marksByKey.collect()"
   ]
  },
  {
   "cell_type": "code",
   "execution_count": 73,
   "id": "34d7ced9",
   "metadata": {
    "ExecuteTime": {
     "end_time": "2021-10-21T06:57:17.357153Z",
     "start_time": "2021-10-21T06:57:17.278933Z"
    }
   },
   "outputs": [
    {
     "name": "stdout",
     "output_type": "stream",
     "text": [
      "{'M': 179.5, 'F': 163.0}\n"
     ]
    }
   ],
   "source": [
    "heights = spark.sparkContext.parallelize([\n",
    "        ('M',182.),('F',164.),('M',180.),('M',185.),('M',171.),('F',162.)\n",
    "    ])\n",
    "\n",
    "heightsByKey = heights.combineByKey(lambda value: (value,1),\n",
    "                             lambda x,value: (x[0]+value, x[1]+1),\n",
    "                             lambda x,y: (x[0]+y[0], x[1]+y[1]))\n",
    "\n",
    "\n",
    "avgByKey = heightsByKey.map(lambda x: (x[0],x[1][0]/x[1][1]))\n",
    "\n",
    "print (avgByKey.collectAsMap())"
   ]
  },
  {
   "cell_type": "markdown",
   "id": "63f147cc",
   "metadata": {},
   "source": [
    "# reduce by key 단어 카운트"
   ]
  },
  {
   "cell_type": "code",
   "execution_count": 76,
   "id": "2207016d",
   "metadata": {
    "ExecuteTime": {
     "end_time": "2021-10-21T08:33:52.292115Z",
     "start_time": "2021-10-21T08:33:52.050837Z"
    }
   },
   "outputs": [
    {
     "data": {
      "text/plain": [
       "[('amplab', 1),\n",
       " ('an', 2),\n",
       " ('and', 1),\n",
       " ('apache', 6),\n",
       " ('at', 1),\n",
       " (\"berkeley's\", 1),\n",
       " ('california', 1),\n",
       " ('cluster', 1),\n",
       " ('clusters', 1),\n",
       " ('codebase', 1)]"
      ]
     },
     "execution_count": 76,
     "metadata": {},
     "output_type": "execute_result"
    }
   ],
   "source": [
    "#from operator import add\n",
    "wc = spark.sparkContext.textFile(os.path.join(\"data\",\"ds_spark_wiki.txt\"))\\\n",
    "    .flatMap(lambda x: x.split())\\\n",
    "    .map(lambda x: (x.lower().rstrip().lstrip().rstrip(',').rstrip('.'), 1))\n",
    "\n",
    "wcReduceByKey = wc.reduceByKey(lambda x,y:x+y)\n",
    "wcReduceByKey.sortByKey().take(10)"
   ]
  },
  {
   "cell_type": "markdown",
   "id": "77756636",
   "metadata": {},
   "source": [
    "# json to DataFrame"
   ]
  },
  {
   "cell_type": "code",
   "execution_count": 13,
   "id": "970d1ab6",
   "metadata": {
    "ExecuteTime": {
     "end_time": "2021-10-23T07:41:10.474600Z",
     "start_time": "2021-10-23T07:41:09.493273Z"
    }
   },
   "outputs": [],
   "source": [
    "import requests\n",
    "\n",
    "r=requests.get(\"https://raw.githubusercontent.com/jokecamp/FootballData/master/World%20Cups/all-world-cup-players.json\")\n",
    "wc=r.json()"
   ]
  },
  {
   "cell_type": "code",
   "execution_count": 82,
   "id": "0fdcc227",
   "metadata": {
    "ExecuteTime": {
     "end_time": "2021-10-21T08:37:00.922864Z",
     "start_time": "2021-10-21T08:37:00.420412Z"
    }
   },
   "outputs": [
    {
     "name": "stdout",
     "output_type": "stream",
     "text": [
      "root\n",
      " |-- Competition: string (nullable = true)\n",
      " |-- Year: long (nullable = true)\n",
      " |-- Team: string (nullable = true)\n",
      " |-- Number: string (nullable = true)\n",
      " |-- Position: string (nullable = true)\n",
      " |-- FullName: string (nullable = true)\n",
      " |-- Club: string (nullable = true)\n",
      " |-- ClubCountry: string (nullable = true)\n",
      " |-- DateOfBirth: string (nullable = true)\n",
      " |-- IsCaptain: boolean (nullable = true)\n",
      "\n"
     ]
    }
   ],
   "source": [
    "from pyspark.sql import Row\n",
    "\n",
    "wcDf = spark.createDataFrame(Row(**x) for x in wc)\n",
    "wcDf.printSchema()"
   ]
  },
  {
   "cell_type": "code",
   "execution_count": 83,
   "id": "5df2efad",
   "metadata": {
    "ExecuteTime": {
     "end_time": "2021-10-21T08:38:34.273957Z",
     "start_time": "2021-10-21T08:38:34.271223Z"
    }
   },
   "outputs": [],
   "source": [
    "cols = wcDf.columns\n",
    "cols.remove('IsCaptain')"
   ]
  },
  {
   "cell_type": "markdown",
   "id": "edceaa2a",
   "metadata": {},
   "source": [
    "# RDD to DataFrame"
   ]
  },
  {
   "cell_type": "code",
   "execution_count": 80,
   "id": "f5ffdec7",
   "metadata": {
    "ExecuteTime": {
     "end_time": "2021-10-21T08:36:45.702468Z",
     "start_time": "2021-10-21T08:36:45.587507Z"
    }
   },
   "outputs": [
    {
     "name": "stdout",
     "output_type": "stream",
     "text": [
      "root\n",
      " |-- Club: string (nullable = true)\n",
      " |-- ClubCountry: string (nullable = true)\n",
      " |-- Competition: string (nullable = true)\n",
      " |-- DateOfBirth: string (nullable = true)\n",
      " |-- FullName: string (nullable = true)\n",
      " |-- IsCaptain: boolean (nullable = true)\n",
      " |-- Number: string (nullable = true)\n",
      " |-- Position: string (nullable = true)\n",
      " |-- Team: string (nullable = true)\n",
      " |-- Year: long (nullable = true)\n",
      "\n"
     ]
    }
   ],
   "source": [
    "wcRdd=spark.sparkContext.parallelize(wc)\n",
    "wcDfFromRdd = spark.createDataFrame(wcRdd)\n",
    "wcDfFromRdd.printSchema()"
   ]
  },
  {
   "cell_type": "markdown",
   "id": "e6348e96",
   "metadata": {},
   "source": [
    "# 형변환"
   ]
  },
  {
   "cell_type": "code",
   "execution_count": 87,
   "id": "9c48c492",
   "metadata": {
    "ExecuteTime": {
     "end_time": "2021-10-21T08:48:16.720325Z",
     "start_time": "2021-10-21T08:48:16.691347Z"
    }
   },
   "outputs": [],
   "source": [
    "from pyspark.sql.functions import udf\n",
    "from pyspark.sql.functions import to_date\n",
    "\n",
    "_wcDfCasted=wcDf.withColumn('date2', to_date(wcDf['DateOfBirth'], 'yyyy-MM-dd'))"
   ]
  },
  {
   "cell_type": "code",
   "execution_count": 88,
   "id": "0956ec9a",
   "metadata": {
    "ExecuteTime": {
     "end_time": "2021-10-21T08:48:20.348706Z",
     "start_time": "2021-10-21T08:48:20.107277Z"
    }
   },
   "outputs": [],
   "source": [
    "from pyspark.sql.types import DateType\n",
    "\n",
    "wcDfCasted = _wcDfCasted.withColumn('date3', _wcDfCasted['DateOfBirth'].cast(DateType()))\n",
    "wcDfCasted = wcDfCasted.withColumn('NumberInt', wcDfCasted['Number'].cast(\"integer\"))"
   ]
  },
  {
   "cell_type": "markdown",
   "id": "daa6aeec",
   "metadata": {},
   "source": [
    "# DataFrame cast"
   ]
  },
  {
   "cell_type": "code",
   "execution_count": 89,
   "id": "f34bb6fd",
   "metadata": {
    "ExecuteTime": {
     "end_time": "2021-10-21T08:58:44.052728Z",
     "start_time": "2021-10-21T08:58:43.708707Z"
    }
   },
   "outputs": [],
   "source": [
    "tDf = spark\\\n",
    "    .read\\\n",
    "    .options(header='false', inferschema='true', delimiter='\\t')\\\n",
    "    .csv(os.path.join('data', 'ds_spark_heightweight.txt'))"
   ]
  },
  {
   "cell_type": "code",
   "execution_count": 90,
   "id": "bc180e99",
   "metadata": {
    "ExecuteTime": {
     "end_time": "2021-10-21T08:58:50.907708Z",
     "start_time": "2021-10-21T08:58:50.864928Z"
    }
   },
   "outputs": [],
   "source": [
    "tDf = tDf.withColumn(\"id\", tDf._c0.cast(\"integer\"))\n",
    "tDf = tDf.withColumn(\"height\", tDf['_c1'].cast(\"double\"))\n",
    "tDf = tDf.withColumn(\"weight\", tDf['_c2'].cast(\"double\"))"
   ]
  },
  {
   "cell_type": "code",
   "execution_count": 91,
   "id": "c4bd889f",
   "metadata": {
    "ExecuteTime": {
     "end_time": "2021-10-21T08:59:02.297657Z",
     "start_time": "2021-10-21T08:59:02.275272Z"
    }
   },
   "outputs": [],
   "source": [
    "tDf = tDf.drop('_c0').drop('_c1').drop('_c2')"
   ]
  },
  {
   "cell_type": "markdown",
   "id": "9c51276e",
   "metadata": {},
   "source": [
    "# udf"
   ]
  },
  {
   "cell_type": "code",
   "execution_count": 96,
   "id": "5feffc40",
   "metadata": {
    "ExecuteTime": {
     "end_time": "2021-10-21T09:02:19.323403Z",
     "start_time": "2021-10-21T09:02:19.113722Z"
    }
   },
   "outputs": [],
   "source": [
    "myDf = spark\\\n",
    "        .read.format('com.databricks.spark.csv')\\\n",
    "        .options(header='true', inferschema='true')\\\n",
    "        .load(os.path.join('data','myDf.csv'))"
   ]
  },
  {
   "cell_type": "code",
   "execution_count": 98,
   "id": "6fd48dfd",
   "metadata": {
    "ExecuteTime": {
     "end_time": "2021-10-21T09:03:01.522791Z",
     "start_time": "2021-10-21T09:03:01.520040Z"
    }
   },
   "outputs": [],
   "source": [
    "def uppercase(s):\n",
    "    return s.upper()"
   ]
  },
  {
   "cell_type": "code",
   "execution_count": 99,
   "id": "e6a2a1e5",
   "metadata": {
    "ExecuteTime": {
     "end_time": "2021-10-21T09:03:03.277932Z",
     "start_time": "2021-10-21T09:03:03.274801Z"
    }
   },
   "outputs": [],
   "source": [
    "from pyspark.sql.types import StringType\n",
    "from pyspark.sql.functions import udf\n",
    "\n",
    "upperUdf = udf(uppercase, StringType())"
   ]
  },
  {
   "cell_type": "code",
   "execution_count": 100,
   "id": "0f0d4ee3",
   "metadata": {
    "ExecuteTime": {
     "end_time": "2021-10-21T09:03:15.252393Z",
     "start_time": "2021-10-21T09:03:15.227095Z"
    }
   },
   "outputs": [],
   "source": [
    "myDf = myDf.withColumn(\"nameUpper\", upperUdf(myDf['name']))"
   ]
  },
  {
   "cell_type": "code",
   "execution_count": 101,
   "id": "2f28aade",
   "metadata": {
    "ExecuteTime": {
     "end_time": "2021-10-21T09:03:22.937491Z",
     "start_time": "2021-10-21T09:03:22.651566Z"
    }
   },
   "outputs": [
    {
     "name": "stdout",
     "output_type": "stream",
     "text": [
      "+---+----+-------+------+---------+\n",
      "|_c0|year|   name|height|nameUpper|\n",
      "+---+----+-------+------+---------+\n",
      "|  0|   1|kim, js|   170|  KIM, JS|\n",
      "|  1|   1|lee, sm|   175|  LEE, SM|\n",
      "|  2|   2|lim, yg|   180|  LIM, YG|\n",
      "|  3|   2|    lee|   170|      LEE|\n",
      "+---+----+-------+------+---------+\n",
      "\n"
     ]
    }
   ],
   "source": [
    "myDf.show()"
   ]
  },
  {
   "cell_type": "code",
   "execution_count": 106,
   "id": "3ea79c38",
   "metadata": {
    "ExecuteTime": {
     "end_time": "2021-10-21T09:07:37.430510Z",
     "start_time": "2021-10-21T09:07:37.409043Z"
    }
   },
   "outputs": [],
   "source": [
    "from pyspark.sql.types import DoubleType\n",
    "\n",
    "toDoublefunc = udf(lambda x: float(x), DoubleType())\n",
    "myDf = myDf.withColumn(\"heightD\", toDoublefunc(myDf.height))"
   ]
  },
  {
   "cell_type": "code",
   "execution_count": 102,
   "id": "af6d939a",
   "metadata": {
    "ExecuteTime": {
     "end_time": "2021-10-21T09:05:25.234199Z",
     "start_time": "2021-10-21T09:05:25.016275Z"
    }
   },
   "outputs": [
    {
     "name": "stdout",
     "output_type": "stream",
     "text": [
      "+---+----+-------+------+---------+-----+\n",
      "|_c0|year|   name|height|nameUpper|yearI|\n",
      "+---+----+-------+------+---------+-----+\n",
      "|  0|   1|kim, js|   170|  KIM, JS|    1|\n",
      "|  1|   1|lee, sm|   175|  LEE, SM|    1|\n",
      "|  2|   2|lim, yg|   180|  LIM, YG|    2|\n",
      "|  3|   2|    lee|   170|      LEE|    2|\n",
      "+---+----+-------+------+---------+-----+\n",
      "\n"
     ]
    }
   ],
   "source": [
    "from pyspark.sql.types import IntegerType\n",
    "\n",
    "toint=udf(lambda x:int(x), IntegerType())\n",
    "myDf=myDf.withColumn(\"yearI\", toint(myDf['year']))\n",
    "\n",
    "myDf.show()"
   ]
  },
  {
   "cell_type": "code",
   "execution_count": 109,
   "id": "ba1d9bae",
   "metadata": {
    "ExecuteTime": {
     "end_time": "2021-10-21T09:08:29.774280Z",
     "start_time": "2021-10-21T09:08:29.653532Z"
    }
   },
   "outputs": [
    {
     "name": "stdout",
     "output_type": "stream",
     "text": [
      "+---+----+-------+------+---------+-----+-------+----------+\n",
      "|_c0|year|   name|height|nameUpper|yearI|heightD|height>175|\n",
      "+---+----+-------+------+---------+-----+-------+----------+\n",
      "|  0|   1|kim, js|   170|  KIM, JS|    1|  170.0|   shorter|\n",
      "|  1|   1|lee, sm|   175|  LEE, SM|    1|  175.0|    taller|\n",
      "|  2|   2|lim, yg|   180|  LIM, YG|    2|  180.0|    taller|\n",
      "|  3|   2|    lee|   170|      LEE|    2|  170.0|   shorter|\n",
      "+---+----+-------+------+---------+-----+-------+----------+\n",
      "\n"
     ]
    }
   ],
   "source": [
    "from pyspark.sql.types import StringType\n",
    "\n",
    "height_udf = udf(lambda height: \"taller\" if height >=175 else \"shorter\", StringType())\n",
    "heightDf=myDf.withColumn(\"height>175\", height_udf(myDf.heightD))\n",
    "\n",
    "heightDf.show()"
   ]
  },
  {
   "cell_type": "markdown",
   "id": "4267c85d",
   "metadata": {},
   "source": [
    "# spark 그래프 "
   ]
  },
  {
   "cell_type": "code",
   "execution_count": 111,
   "id": "854435da",
   "metadata": {
    "ExecuteTime": {
     "end_time": "2021-10-21T09:10:45.288882Z",
     "start_time": "2021-10-21T09:10:44.839254Z"
    }
   },
   "outputs": [
    {
     "data": {
      "image/png": "[encoded data removed]",
      "text/plain": [
       "<Figure size 432x288 with 1 Axes>"
      ]
     },
     "metadata": {
      "needs_background": "light"
     },
     "output_type": "display_data"
    }
   ],
   "source": [
    "tDf=tDf.withColumnRenamed('id','ID')\n",
    "\n",
    "_weightRdd=tDf.rdd.map(lambda fields:fields[1]).collect()\n",
    "_heightRdd=tDf.rdd.map(lambda fields:fields[2]).collect()\n",
    "\n",
    "%matplotlib inline\n",
    "import numpy as np\n",
    "import matplotlib.pyplot as plt\n",
    "\n",
    "plt.plot(np.array(_weightRdd), np.array(_heightRdd),'o')\n",
    "plt.show()"
   ]
  },
  {
   "cell_type": "markdown",
   "id": "ce33bf1d",
   "metadata": {},
   "source": [
    "# F함수, agg"
   ]
  },
  {
   "cell_type": "code",
   "execution_count": 112,
   "id": "c47e121d",
   "metadata": {
    "ExecuteTime": {
     "end_time": "2021-10-21T09:11:41.458273Z",
     "start_time": "2021-10-21T09:11:41.189499Z"
    }
   },
   "outputs": [
    {
     "name": "stdout",
     "output_type": "stream",
     "text": [
      "+-----------+\n",
      "|min(height)|\n",
      "+-----------+\n",
      "|      63.48|\n",
      "+-----------+\n",
      "\n"
     ]
    }
   ],
   "source": [
    "from pyspark.sql import functions as F\n",
    "tDf.agg(F.min(\"height\")).show()"
   ]
  },
  {
   "cell_type": "markdown",
   "id": "b67b1365",
   "metadata": {},
   "source": [
    "# alias"
   ]
  },
  {
   "cell_type": "code",
   "execution_count": 114,
   "id": "6ce767c4",
   "metadata": {
    "ExecuteTime": {
     "end_time": "2021-10-21T09:16:47.597622Z",
     "start_time": "2021-10-21T09:16:47.505055Z"
    }
   },
   "outputs": [
    {
     "name": "stdout",
     "output_type": "stream",
     "text": [
      "+----------+\n",
      "|short name|\n",
      "+----------+\n",
      "|       kim|\n",
      "|       lee|\n",
      "|       lim|\n",
      "+----------+\n",
      "only showing top 3 rows\n",
      "\n"
     ]
    }
   ],
   "source": [
    "myDf1 = myDf.alias(\"myDf1\")\n",
    "myDf1.select(myDf1.name.substr(1,3).alias(\"short name\")).show(3)"
   ]
  },
  {
   "cell_type": "code",
   "execution_count": null,
   "id": "49c74347",
   "metadata": {},
   "outputs": [],
   "source": []
  },
  {
   "cell_type": "code",
   "execution_count": null,
   "id": "42720b6a",
   "metadata": {},
   "outputs": [],
   "source": []
  },
  {
   "cell_type": "markdown",
   "id": "17a89809",
   "metadata": {},
   "source": [
    "# zscore"
   ]
  },
  {
   "cell_type": "code",
   "execution_count": 11,
   "id": "02ae817e",
   "metadata": {
    "ExecuteTime": {
     "end_time": "2021-10-22T06:27:37.165471Z",
     "start_time": "2021-10-22T06:27:37.162668Z"
    }
   },
   "outputs": [],
   "source": [
    "marks=[\n",
    "    \"김하나, English, 100\",\n",
    "    \"김하나, Math, 80\",\n",
    "    \"임하나, English, 70\",\n",
    "    \"임하나, Math, 100\",\n",
    "    \"김갑돌, English, 82.3\",\n",
    "    \"김갑돌, Math, 98.5\"\n",
    "]"
   ]
  },
  {
   "cell_type": "code",
   "execution_count": 2,
   "id": "2e42944f",
   "metadata": {
    "ExecuteTime": {
     "end_time": "2021-10-22T06:22:34.847196Z",
     "start_time": "2021-10-22T06:22:30.544918Z"
    }
   },
   "outputs": [],
   "source": [
    "import pyspark\n",
    "\n",
    "myConf=pyspark.SparkConf()\n",
    "spark = pyspark.sql.SparkSession\\\n",
    "    .builder\\\n",
    "    .master(\"local\")\\\n",
    "    .appName(\"myApp\")\\\n",
    "    .config(conf=myConf)\\\n",
    "    .getOrCreate()"
   ]
  },
  {
   "cell_type": "code",
   "execution_count": 14,
   "id": "3f9532c5",
   "metadata": {
    "ExecuteTime": {
     "end_time": "2021-10-22T06:28:27.307682Z",
     "start_time": "2021-10-22T06:28:27.205727Z"
    }
   },
   "outputs": [],
   "source": [
    "temp = spark.sparkContext.parallelize(marks).map(lambda x : x.split(',')).map(lambda x : (x[0],x[1],float(x[2]))).collect()"
   ]
  },
  {
   "cell_type": "code",
   "execution_count": 23,
   "id": "2b5843b7",
   "metadata": {
    "ExecuteTime": {
     "end_time": "2021-10-22T06:35:43.456502Z",
     "start_time": "2021-10-22T06:35:43.429531Z"
    }
   },
   "outputs": [],
   "source": [
    "score_df = spark.createDataFrame(temp,['name','subject','score'])"
   ]
  },
  {
   "cell_type": "code",
   "execution_count": 20,
   "id": "0d255d37",
   "metadata": {
    "ExecuteTime": {
     "end_time": "2021-10-22T06:32:06.294164Z",
     "start_time": "2021-10-22T06:32:06.108024Z"
    }
   },
   "outputs": [
    {
     "name": "stdout",
     "output_type": "stream",
     "text": [
      "+------+--------+-----+\n",
      "|  name| subject|score|\n",
      "+------+--------+-----+\n",
      "|김하나| English|100.0|\n",
      "|김하나|    Math| 80.0|\n",
      "|임하나| English| 70.0|\n",
      "|임하나|    Math|100.0|\n",
      "|김갑돌| English| 82.3|\n",
      "|김갑돌|    Math| 98.5|\n",
      "+------+--------+-----+\n",
      "\n"
     ]
    }
   ],
   "source": [
    "# 스키마 오류시\n",
    "from pyspark.sql.types import *\n",
    "\n",
    "schema = StructType([\n",
    "    StructField(\"name\", StringType(), True),\n",
    "    StructField(\"subject\", StringType(), True),\n",
    "    StructField(\"score\", FloatType(), True)\n",
    "])\n",
    "spark.createDataFrame(temp,schema=schema).show()"
   ]
  },
  {
   "cell_type": "code",
   "execution_count": 25,
   "id": "ac065f21",
   "metadata": {
    "ExecuteTime": {
     "end_time": "2021-10-22T06:36:40.905193Z",
     "start_time": "2021-10-22T06:36:40.257583Z"
    }
   },
   "outputs": [
    {
     "data": {
      "text/plain": [
       "[Row(mean=88.46666666666665, std=12.786190467323202)]"
      ]
     },
     "execution_count": 25,
     "metadata": {},
     "output_type": "execute_result"
    }
   ],
   "source": [
    "from pyspark.sql import functions as F\n",
    "\n",
    "score_df.select(\n",
    "    F.mean('score').alias('mean'),\n",
    "    F.stddev('score').alias('std')\n",
    ").collect()"
   ]
  },
  {
   "cell_type": "code",
   "execution_count": 34,
   "id": "f8db53e6",
   "metadata": {
    "ExecuteTime": {
     "end_time": "2021-10-22T06:39:53.626561Z",
     "start_time": "2021-10-22T06:39:53.475783Z"
    }
   },
   "outputs": [],
   "source": [
    "temp_val = score_df.select(F.mean('score'),F.stddev('score')).collect()\n",
    "\n",
    "mean_data = temp_val[0][0]\n",
    "std_data = temp_val[0][1]"
   ]
  },
  {
   "cell_type": "code",
   "execution_count": 38,
   "id": "32c76e5c",
   "metadata": {
    "ExecuteTime": {
     "end_time": "2021-10-22T06:44:14.030711Z",
     "start_time": "2021-10-22T06:44:14.003717Z"
    }
   },
   "outputs": [],
   "source": [
    "get_zscore = F.udf(lambda x : (x-mean_data)/std_data,FloatType())\n",
    "zscore_udf = score_df.withColumn('zscore', get_zscore('score'))"
   ]
  },
  {
   "cell_type": "code",
   "execution_count": 42,
   "id": "d04083e2",
   "metadata": {
    "ExecuteTime": {
     "end_time": "2021-10-22T06:46:41.089235Z",
     "start_time": "2021-10-22T06:46:40.357581Z"
    }
   },
   "outputs": [
    {
     "name": "stdout",
     "output_type": "stream",
     "text": [
      "+------+--------+-----+-----------+-----------+\n",
      "|  name| subject|score|     zscore|        cdf|\n",
      "+------+--------+-----+-----------+-----------+\n",
      "|김하나| English|100.0| 0.90201485|  0.8164755|\n",
      "|김하나|    Math| 80.0|-0.66217273| 0.25393027|\n",
      "|임하나| English| 70.0| -1.4442666|0.074332014|\n",
      "|임하나|    Math|100.0| 0.90201485|  0.8164755|\n",
      "|김갑돌| English| 82.3|-0.48229116| 0.31479958|\n",
      "|김갑돌|    Math| 98.5| 0.78470075|  0.7836855|\n",
      "+------+--------+-----+-----------+-----------+\n",
      "\n"
     ]
    }
   ],
   "source": [
    "from scipy.stats import norm\n",
    "\n",
    "get_cdf = F.udf(lambda x : float(norm.cdf(x)),FloatType())\n",
    "mydf = zscore_udf.withColumn('cdf',get_cdf(zscore_udf['zscore']))\n",
    "mydf.show()"
   ]
  },
  {
   "cell_type": "code",
   "execution_count": null,
   "id": "228901cd",
   "metadata": {},
   "outputs": [],
   "source": []
  },
  {
   "cell_type": "markdown",
   "id": "50acb059",
   "metadata": {},
   "source": [
    "# 사망자"
   ]
  },
  {
   "cell_type": "code",
   "execution_count": null,
   "id": "8b316879",
   "metadata": {},
   "outputs": [],
   "source": [
    "import os\n",
    "import src.mylib\n",
    "\n",
    "keyPath=os.path.join(os.getcwd(), 'src', 'key.properties')\n",
    "key=src.mylib.getKey(keyPath)\n",
    "KEY = str(key['dataseoul'])\n",
    "\n",
    "#api\n",
    "TYPE='json'\n",
    "SERVICE = 'SearchSTNBySubwayLineInfo'\n",
    "START_INDEX=str(1)\n",
    "END_INDEX=str(10)\n",
    "LINE_NUM=str(2)\n",
    "\n",
    "params='/'.join([KEY,TYPE,SERVICE,START_INDEX,END_INDEX,'','',LINE_NUM])\n",
    "\n",
    "_url = 'http://openAPI.seoul.go.kr:8088'\n",
    "url='/'.join([_url,params])"
   ]
  },
  {
   "cell_type": "code",
   "execution_count": 68,
   "id": "ecba1586",
   "metadata": {
    "ExecuteTime": {
     "end_time": "2021-10-22T10:00:38.992668Z",
     "start_time": "2021-10-22T10:00:38.658914Z"
    },
    "code_folding": []
   },
   "outputs": [
    {
     "name": "stdout",
     "output_type": "stream",
     "text": [
      "Traceback (most recent call last):\r\n",
      "  File \"/opt/anaconda3/bin/nbmerge\", line 8, in <module>\r\n",
      "    sys.exit(main())\r\n",
      "  File \"/opt/anaconda3/lib/python3.8/site-packages/nbmerge/__init__.py\", line 189, in main\r\n",
      "    plan = parse_plan(args)\r\n",
      "  File \"/opt/anaconda3/lib/python3.8/site-packages/nbmerge/__init__.py\", line 173, in parse_plan\r\n",
      "    raise IOError(\"Notebook `{}` does not exist\".format(file_path))\r\n",
      "OSError: Notebook `필요한거 모음,` does not exist\r\n"
     ]
    }
   ],
   "source": [
    "# !nbmerge \"필요한거 모음\", \"어택, 단어, zscore\" > merged.ipynb"
   ]
  },
  {
   "cell_type": "code",
   "execution_count": null,
   "id": "72012a67",
   "metadata": {},
   "outputs": [],
   "source": []
  },
  {
   "cell_type": "code",
   "execution_count": null,
   "id": "35f05a85",
   "metadata": {},
   "outputs": [],
   "source": []
  },
  {
   "cell_type": "markdown",
   "id": "43682f21",
   "metadata": {},
   "source": [
    "# 요약2 부분"
   ]
  },
  {
   "cell_type": "code",
   "execution_count": 4,
   "id": "12b5685e",
   "metadata": {
    "ExecuteTime": {
     "end_time": "2021-10-22T02:47:08.657756Z",
     "start_time": "2021-10-22T02:47:08.654652Z"
    }
   },
   "outputs": [],
   "source": [
    "import os\n",
    "\n",
    "kddcup = os.path.join(os.getcwd(),'kddcup.data_10_percent.gz')"
   ]
  },
  {
   "cell_type": "code",
   "execution_count": 5,
   "id": "17760e21",
   "metadata": {
    "ExecuteTime": {
     "end_time": "2021-10-22T02:49:16.534048Z",
     "start_time": "2021-10-22T02:49:07.904933Z"
    }
   },
   "outputs": [],
   "source": [
    "import pyspark \n",
    "\n",
    "myConf=pyspark.SparkConf()\n",
    "spark = pyspark.sql.SparkSession.builder.master(\"local\").appName(\"myApp\").config(conf=myConf).getOrCreate()"
   ]
  },
  {
   "cell_type": "code",
   "execution_count": 6,
   "id": "331cf700",
   "metadata": {
    "ExecuteTime": {
     "end_time": "2021-10-22T02:49:49.797961Z",
     "start_time": "2021-10-22T02:49:48.869535Z"
    }
   },
   "outputs": [],
   "source": [
    "rdd_data = spark.sparkContext.textFile(kddcup)"
   ]
  },
  {
   "cell_type": "code",
   "execution_count": 9,
   "id": "53c89393",
   "metadata": {
    "ExecuteTime": {
     "end_time": "2021-10-22T02:50:52.240870Z",
     "start_time": "2021-10-22T02:50:52.161024Z"
    }
   },
   "outputs": [
    {
     "data": {
      "text/plain": [
       "['0,tcp,http,SF,181,5450,0,0,0,0,0,1,0,0,0,0,0,0,0,0,0,0,8,8,0.00,0.00,0.00,0.00,1.00,0.00,0.00,9,9,1.00,0.00,0.11,0.00,0.00,0.00,0.00,0.00,normal.']"
      ]
     },
     "execution_count": 9,
     "metadata": {},
     "output_type": "execute_result"
    }
   ],
   "source": [
    "rdd_data.take(1)"
   ]
  },
  {
   "cell_type": "code",
   "execution_count": 11,
   "id": "6ff6bfae",
   "metadata": {
    "ExecuteTime": {
     "end_time": "2021-10-22T02:52:25.285040Z",
     "start_time": "2021-10-22T02:52:25.196654Z"
    }
   },
   "outputs": [
    {
     "data": {
      "text/plain": [
       "['0,tcp,http,SF,181,5450,0,0,0,0,0,1,0,0,0,0,0,0,0,0,0,0,8,8,0.00,0.00,0.00,0.00,1.00,0.00,0.00,9,9,1.00,0.00,0.11,0.00,0.00,0.00,0.00,0.00,normal.']"
      ]
     },
     "execution_count": 11,
     "metadata": {},
     "output_type": "execute_result"
    }
   ],
   "source": [
    "rdd_data.take(1)"
   ]
  },
  {
   "cell_type": "code",
   "execution_count": 35,
   "id": "9dc0cfb8",
   "metadata": {
    "ExecuteTime": {
     "end_time": "2021-10-22T02:58:03.220958Z",
     "start_time": "2021-10-22T02:58:03.214683Z"
    }
   },
   "outputs": [],
   "source": [
    "from pyspark.sql import Row\n",
    "\n",
    "temp_data = rdd_data.map(lambda x : x.split(','))\n",
    "temp_data = temp_data.map(lambda p: Row(\n",
    "                        duration=int(p[0]), \n",
    "                        protocol=p[1],\n",
    "                        service=p[2],\n",
    "                        flag=p[3],\n",
    "                        src_bytes=int(p[4]),\n",
    "                        dst_bytes=int(p[5]),\n",
    "                        attack=p[41]\n",
    "                    )\n",
    "                )"
   ]
  },
  {
   "cell_type": "code",
   "execution_count": 36,
   "id": "5c372488",
   "metadata": {
    "ExecuteTime": {
     "end_time": "2021-10-22T02:58:04.709006Z",
     "start_time": "2021-10-22T02:58:04.514257Z"
    }
   },
   "outputs": [
    {
     "name": "stdout",
     "output_type": "stream",
     "text": [
      "+--------+--------+-------+----+---------+---------+-------+\n",
      "|duration|protocol|service|flag|src_bytes|dst_bytes| attack|\n",
      "+--------+--------+-------+----+---------+---------+-------+\n",
      "|       0|     tcp|   http|  SF|      181|     5450|normal.|\n",
      "|       0|     tcp|   http|  SF|      239|      486|normal.|\n",
      "|       0|     tcp|   http|  SF|      235|     1337|normal.|\n",
      "|       0|     tcp|   http|  SF|      219|     1337|normal.|\n",
      "|       0|     tcp|   http|  SF|      217|     2032|normal.|\n",
      "|       0|     tcp|   http|  SF|      217|     2032|normal.|\n",
      "|       0|     tcp|   http|  SF|      212|     1940|normal.|\n",
      "|       0|     tcp|   http|  SF|      159|     4087|normal.|\n",
      "|       0|     tcp|   http|  SF|      210|      151|normal.|\n",
      "|       0|     tcp|   http|  SF|      212|      786|normal.|\n",
      "|       0|     tcp|   http|  SF|      210|      624|normal.|\n",
      "|       0|     tcp|   http|  SF|      177|     1985|normal.|\n",
      "|       0|     tcp|   http|  SF|      222|      773|normal.|\n",
      "|       0|     tcp|   http|  SF|      256|     1169|normal.|\n",
      "|       0|     tcp|   http|  SF|      241|      259|normal.|\n",
      "|       0|     tcp|   http|  SF|      260|     1837|normal.|\n",
      "|       0|     tcp|   http|  SF|      241|      261|normal.|\n",
      "|       0|     tcp|   http|  SF|      257|      818|normal.|\n",
      "|       0|     tcp|   http|  SF|      233|      255|normal.|\n",
      "|       0|     tcp|   http|  SF|      233|      504|normal.|\n",
      "+--------+--------+-------+----+---------+---------+-------+\n",
      "only showing top 20 rows\n",
      "\n"
     ]
    }
   ],
   "source": [
    "df_data = spark.createDataFrame(temp_data)\n",
    "df_data.show()"
   ]
  },
  {
   "cell_type": "code",
   "execution_count": 37,
   "id": "6981b39b",
   "metadata": {
    "ExecuteTime": {
     "end_time": "2021-10-22T02:59:08.499022Z",
     "start_time": "2021-10-22T02:59:02.403540Z"
    }
   },
   "outputs": [
    {
     "name": "stdout",
     "output_type": "stream",
     "text": [
      "+----------------+------+\n",
      "|          attack| count|\n",
      "+----------------+------+\n",
      "|    warezmaster.|    20|\n",
      "|          smurf.|280790|\n",
      "|            pod.|   264|\n",
      "|           imap.|    12|\n",
      "|           nmap.|   231|\n",
      "|   guess_passwd.|    53|\n",
      "|        ipsweep.|  1247|\n",
      "|      portsweep.|  1040|\n",
      "|          satan.|  1589|\n",
      "|           land.|    21|\n",
      "|     loadmodule.|     9|\n",
      "|      ftp_write.|     8|\n",
      "|buffer_overflow.|    30|\n",
      "|        rootkit.|    10|\n",
      "|    warezclient.|  1020|\n",
      "|       teardrop.|   979|\n",
      "|           perl.|     3|\n",
      "|            phf.|     4|\n",
      "|       multihop.|     7|\n",
      "|        neptune.|107201|\n",
      "+----------------+------+\n",
      "only showing top 20 rows\n",
      "\n"
     ]
    }
   ],
   "source": [
    "df_data.groupBy('attack').count().show()"
   ]
  },
  {
   "cell_type": "code",
   "execution_count": 40,
   "id": "797a679e",
   "metadata": {
    "ExecuteTime": {
     "end_time": "2021-10-22T03:01:01.819949Z",
     "start_time": "2021-10-22T03:00:57.381892Z"
    }
   },
   "outputs": [
    {
     "name": "stdout",
     "output_type": "stream",
     "text": [
      "+----------------+--------------------+\n",
      "|          attack|       avg(duration)|\n",
      "+----------------+--------------------+\n",
      "|    warezmaster.|               15.05|\n",
      "|          smurf.|                 0.0|\n",
      "|            pod.|                 0.0|\n",
      "|           imap.|                 6.0|\n",
      "|           nmap.|                 0.0|\n",
      "|   guess_passwd.|  2.7169811320754715|\n",
      "|        ipsweep.|0.034482758620689655|\n",
      "|      portsweep.|  1915.2990384615384|\n",
      "|          satan.|0.040276903713027064|\n",
      "|           land.|                 0.0|\n",
      "|     loadmodule.|   36.22222222222222|\n",
      "|      ftp_write.|              32.375|\n",
      "|buffer_overflow.|                91.7|\n",
      "|        rootkit.|               100.8|\n",
      "|    warezclient.|   615.2578431372549|\n",
      "|       teardrop.|                 0.0|\n",
      "|           perl.|  41.333333333333336|\n",
      "|            phf.|                 4.5|\n",
      "|       multihop.|               184.0|\n",
      "|        neptune.|                 0.0|\n",
      "+----------------+--------------------+\n",
      "only showing top 20 rows\n",
      "\n"
     ]
    }
   ],
   "source": [
    "df_data.groupBy('attack').mean('duration').show()"
   ]
  },
  {
   "cell_type": "code",
   "execution_count": 47,
   "id": "759078cf",
   "metadata": {
    "ExecuteTime": {
     "end_time": "2021-10-22T03:09:17.231202Z",
     "start_time": "2021-10-22T03:07:53.380878Z"
    }
   },
   "outputs": [
    {
     "name": "stdout",
     "output_type": "stream",
     "text": [
      "+----------------+------------------+------------------+------------------+\n",
      "|          attack|              icmp|               tcp|               udp|\n",
      "+----------------+------------------+------------------+------------------+\n",
      "|    warezmaster.|              null|              49.3|              null|\n",
      "|          smurf.| 935.7722995833185|              null|              null|\n",
      "|            pod.|1462.6515151515152|              null|              null|\n",
      "|           nmap.|               8.0|               0.0|            189.88|\n",
      "|           imap.|              null| 347.5833333333333|              null|\n",
      "|   guess_passwd.|              null|125.33962264150944|              null|\n",
      "|        ipsweep.|10.905464006938422|               0.0|              null|\n",
      "|      portsweep.|               8.0| 667349.1106833494|              null|\n",
      "|          satan.|25.666666666666668| 1.323446327683616|1.0235294117647058|\n",
      "|           land.|              null|               0.0|              null|\n",
      "|     loadmodule.|              null|151.88888888888889|              null|\n",
      "|      ftp_write.|              null|            220.75|              null|\n",
      "|buffer_overflow.|              null|1400.4333333333334|              null|\n",
      "|        rootkit.|              null| 415.2857142857143|13.333333333333334|\n",
      "|    warezclient.|              null|  300219.562745098|              null|\n",
      "|       teardrop.|              null|              null|              28.0|\n",
      "|           perl.|              null| 265.6666666666667|              null|\n",
      "|            phf.|              null|              51.0|              null|\n",
      "|       multihop.|              null|435.14285714285717|              null|\n",
      "|        neptune.|              null|               0.0|              null|\n",
      "+----------------+------------------+------------------+------------------+\n",
      "only showing top 20 rows\n",
      "\n"
     ]
    }
   ],
   "source": [
    "from pyspark.sql import functions as F\n",
    "\n",
    "df_data.groupBy('attack').pivot('protocol').agg(F.mean('src_bytes')).show()"
   ]
  },
  {
   "cell_type": "code",
   "execution_count": 48,
   "id": "d12609f2",
   "metadata": {
    "ExecuteTime": {
     "end_time": "2021-10-22T03:10:08.621114Z",
     "start_time": "2021-10-22T03:09:58.832097Z"
    }
   },
   "outputs": [
    {
     "name": "stdout",
     "output_type": "stream",
     "text": [
      "+----------------+------------------+------------------+------------------+\n",
      "|          attack|              icmp|               tcp|               udp|\n",
      "+----------------+------------------+------------------+------------------+\n",
      "|    warezmaster.|              null|              49.3|              null|\n",
      "|          smurf.| 935.7722995833185|              null|              null|\n",
      "|            pod.|1462.6515151515152|              null|              null|\n",
      "|           nmap.|               8.0|               0.0|            189.88|\n",
      "|           imap.|              null| 347.5833333333333|              null|\n",
      "|   guess_passwd.|              null|125.33962264150944|              null|\n",
      "|        ipsweep.|10.905464006938422|               0.0|              null|\n",
      "|      portsweep.|               8.0| 667349.1106833494|              null|\n",
      "|          satan.|25.666666666666668| 1.323446327683616|1.0235294117647058|\n",
      "|           land.|              null|               0.0|              null|\n",
      "|     loadmodule.|              null|151.88888888888889|              null|\n",
      "|      ftp_write.|              null|            220.75|              null|\n",
      "|buffer_overflow.|              null|1400.4333333333334|              null|\n",
      "|        rootkit.|              null| 415.2857142857143|13.333333333333334|\n",
      "|    warezclient.|              null|  300219.562745098|              null|\n",
      "|       teardrop.|              null|              null|              28.0|\n",
      "|           perl.|              null| 265.6666666666667|              null|\n",
      "|            phf.|              null|              51.0|              null|\n",
      "|       multihop.|              null|435.14285714285717|              null|\n",
      "|        neptune.|              null|               0.0|              null|\n",
      "+----------------+------------------+------------------+------------------+\n",
      "only showing top 20 rows\n",
      "\n"
     ]
    }
   ],
   "source": [
    "df_data.groupBy('attack').pivot('protocol').mean('src_bytes').show()"
   ]
  },
  {
   "cell_type": "code",
   "execution_count": null,
   "id": "ea940889",
   "metadata": {},
   "outputs": [],
   "source": []
  },
  {
   "cell_type": "code",
   "execution_count": 53,
   "id": "b6d6c132",
   "metadata": {
    "ExecuteTime": {
     "end_time": "2021-10-22T03:56:29.606939Z",
     "start_time": "2021-10-22T03:56:29.601195Z"
    }
   },
   "outputs": [
    {
     "data": {
      "text/plain": [
       "data/ds_bigdata_wiki.txt MapPartitionsRDD[134] at textFile at NativeMethodAccessorImpl.java:0"
      ]
     },
     "execution_count": 53,
     "metadata": {},
     "output_type": "execute_result"
    }
   ],
   "source": [
    "wiki_data"
   ]
  },
  {
   "cell_type": "code",
   "execution_count": 52,
   "id": "619d9d79",
   "metadata": {
    "ExecuteTime": {
     "end_time": "2021-10-22T03:56:20.049849Z",
     "start_time": "2021-10-22T03:56:19.980712Z"
    }
   },
   "outputs": [],
   "source": [
    "wiki_data = spark.sparkContext.textFile(os.path.join('data','ds_bigdata_wiki.txt'))"
   ]
  },
  {
   "cell_type": "code",
   "execution_count": 63,
   "id": "06d2efd2",
   "metadata": {
    "ExecuteTime": {
     "end_time": "2021-10-22T04:00:46.456553Z",
     "start_time": "2021-10-22T04:00:46.322510Z"
    }
   },
   "outputs": [
    {
     "data": {
      "text/plain": [
       "[(21, '데이터'),\n",
       " (18, '데이터를'),\n",
       " (15, '및'),\n",
       " (14, '빅'),\n",
       " (12, '등'),\n",
       " (9, '있다.'),\n",
       " (8, '수'),\n",
       " (8, '데이터의'),\n",
       " (7, '미국'),\n",
       " (7, '통해'),\n",
       " (6, '유권자'),\n",
       " (6, '선거'),\n",
       " (6, '대한'),\n",
       " (6, '빅데이터'),\n",
       " (5, '활용한')]"
      ]
     },
     "execution_count": 63,
     "metadata": {},
     "output_type": "execute_result"
    }
   ],
   "source": [
    "wiki_data.flatMap(lambda x : x.split()).map(lambda x: (x,1)).reduceByKey(lambda x,y: x+y).map(lambda x : (x[1],x[0])).sortByKey(False).take(15)"
   ]
  },
  {
   "cell_type": "code",
   "execution_count": 65,
   "id": "62365574",
   "metadata": {
    "ExecuteTime": {
     "end_time": "2021-10-22T04:05:14.433237Z",
     "start_time": "2021-10-22T04:05:14.322573Z"
    }
   },
   "outputs": [
    {
     "data": {
      "text/plain": [
       "[(21, '데이터'),\n",
       " (18, '데이터를'),\n",
       " (15, '및'),\n",
       " (14, '빅'),\n",
       " (12, '등'),\n",
       " (9, '있다.'),\n",
       " (8, '수'),\n",
       " (8, '데이터의'),\n",
       " (7, '미국'),\n",
       " (7, '통해'),\n",
       " (6, '유권자'),\n",
       " (6, '선거'),\n",
       " (6, '대한'),\n",
       " (6, '빅데이터'),\n",
       " (5, '활용한')]"
      ]
     },
     "execution_count": 65,
     "metadata": {},
     "output_type": "execute_result"
    }
   ],
   "source": [
    "wiki_data.flatMap(lambda x : x.split()).map(lambda x: (x,1)).groupByKey().mapValues(sum).map(lambda x: (x[1],x[0])).sortByKey(False).take(15)"
   ]
  },
  {
   "cell_type": "code",
   "execution_count": null,
   "id": "a48a4fd6",
   "metadata": {},
   "outputs": [],
   "source": []
  },
  {
   "cell_type": "code",
   "execution_count": null,
   "id": "fc46fa45",
   "metadata": {},
   "outputs": [],
   "source": []
  },
  {
   "cell_type": "code",
   "execution_count": 66,
   "id": "ffffc306",
   "metadata": {
    "ExecuteTime": {
     "end_time": "2021-10-22T04:16:30.833344Z",
     "start_time": "2021-10-22T04:16:30.825473Z"
    }
   },
   "outputs": [],
   "source": [
    "_data = [\"'김하나','English',100\",\n",
    "         \"'김하나','Math',80\",\n",
    "         \"'임하나','English',70\",\n",
    "         \"'임하나','Math',100\",\n",
    "        \"'김갑돌','English',82.3\",\n",
    "         \"'김갑돌','Math',98.5\"]"
   ]
  },
  {
   "cell_type": "code",
   "execution_count": 74,
   "id": "e9714c50",
   "metadata": {
    "ExecuteTime": {
     "end_time": "2021-10-22T04:26:25.798079Z",
     "start_time": "2021-10-22T04:26:25.647641Z"
    }
   },
   "outputs": [
    {
     "data": {
      "text/plain": [
       "[(\"'김하나'\", 180.0), (\"'임하나'\", 170.0), (\"'김갑돌'\", 180.8)]"
      ]
     },
     "execution_count": 74,
     "metadata": {},
     "output_type": "execute_result"
    }
   ],
   "source": [
    "rdd_data = spark.sparkContext.parallelize(_data)\n",
    "rdd_data.map(lambda x: x.split(',')).map(lambda x : (x[0],float(x[2]))).reduceByKey(lambda x,y : x+y).collect()"
   ]
  },
  {
   "cell_type": "code",
   "execution_count": 75,
   "id": "8ecce371",
   "metadata": {
    "ExecuteTime": {
     "end_time": "2021-10-22T04:26:58.135323Z",
     "start_time": "2021-10-22T04:26:58.052315Z"
    }
   },
   "outputs": [
    {
     "data": {
      "text/plain": [
       "[(\"'English'\", 252.3), (\"'Math'\", 278.5)]"
      ]
     },
     "execution_count": 75,
     "metadata": {},
     "output_type": "execute_result"
    }
   ],
   "source": [
    "rdd_data.map(lambda x: x.split(',')).map(lambda x : (x[1],float(x[2]))).reduceByKey(lambda x,y : x+y).collect()"
   ]
  },
  {
   "cell_type": "code",
   "execution_count": null,
   "id": "80edf7a5",
   "metadata": {},
   "outputs": [],
   "source": []
  },
  {
   "cell_type": "code",
   "execution_count": null,
   "id": "bc5af0ce",
   "metadata": {},
   "outputs": [],
   "source": []
  },
  {
   "cell_type": "code",
   "execution_count": null,
   "id": "dc5b21cd",
   "metadata": {},
   "outputs": [],
   "source": []
  },
  {
   "cell_type": "code",
   "execution_count": 84,
   "id": "007cc9d8",
   "metadata": {
    "ExecuteTime": {
     "end_time": "2021-10-22T04:51:42.819870Z",
     "start_time": "2021-10-22T04:51:42.713039Z"
    }
   },
   "outputs": [
    {
     "data": {
      "text/plain": [
       "[(\"'김하나'\", (180.0, 2)), (\"'임하나'\", (170.0, 2)), (\"'김갑돌'\", (180.8, 2))]"
      ]
     },
     "execution_count": 84,
     "metadata": {},
     "output_type": "execute_result"
    }
   ],
   "source": [
    "rdd_data.map(lambda x: x.split(',')).map(lambda x: (x[0], float(x[2]))).combineByKey(lambda value: (value,1),\n",
    "                     lambda x,value: (x[0]+value, x[1]+1),                      \n",
    "                     lambda x,y: (x[0]+y[0], x[1]+y[1])).collect()"
   ]
  },
  {
   "cell_type": "code",
   "execution_count": 87,
   "id": "965858a5",
   "metadata": {
    "ExecuteTime": {
     "end_time": "2021-10-22T04:53:05.462895Z",
     "start_time": "2021-10-22T04:53:05.395242Z"
    }
   },
   "outputs": [
    {
     "name": "stdout",
     "output_type": "stream",
     "text": [
      "'임하나' 85.0\n",
      "'김하나' 90.0\n",
      "'김갑돌' 90.4\n"
     ]
    }
   ],
   "source": [
    "avg = rdd_data.map(lambda x: x.split(',')).map(lambda x: (x[0], float(x[2]))).combineByKey(lambda value: (value,1),\n",
    "                     lambda x,value: (x[0]+value, x[1]+1),                      \n",
    "                     lambda x,y: (x[0]+y[0], x[1]+y[1]))\n",
    "\n",
    "avg2 = avg.map(lambda x: (x[0],x[1][0]/x[1][1]))\n",
    "\n",
    "for i, j in sorted(avg2.collect(),reverse=True):\n",
    "    print(i,j)"
   ]
  },
  {
   "cell_type": "code",
   "execution_count": null,
   "id": "916f11c8",
   "metadata": {},
   "outputs": [],
   "source": []
  },
  {
   "cell_type": "code",
   "execution_count": null,
   "id": "62bfdc5a",
   "metadata": {},
   "outputs": [],
   "source": []
  },
  {
   "cell_type": "code",
   "execution_count": 89,
   "id": "8f7d1329",
   "metadata": {
    "ExecuteTime": {
     "end_time": "2021-10-22T05:30:33.360012Z",
     "start_time": "2021-10-22T05:30:27.474019Z"
    }
   },
   "outputs": [],
   "source": [
    "r = requests.get('https://health.data.ny.gov/api/views/jxy9-yhdk/rows.json?accessType=DOWNLOAD')\n",
    "\n",
    "wc = r.json()"
   ]
  },
  {
   "cell_type": "code",
   "execution_count": 110,
   "id": "1ca44797",
   "metadata": {
    "ExecuteTime": {
     "end_time": "2021-10-22T05:34:48.574582Z",
     "start_time": "2021-10-22T05:34:48.569868Z"
    }
   },
   "outputs": [
    {
     "data": {
      "text/plain": [
       "{'id': -1,\n",
       " 'name': 'id',\n",
       " 'dataTypeName': 'meta_data',\n",
       " 'fieldName': ':id',\n",
       " 'position': 0,\n",
       " 'renderTypeName': 'meta_data',\n",
       " 'format': {},\n",
       " 'flags': ['hidden']}"
      ]
     },
     "execution_count": 110,
     "metadata": {},
     "output_type": "execute_result"
    }
   ],
   "source": [
    "wc['meta']['view']['columns'][1]"
   ]
  },
  {
   "cell_type": "code",
   "execution_count": null,
   "id": "5262dc51",
   "metadata": {},
   "outputs": [],
   "source": []
  },
  {
   "cell_type": "code",
   "execution_count": null,
   "id": "f7327262",
   "metadata": {},
   "outputs": [],
   "source": []
  },
  {
   "cell_type": "markdown",
   "id": "7300cd60",
   "metadata": {},
   "source": [
    "# RDD 읽는 방법"
   ]
  },
  {
   "cell_type": "code",
   "execution_count": null,
   "id": "e6338854",
   "metadata": {},
   "outputs": [],
   "source": [
    "spark.sparkContext.parallelize(myList)\n",
    "spark.sparkContext.textFile(os.path.join(\"data\",\"ds_spark_wiki.txt\"))\n"
   ]
  },
  {
   "cell_type": "markdown",
   "id": "fcd30d36",
   "metadata": {},
   "source": [
    "# DF 읽는 방법 "
   ]
  },
  {
   "cell_type": "code",
   "execution_count": null,
   "id": "82255dc6",
   "metadata": {},
   "outputs": [],
   "source": [
    "spark.read.text(os.path.join(\"data\", \"ds_spark_wiki.txt\"))\n",
    "\n",
    "popDf = spark\\\n",
    "            .read.option(\"charset\", \"euc-kr\")\\\n",
    "            .option(\"header\", \"true\")\\\n",
    "            .csv(os.path.join(\"data\",\"경기도 의정부시_인구현황_20200904.csv\"))\n",
    "\n",
    "df = spark\\\n",
    "        .read\\\n",
    "        .format('com.databricks.spark.csv')\\\n",
    "        .options(header='true', inferschema='true', delimiter=',')\\\n",
    "        .load(os.path.join('data','ds_spark.csv'))\n",
    "\n",
    "df = spark\\\n",
    "        .read.options(header='true', inferschema='true', delimiter=',')\\\n",
    "        .csv(os.path.join('data', 'ds_spark.csv'))"
   ]
  },
  {
   "cell_type": "markdown",
   "id": "90a6af8e",
   "metadata": {},
   "source": [
    "# RDD to DF"
   ]
  },
  {
   "cell_type": "code",
   "execution_count": 112,
   "id": "07484bc3",
   "metadata": {
    "ExecuteTime": {
     "end_time": "2021-10-22T09:15:11.523241Z",
     "start_time": "2021-10-22T09:15:11.428003Z"
    },
    "collapsed": true
   },
   "outputs": [
    {
     "ename": "NameError",
     "evalue": "name 'myRdd' is not defined",
     "output_type": "error",
     "traceback": [
      "\u001b[0;31m---------------------------------------------------------------------------\u001b[0m",
      "\u001b[0;31mNameError\u001b[0m                                 Traceback (most recent call last)",
      "\u001b[0;32m<ipython-input-112-d3cfd3afdf8e>\u001b[0m in \u001b[0;36m<module>\u001b[0;34m\u001b[0m\n\u001b[0;32m----> 1\u001b[0;31m \u001b[0mrddDf\u001b[0m\u001b[0;34m=\u001b[0m\u001b[0mspark\u001b[0m\u001b[0;34m.\u001b[0m\u001b[0mcreateDataFrame\u001b[0m\u001b[0;34m(\u001b[0m\u001b[0mmyRdd\u001b[0m\u001b[0;34m)\u001b[0m\u001b[0;34m\u001b[0m\u001b[0;34m\u001b[0m\u001b[0m\n\u001b[0m\u001b[1;32m      2\u001b[0m \u001b[0;34m\u001b[0m\u001b[0m\n\u001b[1;32m      3\u001b[0m \u001b[0;31m# row to df\u001b[0m\u001b[0;34m\u001b[0m\u001b[0;34m\u001b[0m\u001b[0;34m\u001b[0m\u001b[0m\n\u001b[1;32m      4\u001b[0m \u001b[0;32mfrom\u001b[0m \u001b[0mpyspark\u001b[0m\u001b[0;34m.\u001b[0m\u001b[0msql\u001b[0m \u001b[0;32mimport\u001b[0m \u001b[0mRow\u001b[0m\u001b[0;34m\u001b[0m\u001b[0;34m\u001b[0m\u001b[0m\n\u001b[1;32m      5\u001b[0m \u001b[0m_myRdd\u001b[0m\u001b[0;34m=\u001b[0m\u001b[0mmyRdd\u001b[0m\u001b[0;34m.\u001b[0m\u001b[0mmap\u001b[0m\u001b[0;34m(\u001b[0m\u001b[0;32mlambda\u001b[0m \u001b[0mx\u001b[0m\u001b[0;34m:\u001b[0m\u001b[0mRow\u001b[0m\u001b[0;34m(\u001b[0m\u001b[0myear\u001b[0m\u001b[0;34m=\u001b[0m\u001b[0mint\u001b[0m\u001b[0;34m(\u001b[0m\u001b[0mx\u001b[0m\u001b[0;34m[\u001b[0m\u001b[0;36m0\u001b[0m\u001b[0;34m]\u001b[0m\u001b[0;34m)\u001b[0m\u001b[0;34m,\u001b[0m \u001b[0mname\u001b[0m\u001b[0;34m=\u001b[0m\u001b[0mx\u001b[0m\u001b[0;34m[\u001b[0m\u001b[0;36m1\u001b[0m\u001b[0;34m]\u001b[0m\u001b[0;34m,\u001b[0m \u001b[0mheight\u001b[0m\u001b[0;34m=\u001b[0m\u001b[0mint\u001b[0m\u001b[0;34m(\u001b[0m\u001b[0mx\u001b[0m\u001b[0;34m[\u001b[0m\u001b[0;36m2\u001b[0m\u001b[0;34m]\u001b[0m\u001b[0;34m)\u001b[0m\u001b[0;34m)\u001b[0m\u001b[0;34m)\u001b[0m\u001b[0;34m\u001b[0m\u001b[0;34m\u001b[0m\u001b[0m\n",
      "\u001b[0;31mNameError\u001b[0m: name 'myRdd' is not defined"
     ]
    }
   ],
   "source": [
    "rddDf=spark.createDataFrame(myRdd)\n",
    "\n",
    "# row to df\n",
    "from pyspark.sql import Row\n",
    "_myRdd=myRdd.map(lambda x:Row(year=int(x[0]), name=x[1], height=int(x[2])))\n",
    "_myDf=spark.createDataFrame(_myRdd)\n",
    "\n",
    "\n",
    "\n",
    "#structType\n",
    "from pyspark.sql.types import *\n",
    "myRdd=spark.sparkContext.parallelize([(1, 'kim', 50.0), (2, 'lee', 60.0), (3, 'park', 70.0)])\n",
    "schema = StructType([\n",
    "    StructField(\"id\", IntegerType(), True),\n",
    "    StructField(\"name\", StringType(), True),\n",
    "    StructField(\"height\", DoubleType(), True)\n",
    "])\n",
    "_myDf = spark.createDataFrame(myRdd, schema)"
   ]
  },
  {
   "cell_type": "markdown",
   "id": "8b741a91",
   "metadata": {},
   "source": [
    "# json to spark_df"
   ]
  },
  {
   "cell_type": "code",
   "execution_count": null,
   "id": "04963ebe",
   "metadata": {},
   "outputs": [],
   "source": [
    "jfile= os.path.join('src','ds_twitter_seoul_3.json')\n",
    "tweetDf= spark.read.json(jfile)"
   ]
  },
  {
   "cell_type": "code",
   "execution_count": null,
   "id": "ba3abdf9",
   "metadata": {},
   "outputs": [],
   "source": [
    "# url json spark_df\n",
    "\n",
    "r=requests.get(\"https://raw.githubusercontent.com/jokecamp/FootballData/master/World%20Cups/all-world-cup-players.json\")\n",
    "wc=r.json()\n",
    "_wcDf=spark.createDataFrame(wc)"
   ]
  },
  {
   "cell_type": "markdown",
   "id": "a6ee1f19",
   "metadata": {},
   "source": [
    "# csv 읽는 방법 "
   ]
  },
  {
   "cell_type": "code",
   "execution_count": null,
   "id": "5fbe1993",
   "metadata": {},
   "outputs": [],
   "source": [
    "# 한글깨짐\n",
    "spark.sparkContext.textFile(os.path.join(\"data\",\"ds_spark_2cols.csv\"))\n",
    "\n",
    "# 한글안깨짐\n",
    "popRddBin = spark.sparkContext.binaryFiles(os.path.join(\"../data\",\"경기도 의정부시_인구현황_20210910.csv\"))\n",
    "_my = popRddBin.map(lambda x :x[1].decode('euc-kr'))\n",
    "\n"
   ]
  },
  {
   "cell_type": "markdown",
   "id": "ab4c423b",
   "metadata": {},
   "source": [
    "# filter\n"
   ]
  },
  {
   "cell_type": "code",
   "execution_count": null,
   "id": "c8c44b49",
   "metadata": {},
   "outputs": [],
   "source": [
    "stopwords = ['is','am','are','the','for','a', 'an', 'at']\n",
    "myRdd_stop = myRdd2.flatMap(lambda x:x.split())\\\n",
    "                    .filter(lambda x: x not in stopwords)\n",
    "\n",
    "for words in myRdd_stop.collect():\n",
    "    print (words, end=' ')"
   ]
  },
  {
   "cell_type": "markdown",
   "id": "a301fba0",
   "metadata": {},
   "source": [
    "# 불용어"
   ]
  },
  {
   "cell_type": "code",
   "execution_count": null,
   "id": "65e76a88",
   "metadata": {},
   "outputs": [],
   "source": [
    "# txt 읽어서 불용어 및 단어빈도\n",
    "import os\n",
    "\n",
    "f=open(os.path.join(\"data\", \"ds_bigdata_wiki.txt\"))\n",
    "\n",
    "stopwords = set(['및','이를','등','이','이런','그와','또는','두', '이와', '전', '간'])\n",
    "d = dict()\n",
    "for sent in f.readlines():\n",
    "    _words = sent.split()  # split into words\n",
    "    for word in _words:\n",
    "        if word not in stopwords: # remove stopwords\n",
    "            if word not in d:\n",
    "                d[word]=1\n",
    "            else:\n",
    "                d[word]=d[word]+1\n",
    "# sorting\n",
    "dSorted = {k: v for k, v in sorted(d.items(), key=lambda x: x[1], reverse=True)}\n",
    "\n",
    "#빈도 5 이상\n",
    "d1 = dict()\n",
    "for key, value in dSorted.items():\n",
    "    if value>5:\n",
    "        d1[key]=value\n",
    "        print (f\"{key}\\t{value}\")"
   ]
  },
  {
   "cell_type": "code",
   "execution_count": 111,
   "id": "59e68634",
   "metadata": {
    "ExecuteTime": {
     "end_time": "2021-10-22T09:03:33.377300Z",
     "start_time": "2021-10-22T09:03:33.338625Z"
    }
   },
   "outputs": [],
   "source": [
    "# rdd 불용어 + sorting\n",
    "\n",
    "stopwords = set(['및','이를','등','이','이런','그와','또는','두', '이와', '전', '간'])\n",
    "\n",
    "wc3=myRdd3\\\n",
    "    .flatMap(lambda x:x.split())\\\n",
    "    .filter(lambda x: x.lower() not in stopwords)\\\n",
    "    .map(lambda x:(x,1))\\\n",
    "    .reduceByKey(lambda x,y:x+y)\\\n",
    "    .map(lambda x:(x[1],x[0]))\\\n",
    "    .sortByKey(False)\\\n",
    "    .take(15)\n",
    "\n",
    "print (type(wc3))\n",
    "for i in wc3:\n",
    "    print (i[0],i[1])"
   ]
  },
  {
   "cell_type": "code",
   "execution_count": null,
   "id": "0ed04088",
   "metadata": {},
   "outputs": [],
   "source": [
    "# 공백 + , + .제거\n",
    "\n",
    "wc = spark.sparkContext.textFile(os.path.join(\"data\",\"ds_spark_wiki.txt\"))\\\n",
    "    .flatMap(lambda x: x.split())\\\n",
    "    .map(lambda x: (x.lower().rstrip().lstrip().rstrip(',').rstrip('.'), 1))\n",
    "\n",
    "wcReduceByKey = wc.reduceByKey(lambda x,y:x+y)\n",
    "wcReduceByKey.sortByKey().take(10)"
   ]
  },
  {
   "cell_type": "markdown",
   "id": "e79d449a",
   "metadata": {},
   "source": [
    "# datetime"
   ]
  },
  {
   "cell_type": "code",
   "execution_count": null,
   "id": "91b2970e",
   "metadata": {},
   "outputs": [],
   "source": [
    "from pyspark.sql.functions import udf\n",
    "from pyspark.sql.types import DateType\n",
    "toDate = udf(lambda x: datetime.strptime(x, '%m/%d/%Y'), DateType())\n",
    "\n",
    "_wcDfCasted=wcDf.withColumn('date2', to_date(wcDf['DateOfBirth'], 'yyyy-MM-dd'))"
   ]
  },
  {
   "cell_type": "markdown",
   "id": "8d21aef7",
   "metadata": {},
   "source": [
    "# udf 조건"
   ]
  },
  {
   "cell_type": "code",
   "execution_count": null,
   "id": "363b8eae",
   "metadata": {},
   "outputs": [],
   "source": [
    "from pyspark.sql.types import StringType\n",
    "from pyspark.sql.functions import udf\n",
    "\n",
    "height_udf = udf(lambda height: \"taller\" if height >=175 else \"shorter\", StringType())\n",
    "heightDf=myDf.withColumn(\"height>175\", height_udf(myDf.heightD))"
   ]
  },
  {
   "cell_type": "markdown",
   "id": "4964b051",
   "metadata": {},
   "source": [
    "# columnRenamed"
   ]
  },
  {
   "cell_type": "code",
   "execution_count": null,
   "id": "80cad33e",
   "metadata": {},
   "outputs": [],
   "source": [
    "tDf=tDf.withColumnRenamed('id','ID')"
   ]
  },
  {
   "cell_type": "markdown",
   "id": "caebcf58",
   "metadata": {},
   "source": [
    "# F함수"
   ]
  },
  {
   "cell_type": "code",
   "execution_count": null,
   "id": "8a534e64",
   "metadata": {},
   "outputs": [],
   "source": [
    "from pyspark.sql import functions as F\n",
    "\n",
    "myDf.agg(F.min(myDf.heightD),F.max(myDf.heightD),F.avg(myDf.heightD),F.sum(myDf.heightD)).show()\n",
    "tDf.agg(F.min(\"height\")).show()"
   ]
  }
 ],
 "metadata": {
  "kernelspec": {
   "display_name": "Python 3",
   "language": "python",
   "name": "python3"
  },
  "language_info": {
   "codemirror_mode": {
    "name": "ipython",
    "version": 3
   },
   "file_extension": ".py",
   "mimetype": "text/x-python",
   "name": "python",
   "nbconvert_exporter": "python",
   "pygments_lexer": "ipython3",
   "version": "3.8.8"
  }
 },
 "nbformat": 4,
 "nbformat_minor": 5
}
