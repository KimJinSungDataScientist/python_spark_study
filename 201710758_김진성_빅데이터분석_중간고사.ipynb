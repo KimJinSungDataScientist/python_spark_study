{
 "cells": [
  {
   "cell_type": "markdown",
   "id": "8a993050",
   "metadata": {},
   "source": [
    "# 201710758 김진성 "
   ]
  },
  {
   "cell_type": "code",
   "execution_count": 1,
   "id": "f797490b",
   "metadata": {
    "ExecuteTime": {
     "end_time": "2021-10-23T13:14:26.069582Z",
     "start_time": "2021-10-23T13:14:26.062151Z"
    }
   },
   "outputs": [],
   "source": [
    "import os\n",
    "import src.mylib\n",
    "keyPath=os.path.join(os.getcwd(), 'src', 'key.properties')\n",
    "key=src.mylib.getKey(keyPath)\n",
    "KEY=str(key['dataseoul'])"
   ]
  },
  {
   "cell_type": "markdown",
   "id": "8e34f8a9",
   "metadata": {},
   "source": [
    "# 문제1-1의 답"
   ]
  },
  {
   "cell_type": "code",
   "execution_count": 2,
   "id": "637d87b5",
   "metadata": {
    "ExecuteTime": {
     "end_time": "2021-10-23T13:14:26.216940Z",
     "start_time": "2021-10-23T13:14:26.073261Z"
    }
   },
   "outputs": [
    {
     "name": "stdout",
     "output_type": "stream",
     "text": [
      "http://openAPI.seoul.go.kr:8088/4f717061466a696e3239424a756e41/json/InfoTrdarAptQq/1/10\n"
     ]
    }
   ],
   "source": [
    "import os\n",
    "import requests\n",
    "import urllib\n",
    "import src.mylib\n",
    "\n",
    "keyPath=os.path.join(os.getcwd(), 'src', 'key.properties')\n",
    "key=src.mylib.getKey(keyPath)\n",
    "KEY=str(key['dataseoul'])\n",
    "TYPE='json'\n",
    "SERVICE='InfoTrdarAptQq'\n",
    "START_INDEX=str(1)\n",
    "END_INDEX=str(10)\n",
    "\n",
    "params=\"/\".join([KEY,TYPE,SERVICE,START_INDEX,END_INDEX])\n",
    "_url='http://openAPI.seoul.go.kr:8088'\n",
    "url=\"/\".join([_url,params])\n",
    "print(url)"
   ]
  },
  {
   "cell_type": "markdown",
   "id": "576125ef",
   "metadata": {},
   "source": [
    "# 문제 1-2의 답 "
   ]
  },
  {
   "cell_type": "code",
   "execution_count": 3,
   "id": "c716fb31",
   "metadata": {
    "ExecuteTime": {
     "end_time": "2021-10-23T13:14:26.373017Z",
     "start_time": "2021-10-23T13:14:26.219379Z"
    }
   },
   "outputs": [
    {
     "name": "stdout",
     "output_type": "stream",
     "text": [
      "발달상권 3.0 0.0 161157476.0 당산역_2\n",
      "골목상권 5.0 0.0 150247619.0 동남로82길\n",
      "관광특구 8.0 0.0 114850602.0 종로·청계 관광특구\n",
      "관광특구 11.0 291.0 245511812.0 동대문패션타운 관광특구\n",
      "관광특구 70.0 105.0 428764829.0 이태원 관광특구\n",
      "전통시장 39.0 1.0 191078841.0 길동복조리시장\n",
      "전통시장 8.0 0.0 197751693.0 둔촌역전통시장\n",
      "전통시장 11.0 0.0 152871984.0 성내골목시장\n",
      "전통시장 1.0 0.0 176000000.0 동서울시장\n",
      "전통시장 2.0 0.0 156144643.0 고분다리골목시장\n"
     ]
    }
   ],
   "source": [
    "r=requests.get(url)\n",
    "golmock=r.json()\n",
    "for e in golmock['InfoTrdarAptQq']['row']:\n",
    "    print(e['TRDAR_SE_CD_NM'], e['APT_HSMP_CO'], e['PC_6_HDMIL_ABOVE_HSHLD_CO'], e['AVRG_MKTC'],e['TRDAR_CD_NM'])"
   ]
  },
  {
   "cell_type": "markdown",
   "id": "ac80cbd2",
   "metadata": {},
   "source": [
    "# 문제 1-3의 답"
   ]
  },
  {
   "cell_type": "code",
   "execution_count": 4,
   "id": "b9874696",
   "metadata": {
    "ExecuteTime": {
     "end_time": "2021-10-23T13:14:27.860295Z",
     "start_time": "2021-10-23T13:14:26.375252Z"
    },
    "scrolled": true
   },
   "outputs": [
    {
     "name": "stdout",
     "output_type": "stream",
     "text": [
      "발달상권 3.0 0.0 161157476.0 당산역_2\n",
      "골목상권 5.0 0.0 150247619.0 동남로82길\n",
      "관광특구 8.0 0.0 114850602.0 종로·청계 관광특구\n",
      "관광특구 11.0 291.0 245511812.0 동대문패션타운 관광특구\n",
      "관광특구 70.0 105.0 428764829.0 이태원 관광특구\n",
      "전통시장 39.0 1.0 191078841.0 길동복조리시장\n",
      "전통시장 8.0 0.0 197751693.0 둔촌역전통시장\n",
      "전통시장 11.0 0.0 152871984.0 성내골목시장\n",
      "전통시장 1.0 0.0 176000000.0 동서울시장\n",
      "전통시장 2.0 0.0 156144643.0 고분다리골목시장\n",
      "전통시장 17.0 0.0 187541526.0 양지골목시장\n",
      "전통시장 15.0 0.0 130506269.0 암사종합시장\n",
      "전통시장 1.0 0.0 177666667.0 고덕전통시장\n",
      "전통시장 5.0 0.0 238201494.0 명일골목시장\n",
      "전통시장 47.0 0.0 215808647.0 새마을시장\n",
      "전통시장 14.0 60.0 242990364.0 석촌시장\n",
      "전통시장 178.0 19.0 214028232.0 방이시장\n",
      "전통시장 6.0 0.0 204376515.0 마천시장\n",
      "전통시장 19.0 0.0 160941704.0 풍납시장\n",
      "전통시장 2.0 76.0 759927632.0 도곡시장\n",
      "전통시장 1.0 48.0 2708416667.0 청담삼익시장\n",
      "전통시장 3.0 9.0 537022727.0 논현종합시장\n",
      "전통시장 19.0 2.0 234485808.0 영동전통시장\n",
      "전통시장 1.0 7.0 400638298.0 강남시장_강남\n",
      "전통시장 2.0 0.0 193867857.0 양재시장\n",
      "전통시장 4.0 0.0 313638333.0 남부종합시장\n",
      "전통시장 1.0 0.0 195500000.0 우림시장\n",
      "전통시장 3.0 0.0 179474603.0 미성동도깨비시장\n",
      "전통시장 2.0 0.0 87266538.0 신림중앙시장\n",
      "전통시장 5.0 0.0 145358889.0 강남골목시장\n",
      "전통시장 25.0 0.0 174434431.0 관악신사시장\n",
      "전통시장 5.0 0.0 161796254.0 신원시장\n",
      "전통시장 10.0 0.0 158411721.0 인헌시장\n",
      "전통시장 4.0 0.0 185202778.0 봉천중앙시장\n",
      "전통시장 2.0 0.0 172714286.0 봉천제일종합시장\n",
      "전통시장 7.0 0.0 129756456.0 낙성대시장\n",
      "전통시장 4.0 0.0 194378968.0 중부시장\n",
      "전통시장 4.0 0.0 182971131.0 남성역골목시장\n",
      "전통시장 1.0 0.0 154500000.0 남성사계시장\n",
      "전통시장 2.0 129.0 508793608.0 흑석시장\n",
      "전통시장 17.0 0.0 157191293.0 상도4동도깨비골목시장\n",
      "전통시장 2.0 0.0 160357143.0 성대시장\n",
      "전통시장 18.0 0.0 181923742.0 상도전통시장\n",
      "전통시장 1.0 0.0 71665714.0 강남시장_동작\n",
      "전통시장 1.0 1.0 525000000.0 본동인정시장\n",
      "전통시장 1.0 1.0 304714286.0 노량진중앙시장\n",
      "전통시장 3.0 0.0 125633333.0 대림중앙시장\n",
      "전통시장 1.0 0.0 120435185.0 영진시장A동\n",
      "전통시장 1.0 0.0 183821256.0 대신시장\n",
      "전통시장 4.0 0.0 304715439.0 영일시장\n",
      "전통시장 3.0 0.0 188222222.0 영등포청과시장\n",
      "전통시장 4.0 0.0 172724762.0 영등포전통시장\n",
      "전통시장 9.0 0.0 149697619.0 은행나무시장\n",
      "전통시장 3.0 0.0 151285331.0 박미시장\n",
      "전통시장 18.0 0.0 134629828.0 현대시장\n",
      "전통시장 1.0 0.0 181631579.0 푸른터시장\n",
      "전통시장 24.0 0.0 140803141.0 남문시장\n",
      "전통시장 1.0 0.0 193000000.0 오류시장\n",
      "전통시장 14.0 0.0 134009446.0 개봉중앙시장\n",
      "전통시장 3.0 0.0 148611215.0 고척근린시장\n",
      "전통시장 2.0 3.0 822500000.0 가리봉시장\n",
      "전통시장 11.0 0.0 95136364.0 남구로시장\n",
      "전통시장 1.0 0.0 113555556.0 구로시장\n",
      "전통시장 3.0 0.0 248855933.0 방신전통시장\n",
      "전통시장 12.0 0.0 164668133.0 송화골목시장\n",
      "전통시장 29.0 0.0 134684112.0 까치산시장\n",
      "전통시장 12.0 0.0 127827730.0 화곡본동시장\n",
      "전통시장 28.0 0.0 145030335.0 남부골목시장\n",
      "전통시장 28.0 0.0 117968645.0 화곡중앙골목시장\n",
      "전통시장 4.0 0.0 215829182.0 신정2동골목시장\n",
      "전통시장 2.0 0.0 182482143.0 신정제일시장\n",
      "전통시장 3.0 0.0 132812000.0 신월7동골목시장\n",
      "전통시장 1.0 0.0 404363636.0 신곡종합시장\n",
      "전통시장 1.0 0.0 62400000.0 신월3동골목시장\n",
      "전통시장 5.0 0.0 156241638.0 경창시장\n",
      "전통시장 25.0 0.0 111544970.0 월정로시장\n",
      "전통시장 13.0 0.0 117170795.0 신영시장\n",
      "전통시장 24.0 0.0 173909785.0 목4동시장\n",
      "전통시장 14.0 0.0 202606189.0 목3동시장\n",
      "전통시장 22.0 0.0 172296533.0 목2동시장\n",
      "전통시장 25.0 18.0 209884598.0 망원월드컵시장\n",
      "전통시장 50.0 0.0 201968607.0 망원시장\n",
      "전통시장 1.0 0.0 312025000.0 합정시장\n",
      "전통시장 3.0 0.0 232835417.0 영진시장\n",
      "전통시장 2.0 0.0 200464286.0 신수시장\n",
      "전통시장 5.0 0.0 232211111.0 아현시장\n",
      "전통시장 1.0 0.0 172468750.0 백련시장\n",
      "전통시장 10.0 0.0 285003175.0 모래내시장\n",
      "전통시장 7.0 0.0 115738435.0 포방터시장\n",
      "전통시장 1.0 0.0 183325000.0 인왕시장\n",
      "전통시장 3.0 0.0 114302698.0 영천시장\n",
      "전통시장 3.0 0.0 152254444.0 증산종합시장\n",
      "전통시장 8.0 0.0 125365625.0 대림골목시장\n",
      "전통시장 2.0 0.0 205500000.0 신응암시장\n",
      "전통시장 15.0 0.0 139965870.0 대조시장\n",
      "전통시장 1.0 0.0 93568992.0 갈현시장\n",
      "전통시장 1.0 0.0 359086957.0 연서시장\n",
      "전통시장 22.0 0.0 149590589.0 상계중앙시장\n",
      "전통시장 27.0 0.0 153652075.0 공릉동도깨비시장\n",
      "전통시장 12.0 0.0 100400495.0 방학동도깨비시장\n"
     ]
    }
   ],
   "source": [
    "\n",
    "startIndex=1\n",
    "endIndex=10\n",
    "for i in range(10):\n",
    "    START_INDEX=str(startIndex)\n",
    "    END_INDEX=str(endIndex)\n",
    "    params=\"/\".join([KEY,TYPE,SERVICE,START_INDEX,END_INDEX])\n",
    "    _url='http://openAPI.seoul.go.kr:8088'\n",
    "    url=\"/\".join([_url,params])\n",
    "    r=requests.get(url)\n",
    "    golmock=r.json()\n",
    "    for e in golmock['InfoTrdarAptQq']['row']:\n",
    "        print (e['TRDAR_SE_CD_NM'], e['APT_HSMP_CO'], e['PC_6_HDMIL_ABOVE_HSHLD_CO'], e['AVRG_MKTC'],e['TRDAR_CD_NM'])\n",
    "            \n",
    "    startIndex+=10\n",
    "    endIndex+=10"
   ]
  },
  {
   "cell_type": "markdown",
   "id": "06c27525",
   "metadata": {},
   "source": [
    "# 문제 2: RDD를 사용해서 단어빈도 계산"
   ]
  },
  {
   "cell_type": "code",
   "execution_count": 5,
   "id": "11ada0ad",
   "metadata": {
    "ExecuteTime": {
     "end_time": "2021-10-23T13:14:27.867247Z",
     "start_time": "2021-10-23T13:14:27.863836Z"
    }
   },
   "outputs": [],
   "source": [
    "yesterday=[\n",
    "    [\"Yesterday 어제는\"],\n",
    "    [\"All my troubles seemed to far away 내 모든 문제들이 참 멀리 있는 것 같았는데\"],\n",
    "    [\"Now it looks as though they're here to stay 이제는 그 모든 문제들이 여기에 있는 것처럼 보여\"],\n",
    "    [\"Oh, I believe in yesterday 오, 어제가 좋았는데\"],\n",
    "    [\"Suddenly 갑자기 그-림-자-가 2021 그-림-자-가 2021\"],\n",
    "    [\"I'm not half the man I used to be 난 예전 내 모습의 반도 못한 사람이 되어버렸어\"],\n",
    "    [\"There's a shadow hanging over me 내 위에 그림자가 드리워져 있네\"],\n",
    "    [\"Oh!, yesterday came suddenly 오!, 이제는 너무 갑자기 와버렸어..\"],\n",
    "]"
   ]
  },
  {
   "cell_type": "markdown",
   "id": "57446075",
   "metadata": {},
   "source": [
    "# 문제 2-1 의 답 "
   ]
  },
  {
   "cell_type": "markdown",
   "id": "aff5f4e4",
   "metadata": {},
   "source": [
    "# 단어빈도를 계산해서 출력 "
   ]
  },
  {
   "cell_type": "code",
   "execution_count": 6,
   "id": "be843153",
   "metadata": {
    "ExecuteTime": {
     "end_time": "2021-10-23T13:14:32.182858Z",
     "start_time": "2021-10-23T13:14:27.869919Z"
    }
   },
   "outputs": [],
   "source": [
    "import pyspark\n",
    "\n",
    "myConf=pyspark.SparkConf()\n",
    "spark = pyspark.sql.SparkSession.builder.master(\"local\").appName(\"myApp\").config(conf=myConf).getOrCreate()"
   ]
  },
  {
   "cell_type": "code",
   "execution_count": 7,
   "id": "b1eb7c19",
   "metadata": {
    "ExecuteTime": {
     "end_time": "2021-10-23T13:14:34.323187Z",
     "start_time": "2021-10-23T13:14:32.187411Z"
    }
   },
   "outputs": [
    {
     "data": {
      "text/plain": [
       "[('Yesterday', 1),\n",
       " ('어제는', 1),\n",
       " ('All', 1),\n",
       " ('my', 1),\n",
       " ('troubles', 1),\n",
       " ('seemed', 1),\n",
       " ('to', 3),\n",
       " ('far', 1),\n",
       " ('away', 1),\n",
       " ('내', 3),\n",
       " ('모든', 2),\n",
       " ('문제들이', 2),\n",
       " ('참', 1),\n",
       " ('멀리', 1),\n",
       " ('있는', 2),\n",
       " ('것', 1),\n",
       " ('같았는데', 1),\n",
       " ('Now', 1),\n",
       " ('it', 1),\n",
       " ('looks', 1),\n",
       " ('as', 1),\n",
       " ('though', 1),\n",
       " (\"they're\", 1),\n",
       " ('here', 1),\n",
       " ('stay', 1),\n",
       " ('이제는', 2),\n",
       " ('그', 1),\n",
       " ('여기에', 1),\n",
       " ('것처럼', 1),\n",
       " ('보여', 1),\n",
       " ('Oh,', 1),\n",
       " ('I', 2),\n",
       " ('believe', 1),\n",
       " ('in', 1),\n",
       " ('yesterday', 2),\n",
       " ('오,', 1),\n",
       " ('어제가', 1),\n",
       " ('좋았는데', 1),\n",
       " ('Suddenly', 1),\n",
       " ('갑자기', 2),\n",
       " ('그-림-자-가', 2),\n",
       " ('2021', 2),\n",
       " (\"I'm\", 1),\n",
       " ('not', 1),\n",
       " ('half', 1),\n",
       " ('the', 1),\n",
       " ('man', 1),\n",
       " ('used', 1),\n",
       " ('be', 1),\n",
       " ('난', 1),\n",
       " ('예전', 1),\n",
       " ('모습의', 1),\n",
       " ('반도', 1),\n",
       " ('못한', 1),\n",
       " ('사람이', 1),\n",
       " ('되어버렸어', 1),\n",
       " (\"There's\", 1),\n",
       " ('a', 1),\n",
       " ('shadow', 1),\n",
       " ('hanging', 1),\n",
       " ('over', 1),\n",
       " ('me', 1),\n",
       " ('위에', 1),\n",
       " ('그림자가', 1),\n",
       " ('드리워져', 1),\n",
       " ('있네', 1),\n",
       " ('Oh!,', 1),\n",
       " ('came', 1),\n",
       " ('suddenly', 1),\n",
       " ('오!,', 1),\n",
       " ('너무', 1),\n",
       " ('와버렸어..', 1)]"
      ]
     },
     "execution_count": 7,
     "metadata": {},
     "output_type": "execute_result"
    }
   ],
   "source": [
    "song_data = spark.sparkContext.parallelize(yesterday)\n",
    "\n",
    "# song_data.flatMap(lambda xs: [x for x in xs]).map(lambda x : [x]).collect()\n",
    "\n",
    "song_data.flatMap(lambda x: x[0].split()).map(lambda x:(x,1)).reduceByKey(lambda x,y:x+y).collect()\n",
    "# song_data.collect()\n",
    "# song_data.flatMap(lambda x:x.split())\n",
    "# song_data.flatMap(lambda x:x.split()).map(lambda x:(x,1)).reduceByKey(lambda x,y:x+y).collect()"
   ]
  },
  {
   "cell_type": "markdown",
   "id": "0f013241",
   "metadata": {},
   "source": [
    "# 문제 2-2의 답 "
   ]
  },
  {
   "cell_type": "code",
   "execution_count": 8,
   "id": "65aa1101",
   "metadata": {
    "ExecuteTime": {
     "end_time": "2021-10-23T13:14:34.420662Z",
     "start_time": "2021-10-23T13:14:34.326996Z"
    }
   },
   "outputs": [],
   "source": [
    "cnt_song_data = song_data.flatMap(lambda x: x[0].split()).map(lambda x:(x,1)).reduceByKey(lambda x,y:x+y).map(lambda x:(x[1],x[0])).sortByKey(False).collect()"
   ]
  },
  {
   "cell_type": "code",
   "execution_count": 9,
   "id": "d29000a9",
   "metadata": {
    "ExecuteTime": {
     "end_time": "2021-10-23T13:14:34.425495Z",
     "start_time": "2021-10-23T13:14:34.422555Z"
    }
   },
   "outputs": [
    {
     "name": "stdout",
     "output_type": "stream",
     "text": [
      "(3, 'to')\n",
      "(3, '내')\n",
      "(2, '모든')\n",
      "(2, '문제들이')\n",
      "(2, '있는')\n",
      "(2, '이제는')\n",
      "(2, 'I')\n",
      "(2, 'yesterday')\n",
      "(2, '갑자기')\n",
      "(2, '그-림-자-가')\n",
      "(2, '2021')\n"
     ]
    }
   ],
   "source": [
    "for i in cnt_song_data:\n",
    "    if i[0]!=1:\n",
    "        print(i)"
   ]
  },
  {
   "cell_type": "markdown",
   "id": "93400b09",
   "metadata": {},
   "source": [
    "# 문제 2-3의 답"
   ]
  },
  {
   "cell_type": "code",
   "execution_count": 10,
   "id": "1124ff3a",
   "metadata": {
    "ExecuteTime": {
     "end_time": "2021-10-23T13:14:34.430295Z",
     "start_time": "2021-10-23T13:14:34.427367Z"
    }
   },
   "outputs": [],
   "source": [
    "stopwords = set(['-','!'])\n",
    "\n",
    "def stopwords_hamsoo(str_data):\n",
    "    str_data = str_data.lower()\n",
    "    x = ''\n",
    "    for i in str_data:\n",
    "        if i not in stopwords and i.isdigit()==False:\n",
    "            x+=i\n",
    "    return x"
   ]
  },
  {
   "cell_type": "code",
   "execution_count": 11,
   "id": "33992c60",
   "metadata": {
    "ExecuteTime": {
     "end_time": "2021-10-23T13:14:34.522850Z",
     "start_time": "2021-10-23T13:14:34.431790Z"
    }
   },
   "outputs": [
    {
     "name": "stdout",
     "output_type": "stream",
     "text": [
      "(3, 'yesterday')\n",
      "(3, 'to')\n",
      "(3, '내')\n",
      "(3, '그림자가')\n",
      "(2, '모든')\n",
      "(2, '문제들이')\n",
      "(2, '있는')\n",
      "(2, '이제는')\n",
      "(2, 'oh,')\n",
      "(2, 'i')\n",
      "(2, '오,')\n",
      "(2, 'suddenly')\n",
      "(2, '갑자기')\n"
     ]
    }
   ],
   "source": [
    "cnt_song_data = song_data.flatMap(lambda x: x[0].split()).filter(lambda x: x.lower()).map(lambda x : stopwords_hamsoo(x)).\\\n",
    "map(lambda x:(x,1)).reduceByKey(lambda x,y:x+y).map(lambda x:(x[1],x[0])).sortByKey(False).collect()\n",
    "\n",
    "for i in cnt_song_data:\n",
    "    if i[0]!=1 and i[1]!='':\n",
    "        print(i)"
   ]
  },
  {
   "cell_type": "markdown",
   "id": "9dc0c222",
   "metadata": {},
   "source": [
    "# 문제 2-4의 답"
   ]
  },
  {
   "cell_type": "code",
   "execution_count": 12,
   "id": "dd666e78",
   "metadata": {
    "ExecuteTime": {
     "end_time": "2021-10-23T13:14:34.527869Z",
     "start_time": "2021-10-23T13:14:34.524633Z"
    }
   },
   "outputs": [
    {
     "name": "stdout",
     "output_type": "stream",
     "text": [
      "(3, 'yesterday')\n",
      "(3, 'to')\n",
      "(3, '그림자가')\n",
      "(2, '모든')\n",
      "(2, '문제들이')\n",
      "(2, '있는')\n",
      "(2, '이제는')\n",
      "(2, 'oh,')\n",
      "(2, '오,')\n",
      "(2, 'suddenly')\n",
      "(2, '갑자기')\n"
     ]
    }
   ],
   "source": [
    "for i in cnt_song_data:\n",
    "    if i[0]!=1 and i[1]!='' and len(i[1])>1:\n",
    "        print(i)"
   ]
  },
  {
   "cell_type": "markdown",
   "id": "6b33d586",
   "metadata": {},
   "source": [
    "# 문제 3: DataFrame을 사용해서 코로나 발생동향 분석"
   ]
  },
  {
   "cell_type": "code",
   "execution_count": 13,
   "id": "1e97ceb1",
   "metadata": {
    "ExecuteTime": {
     "end_time": "2021-10-23T13:14:36.910191Z",
     "start_time": "2021-10-23T13:14:34.530204Z"
    }
   },
   "outputs": [],
   "source": [
    "import os\n",
    "\n",
    "covid = os.path.join('data','서울특별시 코로나19 자치구별 확진자 발생동향.json')\n",
    "covidDf= spark.read.json(covid)"
   ]
  },
  {
   "cell_type": "markdown",
   "id": "7abb0344",
   "metadata": {},
   "source": [
    "# 문제 3-1 의 답"
   ]
  },
  {
   "cell_type": "code",
   "execution_count": 14,
   "id": "eb8a3312",
   "metadata": {
    "ExecuteTime": {
     "end_time": "2021-10-23T13:14:37.341783Z",
     "start_time": "2021-10-23T13:14:36.912296Z"
    },
    "scrolled": true
   },
   "outputs": [
    {
     "data": {
      "text/plain": [
       "633"
      ]
     },
     "execution_count": 14,
     "metadata": {},
     "output_type": "execute_result"
    }
   ],
   "source": [
    "covidDf.count()"
   ]
  },
  {
   "cell_type": "code",
   "execution_count": 15,
   "id": "73a24852",
   "metadata": {
    "ExecuteTime": {
     "end_time": "2021-10-23T13:14:37.491754Z",
     "start_time": "2021-10-23T13:14:37.344167Z"
    }
   },
   "outputs": [],
   "source": [
    "covidDf = covidDf.drop('_corrupt_record')\n",
    "covidDf = covidDf.drop('work_dttm')\n",
    "covidDf = covidDf.na.drop()"
   ]
  },
  {
   "cell_type": "code",
   "execution_count": 16,
   "id": "b8cb97dc",
   "metadata": {
    "ExecuteTime": {
     "end_time": "2021-10-23T13:14:39.221337Z",
     "start_time": "2021-10-23T13:14:37.493814Z"
    }
   },
   "outputs": [
    {
     "name": "stdout",
     "output_type": "stream",
     "text": [
      "+---+------+------+---------+-------+----------+---+-----+---+------+-------+----------+--------+-----------+-------+----------+-------+----------+---------+------------+----+-------+------+---------+--------+-----------+------+------+---------+------+---------+--------+-----------+----+-------+-----+--------+---+------+------+---------+--------+-----------+---------+------------+------+---------+---------+------------+---+------+-------+----------+\n",
      "|ddm|ddmadd|dobong|dobongadd|dongjak|dongjakadd| ep|epadd|etc|etcadd|gangbuk|gangbukadd|gangdong|gangdongadd|gangnam|gangnamadd|gangseo|gangseoadd|geumcheon|geumcheonadd|guro|guroadd|gwanak|gwanakadd|gwangjin|gwangjinadd|jcg_dt|jongno|jongnoadd|junggu|jungguadd|jungnang|jungnangadd|mapo|mapoadd|nowon|nowonadd|sdm|sdmadd|seocho|seochoadd|seongbuk|seongbukadd|seongdong|seongdongadd|songpa|songpaadd|yangcheon|yangcheonadd|ydp|ydpadd|yongsan|yongsanadd|\n",
      "+---+------+------+---------+-------+----------+---+-----+---+------+-------+----------+--------+-----------+-------+----------+-------+----------+---------+------------+----+-------+------+---------+--------+-----------+------+------+---------+------+---------+--------+-----------+----+-------+-----+--------+---+------+------+---------+--------+-----------+---------+------------+------+---------+---------+------------+---+------+-------+----------+\n",
      "|  0|     0|     0|        0|      0|         0|  0|    0|  0|     0|      0|         0|       0|          0|      0|         0|      0|         0|        0|           0|   0|      0|     0|        0|       0|          0|     0|     0|        0|     0|        0|       0|          0|   0|      0|    0|       0|  0|     0|     0|        0|       0|          0|        0|           0|     0|        0|        0|           0|  0|     0|      0|         0|\n",
      "+---+------+------+---------+-------+----------+---+-----+---+------+-------+----------+--------+-----------+-------+----------+-------+----------+---------+------------+----+-------+------+---------+--------+-----------+------+------+---------+------+---------+--------+-----------+----+-------+-----+--------+---+------+------+---------+--------+-----------+---------+------------+------+---------+---------+------------+---+------+-------+----------+\n",
      "\n"
     ]
    }
   ],
   "source": [
    "from pyspark.sql.functions import isnan, when, count, col\n",
    "cols = covidDf.columns\n",
    "\n",
    "covidDf.select([count(when(isnan(c) | col(c).isNull(), c)).alias(c) for c in cols]).show(100)"
   ]
  },
  {
   "cell_type": "code",
   "execution_count": 17,
   "id": "3cce8eb9",
   "metadata": {
    "ExecuteTime": {
     "end_time": "2021-10-23T13:14:39.427365Z",
     "start_time": "2021-10-23T13:14:39.223785Z"
    }
   },
   "outputs": [
    {
     "data": {
      "text/plain": [
       "605"
      ]
     },
     "execution_count": 17,
     "metadata": {},
     "output_type": "execute_result"
    }
   ],
   "source": [
    "covidDf.na.drop().count()"
   ]
  },
  {
   "cell_type": "markdown",
   "id": "47eda179",
   "metadata": {},
   "source": [
    "# 문제 3-2 의 답"
   ]
  },
  {
   "cell_type": "code",
   "execution_count": 18,
   "id": "2aca7838",
   "metadata": {
    "ExecuteTime": {
     "end_time": "2021-10-23T13:14:39.645811Z",
     "start_time": "2021-10-23T13:14:39.429889Z"
    }
   },
   "outputs": [],
   "source": [
    "covidDf = covidDf.withColumn('jongno', covidDf['jongno'].cast(\"integer\"))\n",
    "covidDf = covidDf.withColumn('mapo', covidDf['mapo'].cast(\"integer\"))\n",
    "covidDf = covidDf.withColumn('yongsan', covidDf['yongsan'].cast(\"integer\"))"
   ]
  },
  {
   "cell_type": "code",
   "execution_count": 19,
   "id": "ce0dfb8c",
   "metadata": {
    "ExecuteTime": {
     "end_time": "2021-10-23T13:14:39.824327Z",
     "start_time": "2021-10-23T13:14:39.651888Z"
    }
   },
   "outputs": [
    {
     "name": "stdout",
     "output_type": "stream",
     "text": [
      "+------+----+-------+----+\n",
      "|jongno|mapo|yongsan| tot|\n",
      "+------+----+-------+----+\n",
      "|  2036|4191|   3076|9303|\n",
      "|  2023|4176|   3064|9263|\n",
      "|  2008|4164|   3055|9227|\n",
      "|  1989|4157|   3049|9195|\n",
      "|  1977|4134|   3041|9152|\n",
      "|  1968|4127|   3031|9126|\n",
      "|  1958|4121|   3023|9102|\n",
      "|  1949|4112|   3006|9067|\n",
      "|  1925|4102|   2995|9022|\n",
      "|  1900|4082|   2976|8958|\n",
      "+------+----+-------+----+\n",
      "only showing top 10 rows\n",
      "\n"
     ]
    }
   ],
   "source": [
    "from pyspark.sql import functions as F\n",
    "\n",
    "covidDf_filter = covidDf.select('jongno','mapo','yongsan')\n",
    "covidDf_filter.withColumn('tot',F.col('jongno') + F.col('mapo') + F.col('yongsan')).show(10)"
   ]
  },
  {
   "cell_type": "markdown",
   "id": "88702204",
   "metadata": {},
   "source": [
    "# 문제 3-3의 답 "
   ]
  },
  {
   "cell_type": "code",
   "execution_count": 20,
   "id": "a6482d8f",
   "metadata": {
    "ExecuteTime": {
     "end_time": "2021-10-23T13:14:40.081890Z",
     "start_time": "2021-10-23T13:14:39.826711Z"
    }
   },
   "outputs": [
    {
     "name": "stdout",
     "output_type": "stream",
     "text": [
      "+----+-----+------+\n",
      "|year|month|jongno|\n",
      "+----+-----+------+\n",
      "|2020|    3|    13|\n",
      "|2020|    3|    13|\n",
      "|2020|    3|    13|\n",
      "|2020|    3|    13|\n",
      "|2020|    3|    13|\n",
      "|2020|    3|    13|\n",
      "|2020|    3|    13|\n",
      "|2020|    3|    12|\n",
      "|2020|    3|    11|\n",
      "|2020|    3|    11|\n",
      "|2020|    3|    11|\n",
      "|2020|    3|    11|\n",
      "|2020|    3|    11|\n",
      "|2020|    3|    11|\n",
      "|2020|    3|    11|\n",
      "|2020|    3|    11|\n",
      "|2020|    3|    11|\n",
      "|2020|    3|    11|\n",
      "|2020|    3|    11|\n",
      "|2020|    3|    11|\n",
      "+----+-----+------+\n",
      "only showing top 20 rows\n",
      "\n"
     ]
    }
   ],
   "source": [
    "from pyspark.sql.functions import udf\n",
    "\n",
    "covidDf2 = (covidDf.select(covidDf.jcg_dt.substr(1,4).alias(\"year\"), covidDf.jcg_dt.substr(6,2).alias(\"month\"),'jongno'))\n",
    "covidDf2 = covidDf2.withColumn('year', covidDf2['year'].cast(\"integer\"))\n",
    "covidDf2 = covidDf2.withColumn('month', covidDf2['month'].cast(\"integer\"))\n",
    "\n",
    "covidDf2.filter(covidDf2.year==2020).filter(covidDf2.month==3).show()"
   ]
  },
  {
   "cell_type": "markdown",
   "id": "65c0d38b",
   "metadata": {},
   "source": [
    "# 문제 3-4 의 답"
   ]
  },
  {
   "cell_type": "code",
   "execution_count": 21,
   "id": "cc0ebaa4",
   "metadata": {
    "ExecuteTime": {
     "end_time": "2021-10-23T13:14:44.370600Z",
     "start_time": "2021-10-23T13:14:40.085263Z"
    }
   },
   "outputs": [
    {
     "name": "stdout",
     "output_type": "stream",
     "text": [
      "+----+-----+-----+-----+-----+-----+-----+-----+-----+-----+-----+----+----+\n",
      "|year|    1|    2|    3|    4|    5|    6|    7|    8|    9|   10|  11|  12|\n",
      "+----+-----+-----+-----+-----+-----+-----+-----+-----+-----+-----+----+----+\n",
      "|2020| null|   22|  356|  478|  535|  611|  771| 1209| 2376| 2850|3163|7177|\n",
      "|2021|14621|15155|18125|19456|23076|23590|28590|35259|41893|42907|null|null|\n",
      "+----+-----+-----+-----+-----+-----+-----+-----+-----+-----+-----+----+----+\n",
      "\n"
     ]
    }
   ],
   "source": [
    "from pyspark.sql.functions import udf\n",
    "\n",
    "covidDf2 = covidDf.select(covidDf.jcg_dt.substr(1,4).alias(\"year\"), covidDf.jcg_dt.substr(6,2).alias(\"month\"),'jongno')\n",
    "covidDf2 = covidDf2.withColumn('year', covidDf2['year'].cast(\"integer\"))\n",
    "covidDf2 = covidDf2.withColumn('month', covidDf2['month'].cast(\"integer\"))\n",
    "\n",
    "covidDf2.groupBy('year').pivot('month').agg({'jongno':'sum'}).show()"
   ]
  }
 ],
 "metadata": {
  "kernelspec": {
   "display_name": "Python 3",
   "language": "python",
   "name": "python3"
  },
  "language_info": {
   "codemirror_mode": {
    "name": "ipython",
    "version": 3
   },
   "file_extension": ".py",
   "mimetype": "text/x-python",
   "name": "python",
   "nbconvert_exporter": "python",
   "pygments_lexer": "ipython3",
   "version": "3.8.8"
  }
 },
 "nbformat": 4,
 "nbformat_minor": 5
}
